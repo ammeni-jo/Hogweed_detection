{
  "cells": [
    {
      "cell_type": "code",
      "execution_count": null,
      "metadata": {
        "colab": {
          "base_uri": "https://localhost:8080/"
        },
        "id": "RObIcppgvF_i",
        "outputId": "ad36e984-e15d-437e-e91f-7b09a7acf9c6"
      },
      "outputs": [
        {
          "output_type": "stream",
          "name": "stdout",
          "text": [
            "Requirement already satisfied: roboflow in /usr/local/lib/python3.10/dist-packages (1.1.32)\n",
            "Requirement already satisfied: certifi==2023.7.22 in /usr/local/lib/python3.10/dist-packages (from roboflow) (2023.7.22)\n",
            "Requirement already satisfied: chardet==4.0.0 in /usr/local/lib/python3.10/dist-packages (from roboflow) (4.0.0)\n",
            "Requirement already satisfied: cycler==0.10.0 in /usr/local/lib/python3.10/dist-packages (from roboflow) (0.10.0)\n",
            "Requirement already satisfied: idna==2.10 in /usr/local/lib/python3.10/dist-packages (from roboflow) (2.10)\n",
            "Requirement already satisfied: kiwisolver>=1.3.1 in /usr/local/lib/python3.10/dist-packages (from roboflow) (1.4.5)\n",
            "Requirement already satisfied: matplotlib in /usr/local/lib/python3.10/dist-packages (from roboflow) (3.7.1)\n",
            "Requirement already satisfied: numpy>=1.18.5 in /usr/local/lib/python3.10/dist-packages (from roboflow) (1.25.2)\n",
            "Requirement already satisfied: opencv-python-headless==4.8.0.74 in /usr/local/lib/python3.10/dist-packages (from roboflow) (4.8.0.74)\n",
            "Requirement already satisfied: Pillow>=7.1.2 in /usr/local/lib/python3.10/dist-packages (from roboflow) (9.4.0)\n",
            "Requirement already satisfied: python-dateutil in /usr/local/lib/python3.10/dist-packages (from roboflow) (2.8.2)\n",
            "Requirement already satisfied: python-dotenv in /usr/local/lib/python3.10/dist-packages (from roboflow) (1.0.1)\n",
            "Requirement already satisfied: requests in /usr/local/lib/python3.10/dist-packages (from roboflow) (2.31.0)\n",
            "Requirement already satisfied: six in /usr/local/lib/python3.10/dist-packages (from roboflow) (1.16.0)\n",
            "Requirement already satisfied: urllib3>=1.26.6 in /usr/local/lib/python3.10/dist-packages (from roboflow) (2.0.7)\n",
            "Requirement already satisfied: tqdm>=4.41.0 in /usr/local/lib/python3.10/dist-packages (from roboflow) (4.66.4)\n",
            "Requirement already satisfied: PyYAML>=5.3.1 in /usr/local/lib/python3.10/dist-packages (from roboflow) (6.0.1)\n",
            "Requirement already satisfied: requests-toolbelt in /usr/local/lib/python3.10/dist-packages (from roboflow) (1.0.0)\n",
            "Requirement already satisfied: python-magic in /usr/local/lib/python3.10/dist-packages (from roboflow) (0.4.27)\n",
            "Requirement already satisfied: contourpy>=1.0.1 in /usr/local/lib/python3.10/dist-packages (from matplotlib->roboflow) (1.2.1)\n",
            "Requirement already satisfied: fonttools>=4.22.0 in /usr/local/lib/python3.10/dist-packages (from matplotlib->roboflow) (4.53.0)\n",
            "Requirement already satisfied: packaging>=20.0 in /usr/local/lib/python3.10/dist-packages (from matplotlib->roboflow) (24.1)\n",
            "Requirement already satisfied: pyparsing>=2.3.1 in /usr/local/lib/python3.10/dist-packages (from matplotlib->roboflow) (3.1.2)\n",
            "Requirement already satisfied: charset-normalizer<4,>=2 in /usr/local/lib/python3.10/dist-packages (from requests->roboflow) (3.3.2)\n",
            "loading Roboflow workspace...\n",
            "loading Roboflow project...\n"
          ]
        },
        {
          "output_type": "stream",
          "name": "stderr",
          "text": [
            "Downloading Dataset Version Zip in hogweed-4 to yolov9:: 100%|██████████| 23476/23476 [00:02<00:00, 9021.18it/s] "
          ]
        },
        {
          "output_type": "stream",
          "name": "stdout",
          "text": [
            "\n"
          ]
        },
        {
          "output_type": "stream",
          "name": "stderr",
          "text": [
            "\n",
            "Extracting Dataset Version Zip to hogweed-4 in yolov9:: 100%|██████████| 542/542 [00:00<00:00, 5256.48it/s]\n"
          ]
        }
      ],
      "source": [
        "!pip install roboflow\n",
        "\n",
        "from roboflow import Roboflow\n",
        "rf = Roboflow(api_key=\"hw6TiV4YHAD9iZQfmPyC\")\n",
        "project = rf.workspace(\"ameni-9xzyp\").project(\"hogweed-ejw5d\")\n",
        "version = project.version(4)\n",
        "dataset = version.download(\"yolov9\")\n"
      ]
    },
    {
      "cell_type": "code",
      "execution_count": null,
      "metadata": {
        "colab": {
          "base_uri": "https://localhost:8080/"
        },
        "id": "5L6WCxC2vIGa",
        "outputId": "b27765cb-4b54-4712-f093-39eba35f74c8"
      },
      "outputs": [
        {
          "output_type": "stream",
          "name": "stdout",
          "text": [
            "Collecting ultralytics\n",
            "  Downloading ultralytics-8.2.36-py3-none-any.whl (783 kB)\n",
            "\u001b[?25l     \u001b[90m━━━━━━━━━━━━━━━━━━━━━━━━━━━━━━━━━━━━━━━━\u001b[0m \u001b[32m0.0/783.5 kB\u001b[0m \u001b[31m?\u001b[0m eta \u001b[36m-:--:--\u001b[0m\r\u001b[2K     \u001b[91m━━━━━━━━━━━━━━━━━━━\u001b[0m\u001b[90m╺\u001b[0m\u001b[90m━━━━━━━━━━━━━━━━━━━━\u001b[0m \u001b[32m378.9/783.5 kB\u001b[0m \u001b[31m12.3 MB/s\u001b[0m eta \u001b[36m0:00:01\u001b[0m\r\u001b[2K     \u001b[90m━━━━━━━━━━━━━━━━━━━━━━━━━━━━━━━━━━━━━━━━\u001b[0m \u001b[32m783.5/783.5 kB\u001b[0m \u001b[31m17.5 MB/s\u001b[0m eta \u001b[36m0:00:00\u001b[0m\n",
            "\u001b[?25hRequirement already satisfied: numpy<2.0.0 in /usr/local/lib/python3.10/dist-packages (from ultralytics) (1.25.2)\n",
            "Requirement already satisfied: matplotlib>=3.3.0 in /usr/local/lib/python3.10/dist-packages (from ultralytics) (3.7.1)\n",
            "Requirement already satisfied: opencv-python>=4.6.0 in /usr/local/lib/python3.10/dist-packages (from ultralytics) (4.8.0.76)\n",
            "Requirement already satisfied: pillow>=7.1.2 in /usr/local/lib/python3.10/dist-packages (from ultralytics) (9.4.0)\n",
            "Requirement already satisfied: pyyaml>=5.3.1 in /usr/local/lib/python3.10/dist-packages (from ultralytics) (6.0.1)\n",
            "Requirement already satisfied: requests>=2.23.0 in /usr/local/lib/python3.10/dist-packages (from ultralytics) (2.31.0)\n",
            "Requirement already satisfied: scipy>=1.4.1 in /usr/local/lib/python3.10/dist-packages (from ultralytics) (1.11.4)\n",
            "Requirement already satisfied: torch>=1.8.0 in /usr/local/lib/python3.10/dist-packages (from ultralytics) (2.3.0+cu121)\n",
            "Requirement already satisfied: torchvision>=0.9.0 in /usr/local/lib/python3.10/dist-packages (from ultralytics) (0.18.0+cu121)\n",
            "Requirement already satisfied: tqdm>=4.64.0 in /usr/local/lib/python3.10/dist-packages (from ultralytics) (4.66.4)\n",
            "Requirement already satisfied: psutil in /usr/local/lib/python3.10/dist-packages (from ultralytics) (5.9.5)\n",
            "Requirement already satisfied: py-cpuinfo in /usr/local/lib/python3.10/dist-packages (from ultralytics) (9.0.0)\n",
            "Requirement already satisfied: pandas>=1.1.4 in /usr/local/lib/python3.10/dist-packages (from ultralytics) (2.0.3)\n",
            "Requirement already satisfied: seaborn>=0.11.0 in /usr/local/lib/python3.10/dist-packages (from ultralytics) (0.13.1)\n",
            "Collecting ultralytics-thop>=2.0.0 (from ultralytics)\n",
            "  Downloading ultralytics_thop-2.0.0-py3-none-any.whl (25 kB)\n",
            "Requirement already satisfied: contourpy>=1.0.1 in /usr/local/lib/python3.10/dist-packages (from matplotlib>=3.3.0->ultralytics) (1.2.1)\n",
            "Requirement already satisfied: cycler>=0.10 in /usr/local/lib/python3.10/dist-packages (from matplotlib>=3.3.0->ultralytics) (0.10.0)\n",
            "Requirement already satisfied: fonttools>=4.22.0 in /usr/local/lib/python3.10/dist-packages (from matplotlib>=3.3.0->ultralytics) (4.53.0)\n",
            "Requirement already satisfied: kiwisolver>=1.0.1 in /usr/local/lib/python3.10/dist-packages (from matplotlib>=3.3.0->ultralytics) (1.4.5)\n",
            "Requirement already satisfied: packaging>=20.0 in /usr/local/lib/python3.10/dist-packages (from matplotlib>=3.3.0->ultralytics) (24.1)\n",
            "Requirement already satisfied: pyparsing>=2.3.1 in /usr/local/lib/python3.10/dist-packages (from matplotlib>=3.3.0->ultralytics) (3.1.2)\n",
            "Requirement already satisfied: python-dateutil>=2.7 in /usr/local/lib/python3.10/dist-packages (from matplotlib>=3.3.0->ultralytics) (2.8.2)\n",
            "Requirement already satisfied: pytz>=2020.1 in /usr/local/lib/python3.10/dist-packages (from pandas>=1.1.4->ultralytics) (2023.4)\n",
            "Requirement already satisfied: tzdata>=2022.1 in /usr/local/lib/python3.10/dist-packages (from pandas>=1.1.4->ultralytics) (2024.1)\n",
            "Requirement already satisfied: charset-normalizer<4,>=2 in /usr/local/lib/python3.10/dist-packages (from requests>=2.23.0->ultralytics) (3.3.2)\n",
            "Requirement already satisfied: idna<4,>=2.5 in /usr/local/lib/python3.10/dist-packages (from requests>=2.23.0->ultralytics) (2.10)\n",
            "Requirement already satisfied: urllib3<3,>=1.21.1 in /usr/local/lib/python3.10/dist-packages (from requests>=2.23.0->ultralytics) (2.0.7)\n",
            "Requirement already satisfied: certifi>=2017.4.17 in /usr/local/lib/python3.10/dist-packages (from requests>=2.23.0->ultralytics) (2023.7.22)\n",
            "Requirement already satisfied: filelock in /usr/local/lib/python3.10/dist-packages (from torch>=1.8.0->ultralytics) (3.14.0)\n",
            "Requirement already satisfied: typing-extensions>=4.8.0 in /usr/local/lib/python3.10/dist-packages (from torch>=1.8.0->ultralytics) (4.12.2)\n",
            "Requirement already satisfied: sympy in /usr/local/lib/python3.10/dist-packages (from torch>=1.8.0->ultralytics) (1.12.1)\n",
            "Requirement already satisfied: networkx in /usr/local/lib/python3.10/dist-packages (from torch>=1.8.0->ultralytics) (3.3)\n",
            "Requirement already satisfied: jinja2 in /usr/local/lib/python3.10/dist-packages (from torch>=1.8.0->ultralytics) (3.1.4)\n",
            "Requirement already satisfied: fsspec in /usr/local/lib/python3.10/dist-packages (from torch>=1.8.0->ultralytics) (2023.6.0)\n",
            "Collecting nvidia-cuda-nvrtc-cu12==12.1.105 (from torch>=1.8.0->ultralytics)\n",
            "  Using cached nvidia_cuda_nvrtc_cu12-12.1.105-py3-none-manylinux1_x86_64.whl (23.7 MB)\n",
            "Collecting nvidia-cuda-runtime-cu12==12.1.105 (from torch>=1.8.0->ultralytics)\n",
            "  Using cached nvidia_cuda_runtime_cu12-12.1.105-py3-none-manylinux1_x86_64.whl (823 kB)\n",
            "Collecting nvidia-cuda-cupti-cu12==12.1.105 (from torch>=1.8.0->ultralytics)\n",
            "  Using cached nvidia_cuda_cupti_cu12-12.1.105-py3-none-manylinux1_x86_64.whl (14.1 MB)\n",
            "Collecting nvidia-cudnn-cu12==8.9.2.26 (from torch>=1.8.0->ultralytics)\n",
            "  Using cached nvidia_cudnn_cu12-8.9.2.26-py3-none-manylinux1_x86_64.whl (731.7 MB)\n",
            "Collecting nvidia-cublas-cu12==12.1.3.1 (from torch>=1.8.0->ultralytics)\n",
            "  Using cached nvidia_cublas_cu12-12.1.3.1-py3-none-manylinux1_x86_64.whl (410.6 MB)\n",
            "Collecting nvidia-cufft-cu12==11.0.2.54 (from torch>=1.8.0->ultralytics)\n",
            "  Using cached nvidia_cufft_cu12-11.0.2.54-py3-none-manylinux1_x86_64.whl (121.6 MB)\n",
            "Collecting nvidia-curand-cu12==10.3.2.106 (from torch>=1.8.0->ultralytics)\n",
            "  Using cached nvidia_curand_cu12-10.3.2.106-py3-none-manylinux1_x86_64.whl (56.5 MB)\n",
            "Collecting nvidia-cusolver-cu12==11.4.5.107 (from torch>=1.8.0->ultralytics)\n",
            "  Using cached nvidia_cusolver_cu12-11.4.5.107-py3-none-manylinux1_x86_64.whl (124.2 MB)\n",
            "Collecting nvidia-cusparse-cu12==12.1.0.106 (from torch>=1.8.0->ultralytics)\n",
            "  Using cached nvidia_cusparse_cu12-12.1.0.106-py3-none-manylinux1_x86_64.whl (196.0 MB)\n",
            "Collecting nvidia-nccl-cu12==2.20.5 (from torch>=1.8.0->ultralytics)\n",
            "  Using cached nvidia_nccl_cu12-2.20.5-py3-none-manylinux2014_x86_64.whl (176.2 MB)\n",
            "Collecting nvidia-nvtx-cu12==12.1.105 (from torch>=1.8.0->ultralytics)\n",
            "  Using cached nvidia_nvtx_cu12-12.1.105-py3-none-manylinux1_x86_64.whl (99 kB)\n",
            "Requirement already satisfied: triton==2.3.0 in /usr/local/lib/python3.10/dist-packages (from torch>=1.8.0->ultralytics) (2.3.0)\n",
            "Collecting nvidia-nvjitlink-cu12 (from nvidia-cusolver-cu12==11.4.5.107->torch>=1.8.0->ultralytics)\n",
            "  Downloading nvidia_nvjitlink_cu12-12.5.40-py3-none-manylinux2014_x86_64.whl (21.3 MB)\n",
            "\u001b[2K     \u001b[90m━━━━━━━━━━━━━━━━━━━━━━━━━━━━━━━━━━━━━━━━\u001b[0m \u001b[32m21.3/21.3 MB\u001b[0m \u001b[31m68.9 MB/s\u001b[0m eta \u001b[36m0:00:00\u001b[0m\n",
            "\u001b[?25hRequirement already satisfied: six in /usr/local/lib/python3.10/dist-packages (from cycler>=0.10->matplotlib>=3.3.0->ultralytics) (1.16.0)\n",
            "Requirement already satisfied: MarkupSafe>=2.0 in /usr/local/lib/python3.10/dist-packages (from jinja2->torch>=1.8.0->ultralytics) (2.1.5)\n",
            "Requirement already satisfied: mpmath<1.4.0,>=1.1.0 in /usr/local/lib/python3.10/dist-packages (from sympy->torch>=1.8.0->ultralytics) (1.3.0)\n",
            "Installing collected packages: nvidia-nvtx-cu12, nvidia-nvjitlink-cu12, nvidia-nccl-cu12, nvidia-curand-cu12, nvidia-cufft-cu12, nvidia-cuda-runtime-cu12, nvidia-cuda-nvrtc-cu12, nvidia-cuda-cupti-cu12, nvidia-cublas-cu12, nvidia-cusparse-cu12, nvidia-cudnn-cu12, nvidia-cusolver-cu12, ultralytics-thop, ultralytics\n",
            "Successfully installed nvidia-cublas-cu12-12.1.3.1 nvidia-cuda-cupti-cu12-12.1.105 nvidia-cuda-nvrtc-cu12-12.1.105 nvidia-cuda-runtime-cu12-12.1.105 nvidia-cudnn-cu12-8.9.2.26 nvidia-cufft-cu12-11.0.2.54 nvidia-curand-cu12-10.3.2.106 nvidia-cusolver-cu12-11.4.5.107 nvidia-cusparse-cu12-12.1.0.106 nvidia-nccl-cu12-2.20.5 nvidia-nvjitlink-cu12-12.5.40 nvidia-nvtx-cu12-12.1.105 ultralytics-8.2.36 ultralytics-thop-2.0.0\n"
          ]
        }
      ],
      "source": [
        "!pip install ultralytics"
      ]
    },
    {
      "cell_type": "code",
      "execution_count": null,
      "metadata": {
        "colab": {
          "base_uri": "https://localhost:8080/"
        },
        "id": "jkrBpFMTvNo0",
        "outputId": "e4256d3d-01fc-460d-cc58-007c75fbcc62"
      },
      "outputs": [
        {
          "output_type": "stream",
          "name": "stdout",
          "text": [
            "Downloading https://github.com/ultralytics/assets/releases/download/v8.2.0/rtdetr-l.pt to 'rtdetr-l.pt'...\n"
          ]
        },
        {
          "output_type": "stream",
          "name": "stderr",
          "text": [
            "100%|██████████| 63.4M/63.4M [00:00<00:00, 444MB/s]\n"
          ]
        },
        {
          "output_type": "stream",
          "name": "stdout",
          "text": [
            "rt-detr-l summary: 673 layers, 32970476 parameters, 0 gradients, 108.3 GFLOPs\n"
          ]
        },
        {
          "output_type": "execute_result",
          "data": {
            "text/plain": [
              "(673, 32970476, 0, 108.3437056)"
            ]
          },
          "metadata": {},
          "execution_count": 3
        }
      ],
      "source": [
        "from ultralytics import RTDETR\n",
        "\n",
        "# Load a COCO-pretrained RT-DETR-l model\n",
        "model = RTDETR(\"rtdetr-l.pt\")\n",
        "\n",
        "# Display model information (optional)\n",
        "model.info()\n",
        "\n",
        "# Train the model on my dataset for 100 epochs\n",
        "results = model.train(data=\"/content/hogweed-4/data.yaml\", epochs=100, imgsz=640)"
      ]
    },
    {
      "cell_type": "markdown",
      "source": [],
      "metadata": {
        "id": "SlhonUeaHn6R"
      }
    },
    {
      "cell_type": "code",
      "execution_count": null,
      "metadata": {
        "colab": {
          "base_uri": "https://localhost:8080/"
        },
        "id": "VrM1560XvNuR",
        "outputId": "e57d3d5c-00e3-4366-a2e3-270963833b08"
      },
      "outputs": [
        {
          "output_type": "stream",
          "name": "stdout",
          "text": [
            "Ultralytics YOLOv8.2.36 🚀 Python-3.10.12 torch-2.3.0+cu121 CUDA:0 (NVIDIA L4, 22700MiB)\n",
            "\u001b[34m\u001b[1mengine/trainer: \u001b[0mtask=detect, mode=train, model=rtdetr-l.pt, data=/content/hogweed-4/data.yaml, epochs=100, time=None, patience=100, batch=16, imgsz=640, save=True, save_period=-1, cache=False, device=None, workers=8, project=None, name=train2, exist_ok=False, pretrained=True, optimizer=auto, verbose=True, seed=0, deterministic=True, single_cls=False, rect=False, cos_lr=False, close_mosaic=10, resume=False, amp=True, fraction=1.0, profile=False, freeze=None, multi_scale=False, overlap_mask=True, mask_ratio=4, dropout=0.0, val=True, split=val, save_json=False, save_hybrid=False, conf=None, iou=0.7, max_det=300, half=False, dnn=False, plots=True, source=None, vid_stride=1, stream_buffer=False, visualize=False, augment=False, agnostic_nms=False, classes=None, retina_masks=False, embed=None, show=False, save_frames=False, save_txt=False, save_conf=False, save_crop=False, show_labels=True, show_conf=True, show_boxes=True, line_width=None, format=torchscript, keras=False, optimize=False, int8=False, dynamic=False, simplify=False, opset=None, workspace=4, nms=False, lr0=0.01, lrf=0.01, momentum=0.937, weight_decay=0.0005, warmup_epochs=3.0, warmup_momentum=0.8, warmup_bias_lr=0.1, box=7.5, cls=0.5, dfl=1.5, pose=12.0, kobj=1.0, label_smoothing=0.0, nbs=64, hsv_h=0.015, hsv_s=0.7, hsv_v=0.4, degrees=0.0, translate=0.1, scale=0.5, shear=0.0, perspective=0.0, flipud=0.0, fliplr=0.5, bgr=0.0, mosaic=1.0, mixup=0.0, copy_paste=0.0, auto_augment=randaugment, erasing=0.4, crop_fraction=1.0, cfg=None, tracker=botsort.yaml, save_dir=runs/detect/train2\n",
            "Downloading https://ultralytics.com/assets/Arial.ttf to '/root/.config/Ultralytics/Arial.ttf'...\n"
          ]
        },
        {
          "output_type": "stream",
          "name": "stderr",
          "text": [
            "100%|██████████| 755k/755k [00:00<00:00, 114MB/s]\n"
          ]
        },
        {
          "output_type": "stream",
          "name": "stdout",
          "text": [
            "Overriding model.yaml nc=80 with nc=1\n",
            "WARNING ⚠️ no model scale passed. Assuming scale='l'.\n",
            "\n",
            "                   from  n    params  module                                       arguments                     \n",
            "  0                  -1  1     25248  ultralytics.nn.modules.block.HGStem          [3, 32, 48]                   \n",
            "  1                  -1  6    155072  ultralytics.nn.modules.block.HGBlock         [48, 48, 128, 3, 6]           \n",
            "  2                  -1  1      1408  ultralytics.nn.modules.conv.DWConv           [128, 128, 3, 2, 1, False]    \n",
            "  3                  -1  6    839296  ultralytics.nn.modules.block.HGBlock         [128, 96, 512, 3, 6]          \n",
            "  4                  -1  1      5632  ultralytics.nn.modules.conv.DWConv           [512, 512, 3, 2, 1, False]    \n",
            "  5                  -1  6   1695360  ultralytics.nn.modules.block.HGBlock         [512, 192, 1024, 5, 6, True, False]\n",
            "  6                  -1  6   2055808  ultralytics.nn.modules.block.HGBlock         [1024, 192, 1024, 5, 6, True, True]\n",
            "  7                  -1  6   2055808  ultralytics.nn.modules.block.HGBlock         [1024, 192, 1024, 5, 6, True, True]\n",
            "  8                  -1  1     11264  ultralytics.nn.modules.conv.DWConv           [1024, 1024, 3, 2, 1, False]  \n",
            "  9                  -1  6   6708480  ultralytics.nn.modules.block.HGBlock         [1024, 384, 2048, 5, 6, True, False]\n",
            " 10                  -1  1    524800  ultralytics.nn.modules.conv.Conv             [2048, 256, 1, 1, None, 1, 1, False]\n",
            " 11                  -1  1    789760  ultralytics.nn.modules.transformer.AIFI      [256, 1024, 8]                \n",
            " 12                  -1  1     66048  ultralytics.nn.modules.conv.Conv             [256, 256, 1, 1]              \n",
            " 13                  -1  1         0  torch.nn.modules.upsampling.Upsample         [None, 2, 'nearest']          \n",
            " 14                   7  1    262656  ultralytics.nn.modules.conv.Conv             [1024, 256, 1, 1, None, 1, 1, False]\n",
            " 15            [-2, -1]  1         0  ultralytics.nn.modules.conv.Concat           [1]                           \n",
            " 16                  -1  3   2232320  ultralytics.nn.modules.block.RepC3           [512, 256, 3]                 \n",
            " 17                  -1  1     66048  ultralytics.nn.modules.conv.Conv             [256, 256, 1, 1]              \n",
            " 18                  -1  1         0  torch.nn.modules.upsampling.Upsample         [None, 2, 'nearest']          \n",
            " 19                   3  1    131584  ultralytics.nn.modules.conv.Conv             [512, 256, 1, 1, None, 1, 1, False]\n",
            " 20            [-2, -1]  1         0  ultralytics.nn.modules.conv.Concat           [1]                           \n",
            " 21                  -1  3   2232320  ultralytics.nn.modules.block.RepC3           [512, 256, 3]                 \n",
            " 22                  -1  1    590336  ultralytics.nn.modules.conv.Conv             [256, 256, 3, 2]              \n",
            " 23            [-1, 17]  1         0  ultralytics.nn.modules.conv.Concat           [1]                           \n",
            " 24                  -1  3   2232320  ultralytics.nn.modules.block.RepC3           [512, 256, 3]                 \n",
            " 25                  -1  1    590336  ultralytics.nn.modules.conv.Conv             [256, 256, 3, 2]              \n",
            " 26            [-1, 12]  1         0  ultralytics.nn.modules.conv.Concat           [1]                           \n",
            " 27                  -1  3   2232320  ultralytics.nn.modules.block.RepC3           [512, 256, 3]                 \n",
            " 28        [21, 24, 27]  1   7303907  ultralytics.nn.modules.head.RTDETRDecoder    [1, [256, 256, 256]]          \n",
            "rt-detr-l summary: 673 layers, 32808131 parameters, 32808131 gradients, 108.0 GFLOPs\n",
            "\n",
            "Transferred 926/941 items from pretrained weights\n",
            "\u001b[34m\u001b[1mTensorBoard: \u001b[0mStart with 'tensorboard --logdir runs/detect/train2', view at http://localhost:6006/\n",
            "\u001b[34m\u001b[1mAMP: \u001b[0mrunning Automatic Mixed Precision (AMP) checks with YOLOv8n...\n",
            "Downloading https://github.com/ultralytics/assets/releases/download/v8.2.0/yolov8n.pt to 'yolov8n.pt'...\n"
          ]
        },
        {
          "output_type": "stream",
          "name": "stderr",
          "text": [
            "100%|██████████| 6.23M/6.23M [00:00<00:00, 274MB/s]\n",
            "Plan failed with a cudnnException: CUDNN_BACKEND_EXECUTION_PLAN_DESCRIPTOR: cudnnFinalize Descriptor Failed cudnn_status: CUDNN_STATUS_NOT_SUPPORTED (Triggered internally at ../aten/src/ATen/native/cudnn/Conv_v8.cpp:919.)\n"
          ]
        },
        {
          "output_type": "stream",
          "name": "stdout",
          "text": [
            "\u001b[34m\u001b[1mAMP: \u001b[0mchecks passed ✅\n"
          ]
        },
        {
          "output_type": "stream",
          "name": "stderr",
          "text": [
            "\u001b[34m\u001b[1mtrain: \u001b[0mScanning /content/hogweed-4/train/labels... 210 images, 2 backgrounds, 0 corrupt: 100%|██████████| 210/210 [00:00<00:00, 1200.40it/s]"
          ]
        },
        {
          "output_type": "stream",
          "name": "stdout",
          "text": [
            "\u001b[34m\u001b[1mtrain: \u001b[0mNew cache created: /content/hogweed-4/train/labels.cache\n"
          ]
        },
        {
          "output_type": "stream",
          "name": "stderr",
          "text": [
            "\n"
          ]
        },
        {
          "output_type": "stream",
          "name": "stdout",
          "text": [
            "\u001b[34m\u001b[1malbumentations: \u001b[0mBlur(p=0.01, blur_limit=(3, 7)), MedianBlur(p=0.01, blur_limit=(3, 7)), ToGray(p=0.01), CLAHE(p=0.01, clip_limit=(1, 4.0), tile_grid_size=(8, 8))\n"
          ]
        },
        {
          "output_type": "stream",
          "name": "stderr",
          "text": [
            "os.fork() was called. os.fork() is incompatible with multithreaded code, and JAX is multithreaded, so this will likely lead to a deadlock.\n",
            "\u001b[34m\u001b[1mval: \u001b[0mScanning /content/hogweed-4/valid/labels... 40 images, 0 backgrounds, 0 corrupt: 100%|██████████| 40/40 [00:00<00:00, 1076.64it/s]"
          ]
        },
        {
          "output_type": "stream",
          "name": "stdout",
          "text": [
            "\u001b[34m\u001b[1mval: \u001b[0mNew cache created: /content/hogweed-4/valid/labels.cache\n"
          ]
        },
        {
          "output_type": "stream",
          "name": "stderr",
          "text": [
            "\n"
          ]
        },
        {
          "output_type": "stream",
          "name": "stdout",
          "text": [
            "Plotting labels to runs/detect/train2/labels.jpg... \n",
            "\u001b[34m\u001b[1moptimizer:\u001b[0m 'optimizer=auto' found, ignoring 'lr0=0.01' and 'momentum=0.937' and determining best 'optimizer', 'lr0' and 'momentum' automatically... \n",
            "\u001b[34m\u001b[1moptimizer:\u001b[0m AdamW(lr=0.002, momentum=0.9) with parameter groups 143 weight(decay=0.0), 206 weight(decay=0.0005), 226 bias(decay=0.0)\n",
            "\u001b[34m\u001b[1mTensorBoard: \u001b[0mmodel graph visualization added ✅\n",
            "Image sizes 640 train, 640 val\n",
            "Using 8 dataloader workers\n",
            "Logging results to \u001b[1mruns/detect/train2\u001b[0m\n",
            "Starting training for 100 epochs...\n",
            "\n",
            "      Epoch    GPU_mem  giou_loss   cls_loss    l1_loss  Instances       Size\n"
          ]
        },
        {
          "output_type": "stream",
          "name": "stderr",
          "text": [
            "  0%|          | 0/14 [00:00<?, ?it/s]grid_sampler_2d_backward_cuda does not have a deterministic implementation, but you set 'torch.use_deterministic_algorithms(True, warn_only=True)'. You can file an issue at https://github.com/pytorch/pytorch/issues to help us prioritize adding deterministic support for this operation. (Triggered internally at ../aten/src/ATen/Context.cpp:83.)\n",
            "      1/100      13.7G      2.137       3.29     0.7764        112        640:  93%|█████████▎| 13/14 [00:14<00:00,  1.25it/s]Plan failed with a cudnnException: CUDNN_BACKEND_EXECUTION_PLAN_DESCRIPTOR: cudnnFinalize Descriptor Failed cudnn_status: CUDNN_STATUS_NOT_SUPPORTED (Triggered internally at ../aten/src/ATen/native/cudnn/Conv_v8.cpp:919.)\n",
            "      1/100      13.7G      2.142      3.122     0.7933          6        640: 100%|██████████| 14/14 [00:14<00:00,  1.07s/it]\n",
            "                 Class     Images  Instances      Box(P          R      mAP50  mAP50-95): 100%|██████████| 2/2 [00:01<00:00,  1.19it/s]"
          ]
        },
        {
          "output_type": "stream",
          "name": "stdout",
          "text": [
            "                   all         40        810    0.00797     0.0926    0.00558    0.00268\n"
          ]
        },
        {
          "output_type": "stream",
          "name": "stderr",
          "text": [
            "\n"
          ]
        },
        {
          "output_type": "stream",
          "name": "stdout",
          "text": [
            "\n",
            "      Epoch    GPU_mem  giou_loss   cls_loss    l1_loss  Instances       Size\n"
          ]
        },
        {
          "output_type": "stream",
          "name": "stderr",
          "text": [
            "  0%|          | 0/14 [00:00<?, ?it/s]grid_sampler_2d_backward_cuda does not have a deterministic implementation, but you set 'torch.use_deterministic_algorithms(True, warn_only=True)'. You can file an issue at https://github.com/pytorch/pytorch/issues to help us prioritize adding deterministic support for this operation. (Triggered internally at ../aten/src/ATen/Context.cpp:83.)\n",
            "      2/100      15.4G       1.82     0.4668     0.5388         23        640: 100%|██████████| 14/14 [00:10<00:00,  1.36it/s]\n",
            "                 Class     Images  Instances      Box(P          R      mAP50  mAP50-95): 100%|██████████| 2/2 [00:00<00:00,  3.60it/s]"
          ]
        },
        {
          "output_type": "stream",
          "name": "stdout",
          "text": [
            "                   all         40        810      0.342      0.236      0.163     0.0627\n"
          ]
        },
        {
          "output_type": "stream",
          "name": "stderr",
          "text": [
            "\n"
          ]
        },
        {
          "output_type": "stream",
          "name": "stdout",
          "text": [
            "\n",
            "      Epoch    GPU_mem  giou_loss   cls_loss    l1_loss  Instances       Size\n"
          ]
        },
        {
          "output_type": "stream",
          "name": "stderr",
          "text": [
            "  0%|          | 0/14 [00:00<?, ?it/s]grid_sampler_2d_backward_cuda does not have a deterministic implementation, but you set 'torch.use_deterministic_algorithms(True, warn_only=True)'. You can file an issue at https://github.com/pytorch/pytorch/issues to help us prioritize adding deterministic support for this operation. (Triggered internally at ../aten/src/ATen/Context.cpp:83.)\n",
            "      3/100        13G      1.568     0.4389     0.4004          6        640: 100%|██████████| 14/14 [00:09<00:00,  1.41it/s]\n",
            "                 Class     Images  Instances      Box(P          R      mAP50  mAP50-95): 100%|██████████| 2/2 [00:00<00:00,  3.67it/s]"
          ]
        },
        {
          "output_type": "stream",
          "name": "stdout",
          "text": [
            "                   all         40        810      0.539      0.311      0.301      0.144\n"
          ]
        },
        {
          "output_type": "stream",
          "name": "stderr",
          "text": [
            "\n"
          ]
        },
        {
          "output_type": "stream",
          "name": "stdout",
          "text": [
            "\n",
            "      Epoch    GPU_mem  giou_loss   cls_loss    l1_loss  Instances       Size\n"
          ]
        },
        {
          "output_type": "stream",
          "name": "stderr",
          "text": [
            "  0%|          | 0/14 [00:00<?, ?it/s]grid_sampler_2d_backward_cuda does not have a deterministic implementation, but you set 'torch.use_deterministic_algorithms(True, warn_only=True)'. You can file an issue at https://github.com/pytorch/pytorch/issues to help us prioritize adding deterministic support for this operation. (Triggered internally at ../aten/src/ATen/Context.cpp:83.)\n",
            "      4/100      13.9G      1.186     0.5189     0.2336         32        640: 100%|██████████| 14/14 [00:09<00:00,  1.41it/s]\n",
            "                 Class     Images  Instances      Box(P          R      mAP50  mAP50-95): 100%|██████████| 2/2 [00:00<00:00,  3.70it/s]"
          ]
        },
        {
          "output_type": "stream",
          "name": "stdout",
          "text": [
            "                   all         40        810      0.496       0.41      0.381      0.154\n"
          ]
        },
        {
          "output_type": "stream",
          "name": "stderr",
          "text": [
            "\n"
          ]
        },
        {
          "output_type": "stream",
          "name": "stdout",
          "text": [
            "\n",
            "      Epoch    GPU_mem  giou_loss   cls_loss    l1_loss  Instances       Size\n"
          ]
        },
        {
          "output_type": "stream",
          "name": "stderr",
          "text": [
            "  0%|          | 0/14 [00:00<?, ?it/s]grid_sampler_2d_backward_cuda does not have a deterministic implementation, but you set 'torch.use_deterministic_algorithms(True, warn_only=True)'. You can file an issue at https://github.com/pytorch/pytorch/issues to help us prioritize adding deterministic support for this operation. (Triggered internally at ../aten/src/ATen/Context.cpp:83.)\n",
            "      5/100      13.5G      1.134     0.5124     0.2208         11        640: 100%|██████████| 14/14 [00:09<00:00,  1.41it/s]\n",
            "                 Class     Images  Instances      Box(P          R      mAP50  mAP50-95): 100%|██████████| 2/2 [00:00<00:00,  3.71it/s]"
          ]
        },
        {
          "output_type": "stream",
          "name": "stdout",
          "text": [
            "                   all         40        810      0.499      0.436      0.395      0.171\n"
          ]
        },
        {
          "output_type": "stream",
          "name": "stderr",
          "text": [
            "\n"
          ]
        },
        {
          "output_type": "stream",
          "name": "stdout",
          "text": [
            "\n",
            "      Epoch    GPU_mem  giou_loss   cls_loss    l1_loss  Instances       Size\n"
          ]
        },
        {
          "output_type": "stream",
          "name": "stderr",
          "text": [
            "  0%|          | 0/14 [00:00<?, ?it/s]grid_sampler_2d_backward_cuda does not have a deterministic implementation, but you set 'torch.use_deterministic_algorithms(True, warn_only=True)'. You can file an issue at https://github.com/pytorch/pytorch/issues to help us prioritize adding deterministic support for this operation. (Triggered internally at ../aten/src/ATen/Context.cpp:83.)\n",
            "      6/100      13.5G      1.056     0.5474     0.1976          4        640: 100%|██████████| 14/14 [00:09<00:00,  1.41it/s]\n",
            "                 Class     Images  Instances      Box(P          R      mAP50  mAP50-95): 100%|██████████| 2/2 [00:00<00:00,  3.66it/s]"
          ]
        },
        {
          "output_type": "stream",
          "name": "stdout",
          "text": [
            "                   all         40        810      0.368      0.275      0.229     0.0963\n"
          ]
        },
        {
          "output_type": "stream",
          "name": "stderr",
          "text": [
            "\n"
          ]
        },
        {
          "output_type": "stream",
          "name": "stdout",
          "text": [
            "\n",
            "      Epoch    GPU_mem  giou_loss   cls_loss    l1_loss  Instances       Size\n"
          ]
        },
        {
          "output_type": "stream",
          "name": "stderr",
          "text": [
            "  0%|          | 0/14 [00:00<?, ?it/s]grid_sampler_2d_backward_cuda does not have a deterministic implementation, but you set 'torch.use_deterministic_algorithms(True, warn_only=True)'. You can file an issue at https://github.com/pytorch/pytorch/issues to help us prioritize adding deterministic support for this operation. (Triggered internally at ../aten/src/ATen/Context.cpp:83.)\n",
            "      7/100      13.9G      1.115     0.6068     0.2031          6        640: 100%|██████████| 14/14 [00:09<00:00,  1.42it/s]\n",
            "                 Class     Images  Instances      Box(P          R      mAP50  mAP50-95): 100%|██████████| 2/2 [00:00<00:00,  3.69it/s]"
          ]
        },
        {
          "output_type": "stream",
          "name": "stdout",
          "text": [
            "                   all         40        810      0.409      0.324       0.31      0.127\n"
          ]
        },
        {
          "output_type": "stream",
          "name": "stderr",
          "text": [
            "\n"
          ]
        },
        {
          "output_type": "stream",
          "name": "stdout",
          "text": [
            "\n",
            "      Epoch    GPU_mem  giou_loss   cls_loss    l1_loss  Instances       Size\n"
          ]
        },
        {
          "output_type": "stream",
          "name": "stderr",
          "text": [
            "  0%|          | 0/14 [00:00<?, ?it/s]grid_sampler_2d_backward_cuda does not have a deterministic implementation, but you set 'torch.use_deterministic_algorithms(True, warn_only=True)'. You can file an issue at https://github.com/pytorch/pytorch/issues to help us prioritize adding deterministic support for this operation. (Triggered internally at ../aten/src/ATen/Context.cpp:83.)\n",
            "      8/100      13.1G      1.025     0.6254     0.1814         18        640: 100%|██████████| 14/14 [00:09<00:00,  1.43it/s]\n",
            "                 Class     Images  Instances      Box(P          R      mAP50  mAP50-95): 100%|██████████| 2/2 [00:00<00:00,  3.66it/s]"
          ]
        },
        {
          "output_type": "stream",
          "name": "stdout",
          "text": [
            "                   all         40        810      0.392       0.28      0.249     0.0963\n"
          ]
        },
        {
          "output_type": "stream",
          "name": "stderr",
          "text": [
            "\n"
          ]
        },
        {
          "output_type": "stream",
          "name": "stdout",
          "text": [
            "\n",
            "      Epoch    GPU_mem  giou_loss   cls_loss    l1_loss  Instances       Size\n"
          ]
        },
        {
          "output_type": "stream",
          "name": "stderr",
          "text": [
            "  0%|          | 0/14 [00:00<?, ?it/s]grid_sampler_2d_backward_cuda does not have a deterministic implementation, but you set 'torch.use_deterministic_algorithms(True, warn_only=True)'. You can file an issue at https://github.com/pytorch/pytorch/issues to help us prioritize adding deterministic support for this operation. (Triggered internally at ../aten/src/ATen/Context.cpp:83.)\n",
            "      9/100      14.2G      1.033     0.7039      0.175         13        640: 100%|██████████| 14/14 [00:09<00:00,  1.41it/s]\n",
            "                 Class     Images  Instances      Box(P          R      mAP50  mAP50-95): 100%|██████████| 2/2 [00:00<00:00,  3.64it/s]"
          ]
        },
        {
          "output_type": "stream",
          "name": "stdout",
          "text": [
            "                   all         40        810      0.342       0.32      0.244      0.102\n"
          ]
        },
        {
          "output_type": "stream",
          "name": "stderr",
          "text": [
            "\n"
          ]
        },
        {
          "output_type": "stream",
          "name": "stdout",
          "text": [
            "\n",
            "      Epoch    GPU_mem  giou_loss   cls_loss    l1_loss  Instances       Size\n"
          ]
        },
        {
          "output_type": "stream",
          "name": "stderr",
          "text": [
            "  0%|          | 0/14 [00:00<?, ?it/s]grid_sampler_2d_backward_cuda does not have a deterministic implementation, but you set 'torch.use_deterministic_algorithms(True, warn_only=True)'. You can file an issue at https://github.com/pytorch/pytorch/issues to help us prioritize adding deterministic support for this operation. (Triggered internally at ../aten/src/ATen/Context.cpp:83.)\n",
            "     10/100      14.8G       1.04      0.588     0.2386         12        640: 100%|██████████| 14/14 [00:09<00:00,  1.41it/s]\n",
            "                 Class     Images  Instances      Box(P          R      mAP50  mAP50-95): 100%|██████████| 2/2 [00:00<00:00,  3.68it/s]"
          ]
        },
        {
          "output_type": "stream",
          "name": "stdout",
          "text": [
            "                   all         40        810      0.287       0.33       0.23     0.0951\n"
          ]
        },
        {
          "output_type": "stream",
          "name": "stderr",
          "text": [
            "\n"
          ]
        },
        {
          "output_type": "stream",
          "name": "stdout",
          "text": [
            "\n",
            "      Epoch    GPU_mem  giou_loss   cls_loss    l1_loss  Instances       Size\n"
          ]
        },
        {
          "output_type": "stream",
          "name": "stderr",
          "text": [
            "  0%|          | 0/14 [00:00<?, ?it/s]grid_sampler_2d_backward_cuda does not have a deterministic implementation, but you set 'torch.use_deterministic_algorithms(True, warn_only=True)'. You can file an issue at https://github.com/pytorch/pytorch/issues to help us prioritize adding deterministic support for this operation. (Triggered internally at ../aten/src/ATen/Context.cpp:83.)\n",
            "     11/100      15.6G     0.9815     0.5716     0.1567         11        640: 100%|██████████| 14/14 [00:09<00:00,  1.40it/s]\n",
            "                 Class     Images  Instances      Box(P          R      mAP50  mAP50-95): 100%|██████████| 2/2 [00:00<00:00,  3.67it/s]"
          ]
        },
        {
          "output_type": "stream",
          "name": "stdout",
          "text": [
            "                   all         40        810      0.395      0.232      0.242      0.101\n"
          ]
        },
        {
          "output_type": "stream",
          "name": "stderr",
          "text": [
            "\n"
          ]
        },
        {
          "output_type": "stream",
          "name": "stdout",
          "text": [
            "\n",
            "      Epoch    GPU_mem  giou_loss   cls_loss    l1_loss  Instances       Size\n"
          ]
        },
        {
          "output_type": "stream",
          "name": "stderr",
          "text": [
            "  0%|          | 0/14 [00:00<?, ?it/s]grid_sampler_2d_backward_cuda does not have a deterministic implementation, but you set 'torch.use_deterministic_algorithms(True, warn_only=True)'. You can file an issue at https://github.com/pytorch/pytorch/issues to help us prioritize adding deterministic support for this operation. (Triggered internally at ../aten/src/ATen/Context.cpp:83.)\n",
            "     12/100      13.6G      0.971     0.6829     0.1502          3        640: 100%|██████████| 14/14 [00:10<00:00,  1.40it/s]\n",
            "                 Class     Images  Instances      Box(P          R      mAP50  mAP50-95): 100%|██████████| 2/2 [00:00<00:00,  3.57it/s]"
          ]
        },
        {
          "output_type": "stream",
          "name": "stdout",
          "text": [
            "                   all         40        810       0.45      0.277      0.276      0.141\n"
          ]
        },
        {
          "output_type": "stream",
          "name": "stderr",
          "text": [
            "\n"
          ]
        },
        {
          "output_type": "stream",
          "name": "stdout",
          "text": [
            "\n",
            "      Epoch    GPU_mem  giou_loss   cls_loss    l1_loss  Instances       Size\n"
          ]
        },
        {
          "output_type": "stream",
          "name": "stderr",
          "text": [
            "  0%|          | 0/14 [00:00<?, ?it/s]grid_sampler_2d_backward_cuda does not have a deterministic implementation, but you set 'torch.use_deterministic_algorithms(True, warn_only=True)'. You can file an issue at https://github.com/pytorch/pytorch/issues to help us prioritize adding deterministic support for this operation. (Triggered internally at ../aten/src/ATen/Context.cpp:83.)\n",
            "     13/100      15.7G     0.9724     0.7192     0.1652         13        640: 100%|██████████| 14/14 [00:09<00:00,  1.40it/s]\n",
            "                 Class     Images  Instances      Box(P          R      mAP50  mAP50-95): 100%|██████████| 2/2 [00:00<00:00,  3.66it/s]"
          ]
        },
        {
          "output_type": "stream",
          "name": "stdout",
          "text": [
            "                   all         40        810      0.457      0.464      0.396      0.179\n"
          ]
        },
        {
          "output_type": "stream",
          "name": "stderr",
          "text": [
            "\n"
          ]
        },
        {
          "output_type": "stream",
          "name": "stdout",
          "text": [
            "\n",
            "      Epoch    GPU_mem  giou_loss   cls_loss    l1_loss  Instances       Size\n"
          ]
        },
        {
          "output_type": "stream",
          "name": "stderr",
          "text": [
            "  0%|          | 0/14 [00:00<?, ?it/s]grid_sampler_2d_backward_cuda does not have a deterministic implementation, but you set 'torch.use_deterministic_algorithms(True, warn_only=True)'. You can file an issue at https://github.com/pytorch/pytorch/issues to help us prioritize adding deterministic support for this operation. (Triggered internally at ../aten/src/ATen/Context.cpp:83.)\n",
            "     14/100        13G     0.9502     0.6833     0.1613          2        640: 100%|██████████| 14/14 [00:09<00:00,  1.42it/s]\n",
            "                 Class     Images  Instances      Box(P          R      mAP50  mAP50-95): 100%|██████████| 2/2 [00:00<00:00,  3.68it/s]"
          ]
        },
        {
          "output_type": "stream",
          "name": "stdout",
          "text": [
            "                   all         40        810      0.507      0.389      0.374      0.156\n"
          ]
        },
        {
          "output_type": "stream",
          "name": "stderr",
          "text": [
            "\n"
          ]
        },
        {
          "output_type": "stream",
          "name": "stdout",
          "text": [
            "\n",
            "      Epoch    GPU_mem  giou_loss   cls_loss    l1_loss  Instances       Size\n"
          ]
        },
        {
          "output_type": "stream",
          "name": "stderr",
          "text": [
            "  0%|          | 0/14 [00:00<?, ?it/s]grid_sampler_2d_backward_cuda does not have a deterministic implementation, but you set 'torch.use_deterministic_algorithms(True, warn_only=True)'. You can file an issue at https://github.com/pytorch/pytorch/issues to help us prioritize adding deterministic support for this operation. (Triggered internally at ../aten/src/ATen/Context.cpp:83.)\n",
            "     15/100        13G      1.076     0.5979     0.2221          8        640: 100%|██████████| 14/14 [00:09<00:00,  1.43it/s]\n",
            "                 Class     Images  Instances      Box(P          R      mAP50  mAP50-95): 100%|██████████| 2/2 [00:00<00:00,  3.64it/s]"
          ]
        },
        {
          "output_type": "stream",
          "name": "stdout",
          "text": [
            "                   all         40        810      0.487      0.471      0.417      0.188\n"
          ]
        },
        {
          "output_type": "stream",
          "name": "stderr",
          "text": [
            "\n"
          ]
        },
        {
          "output_type": "stream",
          "name": "stdout",
          "text": [
            "\n",
            "      Epoch    GPU_mem  giou_loss   cls_loss    l1_loss  Instances       Size\n"
          ]
        },
        {
          "output_type": "stream",
          "name": "stderr",
          "text": [
            "  0%|          | 0/14 [00:00<?, ?it/s]grid_sampler_2d_backward_cuda does not have a deterministic implementation, but you set 'torch.use_deterministic_algorithms(True, warn_only=True)'. You can file an issue at https://github.com/pytorch/pytorch/issues to help us prioritize adding deterministic support for this operation. (Triggered internally at ../aten/src/ATen/Context.cpp:83.)\n",
            "     16/100      14.2G       1.11     0.5728     0.1939         16        640: 100%|██████████| 14/14 [00:09<00:00,  1.41it/s]\n",
            "                 Class     Images  Instances      Box(P          R      mAP50  mAP50-95): 100%|██████████| 2/2 [00:00<00:00,  3.66it/s]"
          ]
        },
        {
          "output_type": "stream",
          "name": "stdout",
          "text": [
            "                   all         40        810      0.482      0.396      0.367      0.174\n"
          ]
        },
        {
          "output_type": "stream",
          "name": "stderr",
          "text": [
            "\n"
          ]
        },
        {
          "output_type": "stream",
          "name": "stdout",
          "text": [
            "\n",
            "      Epoch    GPU_mem  giou_loss   cls_loss    l1_loss  Instances       Size\n"
          ]
        },
        {
          "output_type": "stream",
          "name": "stderr",
          "text": [
            "  0%|          | 0/14 [00:00<?, ?it/s]grid_sampler_2d_backward_cuda does not have a deterministic implementation, but you set 'torch.use_deterministic_algorithms(True, warn_only=True)'. You can file an issue at https://github.com/pytorch/pytorch/issues to help us prioritize adding deterministic support for this operation. (Triggered internally at ../aten/src/ATen/Context.cpp:83.)\n",
            "     17/100      13.1G     0.8927     0.6466     0.1546          4        640: 100%|██████████| 14/14 [00:09<00:00,  1.46it/s]\n",
            "                 Class     Images  Instances      Box(P          R      mAP50  mAP50-95): 100%|██████████| 2/2 [00:00<00:00,  3.64it/s]"
          ]
        },
        {
          "output_type": "stream",
          "name": "stdout",
          "text": [
            "                   all         40        810      0.457      0.409      0.375      0.183\n"
          ]
        },
        {
          "output_type": "stream",
          "name": "stderr",
          "text": [
            "\n"
          ]
        },
        {
          "output_type": "stream",
          "name": "stdout",
          "text": [
            "\n",
            "      Epoch    GPU_mem  giou_loss   cls_loss    l1_loss  Instances       Size\n"
          ]
        },
        {
          "output_type": "stream",
          "name": "stderr",
          "text": [
            "  0%|          | 0/14 [00:00<?, ?it/s]grid_sampler_2d_backward_cuda does not have a deterministic implementation, but you set 'torch.use_deterministic_algorithms(True, warn_only=True)'. You can file an issue at https://github.com/pytorch/pytorch/issues to help us prioritize adding deterministic support for this operation. (Triggered internally at ../aten/src/ATen/Context.cpp:83.)\n",
            "     18/100      14.2G     0.9773     0.7013     0.1777         27        640: 100%|██████████| 14/14 [00:09<00:00,  1.41it/s]\n",
            "                 Class     Images  Instances      Box(P          R      mAP50  mAP50-95): 100%|██████████| 2/2 [00:00<00:00,  3.66it/s]"
          ]
        },
        {
          "output_type": "stream",
          "name": "stdout",
          "text": [
            "                   all         40        810      0.579      0.532      0.497      0.222\n"
          ]
        },
        {
          "output_type": "stream",
          "name": "stderr",
          "text": [
            "\n"
          ]
        },
        {
          "output_type": "stream",
          "name": "stdout",
          "text": [
            "\n",
            "      Epoch    GPU_mem  giou_loss   cls_loss    l1_loss  Instances       Size\n"
          ]
        },
        {
          "output_type": "stream",
          "name": "stderr",
          "text": [
            "  0%|          | 0/14 [00:00<?, ?it/s]grid_sampler_2d_backward_cuda does not have a deterministic implementation, but you set 'torch.use_deterministic_algorithms(True, warn_only=True)'. You can file an issue at https://github.com/pytorch/pytorch/issues to help us prioritize adding deterministic support for this operation. (Triggered internally at ../aten/src/ATen/Context.cpp:83.)\n",
            "     19/100      12.6G      0.928      0.652     0.1817          2        640: 100%|██████████| 14/14 [00:09<00:00,  1.43it/s]\n",
            "                 Class     Images  Instances      Box(P          R      mAP50  mAP50-95): 100%|██████████| 2/2 [00:00<00:00,  3.66it/s]"
          ]
        },
        {
          "output_type": "stream",
          "name": "stdout",
          "text": [
            "                   all         40        810       0.61      0.443      0.476       0.22\n"
          ]
        },
        {
          "output_type": "stream",
          "name": "stderr",
          "text": [
            "\n"
          ]
        },
        {
          "output_type": "stream",
          "name": "stdout",
          "text": [
            "\n",
            "      Epoch    GPU_mem  giou_loss   cls_loss    l1_loss  Instances       Size\n"
          ]
        },
        {
          "output_type": "stream",
          "name": "stderr",
          "text": [
            "  0%|          | 0/14 [00:00<?, ?it/s]grid_sampler_2d_backward_cuda does not have a deterministic implementation, but you set 'torch.use_deterministic_algorithms(True, warn_only=True)'. You can file an issue at https://github.com/pytorch/pytorch/issues to help us prioritize adding deterministic support for this operation. (Triggered internally at ../aten/src/ATen/Context.cpp:83.)\n",
            "     20/100      12.6G     0.9408     0.6317     0.1609         26        640: 100%|██████████| 14/14 [00:09<00:00,  1.45it/s]\n",
            "                 Class     Images  Instances      Box(P          R      mAP50  mAP50-95): 100%|██████████| 2/2 [00:00<00:00,  3.65it/s]"
          ]
        },
        {
          "output_type": "stream",
          "name": "stdout",
          "text": [
            "                   all         40        810      0.531       0.36      0.389      0.195\n"
          ]
        },
        {
          "output_type": "stream",
          "name": "stderr",
          "text": [
            "\n"
          ]
        },
        {
          "output_type": "stream",
          "name": "stdout",
          "text": [
            "\n",
            "      Epoch    GPU_mem  giou_loss   cls_loss    l1_loss  Instances       Size\n"
          ]
        },
        {
          "output_type": "stream",
          "name": "stderr",
          "text": [
            "  0%|          | 0/14 [00:00<?, ?it/s]grid_sampler_2d_backward_cuda does not have a deterministic implementation, but you set 'torch.use_deterministic_algorithms(True, warn_only=True)'. You can file an issue at https://github.com/pytorch/pytorch/issues to help us prioritize adding deterministic support for this operation. (Triggered internally at ../aten/src/ATen/Context.cpp:83.)\n",
            "     21/100      13.4G     0.9318     0.5419     0.1465         12        640: 100%|██████████| 14/14 [00:09<00:00,  1.44it/s]\n",
            "                 Class     Images  Instances      Box(P          R      mAP50  mAP50-95): 100%|██████████| 2/2 [00:00<00:00,  3.68it/s]"
          ]
        },
        {
          "output_type": "stream",
          "name": "stdout",
          "text": [
            "                   all         40        810      0.508      0.512      0.472      0.219\n"
          ]
        },
        {
          "output_type": "stream",
          "name": "stderr",
          "text": [
            "\n"
          ]
        },
        {
          "output_type": "stream",
          "name": "stdout",
          "text": [
            "\n",
            "      Epoch    GPU_mem  giou_loss   cls_loss    l1_loss  Instances       Size\n"
          ]
        },
        {
          "output_type": "stream",
          "name": "stderr",
          "text": [
            "  0%|          | 0/14 [00:00<?, ?it/s]grid_sampler_2d_backward_cuda does not have a deterministic implementation, but you set 'torch.use_deterministic_algorithms(True, warn_only=True)'. You can file an issue at https://github.com/pytorch/pytorch/issues to help us prioritize adding deterministic support for this operation. (Triggered internally at ../aten/src/ATen/Context.cpp:83.)\n",
            "     22/100      13.6G     0.9504     0.5511     0.1408         19        640: 100%|██████████| 14/14 [00:09<00:00,  1.42it/s]\n",
            "                 Class     Images  Instances      Box(P          R      mAP50  mAP50-95): 100%|██████████| 2/2 [00:00<00:00,  3.64it/s]"
          ]
        },
        {
          "output_type": "stream",
          "name": "stdout",
          "text": [
            "                   all         40        810      0.493       0.47      0.436      0.189\n"
          ]
        },
        {
          "output_type": "stream",
          "name": "stderr",
          "text": [
            "\n"
          ]
        },
        {
          "output_type": "stream",
          "name": "stdout",
          "text": [
            "\n",
            "      Epoch    GPU_mem  giou_loss   cls_loss    l1_loss  Instances       Size\n"
          ]
        },
        {
          "output_type": "stream",
          "name": "stderr",
          "text": [
            "  0%|          | 0/14 [00:00<?, ?it/s]grid_sampler_2d_backward_cuda does not have a deterministic implementation, but you set 'torch.use_deterministic_algorithms(True, warn_only=True)'. You can file an issue at https://github.com/pytorch/pytorch/issues to help us prioritize adding deterministic support for this operation. (Triggered internally at ../aten/src/ATen/Context.cpp:83.)\n",
            "     23/100      14.6G     0.9053     0.5466      0.154          3        640: 100%|██████████| 14/14 [00:09<00:00,  1.44it/s]\n",
            "                 Class     Images  Instances      Box(P          R      mAP50  mAP50-95): 100%|██████████| 2/2 [00:00<00:00,  3.59it/s]"
          ]
        },
        {
          "output_type": "stream",
          "name": "stdout",
          "text": [
            "                   all         40        810      0.548      0.456       0.46      0.209\n"
          ]
        },
        {
          "output_type": "stream",
          "name": "stderr",
          "text": [
            "\n"
          ]
        },
        {
          "output_type": "stream",
          "name": "stdout",
          "text": [
            "\n",
            "      Epoch    GPU_mem  giou_loss   cls_loss    l1_loss  Instances       Size\n"
          ]
        },
        {
          "output_type": "stream",
          "name": "stderr",
          "text": [
            "  0%|          | 0/14 [00:00<?, ?it/s]grid_sampler_2d_backward_cuda does not have a deterministic implementation, but you set 'torch.use_deterministic_algorithms(True, warn_only=True)'. You can file an issue at https://github.com/pytorch/pytorch/issues to help us prioritize adding deterministic support for this operation. (Triggered internally at ../aten/src/ATen/Context.cpp:83.)\n",
            "     24/100      13.1G     0.9085     0.5567     0.1408          7        640: 100%|██████████| 14/14 [00:09<00:00,  1.41it/s]\n",
            "                 Class     Images  Instances      Box(P          R      mAP50  mAP50-95): 100%|██████████| 2/2 [00:00<00:00,  3.65it/s]"
          ]
        },
        {
          "output_type": "stream",
          "name": "stdout",
          "text": [
            "                   all         40        810      0.484      0.563       0.49       0.23\n"
          ]
        },
        {
          "output_type": "stream",
          "name": "stderr",
          "text": [
            "\n"
          ]
        },
        {
          "output_type": "stream",
          "name": "stdout",
          "text": [
            "\n",
            "      Epoch    GPU_mem  giou_loss   cls_loss    l1_loss  Instances       Size\n"
          ]
        },
        {
          "output_type": "stream",
          "name": "stderr",
          "text": [
            "  0%|          | 0/14 [00:00<?, ?it/s]grid_sampler_2d_backward_cuda does not have a deterministic implementation, but you set 'torch.use_deterministic_algorithms(True, warn_only=True)'. You can file an issue at https://github.com/pytorch/pytorch/issues to help us prioritize adding deterministic support for this operation. (Triggered internally at ../aten/src/ATen/Context.cpp:83.)\n",
            "     25/100      13.7G     0.8807     0.5328     0.1479          9        640: 100%|██████████| 14/14 [00:09<00:00,  1.44it/s]\n",
            "                 Class     Images  Instances      Box(P          R      mAP50  mAP50-95): 100%|██████████| 2/2 [00:00<00:00,  3.64it/s]"
          ]
        },
        {
          "output_type": "stream",
          "name": "stdout",
          "text": [
            "                   all         40        810      0.551      0.496      0.481      0.209\n"
          ]
        },
        {
          "output_type": "stream",
          "name": "stderr",
          "text": [
            "\n"
          ]
        },
        {
          "output_type": "stream",
          "name": "stdout",
          "text": [
            "\n",
            "      Epoch    GPU_mem  giou_loss   cls_loss    l1_loss  Instances       Size\n"
          ]
        },
        {
          "output_type": "stream",
          "name": "stderr",
          "text": [
            "  0%|          | 0/14 [00:00<?, ?it/s]grid_sampler_2d_backward_cuda does not have a deterministic implementation, but you set 'torch.use_deterministic_algorithms(True, warn_only=True)'. You can file an issue at https://github.com/pytorch/pytorch/issues to help us prioritize adding deterministic support for this operation. (Triggered internally at ../aten/src/ATen/Context.cpp:83.)\n",
            "     26/100      13.8G     0.9458     0.5509     0.1446         28        640: 100%|██████████| 14/14 [00:09<00:00,  1.41it/s]\n",
            "                 Class     Images  Instances      Box(P          R      mAP50  mAP50-95): 100%|██████████| 2/2 [00:00<00:00,  3.67it/s]"
          ]
        },
        {
          "output_type": "stream",
          "name": "stdout",
          "text": [
            "                   all         40        810       0.55      0.511      0.486      0.209\n"
          ]
        },
        {
          "output_type": "stream",
          "name": "stderr",
          "text": [
            "\n"
          ]
        },
        {
          "output_type": "stream",
          "name": "stdout",
          "text": [
            "\n",
            "      Epoch    GPU_mem  giou_loss   cls_loss    l1_loss  Instances       Size\n"
          ]
        },
        {
          "output_type": "stream",
          "name": "stderr",
          "text": [
            "  0%|          | 0/14 [00:00<?, ?it/s]grid_sampler_2d_backward_cuda does not have a deterministic implementation, but you set 'torch.use_deterministic_algorithms(True, warn_only=True)'. You can file an issue at https://github.com/pytorch/pytorch/issues to help us prioritize adding deterministic support for this operation. (Triggered internally at ../aten/src/ATen/Context.cpp:83.)\n",
            "     27/100      14.4G      1.019     0.5336     0.1602         17        640: 100%|██████████| 14/14 [00:09<00:00,  1.42it/s]\n",
            "                 Class     Images  Instances      Box(P          R      mAP50  mAP50-95): 100%|██████████| 2/2 [00:00<00:00,  3.63it/s]"
          ]
        },
        {
          "output_type": "stream",
          "name": "stdout",
          "text": [
            "                   all         40        810      0.567      0.499       0.49       0.22\n"
          ]
        },
        {
          "output_type": "stream",
          "name": "stderr",
          "text": [
            "\n"
          ]
        },
        {
          "output_type": "stream",
          "name": "stdout",
          "text": [
            "\n",
            "      Epoch    GPU_mem  giou_loss   cls_loss    l1_loss  Instances       Size\n"
          ]
        },
        {
          "output_type": "stream",
          "name": "stderr",
          "text": [
            "  0%|          | 0/14 [00:00<?, ?it/s]grid_sampler_2d_backward_cuda does not have a deterministic implementation, but you set 'torch.use_deterministic_algorithms(True, warn_only=True)'. You can file an issue at https://github.com/pytorch/pytorch/issues to help us prioritize adding deterministic support for this operation. (Triggered internally at ../aten/src/ATen/Context.cpp:83.)\n",
            "     28/100      15.2G     0.9382     0.5236     0.1395          6        640: 100%|██████████| 14/14 [00:09<00:00,  1.42it/s]\n",
            "                 Class     Images  Instances      Box(P          R      mAP50  mAP50-95): 100%|██████████| 2/2 [00:00<00:00,  3.68it/s]"
          ]
        },
        {
          "output_type": "stream",
          "name": "stdout",
          "text": [
            "                   all         40        810      0.633      0.521      0.535      0.246\n"
          ]
        },
        {
          "output_type": "stream",
          "name": "stderr",
          "text": [
            "\n"
          ]
        },
        {
          "output_type": "stream",
          "name": "stdout",
          "text": [
            "\n",
            "      Epoch    GPU_mem  giou_loss   cls_loss    l1_loss  Instances       Size\n"
          ]
        },
        {
          "output_type": "stream",
          "name": "stderr",
          "text": [
            "  0%|          | 0/14 [00:00<?, ?it/s]grid_sampler_2d_backward_cuda does not have a deterministic implementation, but you set 'torch.use_deterministic_algorithms(True, warn_only=True)'. You can file an issue at https://github.com/pytorch/pytorch/issues to help us prioritize adding deterministic support for this operation. (Triggered internally at ../aten/src/ATen/Context.cpp:83.)\n",
            "     29/100      15.8G     0.9529     0.5472     0.1332          5        640: 100%|██████████| 14/14 [00:10<00:00,  1.39it/s]\n",
            "                 Class     Images  Instances      Box(P          R      mAP50  mAP50-95): 100%|██████████| 2/2 [00:00<00:00,  3.65it/s]"
          ]
        },
        {
          "output_type": "stream",
          "name": "stdout",
          "text": [
            "                   all         40        810      0.536      0.551      0.501      0.227\n"
          ]
        },
        {
          "output_type": "stream",
          "name": "stderr",
          "text": [
            "\n"
          ]
        },
        {
          "output_type": "stream",
          "name": "stdout",
          "text": [
            "\n",
            "      Epoch    GPU_mem  giou_loss   cls_loss    l1_loss  Instances       Size\n"
          ]
        },
        {
          "output_type": "stream",
          "name": "stderr",
          "text": [
            "  0%|          | 0/14 [00:00<?, ?it/s]grid_sampler_2d_backward_cuda does not have a deterministic implementation, but you set 'torch.use_deterministic_algorithms(True, warn_only=True)'. You can file an issue at https://github.com/pytorch/pytorch/issues to help us prioritize adding deterministic support for this operation. (Triggered internally at ../aten/src/ATen/Context.cpp:83.)\n",
            "     30/100      13.9G     0.8934     0.5304     0.1437          6        640: 100%|██████████| 14/14 [00:10<00:00,  1.40it/s]\n",
            "                 Class     Images  Instances      Box(P          R      mAP50  mAP50-95): 100%|██████████| 2/2 [00:00<00:00,  3.65it/s]"
          ]
        },
        {
          "output_type": "stream",
          "name": "stdout",
          "text": [
            "                   all         40        810      0.529      0.536      0.478      0.227\n"
          ]
        },
        {
          "output_type": "stream",
          "name": "stderr",
          "text": [
            "\n"
          ]
        },
        {
          "output_type": "stream",
          "name": "stdout",
          "text": [
            "\n",
            "      Epoch    GPU_mem  giou_loss   cls_loss    l1_loss  Instances       Size\n"
          ]
        },
        {
          "output_type": "stream",
          "name": "stderr",
          "text": [
            "  0%|          | 0/14 [00:00<?, ?it/s]grid_sampler_2d_backward_cuda does not have a deterministic implementation, but you set 'torch.use_deterministic_algorithms(True, warn_only=True)'. You can file an issue at https://github.com/pytorch/pytorch/issues to help us prioritize adding deterministic support for this operation. (Triggered internally at ../aten/src/ATen/Context.cpp:83.)\n",
            "     31/100      14.2G     0.9136     0.5336      0.139          7        640: 100%|██████████| 14/14 [00:09<00:00,  1.43it/s]\n",
            "                 Class     Images  Instances      Box(P          R      mAP50  mAP50-95): 100%|██████████| 2/2 [00:00<00:00,  3.65it/s]"
          ]
        },
        {
          "output_type": "stream",
          "name": "stdout",
          "text": [
            "                   all         40        810      0.477      0.423      0.394      0.188\n"
          ]
        },
        {
          "output_type": "stream",
          "name": "stderr",
          "text": [
            "\n"
          ]
        },
        {
          "output_type": "stream",
          "name": "stdout",
          "text": [
            "\n",
            "      Epoch    GPU_mem  giou_loss   cls_loss    l1_loss  Instances       Size\n"
          ]
        },
        {
          "output_type": "stream",
          "name": "stderr",
          "text": [
            "  0%|          | 0/14 [00:00<?, ?it/s]grid_sampler_2d_backward_cuda does not have a deterministic implementation, but you set 'torch.use_deterministic_algorithms(True, warn_only=True)'. You can file an issue at https://github.com/pytorch/pytorch/issues to help us prioritize adding deterministic support for this operation. (Triggered internally at ../aten/src/ATen/Context.cpp:83.)\n",
            "     32/100      14.3G     0.8813     0.5035     0.1278         86        640: 100%|██████████| 14/14 [00:09<00:00,  1.41it/s]\n",
            "                 Class     Images  Instances      Box(P          R      mAP50  mAP50-95): 100%|██████████| 2/2 [00:00<00:00,  3.69it/s]"
          ]
        },
        {
          "output_type": "stream",
          "name": "stdout",
          "text": [
            "                   all         40        810      0.522      0.467      0.443      0.219\n"
          ]
        },
        {
          "output_type": "stream",
          "name": "stderr",
          "text": [
            "\n"
          ]
        },
        {
          "output_type": "stream",
          "name": "stdout",
          "text": [
            "\n",
            "      Epoch    GPU_mem  giou_loss   cls_loss    l1_loss  Instances       Size\n"
          ]
        },
        {
          "output_type": "stream",
          "name": "stderr",
          "text": [
            "  0%|          | 0/14 [00:00<?, ?it/s]grid_sampler_2d_backward_cuda does not have a deterministic implementation, but you set 'torch.use_deterministic_algorithms(True, warn_only=True)'. You can file an issue at https://github.com/pytorch/pytorch/issues to help us prioritize adding deterministic support for this operation. (Triggered internally at ../aten/src/ATen/Context.cpp:83.)\n",
            "     33/100      15.7G     0.9415      0.529     0.1315         13        640: 100%|██████████| 14/14 [00:10<00:00,  1.39it/s]\n",
            "                 Class     Images  Instances      Box(P          R      mAP50  mAP50-95): 100%|██████████| 2/2 [00:00<00:00,  3.60it/s]"
          ]
        },
        {
          "output_type": "stream",
          "name": "stdout",
          "text": [
            "                   all         40        810      0.558      0.454      0.461      0.214\n"
          ]
        },
        {
          "output_type": "stream",
          "name": "stderr",
          "text": [
            "\n"
          ]
        },
        {
          "output_type": "stream",
          "name": "stdout",
          "text": [
            "\n",
            "      Epoch    GPU_mem  giou_loss   cls_loss    l1_loss  Instances       Size\n"
          ]
        },
        {
          "output_type": "stream",
          "name": "stderr",
          "text": [
            "  0%|          | 0/14 [00:00<?, ?it/s]grid_sampler_2d_backward_cuda does not have a deterministic implementation, but you set 'torch.use_deterministic_algorithms(True, warn_only=True)'. You can file an issue at https://github.com/pytorch/pytorch/issues to help us prioritize adding deterministic support for this operation. (Triggered internally at ../aten/src/ATen/Context.cpp:83.)\n",
            "     34/100      13.6G     0.8422     0.5176     0.1149         11        640: 100%|██████████| 14/14 [00:09<00:00,  1.41it/s]\n",
            "                 Class     Images  Instances      Box(P          R      mAP50  mAP50-95): 100%|██████████| 2/2 [00:00<00:00,  3.58it/s]"
          ]
        },
        {
          "output_type": "stream",
          "name": "stdout",
          "text": [
            "                   all         40        810      0.613      0.538       0.55      0.265\n"
          ]
        },
        {
          "output_type": "stream",
          "name": "stderr",
          "text": [
            "\n"
          ]
        },
        {
          "output_type": "stream",
          "name": "stdout",
          "text": [
            "\n",
            "      Epoch    GPU_mem  giou_loss   cls_loss    l1_loss  Instances       Size\n"
          ]
        },
        {
          "output_type": "stream",
          "name": "stderr",
          "text": [
            "  0%|          | 0/14 [00:00<?, ?it/s]grid_sampler_2d_backward_cuda does not have a deterministic implementation, but you set 'torch.use_deterministic_algorithms(True, warn_only=True)'. You can file an issue at https://github.com/pytorch/pytorch/issues to help us prioritize adding deterministic support for this operation. (Triggered internally at ../aten/src/ATen/Context.cpp:83.)\n",
            "     35/100      13.5G     0.8507     0.4963     0.1138         18        640: 100%|██████████| 14/14 [00:09<00:00,  1.42it/s]\n",
            "                 Class     Images  Instances      Box(P          R      mAP50  mAP50-95): 100%|██████████| 2/2 [00:00<00:00,  3.65it/s]"
          ]
        },
        {
          "output_type": "stream",
          "name": "stdout",
          "text": [
            "                   all         40        810      0.523      0.465      0.439      0.198\n"
          ]
        },
        {
          "output_type": "stream",
          "name": "stderr",
          "text": [
            "\n"
          ]
        },
        {
          "output_type": "stream",
          "name": "stdout",
          "text": [
            "\n",
            "      Epoch    GPU_mem  giou_loss   cls_loss    l1_loss  Instances       Size\n"
          ]
        },
        {
          "output_type": "stream",
          "name": "stderr",
          "text": [
            "  0%|          | 0/14 [00:00<?, ?it/s]grid_sampler_2d_backward_cuda does not have a deterministic implementation, but you set 'torch.use_deterministic_algorithms(True, warn_only=True)'. You can file an issue at https://github.com/pytorch/pytorch/issues to help us prioritize adding deterministic support for this operation. (Triggered internally at ../aten/src/ATen/Context.cpp:83.)\n",
            "     36/100      13.8G     0.8595     0.4989     0.1248         12        640: 100%|██████████| 14/14 [00:09<00:00,  1.40it/s]\n",
            "                 Class     Images  Instances      Box(P          R      mAP50  mAP50-95): 100%|██████████| 2/2 [00:00<00:00,  3.62it/s]"
          ]
        },
        {
          "output_type": "stream",
          "name": "stdout",
          "text": [
            "                   all         40        810      0.604        0.6      0.568      0.258\n"
          ]
        },
        {
          "output_type": "stream",
          "name": "stderr",
          "text": [
            "\n"
          ]
        },
        {
          "output_type": "stream",
          "name": "stdout",
          "text": [
            "\n",
            "      Epoch    GPU_mem  giou_loss   cls_loss    l1_loss  Instances       Size\n"
          ]
        },
        {
          "output_type": "stream",
          "name": "stderr",
          "text": [
            "  0%|          | 0/14 [00:00<?, ?it/s]grid_sampler_2d_backward_cuda does not have a deterministic implementation, but you set 'torch.use_deterministic_algorithms(True, warn_only=True)'. You can file an issue at https://github.com/pytorch/pytorch/issues to help us prioritize adding deterministic support for this operation. (Triggered internally at ../aten/src/ATen/Context.cpp:83.)\n",
            "     37/100      14.1G     0.8419     0.5056     0.1098        151        640: 100%|██████████| 14/14 [00:09<00:00,  1.42it/s]\n",
            "                 Class     Images  Instances      Box(P          R      mAP50  mAP50-95): 100%|██████████| 2/2 [00:00<00:00,  3.57it/s]"
          ]
        },
        {
          "output_type": "stream",
          "name": "stdout",
          "text": [
            "                   all         40        810      0.617      0.574      0.562      0.265\n"
          ]
        },
        {
          "output_type": "stream",
          "name": "stderr",
          "text": [
            "\n"
          ]
        },
        {
          "output_type": "stream",
          "name": "stdout",
          "text": [
            "\n",
            "      Epoch    GPU_mem  giou_loss   cls_loss    l1_loss  Instances       Size\n"
          ]
        },
        {
          "output_type": "stream",
          "name": "stderr",
          "text": [
            "  0%|          | 0/14 [00:00<?, ?it/s]grid_sampler_2d_backward_cuda does not have a deterministic implementation, but you set 'torch.use_deterministic_algorithms(True, warn_only=True)'. You can file an issue at https://github.com/pytorch/pytorch/issues to help us prioritize adding deterministic support for this operation. (Triggered internally at ../aten/src/ATen/Context.cpp:83.)\n",
            "     38/100        15G     0.7778     0.5819     0.1078          4        640: 100%|██████████| 14/14 [00:10<00:00,  1.40it/s]\n",
            "                 Class     Images  Instances      Box(P          R      mAP50  mAP50-95): 100%|██████████| 2/2 [00:00<00:00,  3.61it/s]"
          ]
        },
        {
          "output_type": "stream",
          "name": "stdout",
          "text": [
            "                   all         40        810        nan      0.769      0.553      0.252\n"
          ]
        },
        {
          "output_type": "stream",
          "name": "stderr",
          "text": [
            "\n"
          ]
        },
        {
          "output_type": "stream",
          "name": "stdout",
          "text": [
            "\n",
            "      Epoch    GPU_mem  giou_loss   cls_loss    l1_loss  Instances       Size\n"
          ]
        },
        {
          "output_type": "stream",
          "name": "stderr",
          "text": [
            "  0%|          | 0/14 [00:00<?, ?it/s]grid_sampler_2d_backward_cuda does not have a deterministic implementation, but you set 'torch.use_deterministic_algorithms(True, warn_only=True)'. You can file an issue at https://github.com/pytorch/pytorch/issues to help us prioritize adding deterministic support for this operation. (Triggered internally at ../aten/src/ATen/Context.cpp:83.)\n",
            "     39/100      13.2G     0.9063     0.4931      0.145         23        640: 100%|██████████| 14/14 [00:09<00:00,  1.43it/s]\n",
            "                 Class     Images  Instances      Box(P          R      mAP50  mAP50-95): 100%|██████████| 2/2 [00:00<00:00,  3.67it/s]"
          ]
        },
        {
          "output_type": "stream",
          "name": "stdout",
          "text": [
            "                   all         40        810      0.578      0.553      0.527      0.247\n"
          ]
        },
        {
          "output_type": "stream",
          "name": "stderr",
          "text": [
            "\n"
          ]
        },
        {
          "output_type": "stream",
          "name": "stdout",
          "text": [
            "\n",
            "      Epoch    GPU_mem  giou_loss   cls_loss    l1_loss  Instances       Size\n"
          ]
        },
        {
          "output_type": "stream",
          "name": "stderr",
          "text": [
            "  0%|          | 0/14 [00:00<?, ?it/s]grid_sampler_2d_backward_cuda does not have a deterministic implementation, but you set 'torch.use_deterministic_algorithms(True, warn_only=True)'. You can file an issue at https://github.com/pytorch/pytorch/issues to help us prioritize adding deterministic support for this operation. (Triggered internally at ../aten/src/ATen/Context.cpp:83.)\n",
            "     40/100      12.6G     0.7902     0.5208     0.1203          5        640: 100%|██████████| 14/14 [00:09<00:00,  1.43it/s]\n",
            "                 Class     Images  Instances      Box(P          R      mAP50  mAP50-95): 100%|██████████| 2/2 [00:00<00:00,  3.67it/s]"
          ]
        },
        {
          "output_type": "stream",
          "name": "stdout",
          "text": [
            "                   all         40        810      0.544      0.459      0.454      0.213\n"
          ]
        },
        {
          "output_type": "stream",
          "name": "stderr",
          "text": [
            "\n"
          ]
        },
        {
          "output_type": "stream",
          "name": "stdout",
          "text": [
            "\n",
            "      Epoch    GPU_mem  giou_loss   cls_loss    l1_loss  Instances       Size\n"
          ]
        },
        {
          "output_type": "stream",
          "name": "stderr",
          "text": [
            "  0%|          | 0/14 [00:00<?, ?it/s]grid_sampler_2d_backward_cuda does not have a deterministic implementation, but you set 'torch.use_deterministic_algorithms(True, warn_only=True)'. You can file an issue at https://github.com/pytorch/pytorch/issues to help us prioritize adding deterministic support for this operation. (Triggered internally at ../aten/src/ATen/Context.cpp:83.)\n",
            "     41/100      13.1G     0.8256     0.5076     0.1117         33        640: 100%|██████████| 14/14 [00:09<00:00,  1.42it/s]\n",
            "                 Class     Images  Instances      Box(P          R      mAP50  mAP50-95): 100%|██████████| 2/2 [00:00<00:00,  3.68it/s]"
          ]
        },
        {
          "output_type": "stream",
          "name": "stdout",
          "text": [
            "                   all         40        810      0.556       0.49      0.461      0.197\n"
          ]
        },
        {
          "output_type": "stream",
          "name": "stderr",
          "text": [
            "\n"
          ]
        },
        {
          "output_type": "stream",
          "name": "stdout",
          "text": [
            "\n",
            "      Epoch    GPU_mem  giou_loss   cls_loss    l1_loss  Instances       Size\n"
          ]
        },
        {
          "output_type": "stream",
          "name": "stderr",
          "text": [
            "  0%|          | 0/14 [00:00<?, ?it/s]grid_sampler_2d_backward_cuda does not have a deterministic implementation, but you set 'torch.use_deterministic_algorithms(True, warn_only=True)'. You can file an issue at https://github.com/pytorch/pytorch/issues to help us prioritize adding deterministic support for this operation. (Triggered internally at ../aten/src/ATen/Context.cpp:83.)\n",
            "     42/100      14.4G     0.7866     0.5026     0.1208         11        640: 100%|██████████| 14/14 [00:09<00:00,  1.41it/s]\n",
            "                 Class     Images  Instances      Box(P          R      mAP50  mAP50-95): 100%|██████████| 2/2 [00:00<00:00,  3.59it/s]"
          ]
        },
        {
          "output_type": "stream",
          "name": "stdout",
          "text": [
            "                   all         40        810      0.607      0.481      0.503      0.241\n"
          ]
        },
        {
          "output_type": "stream",
          "name": "stderr",
          "text": [
            "\n"
          ]
        },
        {
          "output_type": "stream",
          "name": "stdout",
          "text": [
            "\n",
            "      Epoch    GPU_mem  giou_loss   cls_loss    l1_loss  Instances       Size\n"
          ]
        },
        {
          "output_type": "stream",
          "name": "stderr",
          "text": [
            "  0%|          | 0/14 [00:00<?, ?it/s]grid_sampler_2d_backward_cuda does not have a deterministic implementation, but you set 'torch.use_deterministic_algorithms(True, warn_only=True)'. You can file an issue at https://github.com/pytorch/pytorch/issues to help us prioritize adding deterministic support for this operation. (Triggered internally at ../aten/src/ATen/Context.cpp:83.)\n",
            "     43/100      13.6G     0.7645     0.5257     0.1075          5        640: 100%|██████████| 14/14 [00:09<00:00,  1.43it/s]\n",
            "                 Class     Images  Instances      Box(P          R      mAP50  mAP50-95): 100%|██████████| 2/2 [00:00<00:00,  3.62it/s]"
          ]
        },
        {
          "output_type": "stream",
          "name": "stdout",
          "text": [
            "                   all         40        810      0.601       0.49      0.495      0.233\n"
          ]
        },
        {
          "output_type": "stream",
          "name": "stderr",
          "text": [
            "\n"
          ]
        },
        {
          "output_type": "stream",
          "name": "stdout",
          "text": [
            "\n",
            "      Epoch    GPU_mem  giou_loss   cls_loss    l1_loss  Instances       Size\n"
          ]
        },
        {
          "output_type": "stream",
          "name": "stderr",
          "text": [
            "  0%|          | 0/14 [00:00<?, ?it/s]grid_sampler_2d_backward_cuda does not have a deterministic implementation, but you set 'torch.use_deterministic_algorithms(True, warn_only=True)'. You can file an issue at https://github.com/pytorch/pytorch/issues to help us prioritize adding deterministic support for this operation. (Triggered internally at ../aten/src/ATen/Context.cpp:83.)\n",
            "     44/100      14.7G     0.7479     0.5076     0.1071          1        640: 100%|██████████| 14/14 [00:09<00:00,  1.41it/s]\n",
            "                 Class     Images  Instances      Box(P          R      mAP50  mAP50-95): 100%|██████████| 2/2 [00:00<00:00,  3.67it/s]"
          ]
        },
        {
          "output_type": "stream",
          "name": "stdout",
          "text": [
            "                   all         40        810       0.56      0.422      0.435      0.207\n"
          ]
        },
        {
          "output_type": "stream",
          "name": "stderr",
          "text": [
            "\n"
          ]
        },
        {
          "output_type": "stream",
          "name": "stdout",
          "text": [
            "\n",
            "      Epoch    GPU_mem  giou_loss   cls_loss    l1_loss  Instances       Size\n"
          ]
        },
        {
          "output_type": "stream",
          "name": "stderr",
          "text": [
            "  0%|          | 0/14 [00:00<?, ?it/s]grid_sampler_2d_backward_cuda does not have a deterministic implementation, but you set 'torch.use_deterministic_algorithms(True, warn_only=True)'. You can file an issue at https://github.com/pytorch/pytorch/issues to help us prioritize adding deterministic support for this operation. (Triggered internally at ../aten/src/ATen/Context.cpp:83.)\n",
            "     45/100      14.4G     0.8534     0.5105     0.1482         11        640: 100%|██████████| 14/14 [00:09<00:00,  1.43it/s]\n",
            "                 Class     Images  Instances      Box(P          R      mAP50  mAP50-95): 100%|██████████| 2/2 [00:00<00:00,  3.66it/s]"
          ]
        },
        {
          "output_type": "stream",
          "name": "stdout",
          "text": [
            "                   all         40        810      0.597       0.52      0.508      0.239\n"
          ]
        },
        {
          "output_type": "stream",
          "name": "stderr",
          "text": [
            "\n"
          ]
        },
        {
          "output_type": "stream",
          "name": "stdout",
          "text": [
            "\n",
            "      Epoch    GPU_mem  giou_loss   cls_loss    l1_loss  Instances       Size\n"
          ]
        },
        {
          "output_type": "stream",
          "name": "stderr",
          "text": [
            "  0%|          | 0/14 [00:00<?, ?it/s]grid_sampler_2d_backward_cuda does not have a deterministic implementation, but you set 'torch.use_deterministic_algorithms(True, warn_only=True)'. You can file an issue at https://github.com/pytorch/pytorch/issues to help us prioritize adding deterministic support for this operation. (Triggered internally at ../aten/src/ATen/Context.cpp:83.)\n",
            "     46/100      13.1G     0.7951     0.5167     0.1244          9        640: 100%|██████████| 14/14 [00:09<00:00,  1.44it/s]\n",
            "                 Class     Images  Instances      Box(P          R      mAP50  mAP50-95): 100%|██████████| 2/2 [00:00<00:00,  3.61it/s]"
          ]
        },
        {
          "output_type": "stream",
          "name": "stdout",
          "text": [
            "                   all         40        810      0.598      0.536      0.521      0.249\n"
          ]
        },
        {
          "output_type": "stream",
          "name": "stderr",
          "text": [
            "\n"
          ]
        },
        {
          "output_type": "stream",
          "name": "stdout",
          "text": [
            "\n",
            "      Epoch    GPU_mem  giou_loss   cls_loss    l1_loss  Instances       Size\n"
          ]
        },
        {
          "output_type": "stream",
          "name": "stderr",
          "text": [
            "  0%|          | 0/14 [00:00<?, ?it/s]grid_sampler_2d_backward_cuda does not have a deterministic implementation, but you set 'torch.use_deterministic_algorithms(True, warn_only=True)'. You can file an issue at https://github.com/pytorch/pytorch/issues to help us prioritize adding deterministic support for this operation. (Triggered internally at ../aten/src/ATen/Context.cpp:83.)\n",
            "     47/100      13.9G     0.8285     0.5067     0.1292          5        640: 100%|██████████| 14/14 [00:09<00:00,  1.42it/s]\n",
            "                 Class     Images  Instances      Box(P          R      mAP50  mAP50-95): 100%|██████████| 2/2 [00:00<00:00,  3.68it/s]"
          ]
        },
        {
          "output_type": "stream",
          "name": "stdout",
          "text": [
            "                   all         40        810       0.62      0.549      0.549      0.264\n"
          ]
        },
        {
          "output_type": "stream",
          "name": "stderr",
          "text": [
            "\n"
          ]
        },
        {
          "output_type": "stream",
          "name": "stdout",
          "text": [
            "\n",
            "      Epoch    GPU_mem  giou_loss   cls_loss    l1_loss  Instances       Size\n"
          ]
        },
        {
          "output_type": "stream",
          "name": "stderr",
          "text": [
            "  0%|          | 0/14 [00:00<?, ?it/s]grid_sampler_2d_backward_cuda does not have a deterministic implementation, but you set 'torch.use_deterministic_algorithms(True, warn_only=True)'. You can file an issue at https://github.com/pytorch/pytorch/issues to help us prioritize adding deterministic support for this operation. (Triggered internally at ../aten/src/ATen/Context.cpp:83.)\n",
            "     48/100      14.1G     0.8006     0.5107     0.1156         43        640: 100%|██████████| 14/14 [00:09<00:00,  1.41it/s]\n",
            "                 Class     Images  Instances      Box(P          R      mAP50  mAP50-95): 100%|██████████| 2/2 [00:00<00:00,  3.65it/s]"
          ]
        },
        {
          "output_type": "stream",
          "name": "stdout",
          "text": [
            "                   all         40        810       0.62      0.568      0.562      0.265\n"
          ]
        },
        {
          "output_type": "stream",
          "name": "stderr",
          "text": [
            "\n"
          ]
        },
        {
          "output_type": "stream",
          "name": "stdout",
          "text": [
            "\n",
            "      Epoch    GPU_mem  giou_loss   cls_loss    l1_loss  Instances       Size\n"
          ]
        },
        {
          "output_type": "stream",
          "name": "stderr",
          "text": [
            "  0%|          | 0/14 [00:00<?, ?it/s]grid_sampler_2d_backward_cuda does not have a deterministic implementation, but you set 'torch.use_deterministic_algorithms(True, warn_only=True)'. You can file an issue at https://github.com/pytorch/pytorch/issues to help us prioritize adding deterministic support for this operation. (Triggered internally at ../aten/src/ATen/Context.cpp:83.)\n",
            "     49/100      14.2G     0.8064      0.509     0.1099         44        640: 100%|██████████| 14/14 [00:09<00:00,  1.43it/s]\n",
            "                 Class     Images  Instances      Box(P          R      mAP50  mAP50-95): 100%|██████████| 2/2 [00:00<00:00,  3.65it/s]"
          ]
        },
        {
          "output_type": "stream",
          "name": "stdout",
          "text": [
            "                   all         40        810      0.611      0.525       0.53      0.251\n"
          ]
        },
        {
          "output_type": "stream",
          "name": "stderr",
          "text": [
            "\n"
          ]
        },
        {
          "output_type": "stream",
          "name": "stdout",
          "text": [
            "\n",
            "      Epoch    GPU_mem  giou_loss   cls_loss    l1_loss  Instances       Size\n"
          ]
        },
        {
          "output_type": "stream",
          "name": "stderr",
          "text": [
            "  0%|          | 0/14 [00:00<?, ?it/s]grid_sampler_2d_backward_cuda does not have a deterministic implementation, but you set 'torch.use_deterministic_algorithms(True, warn_only=True)'. You can file an issue at https://github.com/pytorch/pytorch/issues to help us prioritize adding deterministic support for this operation. (Triggered internally at ../aten/src/ATen/Context.cpp:83.)\n",
            "     50/100      13.4G      0.801     0.5007     0.1067         28        640: 100%|██████████| 14/14 [00:09<00:00,  1.43it/s]\n",
            "                 Class     Images  Instances      Box(P          R      mAP50  mAP50-95): 100%|██████████| 2/2 [00:00<00:00,  3.66it/s]"
          ]
        },
        {
          "output_type": "stream",
          "name": "stdout",
          "text": [
            "                   all         40        810      0.552      0.531      0.518      0.232\n"
          ]
        },
        {
          "output_type": "stream",
          "name": "stderr",
          "text": [
            "\n"
          ]
        },
        {
          "output_type": "stream",
          "name": "stdout",
          "text": [
            "\n",
            "      Epoch    GPU_mem  giou_loss   cls_loss    l1_loss  Instances       Size\n"
          ]
        },
        {
          "output_type": "stream",
          "name": "stderr",
          "text": [
            "  0%|          | 0/14 [00:00<?, ?it/s]grid_sampler_2d_backward_cuda does not have a deterministic implementation, but you set 'torch.use_deterministic_algorithms(True, warn_only=True)'. You can file an issue at https://github.com/pytorch/pytorch/issues to help us prioritize adding deterministic support for this operation. (Triggered internally at ../aten/src/ATen/Context.cpp:83.)\n",
            "     51/100      15.1G     0.7721     0.5115       0.11          7        640: 100%|██████████| 14/14 [00:10<00:00,  1.40it/s]\n",
            "                 Class     Images  Instances      Box(P          R      mAP50  mAP50-95): 100%|██████████| 2/2 [00:00<00:00,  3.66it/s]"
          ]
        },
        {
          "output_type": "stream",
          "name": "stdout",
          "text": [
            "                   all         40        810      0.548      0.501      0.496      0.241\n"
          ]
        },
        {
          "output_type": "stream",
          "name": "stderr",
          "text": [
            "\n"
          ]
        },
        {
          "output_type": "stream",
          "name": "stdout",
          "text": [
            "\n",
            "      Epoch    GPU_mem  giou_loss   cls_loss    l1_loss  Instances       Size\n"
          ]
        },
        {
          "output_type": "stream",
          "name": "stderr",
          "text": [
            "  0%|          | 0/14 [00:00<?, ?it/s]grid_sampler_2d_backward_cuda does not have a deterministic implementation, but you set 'torch.use_deterministic_algorithms(True, warn_only=True)'. You can file an issue at https://github.com/pytorch/pytorch/issues to help us prioritize adding deterministic support for this operation. (Triggered internally at ../aten/src/ATen/Context.cpp:83.)\n",
            "     52/100      13.3G     0.7441     0.5207    0.09245         14        640: 100%|██████████| 14/14 [00:09<00:00,  1.42it/s]\n",
            "                 Class     Images  Instances      Box(P          R      mAP50  mAP50-95): 100%|██████████| 2/2 [00:00<00:00,  3.63it/s]"
          ]
        },
        {
          "output_type": "stream",
          "name": "stdout",
          "text": [
            "                   all         40        810      0.587      0.457      0.481      0.223\n"
          ]
        },
        {
          "output_type": "stream",
          "name": "stderr",
          "text": [
            "\n"
          ]
        },
        {
          "output_type": "stream",
          "name": "stdout",
          "text": [
            "\n",
            "      Epoch    GPU_mem  giou_loss   cls_loss    l1_loss  Instances       Size\n"
          ]
        },
        {
          "output_type": "stream",
          "name": "stderr",
          "text": [
            "  0%|          | 0/14 [00:00<?, ?it/s]grid_sampler_2d_backward_cuda does not have a deterministic implementation, but you set 'torch.use_deterministic_algorithms(True, warn_only=True)'. You can file an issue at https://github.com/pytorch/pytorch/issues to help us prioritize adding deterministic support for this operation. (Triggered internally at ../aten/src/ATen/Context.cpp:83.)\n",
            "     53/100      14.2G     0.8498     0.4959     0.1096         52        640: 100%|██████████| 14/14 [00:09<00:00,  1.42it/s]\n",
            "                 Class     Images  Instances      Box(P          R      mAP50  mAP50-95): 100%|██████████| 2/2 [00:00<00:00,  3.62it/s]"
          ]
        },
        {
          "output_type": "stream",
          "name": "stdout",
          "text": [
            "                   all         40        810      0.524      0.491      0.483      0.224\n"
          ]
        },
        {
          "output_type": "stream",
          "name": "stderr",
          "text": [
            "\n"
          ]
        },
        {
          "output_type": "stream",
          "name": "stdout",
          "text": [
            "\n",
            "      Epoch    GPU_mem  giou_loss   cls_loss    l1_loss  Instances       Size\n"
          ]
        },
        {
          "output_type": "stream",
          "name": "stderr",
          "text": [
            "  0%|          | 0/14 [00:00<?, ?it/s]grid_sampler_2d_backward_cuda does not have a deterministic implementation, but you set 'torch.use_deterministic_algorithms(True, warn_only=True)'. You can file an issue at https://github.com/pytorch/pytorch/issues to help us prioritize adding deterministic support for this operation. (Triggered internally at ../aten/src/ATen/Context.cpp:83.)\n",
            "     54/100      15.2G     0.7695     0.5153     0.1007         48        640: 100%|██████████| 14/14 [00:10<00:00,  1.39it/s]\n",
            "                 Class     Images  Instances      Box(P          R      mAP50  mAP50-95): 100%|██████████| 2/2 [00:00<00:00,  3.65it/s]"
          ]
        },
        {
          "output_type": "stream",
          "name": "stdout",
          "text": [
            "                   all         40        810      0.589      0.498      0.507      0.211\n"
          ]
        },
        {
          "output_type": "stream",
          "name": "stderr",
          "text": [
            "\n"
          ]
        },
        {
          "output_type": "stream",
          "name": "stdout",
          "text": [
            "\n",
            "      Epoch    GPU_mem  giou_loss   cls_loss    l1_loss  Instances       Size\n"
          ]
        },
        {
          "output_type": "stream",
          "name": "stderr",
          "text": [
            "  0%|          | 0/14 [00:00<?, ?it/s]grid_sampler_2d_backward_cuda does not have a deterministic implementation, but you set 'torch.use_deterministic_algorithms(True, warn_only=True)'. You can file an issue at https://github.com/pytorch/pytorch/issues to help us prioritize adding deterministic support for this operation. (Triggered internally at ../aten/src/ATen/Context.cpp:83.)\n",
            "     55/100      13.4G     0.6942     0.5004    0.08883         29        640: 100%|██████████| 14/14 [00:09<00:00,  1.41it/s]\n",
            "                 Class     Images  Instances      Box(P          R      mAP50  mAP50-95): 100%|██████████| 2/2 [00:00<00:00,  3.67it/s]"
          ]
        },
        {
          "output_type": "stream",
          "name": "stdout",
          "text": [
            "                   all         40        810      0.635       0.56      0.575      0.272\n"
          ]
        },
        {
          "output_type": "stream",
          "name": "stderr",
          "text": [
            "\n"
          ]
        },
        {
          "output_type": "stream",
          "name": "stdout",
          "text": [
            "\n",
            "      Epoch    GPU_mem  giou_loss   cls_loss    l1_loss  Instances       Size\n"
          ]
        },
        {
          "output_type": "stream",
          "name": "stderr",
          "text": [
            "  0%|          | 0/14 [00:00<?, ?it/s]grid_sampler_2d_backward_cuda does not have a deterministic implementation, but you set 'torch.use_deterministic_algorithms(True, warn_only=True)'. You can file an issue at https://github.com/pytorch/pytorch/issues to help us prioritize adding deterministic support for this operation. (Triggered internally at ../aten/src/ATen/Context.cpp:83.)\n",
            "     56/100      13.7G     0.7182      0.489    0.09226          8        640: 100%|██████████| 14/14 [00:09<00:00,  1.41it/s]\n",
            "                 Class     Images  Instances      Box(P          R      mAP50  mAP50-95): 100%|██████████| 2/2 [00:00<00:00,  3.66it/s]"
          ]
        },
        {
          "output_type": "stream",
          "name": "stdout",
          "text": [
            "                   all         40        810      0.645      0.546      0.567      0.256\n"
          ]
        },
        {
          "output_type": "stream",
          "name": "stderr",
          "text": [
            "\n"
          ]
        },
        {
          "output_type": "stream",
          "name": "stdout",
          "text": [
            "\n",
            "      Epoch    GPU_mem  giou_loss   cls_loss    l1_loss  Instances       Size\n"
          ]
        },
        {
          "output_type": "stream",
          "name": "stderr",
          "text": [
            "  0%|          | 0/14 [00:00<?, ?it/s]grid_sampler_2d_backward_cuda does not have a deterministic implementation, but you set 'torch.use_deterministic_algorithms(True, warn_only=True)'. You can file an issue at https://github.com/pytorch/pytorch/issues to help us prioritize adding deterministic support for this operation. (Triggered internally at ../aten/src/ATen/Context.cpp:83.)\n",
            "     57/100      13.4G       0.76     0.5106    0.09234          4        640: 100%|██████████| 14/14 [00:09<00:00,  1.44it/s]\n",
            "                 Class     Images  Instances      Box(P          R      mAP50  mAP50-95): 100%|██████████| 2/2 [00:00<00:00,  3.65it/s]"
          ]
        },
        {
          "output_type": "stream",
          "name": "stdout",
          "text": [
            "                   all         40        810       0.65      0.589        0.6      0.282\n"
          ]
        },
        {
          "output_type": "stream",
          "name": "stderr",
          "text": [
            "\n"
          ]
        },
        {
          "output_type": "stream",
          "name": "stdout",
          "text": [
            "\n",
            "      Epoch    GPU_mem  giou_loss   cls_loss    l1_loss  Instances       Size\n"
          ]
        },
        {
          "output_type": "stream",
          "name": "stderr",
          "text": [
            "  0%|          | 0/14 [00:00<?, ?it/s]grid_sampler_2d_backward_cuda does not have a deterministic implementation, but you set 'torch.use_deterministic_algorithms(True, warn_only=True)'. You can file an issue at https://github.com/pytorch/pytorch/issues to help us prioritize adding deterministic support for this operation. (Triggered internally at ../aten/src/ATen/Context.cpp:83.)\n",
            "     58/100      13.5G     0.7491        0.5    0.09222         16        640: 100%|██████████| 14/14 [00:09<00:00,  1.41it/s]\n",
            "                 Class     Images  Instances      Box(P          R      mAP50  mAP50-95): 100%|██████████| 2/2 [00:00<00:00,  3.64it/s]"
          ]
        },
        {
          "output_type": "stream",
          "name": "stdout",
          "text": [
            "                   all         40        810      0.622      0.556      0.561      0.272\n"
          ]
        },
        {
          "output_type": "stream",
          "name": "stderr",
          "text": [
            "\n"
          ]
        },
        {
          "output_type": "stream",
          "name": "stdout",
          "text": [
            "\n",
            "      Epoch    GPU_mem  giou_loss   cls_loss    l1_loss  Instances       Size\n"
          ]
        },
        {
          "output_type": "stream",
          "name": "stderr",
          "text": [
            "  0%|          | 0/14 [00:00<?, ?it/s]grid_sampler_2d_backward_cuda does not have a deterministic implementation, but you set 'torch.use_deterministic_algorithms(True, warn_only=True)'. You can file an issue at https://github.com/pytorch/pytorch/issues to help us prioritize adding deterministic support for this operation. (Triggered internally at ../aten/src/ATen/Context.cpp:83.)\n",
            "     59/100      14.2G      0.729     0.5393    0.09145         14        640: 100%|██████████| 14/14 [00:09<00:00,  1.41it/s]\n",
            "                 Class     Images  Instances      Box(P          R      mAP50  mAP50-95): 100%|██████████| 2/2 [00:00<00:00,  3.67it/s]"
          ]
        },
        {
          "output_type": "stream",
          "name": "stdout",
          "text": [
            "                   all         40        810      0.559      0.541      0.532       0.26\n"
          ]
        },
        {
          "output_type": "stream",
          "name": "stderr",
          "text": [
            "\n"
          ]
        },
        {
          "output_type": "stream",
          "name": "stdout",
          "text": [
            "\n",
            "      Epoch    GPU_mem  giou_loss   cls_loss    l1_loss  Instances       Size\n"
          ]
        },
        {
          "output_type": "stream",
          "name": "stderr",
          "text": [
            "  0%|          | 0/14 [00:00<?, ?it/s]grid_sampler_2d_backward_cuda does not have a deterministic implementation, but you set 'torch.use_deterministic_algorithms(True, warn_only=True)'. You can file an issue at https://github.com/pytorch/pytorch/issues to help us prioritize adding deterministic support for this operation. (Triggered internally at ../aten/src/ATen/Context.cpp:83.)\n",
            "     60/100      16.6G     0.7668     0.5078     0.1076          4        640: 100%|██████████| 14/14 [00:10<00:00,  1.40it/s]\n",
            "                 Class     Images  Instances      Box(P          R      mAP50  mAP50-95): 100%|██████████| 2/2 [00:00<00:00,  3.63it/s]"
          ]
        },
        {
          "output_type": "stream",
          "name": "stdout",
          "text": [
            "                   all         40        810      0.624      0.586      0.583      0.281\n"
          ]
        },
        {
          "output_type": "stream",
          "name": "stderr",
          "text": [
            "\n"
          ]
        },
        {
          "output_type": "stream",
          "name": "stdout",
          "text": [
            "\n",
            "      Epoch    GPU_mem  giou_loss   cls_loss    l1_loss  Instances       Size\n"
          ]
        },
        {
          "output_type": "stream",
          "name": "stderr",
          "text": [
            "  0%|          | 0/14 [00:00<?, ?it/s]grid_sampler_2d_backward_cuda does not have a deterministic implementation, but you set 'torch.use_deterministic_algorithms(True, warn_only=True)'. You can file an issue at https://github.com/pytorch/pytorch/issues to help us prioritize adding deterministic support for this operation. (Triggered internally at ../aten/src/ATen/Context.cpp:83.)\n",
            "     61/100      13.2G     0.7256     0.5025    0.09468         47        640: 100%|██████████| 14/14 [00:09<00:00,  1.42it/s]\n",
            "                 Class     Images  Instances      Box(P          R      mAP50  mAP50-95): 100%|██████████| 2/2 [00:00<00:00,  3.67it/s]"
          ]
        },
        {
          "output_type": "stream",
          "name": "stdout",
          "text": [
            "                   all         40        810      0.565      0.486      0.491      0.222\n"
          ]
        },
        {
          "output_type": "stream",
          "name": "stderr",
          "text": [
            "\n"
          ]
        },
        {
          "output_type": "stream",
          "name": "stdout",
          "text": [
            "\n",
            "      Epoch    GPU_mem  giou_loss   cls_loss    l1_loss  Instances       Size\n"
          ]
        },
        {
          "output_type": "stream",
          "name": "stderr",
          "text": [
            "  0%|          | 0/14 [00:00<?, ?it/s]grid_sampler_2d_backward_cuda does not have a deterministic implementation, but you set 'torch.use_deterministic_algorithms(True, warn_only=True)'. You can file an issue at https://github.com/pytorch/pytorch/issues to help us prioritize adding deterministic support for this operation. (Triggered internally at ../aten/src/ATen/Context.cpp:83.)\n",
            "     62/100      13.3G     0.7424     0.4814    0.09274         10        640: 100%|██████████| 14/14 [00:09<00:00,  1.41it/s]\n",
            "                 Class     Images  Instances      Box(P          R      mAP50  mAP50-95): 100%|██████████| 2/2 [00:00<00:00,  3.58it/s]"
          ]
        },
        {
          "output_type": "stream",
          "name": "stdout",
          "text": [
            "                   all         40        810      0.611      0.569       0.57      0.275\n"
          ]
        },
        {
          "output_type": "stream",
          "name": "stderr",
          "text": [
            "\n"
          ]
        },
        {
          "output_type": "stream",
          "name": "stdout",
          "text": [
            "\n",
            "      Epoch    GPU_mem  giou_loss   cls_loss    l1_loss  Instances       Size\n"
          ]
        },
        {
          "output_type": "stream",
          "name": "stderr",
          "text": [
            "  0%|          | 0/14 [00:00<?, ?it/s]grid_sampler_2d_backward_cuda does not have a deterministic implementation, but you set 'torch.use_deterministic_algorithms(True, warn_only=True)'. You can file an issue at https://github.com/pytorch/pytorch/issues to help us prioritize adding deterministic support for this operation. (Triggered internally at ../aten/src/ATen/Context.cpp:83.)\n",
            "     63/100      13.9G      0.778      0.499     0.1083         25        640: 100%|██████████| 14/14 [00:09<00:00,  1.42it/s]\n",
            "                 Class     Images  Instances      Box(P          R      mAP50  mAP50-95): 100%|██████████| 2/2 [00:00<00:00,  3.60it/s]"
          ]
        },
        {
          "output_type": "stream",
          "name": "stdout",
          "text": [
            "                   all         40        810      0.597      0.584      0.558      0.282\n"
          ]
        },
        {
          "output_type": "stream",
          "name": "stderr",
          "text": [
            "\n"
          ]
        },
        {
          "output_type": "stream",
          "name": "stdout",
          "text": [
            "\n",
            "      Epoch    GPU_mem  giou_loss   cls_loss    l1_loss  Instances       Size\n"
          ]
        },
        {
          "output_type": "stream",
          "name": "stderr",
          "text": [
            "  0%|          | 0/14 [00:00<?, ?it/s]grid_sampler_2d_backward_cuda does not have a deterministic implementation, but you set 'torch.use_deterministic_algorithms(True, warn_only=True)'. You can file an issue at https://github.com/pytorch/pytorch/issues to help us prioritize adding deterministic support for this operation. (Triggered internally at ../aten/src/ATen/Context.cpp:83.)\n",
            "     64/100      14.1G     0.8015     0.4883     0.1073        197        640: 100%|██████████| 14/14 [00:09<00:00,  1.41it/s]\n",
            "                 Class     Images  Instances      Box(P          R      mAP50  mAP50-95): 100%|██████████| 2/2 [00:00<00:00,  3.64it/s]"
          ]
        },
        {
          "output_type": "stream",
          "name": "stdout",
          "text": [
            "                   all         40        810      0.611      0.577      0.562      0.273\n"
          ]
        },
        {
          "output_type": "stream",
          "name": "stderr",
          "text": [
            "\n"
          ]
        },
        {
          "output_type": "stream",
          "name": "stdout",
          "text": [
            "\n",
            "      Epoch    GPU_mem  giou_loss   cls_loss    l1_loss  Instances       Size\n"
          ]
        },
        {
          "output_type": "stream",
          "name": "stderr",
          "text": [
            "  0%|          | 0/14 [00:00<?, ?it/s]grid_sampler_2d_backward_cuda does not have a deterministic implementation, but you set 'torch.use_deterministic_algorithms(True, warn_only=True)'. You can file an issue at https://github.com/pytorch/pytorch/issues to help us prioritize adding deterministic support for this operation. (Triggered internally at ../aten/src/ATen/Context.cpp:83.)\n",
            "     65/100      13.2G      0.723      0.512    0.09924         11        640: 100%|██████████| 14/14 [00:09<00:00,  1.44it/s]\n",
            "                 Class     Images  Instances      Box(P          R      mAP50  mAP50-95): 100%|██████████| 2/2 [00:00<00:00,  3.62it/s]"
          ]
        },
        {
          "output_type": "stream",
          "name": "stdout",
          "text": [
            "                   all         40        810      0.623      0.622      0.593      0.291\n"
          ]
        },
        {
          "output_type": "stream",
          "name": "stderr",
          "text": [
            "\n"
          ]
        },
        {
          "output_type": "stream",
          "name": "stdout",
          "text": [
            "\n",
            "      Epoch    GPU_mem  giou_loss   cls_loss    l1_loss  Instances       Size\n"
          ]
        },
        {
          "output_type": "stream",
          "name": "stderr",
          "text": [
            "  0%|          | 0/14 [00:00<?, ?it/s]grid_sampler_2d_backward_cuda does not have a deterministic implementation, but you set 'torch.use_deterministic_algorithms(True, warn_only=True)'. You can file an issue at https://github.com/pytorch/pytorch/issues to help us prioritize adding deterministic support for this operation. (Triggered internally at ../aten/src/ATen/Context.cpp:83.)\n",
            "     66/100        14G     0.8567     0.4824     0.1037         24        640: 100%|██████████| 14/14 [00:10<00:00,  1.40it/s]\n",
            "                 Class     Images  Instances      Box(P          R      mAP50  mAP50-95): 100%|██████████| 2/2 [00:00<00:00,  3.59it/s]"
          ]
        },
        {
          "output_type": "stream",
          "name": "stdout",
          "text": [
            "                   all         40        810      0.572       0.49      0.496      0.237\n"
          ]
        },
        {
          "output_type": "stream",
          "name": "stderr",
          "text": [
            "\n"
          ]
        },
        {
          "output_type": "stream",
          "name": "stdout",
          "text": [
            "\n",
            "      Epoch    GPU_mem  giou_loss   cls_loss    l1_loss  Instances       Size\n"
          ]
        },
        {
          "output_type": "stream",
          "name": "stderr",
          "text": [
            "  0%|          | 0/14 [00:00<?, ?it/s]grid_sampler_2d_backward_cuda does not have a deterministic implementation, but you set 'torch.use_deterministic_algorithms(True, warn_only=True)'. You can file an issue at https://github.com/pytorch/pytorch/issues to help us prioritize adding deterministic support for this operation. (Triggered internally at ../aten/src/ATen/Context.cpp:83.)\n",
            "     67/100      13.6G     0.7296     0.4794    0.08539         10        640: 100%|██████████| 14/14 [00:09<00:00,  1.44it/s]\n",
            "                 Class     Images  Instances      Box(P          R      mAP50  mAP50-95): 100%|██████████| 2/2 [00:00<00:00,  3.58it/s]"
          ]
        },
        {
          "output_type": "stream",
          "name": "stdout",
          "text": [
            "                   all         40        810      0.652      0.606      0.596      0.291\n"
          ]
        },
        {
          "output_type": "stream",
          "name": "stderr",
          "text": [
            "\n"
          ]
        },
        {
          "output_type": "stream",
          "name": "stdout",
          "text": [
            "\n",
            "      Epoch    GPU_mem  giou_loss   cls_loss    l1_loss  Instances       Size\n"
          ]
        },
        {
          "output_type": "stream",
          "name": "stderr",
          "text": [
            "  0%|          | 0/14 [00:00<?, ?it/s]grid_sampler_2d_backward_cuda does not have a deterministic implementation, but you set 'torch.use_deterministic_algorithms(True, warn_only=True)'. You can file an issue at https://github.com/pytorch/pytorch/issues to help us prioritize adding deterministic support for this operation. (Triggered internally at ../aten/src/ATen/Context.cpp:83.)\n",
            "     68/100      14.5G      0.757     0.4712    0.09506         23        640: 100%|██████████| 14/14 [00:10<00:00,  1.38it/s]\n",
            "                 Class     Images  Instances      Box(P          R      mAP50  mAP50-95): 100%|██████████| 2/2 [00:00<00:00,  3.66it/s]"
          ]
        },
        {
          "output_type": "stream",
          "name": "stdout",
          "text": [
            "                   all         40        810      0.648      0.589      0.586      0.283\n"
          ]
        },
        {
          "output_type": "stream",
          "name": "stderr",
          "text": [
            "\n"
          ]
        },
        {
          "output_type": "stream",
          "name": "stdout",
          "text": [
            "\n",
            "      Epoch    GPU_mem  giou_loss   cls_loss    l1_loss  Instances       Size\n"
          ]
        },
        {
          "output_type": "stream",
          "name": "stderr",
          "text": [
            "  0%|          | 0/14 [00:00<?, ?it/s]grid_sampler_2d_backward_cuda does not have a deterministic implementation, but you set 'torch.use_deterministic_algorithms(True, warn_only=True)'. You can file an issue at https://github.com/pytorch/pytorch/issues to help us prioritize adding deterministic support for this operation. (Triggered internally at ../aten/src/ATen/Context.cpp:83.)\n",
            "     69/100      13.2G     0.6743     0.4951    0.09124          7        640: 100%|██████████| 14/14 [00:09<00:00,  1.43it/s]\n",
            "                 Class     Images  Instances      Box(P          R      mAP50  mAP50-95): 100%|██████████| 2/2 [00:00<00:00,  3.68it/s]"
          ]
        },
        {
          "output_type": "stream",
          "name": "stdout",
          "text": [
            "                   all         40        810      0.624      0.566      0.562      0.265\n"
          ]
        },
        {
          "output_type": "stream",
          "name": "stderr",
          "text": [
            "\n"
          ]
        },
        {
          "output_type": "stream",
          "name": "stdout",
          "text": [
            "\n",
            "      Epoch    GPU_mem  giou_loss   cls_loss    l1_loss  Instances       Size\n"
          ]
        },
        {
          "output_type": "stream",
          "name": "stderr",
          "text": [
            "  0%|          | 0/14 [00:00<?, ?it/s]grid_sampler_2d_backward_cuda does not have a deterministic implementation, but you set 'torch.use_deterministic_algorithms(True, warn_only=True)'. You can file an issue at https://github.com/pytorch/pytorch/issues to help us prioritize adding deterministic support for this operation. (Triggered internally at ../aten/src/ATen/Context.cpp:83.)\n",
            "     70/100      13.1G     0.6709     0.5022    0.08701          9        640: 100%|██████████| 14/14 [00:09<00:00,  1.41it/s]\n",
            "                 Class     Images  Instances      Box(P          R      mAP50  mAP50-95): 100%|██████████| 2/2 [00:00<00:00,  3.45it/s]"
          ]
        },
        {
          "output_type": "stream",
          "name": "stdout",
          "text": [
            "                   all         40        810      0.577      0.543      0.532      0.249\n"
          ]
        },
        {
          "output_type": "stream",
          "name": "stderr",
          "text": [
            "\n"
          ]
        },
        {
          "output_type": "stream",
          "name": "stdout",
          "text": [
            "\n",
            "      Epoch    GPU_mem  giou_loss   cls_loss    l1_loss  Instances       Size\n"
          ]
        },
        {
          "output_type": "stream",
          "name": "stderr",
          "text": [
            "  0%|          | 0/14 [00:00<?, ?it/s]grid_sampler_2d_backward_cuda does not have a deterministic implementation, but you set 'torch.use_deterministic_algorithms(True, warn_only=True)'. You can file an issue at https://github.com/pytorch/pytorch/issues to help us prioritize adding deterministic support for this operation. (Triggered internally at ../aten/src/ATen/Context.cpp:83.)\n",
            "     71/100      13.6G     0.7335     0.4971    0.09357         36        640: 100%|██████████| 14/14 [00:09<00:00,  1.44it/s]\n",
            "                 Class     Images  Instances      Box(P          R      mAP50  mAP50-95): 100%|██████████| 2/2 [00:00<00:00,  3.62it/s]"
          ]
        },
        {
          "output_type": "stream",
          "name": "stdout",
          "text": [
            "                   all         40        810      0.574      0.472      0.503      0.233\n"
          ]
        },
        {
          "output_type": "stream",
          "name": "stderr",
          "text": [
            "\n"
          ]
        },
        {
          "output_type": "stream",
          "name": "stdout",
          "text": [
            "\n",
            "      Epoch    GPU_mem  giou_loss   cls_loss    l1_loss  Instances       Size\n"
          ]
        },
        {
          "output_type": "stream",
          "name": "stderr",
          "text": [
            "  0%|          | 0/14 [00:00<?, ?it/s]grid_sampler_2d_backward_cuda does not have a deterministic implementation, but you set 'torch.use_deterministic_algorithms(True, warn_only=True)'. You can file an issue at https://github.com/pytorch/pytorch/issues to help us prioritize adding deterministic support for this operation. (Triggered internally at ../aten/src/ATen/Context.cpp:83.)\n",
            "     72/100      14.6G      0.696     0.4829    0.08057          4        640: 100%|██████████| 14/14 [00:09<00:00,  1.41it/s]\n",
            "                 Class     Images  Instances      Box(P          R      mAP50  mAP50-95): 100%|██████████| 2/2 [00:00<00:00,  3.68it/s]"
          ]
        },
        {
          "output_type": "stream",
          "name": "stdout",
          "text": [
            "                   all         40        810      0.635      0.547      0.557      0.271\n"
          ]
        },
        {
          "output_type": "stream",
          "name": "stderr",
          "text": [
            "\n"
          ]
        },
        {
          "output_type": "stream",
          "name": "stdout",
          "text": [
            "\n",
            "      Epoch    GPU_mem  giou_loss   cls_loss    l1_loss  Instances       Size\n"
          ]
        },
        {
          "output_type": "stream",
          "name": "stderr",
          "text": [
            "  0%|          | 0/14 [00:00<?, ?it/s]grid_sampler_2d_backward_cuda does not have a deterministic implementation, but you set 'torch.use_deterministic_algorithms(True, warn_only=True)'. You can file an issue at https://github.com/pytorch/pytorch/issues to help us prioritize adding deterministic support for this operation. (Triggered internally at ../aten/src/ATen/Context.cpp:83.)\n",
            "     73/100      15.8G     0.7489     0.4633    0.08474         15        640: 100%|██████████| 14/14 [00:10<00:00,  1.38it/s]\n",
            "                 Class     Images  Instances      Box(P          R      mAP50  mAP50-95): 100%|██████████| 2/2 [00:00<00:00,  3.69it/s]"
          ]
        },
        {
          "output_type": "stream",
          "name": "stdout",
          "text": [
            "                   all         40        810      0.653      0.589      0.595      0.283\n"
          ]
        },
        {
          "output_type": "stream",
          "name": "stderr",
          "text": [
            "\n"
          ]
        },
        {
          "output_type": "stream",
          "name": "stdout",
          "text": [
            "\n",
            "      Epoch    GPU_mem  giou_loss   cls_loss    l1_loss  Instances       Size\n"
          ]
        },
        {
          "output_type": "stream",
          "name": "stderr",
          "text": [
            "  0%|          | 0/14 [00:00<?, ?it/s]grid_sampler_2d_backward_cuda does not have a deterministic implementation, but you set 'torch.use_deterministic_algorithms(True, warn_only=True)'. You can file an issue at https://github.com/pytorch/pytorch/issues to help us prioritize adding deterministic support for this operation. (Triggered internally at ../aten/src/ATen/Context.cpp:83.)\n",
            "     74/100      14.2G     0.7374     0.4849    0.09291         18        640: 100%|██████████| 14/14 [00:09<00:00,  1.41it/s]\n",
            "                 Class     Images  Instances      Box(P          R      mAP50  mAP50-95): 100%|██████████| 2/2 [00:00<00:00,  3.64it/s]"
          ]
        },
        {
          "output_type": "stream",
          "name": "stdout",
          "text": [
            "                   all         40        810      0.653      0.581      0.591      0.288\n"
          ]
        },
        {
          "output_type": "stream",
          "name": "stderr",
          "text": [
            "\n"
          ]
        },
        {
          "output_type": "stream",
          "name": "stdout",
          "text": [
            "\n",
            "      Epoch    GPU_mem  giou_loss   cls_loss    l1_loss  Instances       Size\n"
          ]
        },
        {
          "output_type": "stream",
          "name": "stderr",
          "text": [
            "  0%|          | 0/14 [00:00<?, ?it/s]grid_sampler_2d_backward_cuda does not have a deterministic implementation, but you set 'torch.use_deterministic_algorithms(True, warn_only=True)'. You can file an issue at https://github.com/pytorch/pytorch/issues to help us prioritize adding deterministic support for this operation. (Triggered internally at ../aten/src/ATen/Context.cpp:83.)\n",
            "     75/100      14.2G     0.6471     0.4872    0.09658         13        640: 100%|██████████| 14/14 [00:09<00:00,  1.41it/s]\n",
            "                 Class     Images  Instances      Box(P          R      mAP50  mAP50-95): 100%|██████████| 2/2 [00:00<00:00,  3.66it/s]"
          ]
        },
        {
          "output_type": "stream",
          "name": "stdout",
          "text": [
            "                   all         40        810      0.649      0.611      0.614      0.302\n"
          ]
        },
        {
          "output_type": "stream",
          "name": "stderr",
          "text": [
            "\n"
          ]
        },
        {
          "output_type": "stream",
          "name": "stdout",
          "text": [
            "\n",
            "      Epoch    GPU_mem  giou_loss   cls_loss    l1_loss  Instances       Size\n"
          ]
        },
        {
          "output_type": "stream",
          "name": "stderr",
          "text": [
            "  0%|          | 0/14 [00:00<?, ?it/s]grid_sampler_2d_backward_cuda does not have a deterministic implementation, but you set 'torch.use_deterministic_algorithms(True, warn_only=True)'. You can file an issue at https://github.com/pytorch/pytorch/issues to help us prioritize adding deterministic support for this operation. (Triggered internally at ../aten/src/ATen/Context.cpp:83.)\n",
            "     76/100      14.1G      0.702     0.4799     0.0865         48        640: 100%|██████████| 14/14 [00:09<00:00,  1.42it/s]\n",
            "                 Class     Images  Instances      Box(P          R      mAP50  mAP50-95): 100%|██████████| 2/2 [00:00<00:00,  3.67it/s]"
          ]
        },
        {
          "output_type": "stream",
          "name": "stdout",
          "text": [
            "                   all         40        810      0.658      0.606      0.605      0.299\n"
          ]
        },
        {
          "output_type": "stream",
          "name": "stderr",
          "text": [
            "\n"
          ]
        },
        {
          "output_type": "stream",
          "name": "stdout",
          "text": [
            "\n",
            "      Epoch    GPU_mem  giou_loss   cls_loss    l1_loss  Instances       Size\n"
          ]
        },
        {
          "output_type": "stream",
          "name": "stderr",
          "text": [
            "  0%|          | 0/14 [00:00<?, ?it/s]grid_sampler_2d_backward_cuda does not have a deterministic implementation, but you set 'torch.use_deterministic_algorithms(True, warn_only=True)'. You can file an issue at https://github.com/pytorch/pytorch/issues to help us prioritize adding deterministic support for this operation. (Triggered internally at ../aten/src/ATen/Context.cpp:83.)\n",
            "     77/100      12.5G     0.6434     0.4934    0.07513         11        640: 100%|██████████| 14/14 [00:09<00:00,  1.43it/s]\n",
            "                 Class     Images  Instances      Box(P          R      mAP50  mAP50-95): 100%|██████████| 2/2 [00:00<00:00,  3.68it/s]"
          ]
        },
        {
          "output_type": "stream",
          "name": "stdout",
          "text": [
            "                   all         40        810      0.648      0.578      0.587      0.286\n"
          ]
        },
        {
          "output_type": "stream",
          "name": "stderr",
          "text": [
            "\n"
          ]
        },
        {
          "output_type": "stream",
          "name": "stdout",
          "text": [
            "\n",
            "      Epoch    GPU_mem  giou_loss   cls_loss    l1_loss  Instances       Size\n"
          ]
        },
        {
          "output_type": "stream",
          "name": "stderr",
          "text": [
            "  0%|          | 0/14 [00:00<?, ?it/s]grid_sampler_2d_backward_cuda does not have a deterministic implementation, but you set 'torch.use_deterministic_algorithms(True, warn_only=True)'. You can file an issue at https://github.com/pytorch/pytorch/issues to help us prioritize adding deterministic support for this operation. (Triggered internally at ../aten/src/ATen/Context.cpp:83.)\n",
            "     78/100      13.6G     0.7284     0.4682    0.08342         11        640: 100%|██████████| 14/14 [00:09<00:00,  1.40it/s]\n",
            "                 Class     Images  Instances      Box(P          R      mAP50  mAP50-95): 100%|██████████| 2/2 [00:00<00:00,  3.66it/s]"
          ]
        },
        {
          "output_type": "stream",
          "name": "stdout",
          "text": [
            "                   all         40        810      0.678      0.605      0.614        0.3\n"
          ]
        },
        {
          "output_type": "stream",
          "name": "stderr",
          "text": [
            "\n"
          ]
        },
        {
          "output_type": "stream",
          "name": "stdout",
          "text": [
            "\n",
            "      Epoch    GPU_mem  giou_loss   cls_loss    l1_loss  Instances       Size\n"
          ]
        },
        {
          "output_type": "stream",
          "name": "stderr",
          "text": [
            "  0%|          | 0/14 [00:00<?, ?it/s]grid_sampler_2d_backward_cuda does not have a deterministic implementation, but you set 'torch.use_deterministic_algorithms(True, warn_only=True)'. You can file an issue at https://github.com/pytorch/pytorch/issues to help us prioritize adding deterministic support for this operation. (Triggered internally at ../aten/src/ATen/Context.cpp:83.)\n",
            "     79/100      14.7G     0.6947     0.4639    0.08284         27        640: 100%|██████████| 14/14 [00:09<00:00,  1.43it/s]\n",
            "                 Class     Images  Instances      Box(P          R      mAP50  mAP50-95): 100%|██████████| 2/2 [00:00<00:00,  3.66it/s]"
          ]
        },
        {
          "output_type": "stream",
          "name": "stdout",
          "text": [
            "                   all         40        810       0.65      0.595      0.588      0.286\n"
          ]
        },
        {
          "output_type": "stream",
          "name": "stderr",
          "text": [
            "\n"
          ]
        },
        {
          "output_type": "stream",
          "name": "stdout",
          "text": [
            "\n",
            "      Epoch    GPU_mem  giou_loss   cls_loss    l1_loss  Instances       Size\n"
          ]
        },
        {
          "output_type": "stream",
          "name": "stderr",
          "text": [
            "  0%|          | 0/14 [00:00<?, ?it/s]grid_sampler_2d_backward_cuda does not have a deterministic implementation, but you set 'torch.use_deterministic_algorithms(True, warn_only=True)'. You can file an issue at https://github.com/pytorch/pytorch/issues to help us prioritize adding deterministic support for this operation. (Triggered internally at ../aten/src/ATen/Context.cpp:83.)\n",
            "     80/100      13.4G     0.6541     0.4645    0.07202         97        640: 100%|██████████| 14/14 [00:09<00:00,  1.40it/s]\n",
            "                 Class     Images  Instances      Box(P          R      mAP50  mAP50-95): 100%|██████████| 2/2 [00:00<00:00,  3.64it/s]"
          ]
        },
        {
          "output_type": "stream",
          "name": "stdout",
          "text": [
            "                   all         40        810      0.616       0.59      0.571      0.277\n"
          ]
        },
        {
          "output_type": "stream",
          "name": "stderr",
          "text": [
            "\n"
          ]
        },
        {
          "output_type": "stream",
          "name": "stdout",
          "text": [
            "\n",
            "      Epoch    GPU_mem  giou_loss   cls_loss    l1_loss  Instances       Size\n"
          ]
        },
        {
          "output_type": "stream",
          "name": "stderr",
          "text": [
            "  0%|          | 0/14 [00:00<?, ?it/s]grid_sampler_2d_backward_cuda does not have a deterministic implementation, but you set 'torch.use_deterministic_algorithms(True, warn_only=True)'. You can file an issue at https://github.com/pytorch/pytorch/issues to help us prioritize adding deterministic support for this operation. (Triggered internally at ../aten/src/ATen/Context.cpp:83.)\n",
            "     81/100      18.1G     0.7477     0.5314    0.08672          1        640: 100%|██████████| 14/14 [00:10<00:00,  1.39it/s]\n",
            "                 Class     Images  Instances      Box(P          R      mAP50  mAP50-95): 100%|██████████| 2/2 [00:00<00:00,  3.67it/s]"
          ]
        },
        {
          "output_type": "stream",
          "name": "stdout",
          "text": [
            "                   all         40        810      0.618      0.585      0.573      0.278\n"
          ]
        },
        {
          "output_type": "stream",
          "name": "stderr",
          "text": [
            "\n"
          ]
        },
        {
          "output_type": "stream",
          "name": "stdout",
          "text": [
            "\n",
            "      Epoch    GPU_mem  giou_loss   cls_loss    l1_loss  Instances       Size\n"
          ]
        },
        {
          "output_type": "stream",
          "name": "stderr",
          "text": [
            "  0%|          | 0/14 [00:00<?, ?it/s]grid_sampler_2d_backward_cuda does not have a deterministic implementation, but you set 'torch.use_deterministic_algorithms(True, warn_only=True)'. You can file an issue at https://github.com/pytorch/pytorch/issues to help us prioritize adding deterministic support for this operation. (Triggered internally at ../aten/src/ATen/Context.cpp:83.)\n",
            "     82/100        14G     0.6257     0.4755     0.0791         11        640: 100%|██████████| 14/14 [00:09<00:00,  1.40it/s]\n",
            "                 Class     Images  Instances      Box(P          R      mAP50  mAP50-95): 100%|██████████| 2/2 [00:00<00:00,  3.60it/s]"
          ]
        },
        {
          "output_type": "stream",
          "name": "stdout",
          "text": [
            "                   all         40        810      0.631      0.561       0.58      0.289\n"
          ]
        },
        {
          "output_type": "stream",
          "name": "stderr",
          "text": [
            "\n"
          ]
        },
        {
          "output_type": "stream",
          "name": "stdout",
          "text": [
            "\n",
            "      Epoch    GPU_mem  giou_loss   cls_loss    l1_loss  Instances       Size\n"
          ]
        },
        {
          "output_type": "stream",
          "name": "stderr",
          "text": [
            "  0%|          | 0/14 [00:00<?, ?it/s]grid_sampler_2d_backward_cuda does not have a deterministic implementation, but you set 'torch.use_deterministic_algorithms(True, warn_only=True)'. You can file an issue at https://github.com/pytorch/pytorch/issues to help us prioritize adding deterministic support for this operation. (Triggered internally at ../aten/src/ATen/Context.cpp:83.)\n",
            "     83/100      13.1G     0.6477     0.4871    0.07504         66        640: 100%|██████████| 14/14 [00:09<00:00,  1.43it/s]\n",
            "                 Class     Images  Instances      Box(P          R      mAP50  mAP50-95): 100%|██████████| 2/2 [00:00<00:00,  3.68it/s]"
          ]
        },
        {
          "output_type": "stream",
          "name": "stdout",
          "text": [
            "                   all         40        810      0.665      0.621      0.621      0.302\n"
          ]
        },
        {
          "output_type": "stream",
          "name": "stderr",
          "text": [
            "\n"
          ]
        },
        {
          "output_type": "stream",
          "name": "stdout",
          "text": [
            "\n",
            "      Epoch    GPU_mem  giou_loss   cls_loss    l1_loss  Instances       Size\n"
          ]
        },
        {
          "output_type": "stream",
          "name": "stderr",
          "text": [
            "  0%|          | 0/14 [00:00<?, ?it/s]grid_sampler_2d_backward_cuda does not have a deterministic implementation, but you set 'torch.use_deterministic_algorithms(True, warn_only=True)'. You can file an issue at https://github.com/pytorch/pytorch/issues to help us prioritize adding deterministic support for this operation. (Triggered internally at ../aten/src/ATen/Context.cpp:83.)\n",
            "     84/100      13.5G     0.6764     0.4611    0.07843         11        640: 100%|██████████| 14/14 [00:09<00:00,  1.41it/s]\n",
            "                 Class     Images  Instances      Box(P          R      mAP50  mAP50-95): 100%|██████████| 2/2 [00:00<00:00,  3.68it/s]"
          ]
        },
        {
          "output_type": "stream",
          "name": "stdout",
          "text": [
            "                   all         40        810      0.651      0.639      0.613      0.303\n"
          ]
        },
        {
          "output_type": "stream",
          "name": "stderr",
          "text": [
            "\n"
          ]
        },
        {
          "output_type": "stream",
          "name": "stdout",
          "text": [
            "\n",
            "      Epoch    GPU_mem  giou_loss   cls_loss    l1_loss  Instances       Size\n"
          ]
        },
        {
          "output_type": "stream",
          "name": "stderr",
          "text": [
            "  0%|          | 0/14 [00:00<?, ?it/s]grid_sampler_2d_backward_cuda does not have a deterministic implementation, but you set 'torch.use_deterministic_algorithms(True, warn_only=True)'. You can file an issue at https://github.com/pytorch/pytorch/issues to help us prioritize adding deterministic support for this operation. (Triggered internally at ../aten/src/ATen/Context.cpp:83.)\n",
            "     85/100        14G     0.6832     0.4607    0.08132         26        640: 100%|██████████| 14/14 [00:09<00:00,  1.43it/s]\n",
            "                 Class     Images  Instances      Box(P          R      mAP50  mAP50-95): 100%|██████████| 2/2 [00:00<00:00,  3.65it/s]"
          ]
        },
        {
          "output_type": "stream",
          "name": "stdout",
          "text": [
            "                   all         40        810       0.62      0.631      0.606      0.298\n"
          ]
        },
        {
          "output_type": "stream",
          "name": "stderr",
          "text": [
            "\n"
          ]
        },
        {
          "output_type": "stream",
          "name": "stdout",
          "text": [
            "\n",
            "      Epoch    GPU_mem  giou_loss   cls_loss    l1_loss  Instances       Size\n"
          ]
        },
        {
          "output_type": "stream",
          "name": "stderr",
          "text": [
            "  0%|          | 0/14 [00:00<?, ?it/s]grid_sampler_2d_backward_cuda does not have a deterministic implementation, but you set 'torch.use_deterministic_algorithms(True, warn_only=True)'. You can file an issue at https://github.com/pytorch/pytorch/issues to help us prioritize adding deterministic support for this operation. (Triggered internally at ../aten/src/ATen/Context.cpp:83.)\n",
            "     86/100      14.3G     0.6189     0.4639    0.07409         14        640: 100%|██████████| 14/14 [00:09<00:00,  1.41it/s]\n",
            "                 Class     Images  Instances      Box(P          R      mAP50  mAP50-95): 100%|██████████| 2/2 [00:00<00:00,  3.65it/s]"
          ]
        },
        {
          "output_type": "stream",
          "name": "stdout",
          "text": [
            "                   all         40        810       0.61       0.58      0.562      0.271\n"
          ]
        },
        {
          "output_type": "stream",
          "name": "stderr",
          "text": [
            "\n"
          ]
        },
        {
          "output_type": "stream",
          "name": "stdout",
          "text": [
            "\n",
            "      Epoch    GPU_mem  giou_loss   cls_loss    l1_loss  Instances       Size\n"
          ]
        },
        {
          "output_type": "stream",
          "name": "stderr",
          "text": [
            "  0%|          | 0/14 [00:00<?, ?it/s]grid_sampler_2d_backward_cuda does not have a deterministic implementation, but you set 'torch.use_deterministic_algorithms(True, warn_only=True)'. You can file an issue at https://github.com/pytorch/pytorch/issues to help us prioritize adding deterministic support for this operation. (Triggered internally at ../aten/src/ATen/Context.cpp:83.)\n",
            "     87/100      14.2G      0.645     0.4726    0.07328         16        640: 100%|██████████| 14/14 [00:09<00:00,  1.42it/s]\n",
            "                 Class     Images  Instances      Box(P          R      mAP50  mAP50-95): 100%|██████████| 2/2 [00:00<00:00,  3.66it/s]"
          ]
        },
        {
          "output_type": "stream",
          "name": "stdout",
          "text": [
            "                   all         40        810      0.575       0.59      0.558      0.273\n"
          ]
        },
        {
          "output_type": "stream",
          "name": "stderr",
          "text": [
            "\n"
          ]
        },
        {
          "output_type": "stream",
          "name": "stdout",
          "text": [
            "\n",
            "      Epoch    GPU_mem  giou_loss   cls_loss    l1_loss  Instances       Size\n"
          ]
        },
        {
          "output_type": "stream",
          "name": "stderr",
          "text": [
            "  0%|          | 0/14 [00:00<?, ?it/s]grid_sampler_2d_backward_cuda does not have a deterministic implementation, but you set 'torch.use_deterministic_algorithms(True, warn_only=True)'. You can file an issue at https://github.com/pytorch/pytorch/issues to help us prioritize adding deterministic support for this operation. (Triggered internally at ../aten/src/ATen/Context.cpp:83.)\n",
            "     88/100      14.3G     0.6416     0.4723    0.06819          8        640: 100%|██████████| 14/14 [00:09<00:00,  1.41it/s]\n",
            "                 Class     Images  Instances      Box(P          R      mAP50  mAP50-95): 100%|██████████| 2/2 [00:00<00:00,  3.63it/s]"
          ]
        },
        {
          "output_type": "stream",
          "name": "stdout",
          "text": [
            "                   all         40        810      0.611       0.57      0.565      0.276\n"
          ]
        },
        {
          "output_type": "stream",
          "name": "stderr",
          "text": [
            "\n"
          ]
        },
        {
          "output_type": "stream",
          "name": "stdout",
          "text": [
            "\n",
            "      Epoch    GPU_mem  giou_loss   cls_loss    l1_loss  Instances       Size\n"
          ]
        },
        {
          "output_type": "stream",
          "name": "stderr",
          "text": [
            "  0%|          | 0/14 [00:00<?, ?it/s]grid_sampler_2d_backward_cuda does not have a deterministic implementation, but you set 'torch.use_deterministic_algorithms(True, warn_only=True)'. You can file an issue at https://github.com/pytorch/pytorch/issues to help us prioritize adding deterministic support for this operation. (Triggered internally at ../aten/src/ATen/Context.cpp:83.)\n",
            "     89/100      14.1G     0.5943     0.4776    0.07404          4        640: 100%|██████████| 14/14 [00:09<00:00,  1.44it/s]\n",
            "                 Class     Images  Instances      Box(P          R      mAP50  mAP50-95): 100%|██████████| 2/2 [00:00<00:00,  3.64it/s]"
          ]
        },
        {
          "output_type": "stream",
          "name": "stdout",
          "text": [
            "                   all         40        810      0.586      0.573      0.553      0.262\n"
          ]
        },
        {
          "output_type": "stream",
          "name": "stderr",
          "text": [
            "\n"
          ]
        },
        {
          "output_type": "stream",
          "name": "stdout",
          "text": [
            "\n",
            "      Epoch    GPU_mem  giou_loss   cls_loss    l1_loss  Instances       Size\n"
          ]
        },
        {
          "output_type": "stream",
          "name": "stderr",
          "text": [
            "  0%|          | 0/14 [00:00<?, ?it/s]grid_sampler_2d_backward_cuda does not have a deterministic implementation, but you set 'torch.use_deterministic_algorithms(True, warn_only=True)'. You can file an issue at https://github.com/pytorch/pytorch/issues to help us prioritize adding deterministic support for this operation. (Triggered internally at ../aten/src/ATen/Context.cpp:83.)\n",
            "     90/100        14G      0.698     0.4521    0.07705         12        640: 100%|██████████| 14/14 [00:09<00:00,  1.40it/s]\n",
            "                 Class     Images  Instances      Box(P          R      mAP50  mAP50-95): 100%|██████████| 2/2 [00:00<00:00,  3.65it/s]"
          ]
        },
        {
          "output_type": "stream",
          "name": "stdout",
          "text": [
            "                   all         40        810      0.609      0.575      0.571      0.275\n"
          ]
        },
        {
          "output_type": "stream",
          "name": "stderr",
          "text": [
            "\n"
          ]
        },
        {
          "output_type": "stream",
          "name": "stdout",
          "text": [
            "Closing dataloader mosaic\n",
            "\u001b[34m\u001b[1malbumentations: \u001b[0mBlur(p=0.01, blur_limit=(3, 7)), MedianBlur(p=0.01, blur_limit=(3, 7)), ToGray(p=0.01), CLAHE(p=0.01, clip_limit=(1, 4.0), tile_grid_size=(8, 8))\n"
          ]
        },
        {
          "output_type": "stream",
          "name": "stderr",
          "text": [
            "os.fork() was called. os.fork() is incompatible with multithreaded code, and JAX is multithreaded, so this will likely lead to a deadlock.\n"
          ]
        },
        {
          "output_type": "stream",
          "name": "stdout",
          "text": [
            "\n",
            "      Epoch    GPU_mem  giou_loss   cls_loss    l1_loss  Instances       Size\n"
          ]
        },
        {
          "output_type": "stream",
          "name": "stderr",
          "text": [
            "  0%|          | 0/14 [00:00<?, ?it/s]grid_sampler_2d_backward_cuda does not have a deterministic implementation, but you set 'torch.use_deterministic_algorithms(True, warn_only=True)'. You can file an issue at https://github.com/pytorch/pytorch/issues to help us prioritize adding deterministic support for this operation. (Triggered internally at ../aten/src/ATen/Context.cpp:83.)\n",
            "     91/100      13.4G     0.5633     0.4934    0.07851         12        640: 100%|██████████| 14/14 [00:12<00:00,  1.14it/s]\n",
            "                 Class     Images  Instances      Box(P          R      mAP50  mAP50-95): 100%|██████████| 2/2 [00:00<00:00,  3.62it/s]"
          ]
        },
        {
          "output_type": "stream",
          "name": "stdout",
          "text": [
            "                   all         40        810      0.587      0.563      0.556      0.265\n"
          ]
        },
        {
          "output_type": "stream",
          "name": "stderr",
          "text": [
            "\n"
          ]
        },
        {
          "output_type": "stream",
          "name": "stdout",
          "text": [
            "\n",
            "      Epoch    GPU_mem  giou_loss   cls_loss    l1_loss  Instances       Size\n"
          ]
        },
        {
          "output_type": "stream",
          "name": "stderr",
          "text": [
            "  0%|          | 0/14 [00:00<?, ?it/s]grid_sampler_2d_backward_cuda does not have a deterministic implementation, but you set 'torch.use_deterministic_algorithms(True, warn_only=True)'. You can file an issue at https://github.com/pytorch/pytorch/issues to help us prioritize adding deterministic support for this operation. (Triggered internally at ../aten/src/ATen/Context.cpp:83.)\n",
            "     92/100        13G     0.5867     0.4757    0.07019          9        640: 100%|██████████| 14/14 [00:09<00:00,  1.42it/s]\n",
            "                 Class     Images  Instances      Box(P          R      mAP50  mAP50-95): 100%|██████████| 2/2 [00:00<00:00,  3.64it/s]"
          ]
        },
        {
          "output_type": "stream",
          "name": "stdout",
          "text": [
            "                   all         40        810      0.577      0.548      0.541      0.258\n"
          ]
        },
        {
          "output_type": "stream",
          "name": "stderr",
          "text": [
            "\n"
          ]
        },
        {
          "output_type": "stream",
          "name": "stdout",
          "text": [
            "\n",
            "      Epoch    GPU_mem  giou_loss   cls_loss    l1_loss  Instances       Size\n"
          ]
        },
        {
          "output_type": "stream",
          "name": "stderr",
          "text": [
            "  0%|          | 0/14 [00:00<?, ?it/s]grid_sampler_2d_backward_cuda does not have a deterministic implementation, but you set 'torch.use_deterministic_algorithms(True, warn_only=True)'. You can file an issue at https://github.com/pytorch/pytorch/issues to help us prioritize adding deterministic support for this operation. (Triggered internally at ../aten/src/ATen/Context.cpp:83.)\n",
            "     93/100      13.6G     0.5845     0.4767    0.07339          2        640: 100%|██████████| 14/14 [00:09<00:00,  1.43it/s]\n",
            "                 Class     Images  Instances      Box(P          R      mAP50  mAP50-95): 100%|██████████| 2/2 [00:00<00:00,  3.65it/s]"
          ]
        },
        {
          "output_type": "stream",
          "name": "stdout",
          "text": [
            "                   all         40        810       0.63      0.553      0.566      0.277\n"
          ]
        },
        {
          "output_type": "stream",
          "name": "stderr",
          "text": [
            "\n"
          ]
        },
        {
          "output_type": "stream",
          "name": "stdout",
          "text": [
            "\n",
            "      Epoch    GPU_mem  giou_loss   cls_loss    l1_loss  Instances       Size\n"
          ]
        },
        {
          "output_type": "stream",
          "name": "stderr",
          "text": [
            "  0%|          | 0/14 [00:00<?, ?it/s]grid_sampler_2d_backward_cuda does not have a deterministic implementation, but you set 'torch.use_deterministic_algorithms(True, warn_only=True)'. You can file an issue at https://github.com/pytorch/pytorch/issues to help us prioritize adding deterministic support for this operation. (Triggered internally at ../aten/src/ATen/Context.cpp:83.)\n",
            "     94/100      13.2G     0.5644     0.4833     0.0715        136        640: 100%|██████████| 14/14 [00:09<00:00,  1.43it/s]\n",
            "                 Class     Images  Instances      Box(P          R      mAP50  mAP50-95): 100%|██████████| 2/2 [00:00<00:00,  3.68it/s]"
          ]
        },
        {
          "output_type": "stream",
          "name": "stdout",
          "text": [
            "                   all         40        810      0.623       0.59      0.586      0.282\n"
          ]
        },
        {
          "output_type": "stream",
          "name": "stderr",
          "text": [
            "\n"
          ]
        },
        {
          "output_type": "stream",
          "name": "stdout",
          "text": [
            "\n",
            "      Epoch    GPU_mem  giou_loss   cls_loss    l1_loss  Instances       Size\n"
          ]
        },
        {
          "output_type": "stream",
          "name": "stderr",
          "text": [
            "  0%|          | 0/14 [00:00<?, ?it/s]grid_sampler_2d_backward_cuda does not have a deterministic implementation, but you set 'torch.use_deterministic_algorithms(True, warn_only=True)'. You can file an issue at https://github.com/pytorch/pytorch/issues to help us prioritize adding deterministic support for this operation. (Triggered internally at ../aten/src/ATen/Context.cpp:83.)\n",
            "     95/100      14.2G     0.6865      0.522      0.097          1        640: 100%|██████████| 14/14 [00:09<00:00,  1.44it/s]\n",
            "                 Class     Images  Instances      Box(P          R      mAP50  mAP50-95): 100%|██████████| 2/2 [00:00<00:00,  3.65it/s]"
          ]
        },
        {
          "output_type": "stream",
          "name": "stdout",
          "text": [
            "                   all         40        810      0.669      0.552      0.587      0.279\n"
          ]
        },
        {
          "output_type": "stream",
          "name": "stderr",
          "text": [
            "\n"
          ]
        },
        {
          "output_type": "stream",
          "name": "stdout",
          "text": [
            "\n",
            "      Epoch    GPU_mem  giou_loss   cls_loss    l1_loss  Instances       Size\n"
          ]
        },
        {
          "output_type": "stream",
          "name": "stderr",
          "text": [
            "  0%|          | 0/14 [00:00<?, ?it/s]grid_sampler_2d_backward_cuda does not have a deterministic implementation, but you set 'torch.use_deterministic_algorithms(True, warn_only=True)'. You can file an issue at https://github.com/pytorch/pytorch/issues to help us prioritize adding deterministic support for this operation. (Triggered internally at ../aten/src/ATen/Context.cpp:83.)\n",
            "     96/100      12.6G     0.5685     0.4742    0.07051         18        640: 100%|██████████| 14/14 [00:09<00:00,  1.44it/s]\n",
            "                 Class     Images  Instances      Box(P          R      mAP50  mAP50-95): 100%|██████████| 2/2 [00:00<00:00,  3.64it/s]"
          ]
        },
        {
          "output_type": "stream",
          "name": "stdout",
          "text": [
            "                   all         40        810      0.673      0.553      0.582      0.272\n"
          ]
        },
        {
          "output_type": "stream",
          "name": "stderr",
          "text": [
            "\n"
          ]
        },
        {
          "output_type": "stream",
          "name": "stdout",
          "text": [
            "\n",
            "      Epoch    GPU_mem  giou_loss   cls_loss    l1_loss  Instances       Size\n"
          ]
        },
        {
          "output_type": "stream",
          "name": "stderr",
          "text": [
            "  0%|          | 0/14 [00:00<?, ?it/s]grid_sampler_2d_backward_cuda does not have a deterministic implementation, but you set 'torch.use_deterministic_algorithms(True, warn_only=True)'. You can file an issue at https://github.com/pytorch/pytorch/issues to help us prioritize adding deterministic support for this operation. (Triggered internally at ../aten/src/ATen/Context.cpp:83.)\n",
            "     97/100      14.2G     0.5767     0.4585    0.06675          8        640: 100%|██████████| 14/14 [00:09<00:00,  1.44it/s]\n",
            "                 Class     Images  Instances      Box(P          R      mAP50  mAP50-95): 100%|██████████| 2/2 [00:00<00:00,  3.66it/s]"
          ]
        },
        {
          "output_type": "stream",
          "name": "stdout",
          "text": [
            "                   all         40        810      0.634      0.577      0.581      0.273\n"
          ]
        },
        {
          "output_type": "stream",
          "name": "stderr",
          "text": [
            "\n"
          ]
        },
        {
          "output_type": "stream",
          "name": "stdout",
          "text": [
            "\n",
            "      Epoch    GPU_mem  giou_loss   cls_loss    l1_loss  Instances       Size\n"
          ]
        },
        {
          "output_type": "stream",
          "name": "stderr",
          "text": [
            "  0%|          | 0/14 [00:00<?, ?it/s]grid_sampler_2d_backward_cuda does not have a deterministic implementation, but you set 'torch.use_deterministic_algorithms(True, warn_only=True)'. You can file an issue at https://github.com/pytorch/pytorch/issues to help us prioritize adding deterministic support for this operation. (Triggered internally at ../aten/src/ATen/Context.cpp:83.)\n",
            "     98/100      13.5G     0.5423      0.466    0.06457          7        640: 100%|██████████| 14/14 [00:09<00:00,  1.42it/s]\n",
            "                 Class     Images  Instances      Box(P          R      mAP50  mAP50-95): 100%|██████████| 2/2 [00:00<00:00,  3.67it/s]"
          ]
        },
        {
          "output_type": "stream",
          "name": "stdout",
          "text": [
            "                   all         40        810      0.628      0.591      0.588      0.285\n"
          ]
        },
        {
          "output_type": "stream",
          "name": "stderr",
          "text": [
            "\n"
          ]
        },
        {
          "output_type": "stream",
          "name": "stdout",
          "text": [
            "\n",
            "      Epoch    GPU_mem  giou_loss   cls_loss    l1_loss  Instances       Size\n"
          ]
        },
        {
          "output_type": "stream",
          "name": "stderr",
          "text": [
            "  0%|          | 0/14 [00:00<?, ?it/s]grid_sampler_2d_backward_cuda does not have a deterministic implementation, but you set 'torch.use_deterministic_algorithms(True, warn_only=True)'. You can file an issue at https://github.com/pytorch/pytorch/issues to help us prioritize adding deterministic support for this operation. (Triggered internally at ../aten/src/ATen/Context.cpp:83.)\n",
            "     99/100      14.4G     0.5937     0.4633     0.0698         20        640: 100%|██████████| 14/14 [00:09<00:00,  1.42it/s]\n",
            "                 Class     Images  Instances      Box(P          R      mAP50  mAP50-95): 100%|██████████| 2/2 [00:00<00:00,  3.63it/s]"
          ]
        },
        {
          "output_type": "stream",
          "name": "stdout",
          "text": [
            "                   all         40        810      0.634      0.606      0.597      0.294\n"
          ]
        },
        {
          "output_type": "stream",
          "name": "stderr",
          "text": [
            "\n"
          ]
        },
        {
          "output_type": "stream",
          "name": "stdout",
          "text": [
            "\n",
            "      Epoch    GPU_mem  giou_loss   cls_loss    l1_loss  Instances       Size\n"
          ]
        },
        {
          "output_type": "stream",
          "name": "stderr",
          "text": [
            "  0%|          | 0/14 [00:00<?, ?it/s]grid_sampler_2d_backward_cuda does not have a deterministic implementation, but you set 'torch.use_deterministic_algorithms(True, warn_only=True)'. You can file an issue at https://github.com/pytorch/pytorch/issues to help us prioritize adding deterministic support for this operation. (Triggered internally at ../aten/src/ATen/Context.cpp:83.)\n",
            "    100/100        13G     0.5335     0.4606    0.07476          2        640: 100%|██████████| 14/14 [00:09<00:00,  1.43it/s]\n",
            "                 Class     Images  Instances      Box(P          R      mAP50  mAP50-95): 100%|██████████| 2/2 [00:00<00:00,  3.62it/s]"
          ]
        },
        {
          "output_type": "stream",
          "name": "stdout",
          "text": [
            "                   all         40        810      0.633      0.611      0.603      0.298\n"
          ]
        },
        {
          "output_type": "stream",
          "name": "stderr",
          "text": [
            "\n"
          ]
        },
        {
          "output_type": "stream",
          "name": "stdout",
          "text": [
            "\n",
            "100 epochs completed in 0.342 hours.\n",
            "Optimizer stripped from runs/detect/train2/weights/last.pt, 66.2MB\n",
            "Optimizer stripped from runs/detect/train2/weights/best.pt, 66.2MB\n",
            "\n",
            "Validating runs/detect/train2/weights/best.pt...\n",
            "Ultralytics YOLOv8.2.36 🚀 Python-3.10.12 torch-2.3.0+cu121 CUDA:0 (NVIDIA L4, 22700MiB)\n",
            "rt-detr-l summary: 498 layers, 31985795 parameters, 0 gradients, 103.4 GFLOPs\n"
          ]
        },
        {
          "output_type": "stream",
          "name": "stderr",
          "text": [
            "Plan failed with a cudnnException: CUDNN_BACKEND_EXECUTION_PLAN_DESCRIPTOR: cudnnFinalize Descriptor Failed cudnn_status: CUDNN_STATUS_NOT_SUPPORTED (Triggered internally at ../aten/src/ATen/native/cudnn/Conv_v8.cpp:919.)\n",
            "                 Class     Images  Instances      Box(P          R      mAP50  mAP50-95): 100%|██████████| 2/2 [00:00<00:00,  2.98it/s]\n"
          ]
        },
        {
          "output_type": "stream",
          "name": "stdout",
          "text": [
            "                   all         40        810       0.65      0.638      0.614      0.303\n",
            "Speed: 0.2ms preprocess, 9.4ms inference, 0.0ms loss, 0.3ms postprocess per image\n",
            "Results saved to \u001b[1mruns/detect/train2\u001b[0m\n"
          ]
        }
      ],
      "source": [
        "results = model.train(data=\"/content/hogweed-4/data.yaml\", epochs=100, imgsz=640)"
      ]
    },
    {
      "cell_type": "code",
      "source": [
        "# Load your fine-tuned model\n",
        "model = RTDETR(\"runs/detect/train2/weights/best.pt\")\n",
        "\n",
        "# Validate the model\n",
        "results = model.val(data=\"/content/hogweed-4/data.yaml\")\n",
        "\n",
        "# Print the mAP results\n",
        "print(f\"mAP50-95: {results.box.map:.4f}\")\n",
        "print(f\"mAP50: {results.box.map50:.4f}\")\n",
        "print(f\"mAP75: {results.box.map75:.4f}\")"
      ],
      "metadata": {
        "colab": {
          "base_uri": "https://localhost:8080/"
        },
        "id": "JcdC8_bw7FOc",
        "outputId": "cdaac688-a068-4ecd-a0eb-19f28ef437df"
      },
      "execution_count": null,
      "outputs": [
        {
          "output_type": "stream",
          "name": "stdout",
          "text": [
            "Ultralytics YOLOv8.2.36 🚀 Python-3.10.12 torch-2.3.0+cu121 CUDA:0 (NVIDIA L4, 22700MiB)\n",
            "rt-detr-l summary: 498 layers, 31985795 parameters, 0 gradients, 103.4 GFLOPs\n"
          ]
        },
        {
          "output_type": "stream",
          "name": "stderr",
          "text": [
            "\u001b[34m\u001b[1mval: \u001b[0mScanning /content/hogweed-4/valid/labels.cache... 40 images, 0 backgrounds, 0 corrupt: 100%|██████████| 40/40 [00:00<?, ?it/s]\n",
            "os.fork() was called. os.fork() is incompatible with multithreaded code, and JAX is multithreaded, so this will likely lead to a deadlock.\n",
            "                 Class     Images  Instances      Box(P          R      mAP50  mAP50-95): 100%|██████████| 3/3 [00:04<00:00,  1.52s/it]\n"
          ]
        },
        {
          "output_type": "stream",
          "name": "stdout",
          "text": [
            "                   all         40        810      0.653      0.642      0.617      0.305\n",
            "Speed: 0.2ms preprocess, 62.4ms inference, 0.0ms loss, 29.3ms postprocess per image\n",
            "Results saved to \u001b[1mruns/detect/val\u001b[0m\n",
            "mAP50-95: 0.3051\n",
            "mAP50: 0.6165\n",
            "mAP75: 0.2673\n"
          ]
        }
      ]
    },
    {
      "cell_type": "code",
      "source": [
        "import locale\n",
        "locale.getpreferredencoding = lambda: \"UTF-8\""
      ],
      "metadata": {
        "id": "B0XbLDSvALPt"
      },
      "execution_count": null,
      "outputs": []
    },
    {
      "cell_type": "code",
      "source": [
        "!pip install opencv-python"
      ],
      "metadata": {
        "colab": {
          "base_uri": "https://localhost:8080/"
        },
        "id": "a4rMKvW7AGnc",
        "outputId": "67e37e5e-3eaa-410c-bfec-9e7dbcf7c097"
      },
      "execution_count": null,
      "outputs": [
        {
          "output_type": "stream",
          "name": "stdout",
          "text": [
            "Requirement already satisfied: opencv-python in /usr/local/lib/python3.10/dist-packages (4.8.0.76)\n",
            "Requirement already satisfied: numpy>=1.21.2 in /usr/local/lib/python3.10/dist-packages (from opencv-python) (1.25.2)\n"
          ]
        }
      ]
    },
    {
      "cell_type": "code",
      "source": [
        "import cv2\n",
        "from ultralytics import RTDETR\n",
        "\n",
        "video_path = 0\n",
        "cap = cv2.VideoCapture(video_path)\n",
        "\n",
        "window_width = 640\n",
        "window_height = 480\n",
        "model = RTDETR('/content/runs/detect/train2/weights/best.pt')\n",
        "\n",
        "while cap.isOpened():\n",
        "  #read a frame from the video\n",
        "  []\n",
        "  success, frame = cap.read()\n",
        "  if success:\n",
        "    results = model.predict(frame, conf=0.5)\n",
        "    annotated_frame = results[0].plot()\n",
        "    #display the frame\n",
        "    cv2.imshow(\" model Test\", annotated_frame)\n",
        "    #Break the loop if q is pressed\n",
        "    if cv2.waitKey(1) & 0xFF == ord(\"q\"):\n",
        "        break\n",
        "    else:\n",
        "      #Break the loop if the end of the video is reached\n",
        "      break\n",
        "     #Release the video capture object and close the display window\n",
        "cap.release()\n",
        "#print"
      ],
      "metadata": {
        "id": "BsPgfZ5K-Ufd"
      },
      "execution_count": null,
      "outputs": []
    },
    {
      "cell_type": "code",
      "source": [
        "import cv2\n",
        "print(cv2.__version__)"
      ],
      "metadata": {
        "colab": {
          "base_uri": "https://localhost:8080/"
        },
        "id": "r8A33813CjSN",
        "outputId": "7c0eaed7-1912-43d1-c227-249961078ee1"
      },
      "execution_count": null,
      "outputs": [
        {
          "output_type": "stream",
          "name": "stdout",
          "text": [
            "4.8.0\n"
          ]
        }
      ]
    },
    {
      "cell_type": "code",
      "source": [
        "!pip install opencv-python-headless"
      ],
      "metadata": {
        "colab": {
          "base_uri": "https://localhost:8080/"
        },
        "id": "ZCZhpbNuCrQA",
        "outputId": "9d70b06d-31c6-48b6-c762-2962f071cb66"
      },
      "execution_count": null,
      "outputs": [
        {
          "output_type": "stream",
          "name": "stdout",
          "text": [
            "Requirement already satisfied: opencv-python-headless in /usr/local/lib/python3.10/dist-packages (4.8.0.74)\n",
            "Requirement already satisfied: numpy>=1.21.2 in /usr/local/lib/python3.10/dist-packages (from opencv-python-headless) (1.25.2)\n"
          ]
        }
      ]
    },
    {
      "cell_type": "code",
      "source": [
        "import cv2\n",
        "from ultralytics import RTDETR\n",
        "\n",
        "video_path = 0\n",
        "cap = cv2.VideoCapture(video_path)\n",
        "\n",
        "window_width = 640\n",
        "window_height = 480\n",
        "cv2.namedWindow(\"model Test\", cv2.WINDOW_NORMAL)\n",
        "cv2.resizeWindow(\"model Test\", window_width, window_height)\n",
        "model = RTDETR('best.pt')\n",
        "\n",
        "while cap.isOpened():\n",
        "    # Read a frame from the video\n",
        "    success, frame = cap.read()\n",
        "\n",
        "    if success:\n",
        "        results = model.predict(frame, conf=0.5)\n",
        "        annotated_frame = results[0].plot()\n",
        "\n",
        "        # Display the frame\n",
        "        cv2.imshow(\"model Test\", annotated_frame)\n",
        "\n",
        "        # Break the loop if 'q' is pressed\n",
        "        if cv2.waitKey(1) & 0xFF == ord(\"q\"):\n",
        "            break\n",
        "    else:\n",
        "        # Break the loop if the end of the video is reached\n",
        "        break\n",
        "\n",
        "# Release the video capture object and close the display window\n",
        "cap.release()\n",
        "cv2.destroyAllWindows()\n",
        "\n",
        "\n"
      ],
      "metadata": {
        "colab": {
          "base_uri": "https://localhost:8080/",
          "height": 241
        },
        "id": "rTELw_C9CAC_",
        "outputId": "d7997e24-1bae-46a5-ad5e-1fde803c6075"
      },
      "execution_count": null,
      "outputs": [
        {
          "output_type": "error",
          "ename": "error",
          "evalue": "OpenCV(4.8.0) /io/opencv/modules/highgui/src/window.cpp:1255: error: (-2:Unspecified error) The function is not implemented. Rebuild the library with Windows, GTK+ 2.x or Cocoa support. If you are on Ubuntu or Debian, install libgtk2.0-dev and pkg-config, then re-run cmake or configure script in function 'cvNamedWindow'\n",
          "traceback": [
            "\u001b[0;31m---------------------------------------------------------------------------\u001b[0m",
            "\u001b[0;31merror\u001b[0m                                     Traceback (most recent call last)",
            "\u001b[0;32m<ipython-input-25-5d1723680351>\u001b[0m in \u001b[0;36m<cell line: 9>\u001b[0;34m()\u001b[0m\n\u001b[1;32m      7\u001b[0m \u001b[0mwindow_width\u001b[0m \u001b[0;34m=\u001b[0m \u001b[0;36m640\u001b[0m\u001b[0;34m\u001b[0m\u001b[0;34m\u001b[0m\u001b[0m\n\u001b[1;32m      8\u001b[0m \u001b[0mwindow_height\u001b[0m \u001b[0;34m=\u001b[0m \u001b[0;36m480\u001b[0m\u001b[0;34m\u001b[0m\u001b[0;34m\u001b[0m\u001b[0m\n\u001b[0;32m----> 9\u001b[0;31m \u001b[0mcv2\u001b[0m\u001b[0;34m.\u001b[0m\u001b[0mnamedWindow\u001b[0m\u001b[0;34m(\u001b[0m\u001b[0;34m\"model Test\"\u001b[0m\u001b[0;34m,\u001b[0m \u001b[0mcv2\u001b[0m\u001b[0;34m.\u001b[0m\u001b[0mWINDOW_NORMAL\u001b[0m\u001b[0;34m)\u001b[0m\u001b[0;34m\u001b[0m\u001b[0;34m\u001b[0m\u001b[0m\n\u001b[0m\u001b[1;32m     10\u001b[0m \u001b[0mcv2\u001b[0m\u001b[0;34m.\u001b[0m\u001b[0mresizeWindow\u001b[0m\u001b[0;34m(\u001b[0m\u001b[0;34m\"model Test\"\u001b[0m\u001b[0;34m,\u001b[0m \u001b[0mwindow_width\u001b[0m\u001b[0;34m,\u001b[0m \u001b[0mwindow_height\u001b[0m\u001b[0;34m)\u001b[0m\u001b[0;34m\u001b[0m\u001b[0;34m\u001b[0m\u001b[0m\n\u001b[1;32m     11\u001b[0m \u001b[0mmodel\u001b[0m \u001b[0;34m=\u001b[0m \u001b[0mRTDETR\u001b[0m\u001b[0;34m(\u001b[0m\u001b[0;34m'best.pt'\u001b[0m\u001b[0;34m)\u001b[0m\u001b[0;34m\u001b[0m\u001b[0;34m\u001b[0m\u001b[0m\n",
            "\u001b[0;31merror\u001b[0m: OpenCV(4.8.0) /io/opencv/modules/highgui/src/window.cpp:1255: error: (-2:Unspecified error) The function is not implemented. Rebuild the library with Windows, GTK+ 2.x or Cocoa support. If you are on Ubuntu or Debian, install libgtk2.0-dev and pkg-config, then re-run cmake or configure script in function 'cvNamedWindow'\n"
          ]
        }
      ]
    },
    {
      "cell_type": "code",
      "source": [
        "import cv2\n",
        "from ultralytics import RTDETR\n",
        "\n",
        "# Function to enable webcam access in Colab\n",
        "from google.colab import output\n",
        "from IPython.display import display, Javascript\n",
        "\n",
        "def enable_camera():\n",
        "    display(Javascript('''\n",
        "    async function enableCam() {\n",
        "        const stream = await navigator.mediaDevices.getUserMedia({ video: true });\n",
        "        const video = document.createElement('video');\n",
        "        document.body.appendChild(video);\n",
        "        video.srcObject = stream;\n",
        "        await video.play();\n",
        "\n",
        "        // Resize the output to fit the video element.\n",
        "        google.colab.output.setIframeHeight(document.documentElement.scrollHeight, true);\n",
        "    }\n",
        "    enableCam();\n",
        "    '''))\n",
        "\n",
        "# Call the function to enable camera access\n",
        "#enable_camera()\n",
        "\n",
        "# Load the RTDETR model\n",
        "model = RTDETR('/content/runs/detect/train2/weights/best.pt')\n",
        "\n",
        "# Capture video from the webcam\n",
        "cap = cv2.VideoCapture(0)  # Use 0 for default webcam\n",
        "\n",
        "while True:\n",
        "    ret, frame = cap.read()\n",
        "    if not ret:\n",
        "        print(\"Failed to capture frame from webcam.\")\n",
        "        break\n",
        "\n",
        "    # Predict using RTDETR model\n",
        "    results = model.predict(frame, conf=0.5)\n",
        "    annotated_frame = results[0].plot()\n",
        "\n",
        "    # Display the annotated frame\n",
        "    cv2.imshow('RTDETR Model Output', annotated_frame)\n",
        "\n",
        "    # Exit the loop if 'q' is pressed\n",
        "    if cv2.waitKey(1) & 0xFF == ord('q'):\n",
        "        break\n",
        "\n",
        "# Release the video capture object and close the display window\n",
        "cap.release()\n",
        "\n"
      ],
      "metadata": {
        "colab": {
          "base_uri": "https://localhost:8080/"
        },
        "id": "i4gr1RL_HZbJ",
        "outputId": "1e0c5642-26a9-4076-b895-a1007e53c652"
      },
      "execution_count": null,
      "outputs": [
        {
          "output_type": "stream",
          "name": "stderr",
          "text": [
            "Exception ignored in: <function _MultiProcessingDataLoaderIter.__del__ at 0x7b38601bea70>\n",
            "Traceback (most recent call last):\n",
            "  File \"/usr/local/lib/python3.10/dist-packages/torch/utils/data/dataloader.py\", line 1479, in __del__\n",
            "    self._shutdown_workers()\n",
            "  File \"/usr/local/lib/python3.10/dist-packages/torch/utils/data/dataloader.py\", line 1443, in _shutdown_workers\n",
            "    w.join(timeout=_utils.MP_STATUS_CHECK_INTERVAL)\n",
            "  File \"/usr/lib/python3.10/multiprocessing/process.py\", line 149, in join\n",
            "    res = self._popen.wait(timeout)\n",
            "  File \"/usr/lib/python3.10/multiprocessing/popen_fork.py\", line 40, in wait\n",
            "    if not wait([self.sentinel], timeout):\n",
            "  File \"/usr/lib/python3.10/multiprocessing/connection.py\", line 931, in wait\n",
            "    ready = selector.select(timeout)\n",
            "  File \"/usr/lib/python3.10/selectors.py\", line 416, in select\n",
            "    fd_event_list = self._selector.poll(timeout)\n",
            "KeyboardInterrupt: \n"
          ]
        },
        {
          "output_type": "stream",
          "name": "stdout",
          "text": [
            "Failed to capture frame from webcam.\n"
          ]
        }
      ]
    },
    {
      "cell_type": "code",
      "source": [
        "!pip install pyvirtualcam\n",
        "\n",
        "import cv2\n",
        "from pyvirtualcam import Camera\n",
        "\n",
        "# Function to enable webcam access in Colab\n",
        "from google.colab import output\n",
        "from IPython.display import display, Javascript\n",
        "\n",
        "def enable_camera():\n",
        "    display(Javascript('''\n",
        "    async function enableCam() {\n",
        "        const stream = await navigator.mediaDevices.getUserMedia({ video: true });\n",
        "        const video = document.createElement('video');\n",
        "        document.body.appendChild(video);\n",
        "        video.srcObject = stream;\n",
        "        await video.play();\n",
        "\n",
        "        // Resize the output to fit the video element.\n",
        "        google.colab.output.setIframeHeight(document.documentElement.scrollHeight, true);\n",
        "    }\n",
        "    enableCam();\n",
        "    '''))\n",
        "\n",
        "# Call the function to enable camera access\n",
        "#enable_camera()\n",
        "\n",
        "# Create a virtual camera instance\n",
        "with Camera(width=640, height=480, fps=30) as virtual_cam:\n",
        "    while True:\n",
        "        # Capture video from the webcam\n",
        "        cap = cv2.VideoCapture(0)  # Use 0 for default webcam\n",
        "\n",
        "        ret, frame = cap.read()\n",
        "        if not ret:\n",
        "            print(\"Failed to capture frame from webcam.\")\n",
        "            break\n",
        "\n",
        "        # Process the frame (e.g., annotate, apply model)\n",
        "        # Example: Display the frame\n",
        "        cv2.imshow('Webcam', frame)\n",
        "\n",
        "        # Send the frame to virtual camera\n",
        "        virtual_cam.send(frame)\n",
        "\n",
        "        # Exit the loop if 'q' is pressed\n",
        "        if cv2.waitKey(1) & 0xFF == ord('q'):\n",
        "            break\n",
        "\n",
        "        # Release the video capture object\n",
        "        cap.release()\n",
        "\n",
        "        # Release the virtual camera\n",
        "        virtual_cam.close()\n",
        "\n"
      ],
      "metadata": {
        "colab": {
          "base_uri": "https://localhost:8080/",
          "height": 1000
        },
        "id": "R_x5YmXqHunF",
        "outputId": "7de62345-4389-4f59-f411-95c0a9802f19"
      },
      "execution_count": null,
      "outputs": [
        {
          "output_type": "stream",
          "name": "stdout",
          "text": [
            "Requirement already satisfied: pyvirtualcam in /usr/local/lib/python3.10/dist-packages (0.11.1)\n",
            "Requirement already satisfied: numpy in /usr/local/lib/python3.10/dist-packages (from pyvirtualcam) (1.25.2)\n",
            "Traceback (most recent call last):\n",
            "  File \"/usr/local/lib/python3.10/dist-packages/pip/_vendor/pkg_resources/__init__.py\", line 3108, in _dep_map\n",
            "    return self.__dep_map\n",
            "  File \"/usr/local/lib/python3.10/dist-packages/pip/_vendor/pkg_resources/__init__.py\", line 2901, in __getattr__\n",
            "    raise AttributeError(attr)\n",
            "AttributeError: _DistInfoDistribution__dep_map\n",
            "\n",
            "During handling of the above exception, another exception occurred:\n",
            "\n",
            "Traceback (most recent call last):\n",
            "  File \"/usr/local/lib/python3.10/dist-packages/pip/_internal/cli/base_command.py\", line 169, in exc_logging_wrapper\n",
            "    status = run_func(*args)\n",
            "  File \"/usr/local/lib/python3.10/dist-packages/pip/_internal/cli/req_command.py\", line 242, in wrapper\n",
            "    return func(self, options, args)\n",
            "  File \"/usr/local/lib/python3.10/dist-packages/pip/_internal/commands/install.py\", line 441, in run\n",
            "    conflicts = self._determine_conflicts(to_install)\n",
            "  File \"/usr/local/lib/python3.10/dist-packages/pip/_internal/commands/install.py\", line 572, in _determine_conflicts\n",
            "    return check_install_conflicts(to_install)\n",
            "  File \"/usr/local/lib/python3.10/dist-packages/pip/_internal/operations/check.py\", line 101, in check_install_conflicts\n",
            "    package_set, _ = create_package_set_from_installed()\n",
            "  File \"/usr/local/lib/python3.10/dist-packages/pip/_internal/operations/check.py\", line 42, in create_package_set_from_installed\n",
            "    dependencies = list(dist.iter_dependencies())\n",
            "  File \"/usr/local/lib/python3.10/dist-packages/pip/_internal/metadata/pkg_resources.py\", line 216, in iter_dependencies\n",
            "    return self._dist.requires(extras)\n",
            "  File \"/usr/local/lib/python3.10/dist-packages/pip/_vendor/pkg_resources/__init__.py\", line 2821, in requires\n",
            "    dm = self._dep_map\n",
            "  File \"/usr/local/lib/python3.10/dist-packages/pip/_vendor/pkg_resources/__init__.py\", line 3110, in _dep_map\n",
            "    self.__dep_map = self._compute_dependencies()\n",
            "  File \"/usr/local/lib/python3.10/dist-packages/pip/_vendor/pkg_resources/__init__.py\", line 3132, in _compute_dependencies\n",
            "    dm[s_extra] = [r for r in reqs_for_extra(extra) if r not in common]\n",
            "  File \"/usr/local/lib/python3.10/dist-packages/pip/_vendor/pkg_resources/__init__.py\", line 3132, in <listcomp>\n",
            "    dm[s_extra] = [r for r in reqs_for_extra(extra) if r not in common]\n",
            "  File \"/usr/local/lib/python3.10/dist-packages/pip/_vendor/pkg_resources/__init__.py\", line 3124, in reqs_for_extra\n",
            "    if not req.marker or req.marker.evaluate({'extra': extra}):\n",
            "  File \"/usr/local/lib/python3.10/dist-packages/pip/_vendor/packaging/markers.py\", line 304, in evaluate\n",
            "    return _evaluate_markers(self._markers, current_environment)\n",
            "  File \"/usr/local/lib/python3.10/dist-packages/pip/_vendor/packaging/markers.py\", line 229, in _evaluate_markers\n",
            "    groups[-1].append(_evaluate_markers(marker, environment))\n",
            "  File \"/usr/local/lib/python3.10/dist-packages/pip/_vendor/packaging/markers.py\", line 240, in _evaluate_markers\n",
            "    groups[-1].append(_eval_op(lhs_value, op, rhs_value))\n",
            "  File \"/usr/local/lib/python3.10/dist-packages/pip/_vendor/packaging/markers.py\", line 195, in _eval_op\n",
            "    return spec.contains(lhs)\n",
            "  File \"/usr/local/lib/python3.10/dist-packages/pip/_vendor/packaging/specifiers.py\", line 178, in contains\n",
            "    normalized_item = self._coerce_version(item)\n",
            "  File \"/usr/local/lib/python3.10/dist-packages/pip/_vendor/packaging/specifiers.py\", line 146, in _coerce_version\n",
            "    version = parse(version)\n",
            "  File \"/usr/local/lib/python3.10/dist-packages/pip/_vendor/packaging/version.py\", line 49, in parse\n",
            "    return Version(version)\n",
            "  File \"/usr/local/lib/python3.10/dist-packages/pip/_vendor/packaging/version.py\", line 269, in __init__\n",
            "    self._version = _Version(\n",
            "  File \"<string>\", line 1, in <lambda>\n",
            "KeyboardInterrupt\n",
            "\n",
            "During handling of the above exception, another exception occurred:\n",
            "\n",
            "Traceback (most recent call last):\n",
            "  File \"/usr/local/bin/pip3\", line 8, in <module>\n",
            "    sys.exit(main())\n",
            "  File \"/usr/local/lib/python3.10/dist-packages/pip/_internal/cli/main.py\", line 79, in main\n",
            "    return command.main(cmd_args)\n",
            "  File \"/usr/local/lib/python3.10/dist-packages/pip/_internal/cli/base_command.py\", line 101, in main\n",
            "    return self._main(args)\n",
            "  File \"/usr/local/lib/python3.10/dist-packages/pip/_internal/cli/base_command.py\", line 223, in _main\n",
            "    return run(options, args)\n",
            "  File \"/usr/local/lib/python3.10/dist-packages/pip/_internal/cli/base_command.py\", line 206, in exc_logging_wrapper\n",
            "    logger.critical(\"Operation cancelled by user\")\n",
            "  File \"/usr/lib/python3.10/logging/__init__.py\", line 1524, in critical\n",
            "    self._log(CRITICAL, msg, args, **kwargs)\n",
            "  File \"/usr/lib/python3.10/logging/__init__.py\", line 1624, in _log\n",
            "    self.handle(record)\n",
            "  File \"/usr/lib/python3.10/logging/__init__.py\", line 1634, in handle\n",
            "    self.callHandlers(record)\n",
            "  File \"/usr/lib/python3.10/logging/__init__.py\", line 1680, in callHandlers\n",
            "    def callHandlers(self, record):\n",
            "KeyboardInterrupt\n",
            "^C\n"
          ]
        },
        {
          "output_type": "error",
          "ename": "RuntimeError",
          "evalue": "'v4l2loopback' backend: No v4l2 loopback device found at /dev/video[0-99]. Did you run 'modprobe v4l2loopback'? See also pyvirtualcam's documentation.",
          "traceback": [
            "\u001b[0;31m---------------------------------------------------------------------------\u001b[0m",
            "\u001b[0;31mRuntimeError\u001b[0m                              Traceback (most recent call last)",
            "\u001b[0;32m<ipython-input-37-9cdccb1321b8>\u001b[0m in \u001b[0;36m<cell line: 29>\u001b[0;34m()\u001b[0m\n\u001b[1;32m     27\u001b[0m \u001b[0;34m\u001b[0m\u001b[0m\n\u001b[1;32m     28\u001b[0m \u001b[0;31m# Create a virtual camera instance\u001b[0m\u001b[0;34m\u001b[0m\u001b[0;34m\u001b[0m\u001b[0m\n\u001b[0;32m---> 29\u001b[0;31m \u001b[0;32mwith\u001b[0m \u001b[0mCamera\u001b[0m\u001b[0;34m(\u001b[0m\u001b[0mwidth\u001b[0m\u001b[0;34m=\u001b[0m\u001b[0;36m640\u001b[0m\u001b[0;34m,\u001b[0m \u001b[0mheight\u001b[0m\u001b[0;34m=\u001b[0m\u001b[0;36m480\u001b[0m\u001b[0;34m,\u001b[0m \u001b[0mfps\u001b[0m\u001b[0;34m=\u001b[0m\u001b[0;36m30\u001b[0m\u001b[0;34m)\u001b[0m \u001b[0;32mas\u001b[0m \u001b[0mvirtual_cam\u001b[0m\u001b[0;34m:\u001b[0m\u001b[0;34m\u001b[0m\u001b[0;34m\u001b[0m\u001b[0m\n\u001b[0m\u001b[1;32m     30\u001b[0m     \u001b[0;32mwhile\u001b[0m \u001b[0;32mTrue\u001b[0m\u001b[0;34m:\u001b[0m\u001b[0;34m\u001b[0m\u001b[0;34m\u001b[0m\u001b[0m\n\u001b[1;32m     31\u001b[0m         \u001b[0;31m# Capture video from the webcam\u001b[0m\u001b[0;34m\u001b[0m\u001b[0;34m\u001b[0m\u001b[0m\n",
            "\u001b[0;32m/usr/local/lib/python3.10/dist-packages/pyvirtualcam/camera.py\u001b[0m in \u001b[0;36m__init__\u001b[0;34m(self, width, height, fps, fmt, device, backend, print_fps, **kw)\u001b[0m\n\u001b[1;32m    217\u001b[0m                 \u001b[0;32mbreak\u001b[0m\u001b[0;34m\u001b[0m\u001b[0;34m\u001b[0m\u001b[0m\n\u001b[1;32m    218\u001b[0m         \u001b[0;32mif\u001b[0m \u001b[0mself\u001b[0m\u001b[0;34m.\u001b[0m\u001b[0m_backend\u001b[0m \u001b[0;32mis\u001b[0m \u001b[0;32mNone\u001b[0m\u001b[0;34m:\u001b[0m\u001b[0;34m\u001b[0m\u001b[0;34m\u001b[0m\u001b[0m\n\u001b[0;32m--> 219\u001b[0;31m             \u001b[0;32mraise\u001b[0m \u001b[0mRuntimeError\u001b[0m\u001b[0;34m(\u001b[0m\u001b[0;34m'\\n'\u001b[0m\u001b[0;34m.\u001b[0m\u001b[0mjoin\u001b[0m\u001b[0;34m(\u001b[0m\u001b[0merrors\u001b[0m\u001b[0;34m)\u001b[0m\u001b[0;34m)\u001b[0m\u001b[0;34m\u001b[0m\u001b[0;34m\u001b[0m\u001b[0m\n\u001b[0m\u001b[1;32m    220\u001b[0m \u001b[0;34m\u001b[0m\u001b[0m\n\u001b[1;32m    221\u001b[0m         \u001b[0mself\u001b[0m\u001b[0;34m.\u001b[0m\u001b[0m_width\u001b[0m \u001b[0;34m=\u001b[0m \u001b[0mwidth\u001b[0m\u001b[0;34m\u001b[0m\u001b[0;34m\u001b[0m\u001b[0m\n",
            "\u001b[0;31mRuntimeError\u001b[0m: 'v4l2loopback' backend: No v4l2 loopback device found at /dev/video[0-99]. Did you run 'modprobe v4l2loopback'? See also pyvirtualcam's documentation."
          ]
        }
      ]
    },
    {
      "cell_type": "code",
      "source": [
        "import cv2\n",
        "from ultralytics import RTDETR\n",
        "\n",
        "# Function to enable webcam access in Colab\n",
        "from google.colab import output\n",
        "from IPython.display import display, Javascript\n",
        "\n",
        "def enable_camera():\n",
        "    display(Javascript('''\n",
        "    async function enableCam() {\n",
        "        const stream = await navigator.mediaDevices.getUserMedia({ video: true });\n",
        "        const video = document.createElement('video');\n",
        "        document.body.appendChild(video);\n",
        "        video.srcObject = stream;\n",
        "        await video.play();\n",
        "\n",
        "        // Resize the output to fit the video element.\n",
        "        google.colab.output.setIframeHeight(document.documentElement.scrollHeight, true);\n",
        "    }\n",
        "    enableCam();\n",
        "    '''))\n",
        "\n",
        "# Call the function to enable camera access\n",
        "#enable_camera()\n",
        "\n",
        "# Load the RTDETR model\n",
        "model = RTDETR('/content/runs/detect/train2/weights/best.pt')\n",
        "\n",
        "# Access webcam\n",
        "cap = cv2.VideoCapture(0)  # 0 for default webcam\n",
        "\n",
        "# Detection loop\n",
        "while True:\n",
        "  # Capture frame\n",
        "  success, frame = cap.read()\n",
        "\n",
        "  # Check if frame capture succeeded, otherwise skip to next iteration\n",
        "  if not success:\n",
        "    print(\"Failed to capture frame. Trying again...\")\n",
        "    continue\n",
        "\n",
        "  # Perform detection (adjust confidence threshold as needed)\n",
        "  results = model.predict(frame, conf=0.5)  # Change 0.5 to your desired confidence threshold\n",
        "\n",
        "  # Visualize detections on frame\n",
        "  annotated_frame = results[0].plot(cmap='inferno')  # Choose desired colormap\n",
        "\n",
        "  # Display the frame with detections\n",
        "  cv2.imshow('RT-DETR Webcam Detection', annotated_frame)\n",
        "\n",
        "  # Handle user input to quit (press 'q')\n",
        "  key = cv2.waitKey(1) & 0xFF\n",
        "  if key == ord('q'):\n",
        "    break\n",
        "\n",
        "# Release resources\n",
        "cap.release()\n",
        "cv2.destroyAllWindows()\n",
        "\n",
        "\n"
      ],
      "metadata": {
        "colab": {
          "base_uri": "https://localhost:8080/",
          "height": 1000
        },
        "id": "5FDFcHv6INOS",
        "outputId": "7c855ee1-741d-44b6-96b3-83dbc5525959"
      },
      "execution_count": null,
      "outputs": [
        {
          "output_type": "stream",
          "name": "stdout",
          "text": [
            "\u001b[1;30;43mStreaming output truncated to the last 5000 lines.\u001b[0m\n",
            "Failed to capture frame. Trying again...\n",
            "Failed to capture frame. Trying again...\n",
            "Failed to capture frame. Trying again...\n",
            "Failed to capture frame. Trying again...\n",
            "Failed to capture frame. Trying again...\n",
            "Failed to capture frame. Trying again...\n",
            "Failed to capture frame. Trying again...\n",
            "Failed to capture frame. Trying again...\n",
            "Failed to capture frame. Trying again...\n",
            "Failed to capture frame. Trying again...\n",
            "Failed to capture frame. Trying again...\n",
            "Failed to capture frame. Trying again...\n",
            "Failed to capture frame. Trying again...\n",
            "Failed to capture frame. Trying again...\n",
            "Failed to capture frame. Trying again...\n",
            "Failed to capture frame. Trying again...\n",
            "Failed to capture frame. Trying again...\n",
            "Failed to capture frame. Trying again...\n",
            "Failed to capture frame. Trying again...\n",
            "Failed to capture frame. Trying again...\n",
            "Failed to capture frame. Trying again...\n",
            "Failed to capture frame. Trying again...\n",
            "Failed to capture frame. Trying again...\n",
            "Failed to capture frame. Trying again...\n",
            "Failed to capture frame. Trying again...\n",
            "Failed to capture frame. Trying again...\n",
            "Failed to capture frame. Trying again...\n",
            "Failed to capture frame. Trying again...\n",
            "Failed to capture frame. Trying again...\n",
            "Failed to capture frame. Trying again...\n",
            "Failed to capture frame. Trying again...\n",
            "Failed to capture frame. Trying again...\n",
            "Failed to capture frame. Trying again...\n",
            "Failed to capture frame. Trying again...\n",
            "Failed to capture frame. Trying again...\n",
            "Failed to capture frame. Trying again...\n",
            "Failed to capture frame. Trying again...\n",
            "Failed to capture frame. Trying again...\n",
            "Failed to capture frame. Trying again...\n",
            "Failed to capture frame. Trying again...\n",
            "Failed to capture frame. Trying again...\n",
            "Failed to capture frame. Trying again...\n",
            "Failed to capture frame. Trying again...\n",
            "Failed to capture frame. Trying again...\n",
            "Failed to capture frame. Trying again...\n",
            "Failed to capture frame. Trying again...\n",
            "Failed to capture frame. Trying again...\n",
            "Failed to capture frame. Trying again...\n",
            "Failed to capture frame. Trying again...\n",
            "Failed to capture frame. Trying again...\n",
            "Failed to capture frame. Trying again...\n",
            "Failed to capture frame. Trying again...\n",
            "Failed to capture frame. Trying again...\n",
            "Failed to capture frame. Trying again...\n",
            "Failed to capture frame. Trying again...\n",
            "Failed to capture frame. Trying again...\n",
            "Failed to capture frame. Trying again...\n",
            "Failed to capture frame. Trying again...\n",
            "Failed to capture frame. Trying again...\n",
            "Failed to capture frame. Trying again...\n",
            "Failed to capture frame. Trying again...\n",
            "Failed to capture frame. Trying again...\n",
            "Failed to capture frame. Trying again...\n",
            "Failed to capture frame. Trying again...\n",
            "Failed to capture frame. Trying again...\n",
            "Failed to capture frame. Trying again...\n",
            "Failed to capture frame. Trying again...\n",
            "Failed to capture frame. Trying again...\n",
            "Failed to capture frame. Trying again...\n",
            "Failed to capture frame. Trying again...\n",
            "Failed to capture frame. Trying again...\n",
            "Failed to capture frame. Trying again...\n",
            "Failed to capture frame. Trying again...\n",
            "Failed to capture frame. Trying again...\n",
            "Failed to capture frame. Trying again...\n",
            "Failed to capture frame. Trying again...\n",
            "Failed to capture frame. Trying again...\n",
            "Failed to capture frame. Trying again...\n",
            "Failed to capture frame. Trying again...\n",
            "Failed to capture frame. Trying again...\n",
            "Failed to capture frame. Trying again...\n",
            "Failed to capture frame. Trying again...\n",
            "Failed to capture frame. Trying again...\n",
            "Failed to capture frame. Trying again...\n",
            "Failed to capture frame. Trying again...\n",
            "Failed to capture frame. Trying again...\n",
            "Failed to capture frame. Trying again...\n",
            "Failed to capture frame. Trying again...\n",
            "Failed to capture frame. Trying again...\n",
            "Failed to capture frame. Trying again...\n",
            "Failed to capture frame. Trying again...\n",
            "Failed to capture frame. Trying again...\n",
            "Failed to capture frame. Trying again...\n",
            "Failed to capture frame. Trying again...\n",
            "Failed to capture frame. Trying again...\n",
            "Failed to capture frame. Trying again...\n",
            "Failed to capture frame. Trying again...\n",
            "Failed to capture frame. Trying again...\n",
            "Failed to capture frame. Trying again...\n",
            "Failed to capture frame. Trying again...\n",
            "Failed to capture frame. Trying again...\n",
            "Failed to capture frame. Trying again...\n",
            "Failed to capture frame. Trying again...\n",
            "Failed to capture frame. Trying again...\n",
            "Failed to capture frame. Trying again...\n",
            "Failed to capture frame. Trying again...\n",
            "Failed to capture frame. Trying again...\n",
            "Failed to capture frame. Trying again...\n",
            "Failed to capture frame. Trying again...\n",
            "Failed to capture frame. Trying again...\n",
            "Failed to capture frame. Trying again...\n",
            "Failed to capture frame. Trying again...\n",
            "Failed to capture frame. Trying again...\n",
            "Failed to capture frame. Trying again...\n",
            "Failed to capture frame. Trying again...\n",
            "Failed to capture frame. Trying again...\n",
            "Failed to capture frame. Trying again...\n",
            "Failed to capture frame. Trying again...\n",
            "Failed to capture frame. Trying again...\n",
            "Failed to capture frame. Trying again...\n",
            "Failed to capture frame. Trying again...\n",
            "Failed to capture frame. Trying again...\n",
            "Failed to capture frame. Trying again...\n",
            "Failed to capture frame. Trying again...\n",
            "Failed to capture frame. Trying again...\n",
            "Failed to capture frame. Trying again...\n",
            "Failed to capture frame. Trying again...\n",
            "Failed to capture frame. Trying again...\n",
            "Failed to capture frame. Trying again...\n",
            "Failed to capture frame. Trying again...\n",
            "Failed to capture frame. Trying again...\n",
            "Failed to capture frame. Trying again...\n",
            "Failed to capture frame. Trying again...\n",
            "Failed to capture frame. Trying again...\n",
            "Failed to capture frame. Trying again...\n",
            "Failed to capture frame. Trying again...\n",
            "Failed to capture frame. Trying again...\n",
            "Failed to capture frame. Trying again...\n",
            "Failed to capture frame. Trying again...\n",
            "Failed to capture frame. Trying again...\n",
            "Failed to capture frame. Trying again...\n",
            "Failed to capture frame. Trying again...\n",
            "Failed to capture frame. Trying again...\n",
            "Failed to capture frame. Trying again...\n",
            "Failed to capture frame. Trying again...\n",
            "Failed to capture frame. Trying again...\n",
            "Failed to capture frame. Trying again...\n",
            "Failed to capture frame. Trying again...\n",
            "Failed to capture frame. Trying again...\n",
            "Failed to capture frame. Trying again...\n",
            "Failed to capture frame. Trying again...\n",
            "Failed to capture frame. Trying again...\n",
            "Failed to capture frame. Trying again...\n",
            "Failed to capture frame. Trying again...\n",
            "Failed to capture frame. Trying again...\n",
            "Failed to capture frame. Trying again...\n",
            "Failed to capture frame. Trying again...\n",
            "Failed to capture frame. Trying again...\n",
            "Failed to capture frame. Trying again...\n",
            "Failed to capture frame. Trying again...\n",
            "Failed to capture frame. Trying again...\n",
            "Failed to capture frame. Trying again...\n",
            "Failed to capture frame. Trying again...\n",
            "Failed to capture frame. Trying again...\n",
            "Failed to capture frame. Trying again...\n",
            "Failed to capture frame. Trying again...\n",
            "Failed to capture frame. Trying again...\n",
            "Failed to capture frame. Trying again...\n",
            "Failed to capture frame. Trying again...\n",
            "Failed to capture frame. Trying again...\n",
            "Failed to capture frame. Trying again...\n",
            "Failed to capture frame. Trying again...\n",
            "Failed to capture frame. Trying again...\n",
            "Failed to capture frame. Trying again...\n",
            "Failed to capture frame. Trying again...\n",
            "Failed to capture frame. Trying again...\n",
            "Failed to capture frame. Trying again...\n",
            "Failed to capture frame. Trying again...\n",
            "Failed to capture frame. Trying again...\n",
            "Failed to capture frame. Trying again...\n",
            "Failed to capture frame. Trying again...\n",
            "Failed to capture frame. Trying again...\n",
            "Failed to capture frame. Trying again...\n",
            "Failed to capture frame. Trying again...\n",
            "Failed to capture frame. Trying again...\n",
            "Failed to capture frame. Trying again...\n",
            "Failed to capture frame. Trying again...\n",
            "Failed to capture frame. Trying again...\n",
            "Failed to capture frame. Trying again...\n",
            "Failed to capture frame. Trying again...\n",
            "Failed to capture frame. Trying again...\n",
            "Failed to capture frame. Trying again...\n",
            "Failed to capture frame. Trying again...\n",
            "Failed to capture frame. Trying again...\n",
            "Failed to capture frame. Trying again...\n",
            "Failed to capture frame. Trying again...\n",
            "Failed to capture frame. Trying again...\n",
            "Failed to capture frame. Trying again...\n",
            "Failed to capture frame. Trying again...\n",
            "Failed to capture frame. Trying again...\n",
            "Failed to capture frame. Trying again...\n",
            "Failed to capture frame. Trying again...\n",
            "Failed to capture frame. Trying again...\n",
            "Failed to capture frame. Trying again...\n",
            "Failed to capture frame. Trying again...\n",
            "Failed to capture frame. Trying again...\n",
            "Failed to capture frame. Trying again...\n",
            "Failed to capture frame. Trying again...\n",
            "Failed to capture frame. Trying again...\n",
            "Failed to capture frame. Trying again...\n",
            "Failed to capture frame. Trying again...\n",
            "Failed to capture frame. Trying again...\n",
            "Failed to capture frame. Trying again...\n",
            "Failed to capture frame. Trying again...\n",
            "Failed to capture frame. Trying again...\n",
            "Failed to capture frame. Trying again...\n",
            "Failed to capture frame. Trying again...\n",
            "Failed to capture frame. Trying again...\n",
            "Failed to capture frame. Trying again...\n",
            "Failed to capture frame. Trying again...\n",
            "Failed to capture frame. Trying again...\n",
            "Failed to capture frame. Trying again...\n",
            "Failed to capture frame. Trying again...\n",
            "Failed to capture frame. Trying again...\n",
            "Failed to capture frame. Trying again...\n",
            "Failed to capture frame. Trying again...\n",
            "Failed to capture frame. Trying again...\n",
            "Failed to capture frame. Trying again...\n",
            "Failed to capture frame. Trying again...\n",
            "Failed to capture frame. Trying again...\n",
            "Failed to capture frame. Trying again...\n",
            "Failed to capture frame. Trying again...\n",
            "Failed to capture frame. Trying again...\n",
            "Failed to capture frame. Trying again...\n",
            "Failed to capture frame. Trying again...\n",
            "Failed to capture frame. Trying again...\n",
            "Failed to capture frame. Trying again...\n",
            "Failed to capture frame. Trying again...\n",
            "Failed to capture frame. Trying again...\n",
            "Failed to capture frame. Trying again...\n",
            "Failed to capture frame. Trying again...\n",
            "Failed to capture frame. Trying again...\n",
            "Failed to capture frame. Trying again...\n",
            "Failed to capture frame. Trying again...\n",
            "Failed to capture frame. Trying again...\n",
            "Failed to capture frame. Trying again...\n",
            "Failed to capture frame. Trying again...\n",
            "Failed to capture frame. Trying again...\n",
            "Failed to capture frame. Trying again...\n",
            "Failed to capture frame. Trying again...\n",
            "Failed to capture frame. Trying again...\n",
            "Failed to capture frame. Trying again...\n",
            "Failed to capture frame. Trying again...\n",
            "Failed to capture frame. Trying again...\n",
            "Failed to capture frame. Trying again...\n",
            "Failed to capture frame. Trying again...\n",
            "Failed to capture frame. Trying again...\n",
            "Failed to capture frame. Trying again...\n",
            "Failed to capture frame. Trying again...\n",
            "Failed to capture frame. Trying again...\n",
            "Failed to capture frame. Trying again...\n",
            "Failed to capture frame. Trying again...\n",
            "Failed to capture frame. Trying again...\n",
            "Failed to capture frame. Trying again...\n",
            "Failed to capture frame. Trying again...\n",
            "Failed to capture frame. Trying again...\n",
            "Failed to capture frame. Trying again...\n",
            "Failed to capture frame. Trying again...\n",
            "Failed to capture frame. Trying again...\n",
            "Failed to capture frame. Trying again...\n",
            "Failed to capture frame. Trying again...\n",
            "Failed to capture frame. Trying again...\n",
            "Failed to capture frame. Trying again...\n",
            "Failed to capture frame. Trying again...\n",
            "Failed to capture frame. Trying again...\n",
            "Failed to capture frame. Trying again...\n",
            "Failed to capture frame. Trying again...\n",
            "Failed to capture frame. Trying again...\n",
            "Failed to capture frame. Trying again...\n",
            "Failed to capture frame. Trying again...\n",
            "Failed to capture frame. Trying again...\n",
            "Failed to capture frame. Trying again...\n",
            "Failed to capture frame. Trying again...\n",
            "Failed to capture frame. Trying again...\n",
            "Failed to capture frame. Trying again...\n",
            "Failed to capture frame. Trying again...\n",
            "Failed to capture frame. Trying again...\n",
            "Failed to capture frame. Trying again...\n",
            "Failed to capture frame. Trying again...\n",
            "Failed to capture frame. Trying again...\n",
            "Failed to capture frame. Trying again...\n",
            "Failed to capture frame. Trying again...\n",
            "Failed to capture frame. Trying again...\n",
            "Failed to capture frame. Trying again...\n",
            "Failed to capture frame. Trying again...\n",
            "Failed to capture frame. Trying again...\n",
            "Failed to capture frame. Trying again...\n",
            "Failed to capture frame. Trying again...\n",
            "Failed to capture frame. Trying again...\n",
            "Failed to capture frame. Trying again...\n",
            "Failed to capture frame. Trying again...\n",
            "Failed to capture frame. Trying again...\n",
            "Failed to capture frame. Trying again...\n",
            "Failed to capture frame. Trying again...\n",
            "Failed to capture frame. Trying again...\n",
            "Failed to capture frame. Trying again...\n",
            "Failed to capture frame. Trying again...\n",
            "Failed to capture frame. Trying again...\n",
            "Failed to capture frame. Trying again...\n",
            "Failed to capture frame. Trying again...\n",
            "Failed to capture frame. Trying again...\n",
            "Failed to capture frame. Trying again...\n",
            "Failed to capture frame. Trying again...\n",
            "Failed to capture frame. Trying again...\n",
            "Failed to capture frame. Trying again...\n",
            "Failed to capture frame. Trying again...\n",
            "Failed to capture frame. Trying again...\n",
            "Failed to capture frame. Trying again...\n",
            "Failed to capture frame. Trying again...\n",
            "Failed to capture frame. Trying again...\n",
            "Failed to capture frame. Trying again...\n",
            "Failed to capture frame. Trying again...\n",
            "Failed to capture frame. Trying again...\n",
            "Failed to capture frame. Trying again...\n",
            "Failed to capture frame. Trying again...\n",
            "Failed to capture frame. Trying again...\n",
            "Failed to capture frame. Trying again...\n",
            "Failed to capture frame. Trying again...\n",
            "Failed to capture frame. Trying again...\n",
            "Failed to capture frame. Trying again...\n",
            "Failed to capture frame. Trying again...\n",
            "Failed to capture frame. Trying again...\n",
            "Failed to capture frame. Trying again...\n",
            "Failed to capture frame. Trying again...\n",
            "Failed to capture frame. Trying again...\n",
            "Failed to capture frame. Trying again...\n",
            "Failed to capture frame. Trying again...\n",
            "Failed to capture frame. Trying again...\n",
            "Failed to capture frame. Trying again...\n",
            "Failed to capture frame. Trying again...\n",
            "Failed to capture frame. Trying again...\n",
            "Failed to capture frame. Trying again...\n",
            "Failed to capture frame. Trying again...\n",
            "Failed to capture frame. Trying again...\n",
            "Failed to capture frame. Trying again...\n",
            "Failed to capture frame. Trying again...\n",
            "Failed to capture frame. Trying again...\n",
            "Failed to capture frame. Trying again...\n",
            "Failed to capture frame. Trying again...\n",
            "Failed to capture frame. Trying again...\n",
            "Failed to capture frame. Trying again...\n",
            "Failed to capture frame. Trying again...\n",
            "Failed to capture frame. Trying again...\n",
            "Failed to capture frame. Trying again...\n",
            "Failed to capture frame. Trying again...\n",
            "Failed to capture frame. Trying again...\n",
            "Failed to capture frame. Trying again...\n",
            "Failed to capture frame. Trying again...\n",
            "Failed to capture frame. Trying again...\n",
            "Failed to capture frame. Trying again...\n",
            "Failed to capture frame. Trying again...\n",
            "Failed to capture frame. Trying again...\n",
            "Failed to capture frame. Trying again...\n",
            "Failed to capture frame. Trying again...\n",
            "Failed to capture frame. Trying again...\n",
            "Failed to capture frame. Trying again...\n",
            "Failed to capture frame. Trying again...\n",
            "Failed to capture frame. Trying again...\n",
            "Failed to capture frame. Trying again...\n",
            "Failed to capture frame. Trying again...\n",
            "Failed to capture frame. Trying again...\n",
            "Failed to capture frame. Trying again...\n",
            "Failed to capture frame. Trying again...\n",
            "Failed to capture frame. Trying again...\n",
            "Failed to capture frame. Trying again...\n",
            "Failed to capture frame. Trying again...\n",
            "Failed to capture frame. Trying again...\n",
            "Failed to capture frame. Trying again...\n",
            "Failed to capture frame. Trying again...\n",
            "Failed to capture frame. Trying again...\n",
            "Failed to capture frame. Trying again...\n",
            "Failed to capture frame. Trying again...\n",
            "Failed to capture frame. Trying again...\n",
            "Failed to capture frame. Trying again...\n",
            "Failed to capture frame. Trying again...\n",
            "Failed to capture frame. Trying again...\n",
            "Failed to capture frame. Trying again...\n",
            "Failed to capture frame. Trying again...\n",
            "Failed to capture frame. Trying again...\n",
            "Failed to capture frame. Trying again...\n",
            "Failed to capture frame. Trying again...\n",
            "Failed to capture frame. Trying again...\n",
            "Failed to capture frame. Trying again...\n",
            "Failed to capture frame. Trying again...\n",
            "Failed to capture frame. Trying again...\n",
            "Failed to capture frame. Trying again...\n",
            "Failed to capture frame. Trying again...\n",
            "Failed to capture frame. Trying again...\n",
            "Failed to capture frame. Trying again...\n",
            "Failed to capture frame. Trying again...\n",
            "Failed to capture frame. Trying again...\n",
            "Failed to capture frame. Trying again...\n",
            "Failed to capture frame. Trying again...\n",
            "Failed to capture frame. Trying again...\n",
            "Failed to capture frame. Trying again...\n",
            "Failed to capture frame. Trying again...\n",
            "Failed to capture frame. Trying again...\n",
            "Failed to capture frame. Trying again...\n",
            "Failed to capture frame. Trying again...\n",
            "Failed to capture frame. Trying again...\n",
            "Failed to capture frame. Trying again...\n",
            "Failed to capture frame. Trying again...\n",
            "Failed to capture frame. Trying again...\n",
            "Failed to capture frame. Trying again...\n",
            "Failed to capture frame. Trying again...\n",
            "Failed to capture frame. Trying again...\n",
            "Failed to capture frame. Trying again...\n",
            "Failed to capture frame. Trying again...\n",
            "Failed to capture frame. Trying again...\n",
            "Failed to capture frame. Trying again...\n",
            "Failed to capture frame. Trying again...\n",
            "Failed to capture frame. Trying again...\n",
            "Failed to capture frame. Trying again...\n",
            "Failed to capture frame. Trying again...\n",
            "Failed to capture frame. Trying again...\n",
            "Failed to capture frame. Trying again...\n",
            "Failed to capture frame. Trying again...\n",
            "Failed to capture frame. Trying again...\n",
            "Failed to capture frame. Trying again...\n",
            "Failed to capture frame. Trying again...\n",
            "Failed to capture frame. Trying again...\n",
            "Failed to capture frame. Trying again...\n",
            "Failed to capture frame. Trying again...\n",
            "Failed to capture frame. Trying again...\n",
            "Failed to capture frame. Trying again...\n",
            "Failed to capture frame. Trying again...\n",
            "Failed to capture frame. Trying again...\n",
            "Failed to capture frame. Trying again...\n",
            "Failed to capture frame. Trying again...\n",
            "Failed to capture frame. Trying again...\n",
            "Failed to capture frame. Trying again...\n",
            "Failed to capture frame. Trying again...\n",
            "Failed to capture frame. Trying again...\n",
            "Failed to capture frame. Trying again...\n",
            "Failed to capture frame. Trying again...\n",
            "Failed to capture frame. Trying again...\n",
            "Failed to capture frame. Trying again...\n",
            "Failed to capture frame. Trying again...\n",
            "Failed to capture frame. Trying again...\n",
            "Failed to capture frame. Trying again...\n",
            "Failed to capture frame. Trying again...\n",
            "Failed to capture frame. Trying again...\n",
            "Failed to capture frame. Trying again...\n",
            "Failed to capture frame. Trying again...\n",
            "Failed to capture frame. Trying again...\n",
            "Failed to capture frame. Trying again...\n",
            "Failed to capture frame. Trying again...\n",
            "Failed to capture frame. Trying again...\n",
            "Failed to capture frame. Trying again...\n",
            "Failed to capture frame. Trying again...\n",
            "Failed to capture frame. Trying again...\n",
            "Failed to capture frame. Trying again...\n",
            "Failed to capture frame. Trying again...\n",
            "Failed to capture frame. Trying again...\n",
            "Failed to capture frame. Trying again...\n",
            "Failed to capture frame. Trying again...\n",
            "Failed to capture frame. Trying again...\n",
            "Failed to capture frame. Trying again...\n",
            "Failed to capture frame. Trying again...\n",
            "Failed to capture frame. Trying again...\n",
            "Failed to capture frame. Trying again...\n",
            "Failed to capture frame. Trying again...\n",
            "Failed to capture frame. Trying again...\n",
            "Failed to capture frame. Trying again...\n",
            "Failed to capture frame. Trying again...\n",
            "Failed to capture frame. Trying again...\n",
            "Failed to capture frame. Trying again...\n",
            "Failed to capture frame. Trying again...\n",
            "Failed to capture frame. Trying again...\n",
            "Failed to capture frame. Trying again...\n",
            "Failed to capture frame. Trying again...\n",
            "Failed to capture frame. Trying again...\n",
            "Failed to capture frame. Trying again...\n",
            "Failed to capture frame. Trying again...\n",
            "Failed to capture frame. Trying again...\n",
            "Failed to capture frame. Trying again...\n",
            "Failed to capture frame. Trying again...\n",
            "Failed to capture frame. Trying again...\n",
            "Failed to capture frame. Trying again...\n",
            "Failed to capture frame. Trying again...\n",
            "Failed to capture frame. Trying again...\n",
            "Failed to capture frame. Trying again...\n",
            "Failed to capture frame. Trying again...\n",
            "Failed to capture frame. Trying again...\n",
            "Failed to capture frame. Trying again...\n",
            "Failed to capture frame. Trying again...\n",
            "Failed to capture frame. Trying again...\n",
            "Failed to capture frame. Trying again...\n",
            "Failed to capture frame. Trying again...\n",
            "Failed to capture frame. Trying again...\n",
            "Failed to capture frame. Trying again...\n",
            "Failed to capture frame. Trying again...\n",
            "Failed to capture frame. Trying again...\n",
            "Failed to capture frame. Trying again...\n",
            "Failed to capture frame. Trying again...\n",
            "Failed to capture frame. Trying again...\n",
            "Failed to capture frame. Trying again...\n",
            "Failed to capture frame. Trying again...\n",
            "Failed to capture frame. Trying again...\n",
            "Failed to capture frame. Trying again...\n",
            "Failed to capture frame. Trying again...\n",
            "Failed to capture frame. Trying again...\n",
            "Failed to capture frame. Trying again...\n",
            "Failed to capture frame. Trying again...\n",
            "Failed to capture frame. Trying again...\n",
            "Failed to capture frame. Trying again...\n",
            "Failed to capture frame. Trying again...\n",
            "Failed to capture frame. Trying again...\n",
            "Failed to capture frame. Trying again...\n",
            "Failed to capture frame. Trying again...\n",
            "Failed to capture frame. Trying again...\n",
            "Failed to capture frame. Trying again...\n",
            "Failed to capture frame. Trying again...\n",
            "Failed to capture frame. Trying again...\n",
            "Failed to capture frame. Trying again...\n",
            "Failed to capture frame. Trying again...\n",
            "Failed to capture frame. Trying again...\n",
            "Failed to capture frame. Trying again...\n",
            "Failed to capture frame. Trying again...\n",
            "Failed to capture frame. Trying again...\n",
            "Failed to capture frame. Trying again...\n",
            "Failed to capture frame. Trying again...\n",
            "Failed to capture frame. Trying again...\n",
            "Failed to capture frame. Trying again...\n",
            "Failed to capture frame. Trying again...\n",
            "Failed to capture frame. Trying again...\n",
            "Failed to capture frame. Trying again...\n",
            "Failed to capture frame. Trying again...\n",
            "Failed to capture frame. Trying again...\n",
            "Failed to capture frame. Trying again...\n",
            "Failed to capture frame. Trying again...\n",
            "Failed to capture frame. Trying again...\n",
            "Failed to capture frame. Trying again...\n",
            "Failed to capture frame. Trying again...\n",
            "Failed to capture frame. Trying again...\n",
            "Failed to capture frame. Trying again...\n",
            "Failed to capture frame. Trying again...\n",
            "Failed to capture frame. Trying again...\n",
            "Failed to capture frame. Trying again...\n",
            "Failed to capture frame. Trying again...\n",
            "Failed to capture frame. Trying again...\n",
            "Failed to capture frame. Trying again...\n",
            "Failed to capture frame. Trying again...\n",
            "Failed to capture frame. Trying again...\n",
            "Failed to capture frame. Trying again...\n",
            "Failed to capture frame. Trying again...\n",
            "Failed to capture frame. Trying again...\n",
            "Failed to capture frame. Trying again...\n",
            "Failed to capture frame. Trying again...\n",
            "Failed to capture frame. Trying again...\n",
            "Failed to capture frame. Trying again...\n",
            "Failed to capture frame. Trying again...\n",
            "Failed to capture frame. Trying again...\n",
            "Failed to capture frame. Trying again...\n",
            "Failed to capture frame. Trying again...\n",
            "Failed to capture frame. Trying again...\n",
            "Failed to capture frame. Trying again...\n",
            "Failed to capture frame. Trying again...\n",
            "Failed to capture frame. Trying again...\n",
            "Failed to capture frame. Trying again...\n",
            "Failed to capture frame. Trying again...\n",
            "Failed to capture frame. Trying again...\n",
            "Failed to capture frame. Trying again...\n",
            "Failed to capture frame. Trying again...\n",
            "Failed to capture frame. Trying again...\n",
            "Failed to capture frame. Trying again...\n",
            "Failed to capture frame. Trying again...\n",
            "Failed to capture frame. Trying again...\n",
            "Failed to capture frame. Trying again...\n",
            "Failed to capture frame. Trying again...\n",
            "Failed to capture frame. Trying again...\n",
            "Failed to capture frame. Trying again...\n",
            "Failed to capture frame. Trying again...\n",
            "Failed to capture frame. Trying again...\n",
            "Failed to capture frame. Trying again...\n",
            "Failed to capture frame. Trying again...\n",
            "Failed to capture frame. Trying again...\n",
            "Failed to capture frame. Trying again...\n",
            "Failed to capture frame. Trying again...\n",
            "Failed to capture frame. Trying again...\n",
            "Failed to capture frame. Trying again...\n",
            "Failed to capture frame. Trying again...\n",
            "Failed to capture frame. Trying again...\n",
            "Failed to capture frame. Trying again...\n",
            "Failed to capture frame. Trying again...\n",
            "Failed to capture frame. Trying again...\n",
            "Failed to capture frame. Trying again...\n",
            "Failed to capture frame. Trying again...\n",
            "Failed to capture frame. Trying again...\n",
            "Failed to capture frame. Trying again...\n",
            "Failed to capture frame. Trying again...\n",
            "Failed to capture frame. Trying again...\n",
            "Failed to capture frame. Trying again...\n",
            "Failed to capture frame. Trying again...\n",
            "Failed to capture frame. Trying again...\n",
            "Failed to capture frame. Trying again...\n",
            "Failed to capture frame. Trying again...\n",
            "Failed to capture frame. Trying again...\n",
            "Failed to capture frame. Trying again...\n",
            "Failed to capture frame. Trying again...\n",
            "Failed to capture frame. Trying again...\n",
            "Failed to capture frame. Trying again...\n",
            "Failed to capture frame. Trying again...\n",
            "Failed to capture frame. Trying again...\n",
            "Failed to capture frame. Trying again...\n",
            "Failed to capture frame. Trying again...\n",
            "Failed to capture frame. Trying again...\n",
            "Failed to capture frame. Trying again...\n",
            "Failed to capture frame. Trying again...\n",
            "Failed to capture frame. Trying again...\n",
            "Failed to capture frame. Trying again...\n",
            "Failed to capture frame. Trying again...\n",
            "Failed to capture frame. Trying again...\n",
            "Failed to capture frame. Trying again...\n",
            "Failed to capture frame. Trying again...\n",
            "Failed to capture frame. Trying again...\n",
            "Failed to capture frame. Trying again...\n",
            "Failed to capture frame. Trying again...\n",
            "Failed to capture frame. Trying again...\n",
            "Failed to capture frame. Trying again...\n",
            "Failed to capture frame. Trying again...\n",
            "Failed to capture frame. Trying again...\n",
            "Failed to capture frame. Trying again...\n",
            "Failed to capture frame. Trying again...\n",
            "Failed to capture frame. Trying again...\n",
            "Failed to capture frame. Trying again...\n",
            "Failed to capture frame. Trying again...\n",
            "Failed to capture frame. Trying again...\n",
            "Failed to capture frame. Trying again...\n",
            "Failed to capture frame. Trying again...\n",
            "Failed to capture frame. Trying again...\n",
            "Failed to capture frame. Trying again...\n",
            "Failed to capture frame. Trying again...\n",
            "Failed to capture frame. Trying again...\n",
            "Failed to capture frame. Trying again...\n",
            "Failed to capture frame. Trying again...\n",
            "Failed to capture frame. Trying again...\n",
            "Failed to capture frame. Trying again...\n",
            "Failed to capture frame. Trying again...\n",
            "Failed to capture frame. Trying again...\n",
            "Failed to capture frame. Trying again...\n",
            "Failed to capture frame. Trying again...\n",
            "Failed to capture frame. Trying again...\n",
            "Failed to capture frame. Trying again...\n",
            "Failed to capture frame. Trying again...\n",
            "Failed to capture frame. Trying again...\n",
            "Failed to capture frame. Trying again...\n",
            "Failed to capture frame. Trying again...\n",
            "Failed to capture frame. Trying again...\n",
            "Failed to capture frame. Trying again...\n",
            "Failed to capture frame. Trying again...\n",
            "Failed to capture frame. Trying again...\n",
            "Failed to capture frame. Trying again...\n",
            "Failed to capture frame. Trying again...\n",
            "Failed to capture frame. Trying again...\n",
            "Failed to capture frame. Trying again...\n",
            "Failed to capture frame. Trying again...\n",
            "Failed to capture frame. Trying again...\n",
            "Failed to capture frame. Trying again...\n",
            "Failed to capture frame. Trying again...\n",
            "Failed to capture frame. Trying again...\n",
            "Failed to capture frame. Trying again...\n",
            "Failed to capture frame. Trying again...\n",
            "Failed to capture frame. Trying again...\n",
            "Failed to capture frame. Trying again...\n",
            "Failed to capture frame. Trying again...\n",
            "Failed to capture frame. Trying again...\n",
            "Failed to capture frame. Trying again...\n",
            "Failed to capture frame. Trying again...\n",
            "Failed to capture frame. Trying again...\n",
            "Failed to capture frame. Trying again...\n",
            "Failed to capture frame. Trying again...\n",
            "Failed to capture frame. Trying again...\n",
            "Failed to capture frame. Trying again...\n",
            "Failed to capture frame. Trying again...\n",
            "Failed to capture frame. Trying again...\n",
            "Failed to capture frame. Trying again...\n",
            "Failed to capture frame. Trying again...\n",
            "Failed to capture frame. Trying again...\n",
            "Failed to capture frame. Trying again...\n",
            "Failed to capture frame. Trying again...\n",
            "Failed to capture frame. Trying again...\n",
            "Failed to capture frame. Trying again...\n",
            "Failed to capture frame. Trying again...\n",
            "Failed to capture frame. Trying again...\n",
            "Failed to capture frame. Trying again...\n",
            "Failed to capture frame. Trying again...\n",
            "Failed to capture frame. Trying again...\n",
            "Failed to capture frame. Trying again...\n",
            "Failed to capture frame. Trying again...\n",
            "Failed to capture frame. Trying again...\n",
            "Failed to capture frame. Trying again...\n",
            "Failed to capture frame. Trying again...\n",
            "Failed to capture frame. Trying again...\n",
            "Failed to capture frame. Trying again...\n",
            "Failed to capture frame. Trying again...\n",
            "Failed to capture frame. Trying again...\n",
            "Failed to capture frame. Trying again...\n",
            "Failed to capture frame. Trying again...\n",
            "Failed to capture frame. Trying again...\n",
            "Failed to capture frame. Trying again...\n",
            "Failed to capture frame. Trying again...\n",
            "Failed to capture frame. Trying again...\n",
            "Failed to capture frame. Trying again...\n",
            "Failed to capture frame. Trying again...\n",
            "Failed to capture frame. Trying again...\n",
            "Failed to capture frame. Trying again...\n",
            "Failed to capture frame. Trying again...\n",
            "Failed to capture frame. Trying again...\n",
            "Failed to capture frame. Trying again...\n",
            "Failed to capture frame. Trying again...\n",
            "Failed to capture frame. Trying again...\n",
            "Failed to capture frame. Trying again...\n",
            "Failed to capture frame. Trying again...\n",
            "Failed to capture frame. Trying again...\n",
            "Failed to capture frame. Trying again...\n",
            "Failed to capture frame. Trying again...\n",
            "Failed to capture frame. Trying again...\n",
            "Failed to capture frame. Trying again...\n",
            "Failed to capture frame. Trying again...\n",
            "Failed to capture frame. Trying again...\n",
            "Failed to capture frame. Trying again...\n",
            "Failed to capture frame. Trying again...\n",
            "Failed to capture frame. Trying again...\n",
            "Failed to capture frame. Trying again...\n",
            "Failed to capture frame. Trying again...\n",
            "Failed to capture frame. Trying again...\n",
            "Failed to capture frame. Trying again...\n",
            "Failed to capture frame. Trying again...\n",
            "Failed to capture frame. Trying again...\n",
            "Failed to capture frame. Trying again...\n",
            "Failed to capture frame. Trying again...\n",
            "Failed to capture frame. Trying again...\n",
            "Failed to capture frame. Trying again...\n",
            "Failed to capture frame. Trying again...\n",
            "Failed to capture frame. Trying again...\n",
            "Failed to capture frame. Trying again...\n",
            "Failed to capture frame. Trying again...\n",
            "Failed to capture frame. Trying again...\n",
            "Failed to capture frame. Trying again...\n",
            "Failed to capture frame. Trying again...\n",
            "Failed to capture frame. Trying again...\n",
            "Failed to capture frame. Trying again...\n",
            "Failed to capture frame. Trying again...\n",
            "Failed to capture frame. Trying again...\n",
            "Failed to capture frame. Trying again...\n",
            "Failed to capture frame. Trying again...\n",
            "Failed to capture frame. Trying again...\n",
            "Failed to capture frame. Trying again...\n",
            "Failed to capture frame. Trying again...\n",
            "Failed to capture frame. Trying again...\n",
            "Failed to capture frame. Trying again...\n",
            "Failed to capture frame. Trying again...\n",
            "Failed to capture frame. Trying again...\n",
            "Failed to capture frame. Trying again...\n",
            "Failed to capture frame. Trying again...\n",
            "Failed to capture frame. Trying again...\n",
            "Failed to capture frame. Trying again...\n",
            "Failed to capture frame. Trying again...\n",
            "Failed to capture frame. Trying again...\n",
            "Failed to capture frame. Trying again...\n",
            "Failed to capture frame. Trying again...\n",
            "Failed to capture frame. Trying again...\n",
            "Failed to capture frame. Trying again...\n",
            "Failed to capture frame. Trying again...\n",
            "Failed to capture frame. Trying again...\n",
            "Failed to capture frame. Trying again...\n",
            "Failed to capture frame. Trying again...\n",
            "Failed to capture frame. Trying again...\n",
            "Failed to capture frame. Trying again...\n",
            "Failed to capture frame. Trying again...\n",
            "Failed to capture frame. Trying again...\n",
            "Failed to capture frame. Trying again...\n",
            "Failed to capture frame. Trying again...\n",
            "Failed to capture frame. Trying again...\n",
            "Failed to capture frame. Trying again...\n",
            "Failed to capture frame. Trying again...\n",
            "Failed to capture frame. Trying again...\n",
            "Failed to capture frame. Trying again...\n",
            "Failed to capture frame. Trying again...\n",
            "Failed to capture frame. Trying again...\n",
            "Failed to capture frame. Trying again...\n",
            "Failed to capture frame. Trying again...\n",
            "Failed to capture frame. Trying again...\n",
            "Failed to capture frame. Trying again...\n",
            "Failed to capture frame. Trying again...\n",
            "Failed to capture frame. Trying again...\n",
            "Failed to capture frame. Trying again...\n",
            "Failed to capture frame. Trying again...\n",
            "Failed to capture frame. Trying again...\n",
            "Failed to capture frame. Trying again...\n",
            "Failed to capture frame. Trying again...\n",
            "Failed to capture frame. Trying again...\n",
            "Failed to capture frame. Trying again...\n",
            "Failed to capture frame. Trying again...\n",
            "Failed to capture frame. Trying again...\n",
            "Failed to capture frame. Trying again...\n",
            "Failed to capture frame. Trying again...\n",
            "Failed to capture frame. Trying again...\n",
            "Failed to capture frame. Trying again...\n",
            "Failed to capture frame. Trying again...\n",
            "Failed to capture frame. Trying again...\n",
            "Failed to capture frame. Trying again...\n",
            "Failed to capture frame. Trying again...\n",
            "Failed to capture frame. Trying again...\n",
            "Failed to capture frame. Trying again...\n",
            "Failed to capture frame. Trying again...\n",
            "Failed to capture frame. Trying again...\n",
            "Failed to capture frame. Trying again...\n",
            "Failed to capture frame. Trying again...\n",
            "Failed to capture frame. Trying again...\n",
            "Failed to capture frame. Trying again...\n",
            "Failed to capture frame. Trying again...\n",
            "Failed to capture frame. Trying again...\n",
            "Failed to capture frame. Trying again...\n",
            "Failed to capture frame. Trying again...\n",
            "Failed to capture frame. Trying again...\n",
            "Failed to capture frame. Trying again...\n",
            "Failed to capture frame. Trying again...\n",
            "Failed to capture frame. Trying again...\n",
            "Failed to capture frame. Trying again...\n",
            "Failed to capture frame. Trying again...\n",
            "Failed to capture frame. Trying again...\n",
            "Failed to capture frame. Trying again...\n",
            "Failed to capture frame. Trying again...\n",
            "Failed to capture frame. Trying again...\n",
            "Failed to capture frame. Trying again...\n",
            "Failed to capture frame. Trying again...\n",
            "Failed to capture frame. Trying again...\n",
            "Failed to capture frame. Trying again...\n",
            "Failed to capture frame. Trying again...\n",
            "Failed to capture frame. Trying again...\n",
            "Failed to capture frame. Trying again...\n",
            "Failed to capture frame. Trying again...\n",
            "Failed to capture frame. Trying again...\n",
            "Failed to capture frame. Trying again...\n",
            "Failed to capture frame. Trying again...\n",
            "Failed to capture frame. Trying again...\n",
            "Failed to capture frame. Trying again...\n",
            "Failed to capture frame. Trying again...\n",
            "Failed to capture frame. Trying again...\n",
            "Failed to capture frame. Trying again...\n",
            "Failed to capture frame. Trying again...\n",
            "Failed to capture frame. Trying again...\n",
            "Failed to capture frame. Trying again...\n",
            "Failed to capture frame. Trying again...\n",
            "Failed to capture frame. Trying again...\n",
            "Failed to capture frame. Trying again...\n",
            "Failed to capture frame. Trying again...\n",
            "Failed to capture frame. Trying again...\n",
            "Failed to capture frame. Trying again...\n",
            "Failed to capture frame. Trying again...\n",
            "Failed to capture frame. Trying again...\n",
            "Failed to capture frame. Trying again...\n",
            "Failed to capture frame. Trying again...\n",
            "Failed to capture frame. Trying again...\n",
            "Failed to capture frame. Trying again...\n",
            "Failed to capture frame. Trying again...\n",
            "Failed to capture frame. Trying again...\n",
            "Failed to capture frame. Trying again...\n",
            "Failed to capture frame. Trying again...\n",
            "Failed to capture frame. Trying again...\n",
            "Failed to capture frame. Trying again...\n",
            "Failed to capture frame. Trying again...\n",
            "Failed to capture frame. Trying again...\n",
            "Failed to capture frame. Trying again...\n",
            "Failed to capture frame. Trying again...\n",
            "Failed to capture frame. Trying again...\n",
            "Failed to capture frame. Trying again...\n",
            "Failed to capture frame. Trying again...\n",
            "Failed to capture frame. Trying again...\n",
            "Failed to capture frame. Trying again...\n",
            "Failed to capture frame. Trying again...\n",
            "Failed to capture frame. Trying again...\n",
            "Failed to capture frame. Trying again...\n",
            "Failed to capture frame. Trying again...\n",
            "Failed to capture frame. Trying again...\n",
            "Failed to capture frame. Trying again...\n",
            "Failed to capture frame. Trying again...\n",
            "Failed to capture frame. Trying again...\n",
            "Failed to capture frame. Trying again...\n",
            "Failed to capture frame. Trying again...\n",
            "Failed to capture frame. Trying again...\n",
            "Failed to capture frame. Trying again...\n",
            "Failed to capture frame. Trying again...\n",
            "Failed to capture frame. Trying again...\n",
            "Failed to capture frame. Trying again...\n",
            "Failed to capture frame. Trying again...\n",
            "Failed to capture frame. Trying again...\n",
            "Failed to capture frame. Trying again...\n",
            "Failed to capture frame. Trying again...\n",
            "Failed to capture frame. Trying again...\n",
            "Failed to capture frame. Trying again...\n",
            "Failed to capture frame. Trying again...\n",
            "Failed to capture frame. Trying again...\n",
            "Failed to capture frame. Trying again...\n",
            "Failed to capture frame. Trying again...\n",
            "Failed to capture frame. Trying again...\n",
            "Failed to capture frame. Trying again...\n",
            "Failed to capture frame. Trying again...\n",
            "Failed to capture frame. Trying again...\n",
            "Failed to capture frame. Trying again...\n",
            "Failed to capture frame. Trying again...\n",
            "Failed to capture frame. Trying again...\n",
            "Failed to capture frame. Trying again...\n",
            "Failed to capture frame. Trying again...\n",
            "Failed to capture frame. Trying again...\n",
            "Failed to capture frame. Trying again...\n",
            "Failed to capture frame. Trying again...\n",
            "Failed to capture frame. Trying again...\n",
            "Failed to capture frame. Trying again...\n",
            "Failed to capture frame. Trying again...\n",
            "Failed to capture frame. Trying again...\n",
            "Failed to capture frame. Trying again...\n",
            "Failed to capture frame. Trying again...\n",
            "Failed to capture frame. Trying again...\n",
            "Failed to capture frame. Trying again...\n",
            "Failed to capture frame. Trying again...\n",
            "Failed to capture frame. Trying again...\n",
            "Failed to capture frame. Trying again...\n",
            "Failed to capture frame. Trying again...\n",
            "Failed to capture frame. Trying again...\n",
            "Failed to capture frame. Trying again...\n",
            "Failed to capture frame. Trying again...\n",
            "Failed to capture frame. Trying again...\n",
            "Failed to capture frame. Trying again...\n",
            "Failed to capture frame. Trying again...\n",
            "Failed to capture frame. Trying again...\n",
            "Failed to capture frame. Trying again...\n",
            "Failed to capture frame. Trying again...\n",
            "Failed to capture frame. Trying again...\n",
            "Failed to capture frame. Trying again...\n",
            "Failed to capture frame. Trying again...\n",
            "Failed to capture frame. Trying again...\n",
            "Failed to capture frame. Trying again...\n",
            "Failed to capture frame. Trying again...\n",
            "Failed to capture frame. Trying again...\n",
            "Failed to capture frame. Trying again...\n",
            "Failed to capture frame. Trying again...\n",
            "Failed to capture frame. Trying again...\n",
            "Failed to capture frame. Trying again...\n",
            "Failed to capture frame. Trying again...\n",
            "Failed to capture frame. Trying again...\n",
            "Failed to capture frame. Trying again...\n",
            "Failed to capture frame. Trying again...\n",
            "Failed to capture frame. Trying again...\n",
            "Failed to capture frame. Trying again...\n",
            "Failed to capture frame. Trying again...\n",
            "Failed to capture frame. Trying again...\n",
            "Failed to capture frame. Trying again...\n",
            "Failed to capture frame. Trying again...\n",
            "Failed to capture frame. Trying again...\n",
            "Failed to capture frame. Trying again...\n",
            "Failed to capture frame. Trying again...\n",
            "Failed to capture frame. Trying again...\n",
            "Failed to capture frame. Trying again...\n",
            "Failed to capture frame. Trying again...\n",
            "Failed to capture frame. Trying again...\n",
            "Failed to capture frame. Trying again...\n",
            "Failed to capture frame. Trying again...\n",
            "Failed to capture frame. Trying again...\n",
            "Failed to capture frame. Trying again...\n",
            "Failed to capture frame. Trying again...\n",
            "Failed to capture frame. Trying again...\n",
            "Failed to capture frame. Trying again...\n",
            "Failed to capture frame. Trying again...\n",
            "Failed to capture frame. Trying again...\n",
            "Failed to capture frame. Trying again...\n",
            "Failed to capture frame. Trying again...\n",
            "Failed to capture frame. Trying again...\n",
            "Failed to capture frame. Trying again...\n",
            "Failed to capture frame. Trying again...\n",
            "Failed to capture frame. Trying again...\n",
            "Failed to capture frame. Trying again...\n",
            "Failed to capture frame. Trying again...\n",
            "Failed to capture frame. Trying again...\n",
            "Failed to capture frame. Trying again...\n",
            "Failed to capture frame. Trying again...\n",
            "Failed to capture frame. Trying again...\n",
            "Failed to capture frame. Trying again...\n",
            "Failed to capture frame. Trying again...\n",
            "Failed to capture frame. Trying again...\n",
            "Failed to capture frame. Trying again...\n",
            "Failed to capture frame. Trying again...\n",
            "Failed to capture frame. Trying again...\n",
            "Failed to capture frame. Trying again...\n",
            "Failed to capture frame. Trying again...\n",
            "Failed to capture frame. Trying again...\n",
            "Failed to capture frame. Trying again...\n",
            "Failed to capture frame. Trying again...\n",
            "Failed to capture frame. Trying again...\n",
            "Failed to capture frame. Trying again...\n",
            "Failed to capture frame. Trying again...\n",
            "Failed to capture frame. Trying again...\n",
            "Failed to capture frame. Trying again...\n",
            "Failed to capture frame. Trying again...\n",
            "Failed to capture frame. Trying again...\n",
            "Failed to capture frame. Trying again...\n",
            "Failed to capture frame. Trying again...\n",
            "Failed to capture frame. Trying again...\n",
            "Failed to capture frame. Trying again...\n",
            "Failed to capture frame. Trying again...\n",
            "Failed to capture frame. Trying again...\n",
            "Failed to capture frame. Trying again...\n",
            "Failed to capture frame. Trying again...\n",
            "Failed to capture frame. Trying again...\n",
            "Failed to capture frame. Trying again...\n",
            "Failed to capture frame. Trying again...\n",
            "Failed to capture frame. Trying again...\n",
            "Failed to capture frame. Trying again...\n",
            "Failed to capture frame. Trying again...\n",
            "Failed to capture frame. Trying again...\n",
            "Failed to capture frame. Trying again...\n",
            "Failed to capture frame. Trying again...\n",
            "Failed to capture frame. Trying again...\n",
            "Failed to capture frame. Trying again...\n",
            "Failed to capture frame. Trying again...\n",
            "Failed to capture frame. Trying again...\n",
            "Failed to capture frame. Trying again...\n",
            "Failed to capture frame. Trying again...\n",
            "Failed to capture frame. Trying again...\n",
            "Failed to capture frame. Trying again...\n",
            "Failed to capture frame. Trying again...\n",
            "Failed to capture frame. Trying again...\n",
            "Failed to capture frame. Trying again...\n",
            "Failed to capture frame. Trying again...\n",
            "Failed to capture frame. Trying again...\n",
            "Failed to capture frame. Trying again...\n",
            "Failed to capture frame. Trying again...\n",
            "Failed to capture frame. Trying again...\n",
            "Failed to capture frame. Trying again...\n",
            "Failed to capture frame. Trying again...\n",
            "Failed to capture frame. Trying again...\n",
            "Failed to capture frame. Trying again...\n",
            "Failed to capture frame. Trying again...\n",
            "Failed to capture frame. Trying again...\n",
            "Failed to capture frame. Trying again...\n",
            "Failed to capture frame. Trying again...\n",
            "Failed to capture frame. Trying again...\n",
            "Failed to capture frame. Trying again...\n",
            "Failed to capture frame. Trying again...\n",
            "Failed to capture frame. Trying again...\n",
            "Failed to capture frame. Trying again...\n",
            "Failed to capture frame. Trying again...\n",
            "Failed to capture frame. Trying again...\n",
            "Failed to capture frame. Trying again...\n",
            "Failed to capture frame. Trying again...\n",
            "Failed to capture frame. Trying again...\n",
            "Failed to capture frame. Trying again...\n",
            "Failed to capture frame. Trying again...\n",
            "Failed to capture frame. Trying again...\n",
            "Failed to capture frame. Trying again...\n",
            "Failed to capture frame. Trying again...\n",
            "Failed to capture frame. Trying again...\n",
            "Failed to capture frame. Trying again...\n",
            "Failed to capture frame. Trying again...\n",
            "Failed to capture frame. Trying again...\n",
            "Failed to capture frame. Trying again...\n",
            "Failed to capture frame. Trying again...\n",
            "Failed to capture frame. Trying again...\n",
            "Failed to capture frame. Trying again...\n",
            "Failed to capture frame. Trying again...\n",
            "Failed to capture frame. Trying again...\n",
            "Failed to capture frame. Trying again...\n",
            "Failed to capture frame. Trying again...\n",
            "Failed to capture frame. Trying again...\n",
            "Failed to capture frame. Trying again...\n",
            "Failed to capture frame. Trying again...\n",
            "Failed to capture frame. Trying again...\n",
            "Failed to capture frame. Trying again...\n",
            "Failed to capture frame. Trying again...\n",
            "Failed to capture frame. Trying again...\n",
            "Failed to capture frame. Trying again...\n",
            "Failed to capture frame. Trying again...\n",
            "Failed to capture frame. Trying again...\n",
            "Failed to capture frame. Trying again...\n",
            "Failed to capture frame. Trying again...\n",
            "Failed to capture frame. Trying again...\n",
            "Failed to capture frame. Trying again...\n",
            "Failed to capture frame. Trying again...\n",
            "Failed to capture frame. Trying again...\n",
            "Failed to capture frame. Trying again...\n",
            "Failed to capture frame. Trying again...\n",
            "Failed to capture frame. Trying again...\n",
            "Failed to capture frame. Trying again...\n",
            "Failed to capture frame. Trying again...\n",
            "Failed to capture frame. Trying again...\n",
            "Failed to capture frame. Trying again...\n",
            "Failed to capture frame. Trying again...\n",
            "Failed to capture frame. Trying again...\n",
            "Failed to capture frame. Trying again...\n",
            "Failed to capture frame. Trying again...\n",
            "Failed to capture frame. Trying again...\n",
            "Failed to capture frame. Trying again...\n",
            "Failed to capture frame. Trying again...\n",
            "Failed to capture frame. Trying again...\n",
            "Failed to capture frame. Trying again...\n",
            "Failed to capture frame. Trying again...\n",
            "Failed to capture frame. Trying again...\n",
            "Failed to capture frame. Trying again...\n",
            "Failed to capture frame. Trying again...\n",
            "Failed to capture frame. Trying again...\n",
            "Failed to capture frame. Trying again...\n",
            "Failed to capture frame. Trying again...\n",
            "Failed to capture frame. Trying again...\n",
            "Failed to capture frame. Trying again...\n",
            "Failed to capture frame. Trying again...\n",
            "Failed to capture frame. Trying again...\n",
            "Failed to capture frame. Trying again...\n",
            "Failed to capture frame. Trying again...\n",
            "Failed to capture frame. Trying again...\n",
            "Failed to capture frame. Trying again...\n",
            "Failed to capture frame. Trying again...\n",
            "Failed to capture frame. Trying again...\n",
            "Failed to capture frame. Trying again...\n",
            "Failed to capture frame. Trying again...\n",
            "Failed to capture frame. Trying again...\n",
            "Failed to capture frame. Trying again...\n",
            "Failed to capture frame. Trying again...\n",
            "Failed to capture frame. Trying again...\n",
            "Failed to capture frame. Trying again...\n",
            "Failed to capture frame. Trying again...\n",
            "Failed to capture frame. Trying again...\n",
            "Failed to capture frame. Trying again...\n",
            "Failed to capture frame. Trying again...\n",
            "Failed to capture frame. Trying again...\n",
            "Failed to capture frame. Trying again...\n",
            "Failed to capture frame. Trying again...\n",
            "Failed to capture frame. Trying again...\n",
            "Failed to capture frame. Trying again...\n",
            "Failed to capture frame. Trying again...\n",
            "Failed to capture frame. Trying again...\n",
            "Failed to capture frame. Trying again...\n",
            "Failed to capture frame. Trying again...\n",
            "Failed to capture frame. Trying again...\n",
            "Failed to capture frame. Trying again...\n",
            "Failed to capture frame. Trying again...\n",
            "Failed to capture frame. Trying again...\n",
            "Failed to capture frame. Trying again...\n",
            "Failed to capture frame. Trying again...\n",
            "Failed to capture frame. Trying again...\n",
            "Failed to capture frame. Trying again...\n",
            "Failed to capture frame. Trying again...\n",
            "Failed to capture frame. Trying again...\n",
            "Failed to capture frame. Trying again...\n",
            "Failed to capture frame. Trying again...\n",
            "Failed to capture frame. Trying again...\n",
            "Failed to capture frame. Trying again...\n",
            "Failed to capture frame. Trying again...\n",
            "Failed to capture frame. Trying again...\n",
            "Failed to capture frame. Trying again...\n",
            "Failed to capture frame. Trying again...\n",
            "Failed to capture frame. Trying again...\n",
            "Failed to capture frame. Trying again...\n",
            "Failed to capture frame. Trying again...\n",
            "Failed to capture frame. Trying again...\n",
            "Failed to capture frame. Trying again...\n",
            "Failed to capture frame. Trying again...\n",
            "Failed to capture frame. Trying again...\n",
            "Failed to capture frame. Trying again...\n",
            "Failed to capture frame. Trying again...\n",
            "Failed to capture frame. Trying again...\n",
            "Failed to capture frame. Trying again...\n",
            "Failed to capture frame. Trying again...\n",
            "Failed to capture frame. Trying again...\n",
            "Failed to capture frame. Trying again...\n",
            "Failed to capture frame. Trying again...\n",
            "Failed to capture frame. Trying again...\n",
            "Failed to capture frame. Trying again...\n",
            "Failed to capture frame. Trying again...\n",
            "Failed to capture frame. Trying again...\n",
            "Failed to capture frame. Trying again...\n",
            "Failed to capture frame. Trying again...\n",
            "Failed to capture frame. Trying again...\n",
            "Failed to capture frame. Trying again...\n",
            "Failed to capture frame. Trying again...\n",
            "Failed to capture frame. Trying again...\n",
            "Failed to capture frame. Trying again...\n",
            "Failed to capture frame. Trying again...\n",
            "Failed to capture frame. Trying again...\n",
            "Failed to capture frame. Trying again...\n",
            "Failed to capture frame. Trying again...\n",
            "Failed to capture frame. Trying again...\n",
            "Failed to capture frame. Trying again...\n",
            "Failed to capture frame. Trying again...\n",
            "Failed to capture frame. Trying again...\n",
            "Failed to capture frame. Trying again...\n",
            "Failed to capture frame. Trying again...\n",
            "Failed to capture frame. Trying again...\n",
            "Failed to capture frame. Trying again...\n",
            "Failed to capture frame. Trying again...\n",
            "Failed to capture frame. Trying again...\n",
            "Failed to capture frame. Trying again...\n",
            "Failed to capture frame. Trying again...\n",
            "Failed to capture frame. Trying again...\n",
            "Failed to capture frame. Trying again...\n",
            "Failed to capture frame. Trying again...\n",
            "Failed to capture frame. Trying again...\n",
            "Failed to capture frame. Trying again...\n",
            "Failed to capture frame. Trying again...\n",
            "Failed to capture frame. Trying again...\n",
            "Failed to capture frame. Trying again...\n",
            "Failed to capture frame. Trying again...\n",
            "Failed to capture frame. Trying again...\n",
            "Failed to capture frame. Trying again...\n",
            "Failed to capture frame. Trying again...\n",
            "Failed to capture frame. Trying again...\n",
            "Failed to capture frame. Trying again...\n",
            "Failed to capture frame. Trying again...\n",
            "Failed to capture frame. Trying again...\n",
            "Failed to capture frame. Trying again...\n",
            "Failed to capture frame. Trying again...\n",
            "Failed to capture frame. Trying again...\n",
            "Failed to capture frame. Trying again...\n",
            "Failed to capture frame. Trying again...\n",
            "Failed to capture frame. Trying again...\n",
            "Failed to capture frame. Trying again...\n",
            "Failed to capture frame. Trying again...\n",
            "Failed to capture frame. Trying again...\n",
            "Failed to capture frame. Trying again...\n",
            "Failed to capture frame. Trying again...\n",
            "Failed to capture frame. Trying again...\n",
            "Failed to capture frame. Trying again...\n",
            "Failed to capture frame. Trying again...\n",
            "Failed to capture frame. Trying again...\n",
            "Failed to capture frame. Trying again...\n",
            "Failed to capture frame. Trying again...\n",
            "Failed to capture frame. Trying again...\n",
            "Failed to capture frame. Trying again...\n",
            "Failed to capture frame. Trying again...\n",
            "Failed to capture frame. Trying again...\n",
            "Failed to capture frame. Trying again...\n",
            "Failed to capture frame. Trying again...\n",
            "Failed to capture frame. Trying again...\n",
            "Failed to capture frame. Trying again...\n",
            "Failed to capture frame. Trying again...\n",
            "Failed to capture frame. Trying again...\n",
            "Failed to capture frame. Trying again...\n",
            "Failed to capture frame. Trying again...\n",
            "Failed to capture frame. Trying again...\n",
            "Failed to capture frame. Trying again...\n",
            "Failed to capture frame. Trying again...\n",
            "Failed to capture frame. Trying again...\n",
            "Failed to capture frame. Trying again...\n",
            "Failed to capture frame. Trying again...\n",
            "Failed to capture frame. Trying again...\n",
            "Failed to capture frame. Trying again...\n",
            "Failed to capture frame. Trying again...\n",
            "Failed to capture frame. Trying again...\n",
            "Failed to capture frame. Trying again...\n",
            "Failed to capture frame. Trying again...\n",
            "Failed to capture frame. Trying again...\n",
            "Failed to capture frame. Trying again...\n",
            "Failed to capture frame. Trying again...\n",
            "Failed to capture frame. Trying again...\n",
            "Failed to capture frame. Trying again...\n",
            "Failed to capture frame. Trying again...\n",
            "Failed to capture frame. Trying again...\n",
            "Failed to capture frame. Trying again...\n",
            "Failed to capture frame. Trying again...\n",
            "Failed to capture frame. Trying again...\n",
            "Failed to capture frame. Trying again...\n",
            "Failed to capture frame. Trying again...\n",
            "Failed to capture frame. Trying again...\n",
            "Failed to capture frame. Trying again...\n",
            "Failed to capture frame. Trying again...\n",
            "Failed to capture frame. Trying again...\n",
            "Failed to capture frame. Trying again...\n",
            "Failed to capture frame. Trying again...\n",
            "Failed to capture frame. Trying again...\n",
            "Failed to capture frame. Trying again...\n",
            "Failed to capture frame. Trying again...\n",
            "Failed to capture frame. Trying again...\n",
            "Failed to capture frame. Trying again...\n",
            "Failed to capture frame. Trying again...\n",
            "Failed to capture frame. Trying again...\n",
            "Failed to capture frame. Trying again...\n",
            "Failed to capture frame. Trying again...\n",
            "Failed to capture frame. Trying again...\n",
            "Failed to capture frame. Trying again...\n",
            "Failed to capture frame. Trying again...\n",
            "Failed to capture frame. Trying again...\n",
            "Failed to capture frame. Trying again...\n",
            "Failed to capture frame. Trying again...\n",
            "Failed to capture frame. Trying again...\n",
            "Failed to capture frame. Trying again...\n",
            "Failed to capture frame. Trying again...\n",
            "Failed to capture frame. Trying again...\n",
            "Failed to capture frame. Trying again...\n",
            "Failed to capture frame. Trying again...\n",
            "Failed to capture frame. Trying again...\n",
            "Failed to capture frame. Trying again...\n",
            "Failed to capture frame. Trying again...\n",
            "Failed to capture frame. Trying again...\n",
            "Failed to capture frame. Trying again...\n",
            "Failed to capture frame. Trying again...\n",
            "Failed to capture frame. Trying again...\n",
            "Failed to capture frame. Trying again...\n",
            "Failed to capture frame. Trying again...\n",
            "Failed to capture frame. Trying again...\n",
            "Failed to capture frame. Trying again...\n",
            "Failed to capture frame. Trying again...\n",
            "Failed to capture frame. Trying again...\n",
            "Failed to capture frame. Trying again...\n",
            "Failed to capture frame. Trying again...\n",
            "Failed to capture frame. Trying again...\n",
            "Failed to capture frame. Trying again...\n",
            "Failed to capture frame. Trying again...\n",
            "Failed to capture frame. Trying again...\n",
            "Failed to capture frame. Trying again...\n",
            "Failed to capture frame. Trying again...\n",
            "Failed to capture frame. Trying again...\n",
            "Failed to capture frame. Trying again...\n",
            "Failed to capture frame. Trying again...\n",
            "Failed to capture frame. Trying again...\n",
            "Failed to capture frame. Trying again...\n",
            "Failed to capture frame. Trying again...\n",
            "Failed to capture frame. Trying again...\n",
            "Failed to capture frame. Trying again...\n",
            "Failed to capture frame. Trying again...\n",
            "Failed to capture frame. Trying again...\n",
            "Failed to capture frame. Trying again...\n",
            "Failed to capture frame. Trying again...\n",
            "Failed to capture frame. Trying again...\n",
            "Failed to capture frame. Trying again...\n",
            "Failed to capture frame. Trying again...\n",
            "Failed to capture frame. Trying again...\n",
            "Failed to capture frame. Trying again...\n",
            "Failed to capture frame. Trying again...\n",
            "Failed to capture frame. Trying again...\n",
            "Failed to capture frame. Trying again...\n",
            "Failed to capture frame. Trying again...\n",
            "Failed to capture frame. Trying again...\n",
            "Failed to capture frame. Trying again...\n",
            "Failed to capture frame. Trying again...\n",
            "Failed to capture frame. Trying again...\n",
            "Failed to capture frame. Trying again...\n",
            "Failed to capture frame. Trying again...\n",
            "Failed to capture frame. Trying again...\n",
            "Failed to capture frame. Trying again...\n",
            "Failed to capture frame. Trying again...\n",
            "Failed to capture frame. Trying again...\n",
            "Failed to capture frame. Trying again...\n",
            "Failed to capture frame. Trying again...\n",
            "Failed to capture frame. Trying again...\n",
            "Failed to capture frame. Trying again...\n",
            "Failed to capture frame. Trying again...\n",
            "Failed to capture frame. Trying again...\n",
            "Failed to capture frame. Trying again...\n",
            "Failed to capture frame. Trying again...\n",
            "Failed to capture frame. Trying again...\n",
            "Failed to capture frame. Trying again...\n",
            "Failed to capture frame. Trying again...\n",
            "Failed to capture frame. Trying again...\n",
            "Failed to capture frame. Trying again...\n",
            "Failed to capture frame. Trying again...\n",
            "Failed to capture frame. Trying again...\n",
            "Failed to capture frame. Trying again...\n",
            "Failed to capture frame. Trying again...\n",
            "Failed to capture frame. Trying again...\n",
            "Failed to capture frame. Trying again...\n",
            "Failed to capture frame. Trying again...\n",
            "Failed to capture frame. Trying again...\n",
            "Failed to capture frame. Trying again...\n",
            "Failed to capture frame. Trying again...\n",
            "Failed to capture frame. Trying again...\n",
            "Failed to capture frame. Trying again...\n",
            "Failed to capture frame. Trying again...\n",
            "Failed to capture frame. Trying again...\n",
            "Failed to capture frame. Trying again...\n",
            "Failed to capture frame. Trying again...\n",
            "Failed to capture frame. Trying again...\n",
            "Failed to capture frame. Trying again...\n",
            "Failed to capture frame. Trying again...\n",
            "Failed to capture frame. Trying again...\n",
            "Failed to capture frame. Trying again...\n",
            "Failed to capture frame. Trying again...\n",
            "Failed to capture frame. Trying again...\n",
            "Failed to capture frame. Trying again...\n",
            "Failed to capture frame. Trying again...\n",
            "Failed to capture frame. Trying again...\n",
            "Failed to capture frame. Trying again...\n",
            "Failed to capture frame. Trying again...\n",
            "Failed to capture frame. Trying again...\n",
            "Failed to capture frame. Trying again...\n",
            "Failed to capture frame. Trying again...\n",
            "Failed to capture frame. Trying again...\n",
            "Failed to capture frame. Trying again...\n",
            "Failed to capture frame. Trying again...\n",
            "Failed to capture frame. Trying again...\n",
            "Failed to capture frame. Trying again...\n",
            "Failed to capture frame. Trying again...\n",
            "Failed to capture frame. Trying again...\n",
            "Failed to capture frame. Trying again...\n",
            "Failed to capture frame. Trying again...\n",
            "Failed to capture frame. Trying again...\n",
            "Failed to capture frame. Trying again...\n",
            "Failed to capture frame. Trying again...\n",
            "Failed to capture frame. Trying again...\n",
            "Failed to capture frame. Trying again...\n",
            "Failed to capture frame. Trying again...\n",
            "Failed to capture frame. Trying again...\n",
            "Failed to capture frame. Trying again...\n",
            "Failed to capture frame. Trying again...\n",
            "Failed to capture frame. Trying again...\n",
            "Failed to capture frame. Trying again...\n",
            "Failed to capture frame. Trying again...\n",
            "Failed to capture frame. Trying again...\n",
            "Failed to capture frame. Trying again...\n",
            "Failed to capture frame. Trying again...\n",
            "Failed to capture frame. Trying again...\n",
            "Failed to capture frame. Trying again...\n",
            "Failed to capture frame. Trying again...\n",
            "Failed to capture frame. Trying again...\n",
            "Failed to capture frame. Trying again...\n",
            "Failed to capture frame. Trying again...\n",
            "Failed to capture frame. Trying again...\n",
            "Failed to capture frame. Trying again...\n",
            "Failed to capture frame. Trying again...\n",
            "Failed to capture frame. Trying again...\n",
            "Failed to capture frame. Trying again...\n",
            "Failed to capture frame. Trying again...\n",
            "Failed to capture frame. Trying again...\n",
            "Failed to capture frame. Trying again...\n",
            "Failed to capture frame. Trying again...\n",
            "Failed to capture frame. Trying again...\n",
            "Failed to capture frame. Trying again...\n",
            "Failed to capture frame. Trying again...\n",
            "Failed to capture frame. Trying again...\n",
            "Failed to capture frame. Trying again...\n",
            "Failed to capture frame. Trying again...\n",
            "Failed to capture frame. Trying again...\n",
            "Failed to capture frame. Trying again...\n",
            "Failed to capture frame. Trying again...\n",
            "Failed to capture frame. Trying again...\n",
            "Failed to capture frame. Trying again...\n",
            "Failed to capture frame. Trying again...\n",
            "Failed to capture frame. Trying again...\n",
            "Failed to capture frame. Trying again...\n",
            "Failed to capture frame. Trying again...\n",
            "Failed to capture frame. Trying again...\n",
            "Failed to capture frame. Trying again...\n",
            "Failed to capture frame. Trying again...\n",
            "Failed to capture frame. Trying again...\n",
            "Failed to capture frame. Trying again...\n",
            "Failed to capture frame. Trying again...\n",
            "Failed to capture frame. Trying again...\n",
            "Failed to capture frame. Trying again...\n",
            "Failed to capture frame. Trying again...\n",
            "Failed to capture frame. Trying again...\n",
            "Failed to capture frame. Trying again...\n",
            "Failed to capture frame. Trying again...\n",
            "Failed to capture frame. Trying again...\n",
            "Failed to capture frame. Trying again...\n",
            "Failed to capture frame. Trying again...\n",
            "Failed to capture frame. Trying again...\n",
            "Failed to capture frame. Trying again...\n",
            "Failed to capture frame. Trying again...\n",
            "Failed to capture frame. Trying again...\n",
            "Failed to capture frame. Trying again...\n",
            "Failed to capture frame. Trying again...\n",
            "Failed to capture frame. Trying again...\n",
            "Failed to capture frame. Trying again...\n",
            "Failed to capture frame. Trying again...\n",
            "Failed to capture frame. Trying again...\n",
            "Failed to capture frame. Trying again...\n",
            "Failed to capture frame. Trying again...\n",
            "Failed to capture frame. Trying again...\n",
            "Failed to capture frame. Trying again...\n",
            "Failed to capture frame. Trying again...\n",
            "Failed to capture frame. Trying again...\n",
            "Failed to capture frame. Trying again...\n",
            "Failed to capture frame. Trying again...\n",
            "Failed to capture frame. Trying again...\n",
            "Failed to capture frame. Trying again...\n",
            "Failed to capture frame. Trying again...\n",
            "Failed to capture frame. Trying again...\n",
            "Failed to capture frame. Trying again...\n",
            "Failed to capture frame. Trying again...\n",
            "Failed to capture frame. Trying again...\n",
            "Failed to capture frame. Trying again...\n",
            "Failed to capture frame. Trying again...\n",
            "Failed to capture frame. Trying again...\n",
            "Failed to capture frame. Trying again...\n",
            "Failed to capture frame. Trying again...\n",
            "Failed to capture frame. Trying again...\n",
            "Failed to capture frame. Trying again...\n",
            "Failed to capture frame. Trying again...\n",
            "Failed to capture frame. Trying again...\n",
            "Failed to capture frame. Trying again...\n",
            "Failed to capture frame. Trying again...\n",
            "Failed to capture frame. Trying again...\n",
            "Failed to capture frame. Trying again...\n",
            "Failed to capture frame. Trying again...\n",
            "Failed to capture frame. Trying again...\n",
            "Failed to capture frame. Trying again...\n",
            "Failed to capture frame. Trying again...\n",
            "Failed to capture frame. Trying again...\n",
            "Failed to capture frame. Trying again...\n",
            "Failed to capture frame. Trying again...\n",
            "Failed to capture frame. Trying again...\n",
            "Failed to capture frame. Trying again...\n",
            "Failed to capture frame. Trying again...\n",
            "Failed to capture frame. Trying again...\n",
            "Failed to capture frame. Trying again...\n",
            "Failed to capture frame. Trying again...\n",
            "Failed to capture frame. Trying again...\n",
            "Failed to capture frame. Trying again...\n",
            "Failed to capture frame. Trying again...\n",
            "Failed to capture frame. Trying again...\n",
            "Failed to capture frame. Trying again...\n",
            "Failed to capture frame. Trying again...\n",
            "Failed to capture frame. Trying again...\n",
            "Failed to capture frame. Trying again...\n",
            "Failed to capture frame. Trying again...\n",
            "Failed to capture frame. Trying again...\n",
            "Failed to capture frame. Trying again...\n",
            "Failed to capture frame. Trying again...\n",
            "Failed to capture frame. Trying again...\n",
            "Failed to capture frame. Trying again...\n",
            "Failed to capture frame. Trying again...\n",
            "Failed to capture frame. Trying again...\n",
            "Failed to capture frame. Trying again...\n",
            "Failed to capture frame. Trying again...\n",
            "Failed to capture frame. Trying again...\n",
            "Failed to capture frame. Trying again...\n",
            "Failed to capture frame. Trying again...\n",
            "Failed to capture frame. Trying again...\n",
            "Failed to capture frame. Trying again...\n",
            "Failed to capture frame. Trying again...\n",
            "Failed to capture frame. Trying again...\n",
            "Failed to capture frame. Trying again...\n",
            "Failed to capture frame. Trying again...\n",
            "Failed to capture frame. Trying again...\n",
            "Failed to capture frame. Trying again...\n",
            "Failed to capture frame. Trying again...\n",
            "Failed to capture frame. Trying again...\n",
            "Failed to capture frame. Trying again...\n",
            "Failed to capture frame. Trying again...\n",
            "Failed to capture frame. Trying again...\n",
            "Failed to capture frame. Trying again...\n",
            "Failed to capture frame. Trying again...\n",
            "Failed to capture frame. Trying again...\n",
            "Failed to capture frame. Trying again...\n",
            "Failed to capture frame. Trying again...\n",
            "Failed to capture frame. Trying again...\n",
            "Failed to capture frame. Trying again...\n",
            "Failed to capture frame. Trying again...\n",
            "Failed to capture frame. Trying again...\n",
            "Failed to capture frame. Trying again...\n",
            "Failed to capture frame. Trying again...\n",
            "Failed to capture frame. Trying again...\n",
            "Failed to capture frame. Trying again...\n",
            "Failed to capture frame. Trying again...\n",
            "Failed to capture frame. Trying again...\n",
            "Failed to capture frame. Trying again...\n",
            "Failed to capture frame. Trying again...\n",
            "Failed to capture frame. Trying again...\n",
            "Failed to capture frame. Trying again...\n",
            "Failed to capture frame. Trying again...\n",
            "Failed to capture frame. Trying again...\n",
            "Failed to capture frame. Trying again...\n",
            "Failed to capture frame. Trying again...\n",
            "Failed to capture frame. Trying again...\n",
            "Failed to capture frame. Trying again...\n",
            "Failed to capture frame. Trying again...\n",
            "Failed to capture frame. Trying again...\n",
            "Failed to capture frame. Trying again...\n",
            "Failed to capture frame. Trying again...\n",
            "Failed to capture frame. Trying again...\n",
            "Failed to capture frame. Trying again...\n",
            "Failed to capture frame. Trying again...\n",
            "Failed to capture frame. Trying again...\n",
            "Failed to capture frame. Trying again...\n",
            "Failed to capture frame. Trying again...\n",
            "Failed to capture frame. Trying again...\n",
            "Failed to capture frame. Trying again...\n",
            "Failed to capture frame. Trying again...\n",
            "Failed to capture frame. Trying again...\n",
            "Failed to capture frame. Trying again...\n",
            "Failed to capture frame. Trying again...\n",
            "Failed to capture frame. Trying again...\n",
            "Failed to capture frame. Trying again...\n",
            "Failed to capture frame. Trying again...\n",
            "Failed to capture frame. Trying again...\n",
            "Failed to capture frame. Trying again...\n",
            "Failed to capture frame. Trying again...\n",
            "Failed to capture frame. Trying again...\n",
            "Failed to capture frame. Trying again...\n",
            "Failed to capture frame. Trying again...\n",
            "Failed to capture frame. Trying again...\n",
            "Failed to capture frame. Trying again...\n",
            "Failed to capture frame. Trying again...\n",
            "Failed to capture frame. Trying again...\n",
            "Failed to capture frame. Trying again...\n",
            "Failed to capture frame. Trying again...\n",
            "Failed to capture frame. Trying again...\n",
            "Failed to capture frame. Trying again...\n",
            "Failed to capture frame. Trying again...\n",
            "Failed to capture frame. Trying again...\n",
            "Failed to capture frame. Trying again...\n",
            "Failed to capture frame. Trying again...\n",
            "Failed to capture frame. Trying again...\n",
            "Failed to capture frame. Trying again...\n",
            "Failed to capture frame. Trying again...\n",
            "Failed to capture frame. Trying again...\n",
            "Failed to capture frame. Trying again...\n",
            "Failed to capture frame. Trying again...\n",
            "Failed to capture frame. Trying again...\n",
            "Failed to capture frame. Trying again...\n",
            "Failed to capture frame. Trying again...\n",
            "Failed to capture frame. Trying again...\n",
            "Failed to capture frame. Trying again...\n",
            "Failed to capture frame. Trying again...\n",
            "Failed to capture frame. Trying again...\n",
            "Failed to capture frame. Trying again...\n",
            "Failed to capture frame. Trying again...\n",
            "Failed to capture frame. Trying again...\n",
            "Failed to capture frame. Trying again...\n",
            "Failed to capture frame. Trying again...\n",
            "Failed to capture frame. Trying again...\n",
            "Failed to capture frame. Trying again...\n",
            "Failed to capture frame. Trying again...\n",
            "Failed to capture frame. Trying again...\n",
            "Failed to capture frame. Trying again...\n",
            "Failed to capture frame. Trying again...\n",
            "Failed to capture frame. Trying again...\n",
            "Failed to capture frame. Trying again...\n",
            "Failed to capture frame. Trying again...\n",
            "Failed to capture frame. Trying again...\n",
            "Failed to capture frame. Trying again...\n",
            "Failed to capture frame. Trying again...\n",
            "Failed to capture frame. Trying again...\n",
            "Failed to capture frame. Trying again...\n",
            "Failed to capture frame. Trying again...\n",
            "Failed to capture frame. Trying again...\n",
            "Failed to capture frame. Trying again...\n",
            "Failed to capture frame. Trying again...\n",
            "Failed to capture frame. Trying again...\n",
            "Failed to capture frame. Trying again...\n",
            "Failed to capture frame. Trying again...\n",
            "Failed to capture frame. Trying again...\n",
            "Failed to capture frame. Trying again...\n",
            "Failed to capture frame. Trying again...\n",
            "Failed to capture frame. Trying again...\n",
            "Failed to capture frame. Trying again...\n",
            "Failed to capture frame. Trying again...\n",
            "Failed to capture frame. Trying again...\n",
            "Failed to capture frame. Trying again...\n",
            "Failed to capture frame. Trying again...\n",
            "Failed to capture frame. Trying again...\n",
            "Failed to capture frame. Trying again...\n",
            "Failed to capture frame. Trying again...\n",
            "Failed to capture frame. Trying again...\n",
            "Failed to capture frame. Trying again...\n",
            "Failed to capture frame. Trying again...\n",
            "Failed to capture frame. Trying again...\n",
            "Failed to capture frame. Trying again...\n",
            "Failed to capture frame. Trying again...\n",
            "Failed to capture frame. Trying again...\n",
            "Failed to capture frame. Trying again...\n",
            "Failed to capture frame. Trying again...\n",
            "Failed to capture frame. Trying again...\n",
            "Failed to capture frame. Trying again...\n",
            "Failed to capture frame. Trying again...\n",
            "Failed to capture frame. Trying again...\n",
            "Failed to capture frame. Trying again...\n",
            "Failed to capture frame. Trying again...\n",
            "Failed to capture frame. Trying again...\n",
            "Failed to capture frame. Trying again...\n",
            "Failed to capture frame. Trying again...\n",
            "Failed to capture frame. Trying again...\n",
            "Failed to capture frame. Trying again...\n",
            "Failed to capture frame. Trying again...\n",
            "Failed to capture frame. Trying again...\n",
            "Failed to capture frame. Trying again...\n",
            "Failed to capture frame. Trying again...\n",
            "Failed to capture frame. Trying again...\n",
            "Failed to capture frame. Trying again...\n",
            "Failed to capture frame. Trying again...\n",
            "Failed to capture frame. Trying again...\n",
            "Failed to capture frame. Trying again...\n",
            "Failed to capture frame. Trying again...\n",
            "Failed to capture frame. Trying again...\n",
            "Failed to capture frame. Trying again...\n",
            "Failed to capture frame. Trying again...\n",
            "Failed to capture frame. Trying again...\n",
            "Failed to capture frame. Trying again...\n",
            "Failed to capture frame. Trying again...\n",
            "Failed to capture frame. Trying again...\n",
            "Failed to capture frame. Trying again...\n",
            "Failed to capture frame. Trying again...\n",
            "Failed to capture frame. Trying again...\n",
            "Failed to capture frame. Trying again...\n",
            "Failed to capture frame. Trying again...\n",
            "Failed to capture frame. Trying again...\n",
            "Failed to capture frame. Trying again...\n",
            "Failed to capture frame. Trying again...\n",
            "Failed to capture frame. Trying again...\n",
            "Failed to capture frame. Trying again...\n",
            "Failed to capture frame. Trying again...\n",
            "Failed to capture frame. Trying again...\n",
            "Failed to capture frame. Trying again...\n",
            "Failed to capture frame. Trying again...\n",
            "Failed to capture frame. Trying again...\n",
            "Failed to capture frame. Trying again...\n",
            "Failed to capture frame. Trying again...\n",
            "Failed to capture frame. Trying again...\n",
            "Failed to capture frame. Trying again...\n",
            "Failed to capture frame. Trying again...\n",
            "Failed to capture frame. Trying again...\n",
            "Failed to capture frame. Trying again...\n",
            "Failed to capture frame. Trying again...\n",
            "Failed to capture frame. Trying again...\n",
            "Failed to capture frame. Trying again...\n",
            "Failed to capture frame. Trying again...\n",
            "Failed to capture frame. Trying again...\n",
            "Failed to capture frame. Trying again...\n",
            "Failed to capture frame. Trying again...\n",
            "Failed to capture frame. Trying again...\n",
            "Failed to capture frame. Trying again...\n",
            "Failed to capture frame. Trying again...\n",
            "Failed to capture frame. Trying again...\n",
            "Failed to capture frame. Trying again...\n",
            "Failed to capture frame. Trying again...\n",
            "Failed to capture frame. Trying again...\n",
            "Failed to capture frame. Trying again...\n",
            "Failed to capture frame. Trying again...\n",
            "Failed to capture frame. Trying again...\n",
            "Failed to capture frame. Trying again...\n",
            "Failed to capture frame. Trying again...\n",
            "Failed to capture frame. Trying again...\n",
            "Failed to capture frame. Trying again...\n",
            "Failed to capture frame. Trying again...\n",
            "Failed to capture frame. Trying again...\n",
            "Failed to capture frame. Trying again...\n",
            "Failed to capture frame. Trying again...\n",
            "Failed to capture frame. Trying again...\n",
            "Failed to capture frame. Trying again...\n",
            "Failed to capture frame. Trying again...\n",
            "Failed to capture frame. Trying again...\n",
            "Failed to capture frame. Trying again...\n",
            "Failed to capture frame. Trying again...\n",
            "Failed to capture frame. Trying again...\n",
            "Failed to capture frame. Trying again...\n",
            "Failed to capture frame. Trying again...\n",
            "Failed to capture frame. Trying again...\n",
            "Failed to capture frame. Trying again...\n",
            "Failed to capture frame. Trying again...\n",
            "Failed to capture frame. Trying again...\n",
            "Failed to capture frame. Trying again...\n",
            "Failed to capture frame. Trying again...\n",
            "Failed to capture frame. Trying again...\n",
            "Failed to capture frame. Trying again...\n",
            "Failed to capture frame. Trying again...\n",
            "Failed to capture frame. Trying again...\n",
            "Failed to capture frame. Trying again...\n",
            "Failed to capture frame. Trying again...\n",
            "Failed to capture frame. Trying again...\n",
            "Failed to capture frame. Trying again...\n",
            "Failed to capture frame. Trying again...\n",
            "Failed to capture frame. Trying again...\n",
            "Failed to capture frame. Trying again...\n",
            "Failed to capture frame. Trying again...\n",
            "Failed to capture frame. Trying again...\n",
            "Failed to capture frame. Trying again...\n",
            "Failed to capture frame. Trying again...\n",
            "Failed to capture frame. Trying again...\n",
            "Failed to capture frame. Trying again...\n",
            "Failed to capture frame. Trying again...\n",
            "Failed to capture frame. Trying again...\n",
            "Failed to capture frame. Trying again...\n",
            "Failed to capture frame. Trying again...\n",
            "Failed to capture frame. Trying again...\n",
            "Failed to capture frame. Trying again...\n",
            "Failed to capture frame. Trying again...\n",
            "Failed to capture frame. Trying again...\n",
            "Failed to capture frame. Trying again...\n",
            "Failed to capture frame. Trying again...\n",
            "Failed to capture frame. Trying again...\n",
            "Failed to capture frame. Trying again...\n",
            "Failed to capture frame. Trying again...\n",
            "Failed to capture frame. Trying again...\n",
            "Failed to capture frame. Trying again...\n",
            "Failed to capture frame. Trying again...\n",
            "Failed to capture frame. Trying again...\n",
            "Failed to capture frame. Trying again...\n",
            "Failed to capture frame. Trying again...\n",
            "Failed to capture frame. Trying again...\n",
            "Failed to capture frame. Trying again...\n",
            "Failed to capture frame. Trying again...\n",
            "Failed to capture frame. Trying again...\n",
            "Failed to capture frame. Trying again...\n",
            "Failed to capture frame. Trying again...\n",
            "Failed to capture frame. Trying again...\n",
            "Failed to capture frame. Trying again...\n",
            "Failed to capture frame. Trying again...\n",
            "Failed to capture frame. Trying again...\n",
            "Failed to capture frame. Trying again...\n",
            "Failed to capture frame. Trying again...\n",
            "Failed to capture frame. Trying again...\n",
            "Failed to capture frame. Trying again...\n",
            "Failed to capture frame. Trying again...\n",
            "Failed to capture frame. Trying again...\n",
            "Failed to capture frame. Trying again...\n",
            "Failed to capture frame. Trying again...\n",
            "Failed to capture frame. Trying again...\n",
            "Failed to capture frame. Trying again...\n",
            "Failed to capture frame. Trying again...\n",
            "Failed to capture frame. Trying again...\n",
            "Failed to capture frame. Trying again...\n",
            "Failed to capture frame. Trying again...\n",
            "Failed to capture frame. Trying again...\n",
            "Failed to capture frame. Trying again...\n",
            "Failed to capture frame. Trying again...\n",
            "Failed to capture frame. Trying again...\n",
            "Failed to capture frame. Trying again...\n",
            "Failed to capture frame. Trying again...\n",
            "Failed to capture frame. Trying again...\n",
            "Failed to capture frame. Trying again...\n",
            "Failed to capture frame. Trying again...\n",
            "Failed to capture frame. Trying again...\n",
            "Failed to capture frame. Trying again...\n",
            "Failed to capture frame. Trying again...\n",
            "Failed to capture frame. Trying again...\n",
            "Failed to capture frame. Trying again...\n",
            "Failed to capture frame. Trying again...\n",
            "Failed to capture frame. Trying again...\n",
            "Failed to capture frame. Trying again...\n",
            "Failed to capture frame. Trying again...\n",
            "Failed to capture frame. Trying again...\n",
            "Failed to capture frame. Trying again...\n",
            "Failed to capture frame. Trying again...\n",
            "Failed to capture frame. Trying again...\n",
            "Failed to capture frame. Trying again...\n",
            "Failed to capture frame. Trying again...\n",
            "Failed to capture frame. Trying again...\n",
            "Failed to capture frame. Trying again...\n",
            "Failed to capture frame. Trying again...\n",
            "Failed to capture frame. Trying again...\n",
            "Failed to capture frame. Trying again...\n",
            "Failed to capture frame. Trying again...\n",
            "Failed to capture frame. Trying again...\n",
            "Failed to capture frame. Trying again...\n",
            "Failed to capture frame. Trying again...\n",
            "Failed to capture frame. Trying again...\n",
            "Failed to capture frame. Trying again...\n",
            "Failed to capture frame. Trying again...\n",
            "Failed to capture frame. Trying again...\n",
            "Failed to capture frame. Trying again...\n",
            "Failed to capture frame. Trying again...\n",
            "Failed to capture frame. Trying again...\n",
            "Failed to capture frame. Trying again...\n",
            "Failed to capture frame. Trying again...\n",
            "Failed to capture frame. Trying again...\n",
            "Failed to capture frame. Trying again...\n",
            "Failed to capture frame. Trying again...\n",
            "Failed to capture frame. Trying again...\n",
            "Failed to capture frame. Trying again...\n",
            "Failed to capture frame. Trying again...\n",
            "Failed to capture frame. Trying again...\n",
            "Failed to capture frame. Trying again...\n",
            "Failed to capture frame. Trying again...\n",
            "Failed to capture frame. Trying again...\n",
            "Failed to capture frame. Trying again...\n",
            "Failed to capture frame. Trying again...\n",
            "Failed to capture frame. Trying again...\n",
            "Failed to capture frame. Trying again...\n",
            "Failed to capture frame. Trying again...\n",
            "Failed to capture frame. Trying again...\n",
            "Failed to capture frame. Trying again...\n",
            "Failed to capture frame. Trying again...\n",
            "Failed to capture frame. Trying again...\n",
            "Failed to capture frame. Trying again...\n",
            "Failed to capture frame. Trying again...\n",
            "Failed to capture frame. Trying again...\n",
            "Failed to capture frame. Trying again...\n",
            "Failed to capture frame. Trying again...\n",
            "Failed to capture frame. Trying again...\n",
            "Failed to capture frame. Trying again...\n",
            "Failed to capture frame. Trying again...\n",
            "Failed to capture frame. Trying again...\n",
            "Failed to capture frame. Trying again...\n",
            "Failed to capture frame. Trying again...\n",
            "Failed to capture frame. Trying again...\n",
            "Failed to capture frame. Trying again...\n",
            "Failed to capture frame. Trying again...\n",
            "Failed to capture frame. Trying again...\n",
            "Failed to capture frame. Trying again...\n",
            "Failed to capture frame. Trying again...\n",
            "Failed to capture frame. Trying again...\n",
            "Failed to capture frame. Trying again...\n",
            "Failed to capture frame. Trying again...\n",
            "Failed to capture frame. Trying again...\n",
            "Failed to capture frame. Trying again...\n",
            "Failed to capture frame. Trying again...\n",
            "Failed to capture frame. Trying again...\n",
            "Failed to capture frame. Trying again...\n",
            "Failed to capture frame. Trying again...\n",
            "Failed to capture frame. Trying again...\n",
            "Failed to capture frame. Trying again...\n",
            "Failed to capture frame. Trying again...\n",
            "Failed to capture frame. Trying again...\n",
            "Failed to capture frame. Trying again...\n",
            "Failed to capture frame. Trying again...\n",
            "Failed to capture frame. Trying again...\n",
            "Failed to capture frame. Trying again...\n",
            "Failed to capture frame. Trying again...\n",
            "Failed to capture frame. Trying again...\n",
            "Failed to capture frame. Trying again...\n",
            "Failed to capture frame. Trying again...\n",
            "Failed to capture frame. Trying again...\n",
            "Failed to capture frame. Trying again...\n",
            "Failed to capture frame. Trying again...\n",
            "Failed to capture frame. Trying again...\n",
            "Failed to capture frame. Trying again...\n",
            "Failed to capture frame. Trying again...\n",
            "Failed to capture frame. Trying again...\n",
            "Failed to capture frame. Trying again...\n",
            "Failed to capture frame. Trying again...\n",
            "Failed to capture frame. Trying again...\n",
            "Failed to capture frame. Trying again...\n",
            "Failed to capture frame. Trying again...\n",
            "Failed to capture frame. Trying again...\n",
            "Failed to capture frame. Trying again...\n",
            "Failed to capture frame. Trying again...\n",
            "Failed to capture frame. Trying again...\n",
            "Failed to capture frame. Trying again...\n",
            "Failed to capture frame. Trying again...\n",
            "Failed to capture frame. Trying again...\n",
            "Failed to capture frame. Trying again...\n",
            "Failed to capture frame. Trying again...\n",
            "Failed to capture frame. Trying again...\n",
            "Failed to capture frame. Trying again...\n",
            "Failed to capture frame. Trying again...\n",
            "Failed to capture frame. Trying again...\n",
            "Failed to capture frame. Trying again...\n",
            "Failed to capture frame. Trying again...\n",
            "Failed to capture frame. Trying again...\n",
            "Failed to capture frame. Trying again...\n",
            "Failed to capture frame. Trying again...\n",
            "Failed to capture frame. Trying again...\n",
            "Failed to capture frame. Trying again...\n",
            "Failed to capture frame. Trying again...\n",
            "Failed to capture frame. Trying again...\n",
            "Failed to capture frame. Trying again...\n",
            "Failed to capture frame. Trying again...\n",
            "Failed to capture frame. Trying again...\n",
            "Failed to capture frame. Trying again...\n",
            "Failed to capture frame. Trying again...\n",
            "Failed to capture frame. Trying again...\n",
            "Failed to capture frame. Trying again...\n",
            "Failed to capture frame. Trying again...\n",
            "Failed to capture frame. Trying again...\n",
            "Failed to capture frame. Trying again...\n",
            "Failed to capture frame. Trying again...\n",
            "Failed to capture frame. Trying again...\n",
            "Failed to capture frame. Trying again...\n",
            "Failed to capture frame. Trying again...\n",
            "Failed to capture frame. Trying again...\n",
            "Failed to capture frame. Trying again...\n",
            "Failed to capture frame. Trying again...\n",
            "Failed to capture frame. Trying again...\n",
            "Failed to capture frame. Trying again...\n",
            "Failed to capture frame. Trying again...\n",
            "Failed to capture frame. Trying again...\n",
            "Failed to capture frame. Trying again...\n",
            "Failed to capture frame. Trying again...\n",
            "Failed to capture frame. Trying again...\n",
            "Failed to capture frame. Trying again...\n",
            "Failed to capture frame. Trying again...\n",
            "Failed to capture frame. Trying again...\n",
            "Failed to capture frame. Trying again...\n",
            "Failed to capture frame. Trying again...\n",
            "Failed to capture frame. Trying again...\n",
            "Failed to capture frame. Trying again...\n",
            "Failed to capture frame. Trying again...\n",
            "Failed to capture frame. Trying again...\n",
            "Failed to capture frame. Trying again...\n",
            "Failed to capture frame. Trying again...\n",
            "Failed to capture frame. Trying again...\n",
            "Failed to capture frame. Trying again...\n",
            "Failed to capture frame. Trying again...\n",
            "Failed to capture frame. Trying again...\n",
            "Failed to capture frame. Trying again...\n",
            "Failed to capture frame. Trying again...\n",
            "Failed to capture frame. Trying again...\n",
            "Failed to capture frame. Trying again...\n",
            "Failed to capture frame. Trying again...\n",
            "Failed to capture frame. Trying again...\n",
            "Failed to capture frame. Trying again...\n",
            "Failed to capture frame. Trying again...\n",
            "Failed to capture frame. Trying again...\n",
            "Failed to capture frame. Trying again...\n",
            "Failed to capture frame. Trying again...\n",
            "Failed to capture frame. Trying again...\n",
            "Failed to capture frame. Trying again...\n",
            "Failed to capture frame. Trying again...\n",
            "Failed to capture frame. Trying again...\n",
            "Failed to capture frame. Trying again...\n",
            "Failed to capture frame. Trying again...\n",
            "Failed to capture frame. Trying again...\n",
            "Failed to capture frame. Trying again...\n",
            "Failed to capture frame. Trying again...\n",
            "Failed to capture frame. Trying again...\n",
            "Failed to capture frame. Trying again...\n",
            "Failed to capture frame. Trying again...\n",
            "Failed to capture frame. Trying again...\n",
            "Failed to capture frame. Trying again...\n",
            "Failed to capture frame. Trying again...\n",
            "Failed to capture frame. Trying again...\n",
            "Failed to capture frame. Trying again...\n",
            "Failed to capture frame. Trying again...\n",
            "Failed to capture frame. Trying again...\n",
            "Failed to capture frame. Trying again...\n",
            "Failed to capture frame. Trying again...\n",
            "Failed to capture frame. Trying again...\n",
            "Failed to capture frame. Trying again...\n",
            "Failed to capture frame. Trying again...\n",
            "Failed to capture frame. Trying again...\n",
            "Failed to capture frame. Trying again...\n",
            "Failed to capture frame. Trying again...\n",
            "Failed to capture frame. Trying again...\n",
            "Failed to capture frame. Trying again...\n",
            "Failed to capture frame. Trying again...\n",
            "Failed to capture frame. Trying again...\n",
            "Failed to capture frame. Trying again...\n",
            "Failed to capture frame. Trying again...\n",
            "Failed to capture frame. Trying again...\n",
            "Failed to capture frame. Trying again...\n",
            "Failed to capture frame. Trying again...\n",
            "Failed to capture frame. Trying again...\n",
            "Failed to capture frame. Trying again...\n",
            "Failed to capture frame. Trying again...\n",
            "Failed to capture frame. Trying again...\n",
            "Failed to capture frame. Trying again...\n",
            "Failed to capture frame. Trying again...\n",
            "Failed to capture frame. Trying again...\n",
            "Failed to capture frame. Trying again...\n",
            "Failed to capture frame. Trying again...\n",
            "Failed to capture frame. Trying again...\n",
            "Failed to capture frame. Trying again...\n",
            "Failed to capture frame. Trying again...\n",
            "Failed to capture frame. Trying again...\n",
            "Failed to capture frame. Trying again...\n",
            "Failed to capture frame. Trying again...\n",
            "Failed to capture frame. Trying again...\n",
            "Failed to capture frame. Trying again...\n",
            "Failed to capture frame. Trying again...\n",
            "Failed to capture frame. Trying again...\n",
            "Failed to capture frame. Trying again...\n",
            "Failed to capture frame. Trying again...\n",
            "Failed to capture frame. Trying again...\n",
            "Failed to capture frame. Trying again...\n",
            "Failed to capture frame. Trying again...\n",
            "Failed to capture frame. Trying again...\n",
            "Failed to capture frame. Trying again...\n",
            "Failed to capture frame. Trying again...\n",
            "Failed to capture frame. Trying again...\n",
            "Failed to capture frame. Trying again...\n",
            "Failed to capture frame. Trying again...\n",
            "Failed to capture frame. Trying again...\n",
            "Failed to capture frame. Trying again...\n",
            "Failed to capture frame. Trying again...\n",
            "Failed to capture frame. Trying again...\n",
            "Failed to capture frame. Trying again...\n",
            "Failed to capture frame. Trying again...\n",
            "Failed to capture frame. Trying again...\n",
            "Failed to capture frame. Trying again...\n",
            "Failed to capture frame. Trying again...\n",
            "Failed to capture frame. Trying again...\n",
            "Failed to capture frame. Trying again...\n",
            "Failed to capture frame. Trying again...\n",
            "Failed to capture frame. Trying again...\n",
            "Failed to capture frame. Trying again...\n",
            "Failed to capture frame. Trying again...\n",
            "Failed to capture frame. Trying again...\n",
            "Failed to capture frame. Trying again...\n",
            "Failed to capture frame. Trying again...\n",
            "Failed to capture frame. Trying again...\n",
            "Failed to capture frame. Trying again...\n",
            "Failed to capture frame. Trying again...\n",
            "Failed to capture frame. Trying again...\n",
            "Failed to capture frame. Trying again...\n",
            "Failed to capture frame. Trying again...\n",
            "Failed to capture frame. Trying again...\n",
            "Failed to capture frame. Trying again...\n",
            "Failed to capture frame. Trying again...\n",
            "Failed to capture frame. Trying again...\n",
            "Failed to capture frame. Trying again...\n",
            "Failed to capture frame. Trying again...\n",
            "Failed to capture frame. Trying again...\n",
            "Failed to capture frame. Trying again...\n",
            "Failed to capture frame. Trying again...\n",
            "Failed to capture frame. Trying again...\n",
            "Failed to capture frame. Trying again...\n",
            "Failed to capture frame. Trying again...\n",
            "Failed to capture frame. Trying again...\n",
            "Failed to capture frame. Trying again...\n",
            "Failed to capture frame. Trying again...\n",
            "Failed to capture frame. Trying again...\n",
            "Failed to capture frame. Trying again...\n",
            "Failed to capture frame. Trying again...\n",
            "Failed to capture frame. Trying again...\n",
            "Failed to capture frame. Trying again...\n",
            "Failed to capture frame. Trying again...\n",
            "Failed to capture frame. Trying again...\n",
            "Failed to capture frame. Trying again...\n",
            "Failed to capture frame. Trying again...\n",
            "Failed to capture frame. Trying again...\n",
            "Failed to capture frame. Trying again...\n",
            "Failed to capture frame. Trying again...\n",
            "Failed to capture frame. Trying again...\n",
            "Failed to capture frame. Trying again...\n",
            "Failed to capture frame. Trying again...\n",
            "Failed to capture frame. Trying again...\n",
            "Failed to capture frame. Trying again...\n",
            "Failed to capture frame. Trying again...\n",
            "Failed to capture frame. Trying again...\n",
            "Failed to capture frame. Trying again...\n",
            "Failed to capture frame. Trying again...\n",
            "Failed to capture frame. Trying again...\n",
            "Failed to capture frame. Trying again...\n",
            "Failed to capture frame. Trying again...\n",
            "Failed to capture frame. Trying again...\n",
            "Failed to capture frame. Trying again...\n",
            "Failed to capture frame. Trying again...\n",
            "Failed to capture frame. Trying again...\n",
            "Failed to capture frame. Trying again...\n",
            "Failed to capture frame. Trying again...\n",
            "Failed to capture frame. Trying again...\n",
            "Failed to capture frame. Trying again...\n",
            "Failed to capture frame. Trying again...\n",
            "Failed to capture frame. Trying again...\n",
            "Failed to capture frame. Trying again...\n",
            "Failed to capture frame. Trying again...\n",
            "Failed to capture frame. Trying again...\n",
            "Failed to capture frame. Trying again...\n",
            "Failed to capture frame. Trying again...\n",
            "Failed to capture frame. Trying again...\n",
            "Failed to capture frame. Trying again...\n",
            "Failed to capture frame. Trying again...\n",
            "Failed to capture frame. Trying again...\n",
            "Failed to capture frame. Trying again...\n",
            "Failed to capture frame. Trying again...\n",
            "Failed to capture frame. Trying again...\n",
            "Failed to capture frame. Trying again...\n",
            "Failed to capture frame. Trying again...\n",
            "Failed to capture frame. Trying again...\n",
            "Failed to capture frame. Trying again...\n",
            "Failed to capture frame. Trying again...\n",
            "Failed to capture frame. Trying again...\n",
            "Failed to capture frame. Trying again...\n",
            "Failed to capture frame. Trying again...\n",
            "Failed to capture frame. Trying again...\n",
            "Failed to capture frame. Trying again...\n",
            "Failed to capture frame. Trying again...\n",
            "Failed to capture frame. Trying again...\n",
            "Failed to capture frame. Trying again...\n",
            "Failed to capture frame. Trying again...\n",
            "Failed to capture frame. Trying again...\n",
            "Failed to capture frame. Trying again...\n",
            "Failed to capture frame. Trying again...\n",
            "Failed to capture frame. Trying again...\n",
            "Failed to capture frame. Trying again...\n",
            "Failed to capture frame. Trying again...\n",
            "Failed to capture frame. Trying again...\n",
            "Failed to capture frame. Trying again...\n",
            "Failed to capture frame. Trying again...\n",
            "Failed to capture frame. Trying again...\n",
            "Failed to capture frame. Trying again...\n",
            "Failed to capture frame. Trying again...\n",
            "Failed to capture frame. Trying again...\n",
            "Failed to capture frame. Trying again...\n",
            "Failed to capture frame. Trying again...\n",
            "Failed to capture frame. Trying again...\n",
            "Failed to capture frame. Trying again...\n",
            "Failed to capture frame. Trying again...\n",
            "Failed to capture frame. Trying again...\n",
            "Failed to capture frame. Trying again...\n",
            "Failed to capture frame. Trying again...\n",
            "Failed to capture frame. Trying again...\n",
            "Failed to capture frame. Trying again...\n",
            "Failed to capture frame. Trying again...\n",
            "Failed to capture frame. Trying again...\n",
            "Failed to capture frame. Trying again...\n",
            "Failed to capture frame. Trying again...\n",
            "Failed to capture frame. Trying again...\n",
            "Failed to capture frame. Trying again...\n",
            "Failed to capture frame. Trying again...\n",
            "Failed to capture frame. Trying again...\n",
            "Failed to capture frame. Trying again...\n",
            "Failed to capture frame. Trying again...\n",
            "Failed to capture frame. Trying again...\n",
            "Failed to capture frame. Trying again...\n",
            "Failed to capture frame. Trying again...\n",
            "Failed to capture frame. Trying again...\n",
            "Failed to capture frame. Trying again...\n",
            "Failed to capture frame. Trying again...\n",
            "Failed to capture frame. Trying again...\n",
            "Failed to capture frame. Trying again...\n",
            "Failed to capture frame. Trying again...\n",
            "Failed to capture frame. Trying again...\n",
            "Failed to capture frame. Trying again...\n",
            "Failed to capture frame. Trying again...\n",
            "Failed to capture frame. Trying again...\n",
            "Failed to capture frame. Trying again...\n",
            "Failed to capture frame. Trying again...\n",
            "Failed to capture frame. Trying again...\n",
            "Failed to capture frame. Trying again...\n",
            "Failed to capture frame. Trying again...\n",
            "Failed to capture frame. Trying again...\n",
            "Failed to capture frame. Trying again...\n",
            "Failed to capture frame. Trying again...\n",
            "Failed to capture frame. Trying again...\n",
            "Failed to capture frame. Trying again...\n",
            "Failed to capture frame. Trying again...\n",
            "Failed to capture frame. Trying again...\n",
            "Failed to capture frame. Trying again...\n",
            "Failed to capture frame. Trying again...\n",
            "Failed to capture frame. Trying again...\n",
            "Failed to capture frame. Trying again...\n",
            "Failed to capture frame. Trying again...\n",
            "Failed to capture frame. Trying again...\n",
            "Failed to capture frame. Trying again...\n",
            "Failed to capture frame. Trying again...\n",
            "Failed to capture frame. Trying again...\n",
            "Failed to capture frame. Trying again...\n",
            "Failed to capture frame. Trying again...\n",
            "Failed to capture frame. Trying again...\n",
            "Failed to capture frame. Trying again...\n",
            "Failed to capture frame. Trying again...\n",
            "Failed to capture frame. Trying again...\n",
            "Failed to capture frame. Trying again...\n",
            "Failed to capture frame. Trying again...\n",
            "Failed to capture frame. Trying again...\n",
            "Failed to capture frame. Trying again...\n",
            "Failed to capture frame. Trying again...\n",
            "Failed to capture frame. Trying again...\n",
            "Failed to capture frame. Trying again...\n",
            "Failed to capture frame. Trying again...\n",
            "Failed to capture frame. Trying again...\n",
            "Failed to capture frame. Trying again...\n",
            "Failed to capture frame. Trying again...\n",
            "Failed to capture frame. Trying again...\n",
            "Failed to capture frame. Trying again...\n",
            "Failed to capture frame. Trying again...\n",
            "Failed to capture frame. Trying again...\n",
            "Failed to capture frame. Trying again...\n",
            "Failed to capture frame. Trying again...\n",
            "Failed to capture frame. Trying again...\n",
            "Failed to capture frame. Trying again...\n",
            "Failed to capture frame. Trying again...\n",
            "Failed to capture frame. Trying again...\n",
            "Failed to capture frame. Trying again...\n",
            "Failed to capture frame. Trying again...\n",
            "Failed to capture frame. Trying again...\n",
            "Failed to capture frame. Trying again...\n",
            "Failed to capture frame. Trying again...\n",
            "Failed to capture frame. Trying again...\n",
            "Failed to capture frame. Trying again...\n",
            "Failed to capture frame. Trying again...\n",
            "Failed to capture frame. Trying again...\n",
            "Failed to capture frame. Trying again...\n",
            "Failed to capture frame. Trying again...\n",
            "Failed to capture frame. Trying again...\n",
            "Failed to capture frame. Trying again...\n",
            "Failed to capture frame. Trying again...\n",
            "Failed to capture frame. Trying again...\n",
            "Failed to capture frame. Trying again...\n",
            "Failed to capture frame. Trying again...\n",
            "Failed to capture frame. Trying again...\n",
            "Failed to capture frame. Trying again...\n",
            "Failed to capture frame. Trying again...\n",
            "Failed to capture frame. Trying again...\n",
            "Failed to capture frame. Trying again...\n",
            "Failed to capture frame. Trying again...\n",
            "Failed to capture frame. Trying again...\n",
            "Failed to capture frame. Trying again...\n",
            "Failed to capture frame. Trying again...\n",
            "Failed to capture frame. Trying again...\n",
            "Failed to capture frame. Trying again...\n",
            "Failed to capture frame. Trying again...\n",
            "Failed to capture frame. Trying again...\n",
            "Failed to capture frame. Trying again...\n",
            "Failed to capture frame. Trying again...\n",
            "Failed to capture frame. Trying again...\n",
            "Failed to capture frame. Trying again...\n",
            "Failed to capture frame. Trying again...\n",
            "Failed to capture frame. Trying again...\n",
            "Failed to capture frame. Trying again...\n",
            "Failed to capture frame. Trying again...\n",
            "Failed to capture frame. Trying again...\n",
            "Failed to capture frame. Trying again...\n",
            "Failed to capture frame. Trying again...\n",
            "Failed to capture frame. Trying again...\n",
            "Failed to capture frame. Trying again...\n",
            "Failed to capture frame. Trying again...\n",
            "Failed to capture frame. Trying again...\n",
            "Failed to capture frame. Trying again...\n",
            "Failed to capture frame. Trying again...\n",
            "Failed to capture frame. Trying again...\n",
            "Failed to capture frame. Trying again...\n",
            "Failed to capture frame. Trying again...\n",
            "Failed to capture frame. Trying again...\n",
            "Failed to capture frame. Trying again...\n",
            "Failed to capture frame. Trying again...\n",
            "Failed to capture frame. Trying again...\n",
            "Failed to capture frame. Trying again...\n",
            "Failed to capture frame. Trying again...\n",
            "Failed to capture frame. Trying again...\n",
            "Failed to capture frame. Trying again...\n",
            "Failed to capture frame. Trying again...\n",
            "Failed to capture frame. Trying again...\n",
            "Failed to capture frame. Trying again...\n",
            "Failed to capture frame. Trying again...\n",
            "Failed to capture frame. Trying again...\n",
            "Failed to capture frame. Trying again...\n",
            "Failed to capture frame. Trying again...\n",
            "Failed to capture frame. Trying again...\n",
            "Failed to capture frame. Trying again...\n",
            "Failed to capture frame. Trying again...\n",
            "Failed to capture frame. Trying again...\n",
            "Failed to capture frame. Trying again...\n",
            "Failed to capture frame. Trying again...\n",
            "Failed to capture frame. Trying again...\n",
            "Failed to capture frame. Trying again...\n",
            "Failed to capture frame. Trying again...\n",
            "Failed to capture frame. Trying again...\n",
            "Failed to capture frame. Trying again...\n",
            "Failed to capture frame. Trying again...\n",
            "Failed to capture frame. Trying again...\n",
            "Failed to capture frame. Trying again...\n",
            "Failed to capture frame. Trying again...\n",
            "Failed to capture frame. Trying again...\n",
            "Failed to capture frame. Trying again...\n",
            "Failed to capture frame. Trying again...\n",
            "Failed to capture frame. Trying again...\n",
            "Failed to capture frame. Trying again...\n",
            "Failed to capture frame. Trying again...\n",
            "Failed to capture frame. Trying again...\n",
            "Failed to capture frame. Trying again...\n",
            "Failed to capture frame. Trying again...\n",
            "Failed to capture frame. Trying again...\n",
            "Failed to capture frame. Trying again...\n",
            "Failed to capture frame. Trying again...\n",
            "Failed to capture frame. Trying again...\n",
            "Failed to capture frame. Trying again...\n",
            "Failed to capture frame. Trying again...\n",
            "Failed to capture frame. Trying again...\n",
            "Failed to capture frame. Trying again...\n",
            "Failed to capture frame. Trying again...\n",
            "Failed to capture frame. Trying again...\n",
            "Failed to capture frame. Trying again...\n",
            "Failed to capture frame. Trying again...\n",
            "Failed to capture frame. Trying again...\n",
            "Failed to capture frame. Trying again...\n",
            "Failed to capture frame. Trying again...\n",
            "Failed to capture frame. Trying again...\n",
            "Failed to capture frame. Trying again...\n",
            "Failed to capture frame. Trying again...\n",
            "Failed to capture frame. Trying again...\n",
            "Failed to capture frame. Trying again...\n",
            "Failed to capture frame. Trying again...\n",
            "Failed to capture frame. Trying again...\n",
            "Failed to capture frame. Trying again...\n",
            "Failed to capture frame. Trying again...\n",
            "Failed to capture frame. Trying again...\n",
            "Failed to capture frame. Trying again...\n",
            "Failed to capture frame. Trying again...\n",
            "Failed to capture frame. Trying again...\n",
            "Failed to capture frame. Trying again...\n",
            "Failed to capture frame. Trying again...\n",
            "Failed to capture frame. Trying again...\n",
            "Failed to capture frame. Trying again...\n",
            "Failed to capture frame. Trying again...\n",
            "Failed to capture frame. Trying again...\n",
            "Failed to capture frame. Trying again...\n",
            "Failed to capture frame. Trying again...\n",
            "Failed to capture frame. Trying again...\n",
            "Failed to capture frame. Trying again...\n",
            "Failed to capture frame. Trying again...\n",
            "Failed to capture frame. Trying again...\n",
            "Failed to capture frame. Trying again...\n",
            "Failed to capture frame. Trying again...\n",
            "Failed to capture frame. Trying again...\n",
            "Failed to capture frame. Trying again...\n",
            "Failed to capture frame. Trying again...\n",
            "Failed to capture frame. Trying again...\n",
            "Failed to capture frame. Trying again...\n",
            "Failed to capture frame. Trying again...\n",
            "Failed to capture frame. Trying again...\n",
            "Failed to capture frame. Trying again...\n",
            "Failed to capture frame. Trying again...\n",
            "Failed to capture frame. Trying again...\n",
            "Failed to capture frame. Trying again...\n",
            "Failed to capture frame. Trying again...\n",
            "Failed to capture frame. Trying again...\n",
            "Failed to capture frame. Trying again...\n",
            "Failed to capture frame. Trying again...\n",
            "Failed to capture frame. Trying again...\n",
            "Failed to capture frame. Trying again...\n",
            "Failed to capture frame. Trying again...\n",
            "Failed to capture frame. Trying again...\n",
            "Failed to capture frame. Trying again...\n",
            "Failed to capture frame. Trying again...\n",
            "Failed to capture frame. Trying again...\n",
            "Failed to capture frame. Trying again...\n",
            "Failed to capture frame. Trying again...\n",
            "Failed to capture frame. Trying again...\n",
            "Failed to capture frame. Trying again...\n",
            "Failed to capture frame. Trying again...\n",
            "Failed to capture frame. Trying again...\n",
            "Failed to capture frame. Trying again...\n",
            "Failed to capture frame. Trying again...\n",
            "Failed to capture frame. Trying again...\n",
            "Failed to capture frame. Trying again...\n",
            "Failed to capture frame. Trying again...\n",
            "Failed to capture frame. Trying again...\n",
            "Failed to capture frame. Trying again...\n",
            "Failed to capture frame. Trying again...\n",
            "Failed to capture frame. Trying again...\n",
            "Failed to capture frame. Trying again...\n",
            "Failed to capture frame. Trying again...\n",
            "Failed to capture frame. Trying again...\n",
            "Failed to capture frame. Trying again...\n",
            "Failed to capture frame. Trying again...\n",
            "Failed to capture frame. Trying again...\n",
            "Failed to capture frame. Trying again...\n",
            "Failed to capture frame. Trying again...\n",
            "Failed to capture frame. Trying again...\n",
            "Failed to capture frame. Trying again...\n",
            "Failed to capture frame. Trying again...\n",
            "Failed to capture frame. Trying again...\n",
            "Failed to capture frame. Trying again...\n",
            "Failed to capture frame. Trying again...\n",
            "Failed to capture frame. Trying again...\n",
            "Failed to capture frame. Trying again...\n",
            "Failed to capture frame. Trying again...\n",
            "Failed to capture frame. Trying again...\n",
            "Failed to capture frame. Trying again...\n",
            "Failed to capture frame. Trying again...\n",
            "Failed to capture frame. Trying again...\n",
            "Failed to capture frame. Trying again...\n",
            "Failed to capture frame. Trying again...\n",
            "Failed to capture frame. Trying again...\n",
            "Failed to capture frame. Trying again...\n",
            "Failed to capture frame. Trying again...\n",
            "Failed to capture frame. Trying again...\n",
            "Failed to capture frame. Trying again...\n",
            "Failed to capture frame. Trying again...\n",
            "Failed to capture frame. Trying again...\n",
            "Failed to capture frame. Trying again...\n",
            "Failed to capture frame. Trying again...\n",
            "Failed to capture frame. Trying again...\n",
            "Failed to capture frame. Trying again...\n",
            "Failed to capture frame. Trying again...\n",
            "Failed to capture frame. Trying again...\n",
            "Failed to capture frame. Trying again...\n",
            "Failed to capture frame. Trying again...\n",
            "Failed to capture frame. Trying again...\n",
            "Failed to capture frame. Trying again...\n",
            "Failed to capture frame. Trying again...\n",
            "Failed to capture frame. Trying again...\n",
            "Failed to capture frame. Trying again...\n",
            "Failed to capture frame. Trying again...\n",
            "Failed to capture frame. Trying again...\n",
            "Failed to capture frame. Trying again...\n",
            "Failed to capture frame. Trying again...\n",
            "Failed to capture frame. Trying again...\n",
            "Failed to capture frame. Trying again...\n",
            "Failed to capture frame. Trying again...\n",
            "Failed to capture frame. Trying again...\n",
            "Failed to capture frame. Trying again...\n",
            "Failed to capture frame. Trying again...\n",
            "Failed to capture frame. Trying again...\n",
            "Failed to capture frame. Trying again...\n",
            "Failed to capture frame. Trying again...\n",
            "Failed to capture frame. Trying again...\n",
            "Failed to capture frame. Trying again...\n",
            "Failed to capture frame. Trying again...\n",
            "Failed to capture frame. Trying again...\n",
            "Failed to capture frame. Trying again...\n",
            "Failed to capture frame. Trying again...\n",
            "Failed to capture frame. Trying again...\n",
            "Failed to capture frame. Trying again...\n",
            "Failed to capture frame. Trying again...\n",
            "Failed to capture frame. Trying again...\n",
            "Failed to capture frame. Trying again...\n",
            "Failed to capture frame. Trying again...\n",
            "Failed to capture frame. Trying again...\n",
            "Failed to capture frame. Trying again...\n",
            "Failed to capture frame. Trying again...\n",
            "Failed to capture frame. Trying again...\n",
            "Failed to capture frame. Trying again...\n",
            "Failed to capture frame. Trying again...\n",
            "Failed to capture frame. Trying again...\n",
            "Failed to capture frame. Trying again...\n",
            "Failed to capture frame. Trying again...\n",
            "Failed to capture frame. Trying again...\n",
            "Failed to capture frame. Trying again...\n",
            "Failed to capture frame. Trying again...\n",
            "Failed to capture frame. Trying again...\n",
            "Failed to capture frame. Trying again...\n",
            "Failed to capture frame. Trying again...\n",
            "Failed to capture frame. Trying again...\n",
            "Failed to capture frame. Trying again...\n",
            "Failed to capture frame. Trying again...\n",
            "Failed to capture frame. Trying again...\n",
            "Failed to capture frame. Trying again...\n",
            "Failed to capture frame. Trying again...\n",
            "Failed to capture frame. Trying again...\n",
            "Failed to capture frame. Trying again...\n",
            "Failed to capture frame. Trying again...\n",
            "Failed to capture frame. Trying again...\n",
            "Failed to capture frame. Trying again...\n",
            "Failed to capture frame. Trying again...\n",
            "Failed to capture frame. Trying again...\n",
            "Failed to capture frame. Trying again...\n",
            "Failed to capture frame. Trying again...\n",
            "Failed to capture frame. Trying again...\n",
            "Failed to capture frame. Trying again...\n",
            "Failed to capture frame. Trying again...\n",
            "Failed to capture frame. Trying again...\n",
            "Failed to capture frame. Trying again...\n",
            "Failed to capture frame. Trying again...\n",
            "Failed to capture frame. Trying again...\n",
            "Failed to capture frame. Trying again...\n",
            "Failed to capture frame. Trying again...\n",
            "Failed to capture frame. Trying again...\n",
            "Failed to capture frame. Trying again...\n",
            "Failed to capture frame. Trying again...\n",
            "Failed to capture frame. Trying again...\n",
            "Failed to capture frame. Trying again...\n",
            "Failed to capture frame. Trying again...\n",
            "Failed to capture frame. Trying again...\n",
            "Failed to capture frame. Trying again...\n",
            "Failed to capture frame. Trying again...\n",
            "Failed to capture frame. Trying again...\n",
            "Failed to capture frame. Trying again...\n",
            "Failed to capture frame. Trying again...\n",
            "Failed to capture frame. Trying again...\n",
            "Failed to capture frame. Trying again...\n",
            "Failed to capture frame. Trying again...\n",
            "Failed to capture frame. Trying again...\n",
            "Failed to capture frame. Trying again...\n",
            "Failed to capture frame. Trying again...\n",
            "Failed to capture frame. Trying again...\n",
            "Failed to capture frame. Trying again...\n",
            "Failed to capture frame. Trying again...\n",
            "Failed to capture frame. Trying again...\n",
            "Failed to capture frame. Trying again...\n",
            "Failed to capture frame. Trying again...\n",
            "Failed to capture frame. Trying again...\n",
            "Failed to capture frame. Trying again...\n",
            "Failed to capture frame. Trying again...\n",
            "Failed to capture frame. Trying again...\n",
            "Failed to capture frame. Trying again...\n",
            "Failed to capture frame. Trying again...\n",
            "Failed to capture frame. Trying again...\n",
            "Failed to capture frame. Trying again...\n",
            "Failed to capture frame. Trying again...\n",
            "Failed to capture frame. Trying again...\n",
            "Failed to capture frame. Trying again...\n",
            "Failed to capture frame. Trying again...\n",
            "Failed to capture frame. Trying again...\n",
            "Failed to capture frame. Trying again...\n",
            "Failed to capture frame. Trying again...\n",
            "Failed to capture frame. Trying again...\n",
            "Failed to capture frame. Trying again...\n",
            "Failed to capture frame. Trying again...\n",
            "Failed to capture frame. Trying again...\n",
            "Failed to capture frame. Trying again...\n",
            "Failed to capture frame. Trying again...\n",
            "Failed to capture frame. Trying again...\n",
            "Failed to capture frame. Trying again...\n",
            "Failed to capture frame. Trying again...\n",
            "Failed to capture frame. Trying again...\n",
            "Failed to capture frame. Trying again...\n",
            "Failed to capture frame. Trying again...\n",
            "Failed to capture frame. Trying again...\n",
            "Failed to capture frame. Trying again...\n",
            "Failed to capture frame. Trying again...\n",
            "Failed to capture frame. Trying again...\n",
            "Failed to capture frame. Trying again...\n",
            "Failed to capture frame. Trying again...\n",
            "Failed to capture frame. Trying again...\n",
            "Failed to capture frame. Trying again...\n",
            "Failed to capture frame. Trying again...\n",
            "Failed to capture frame. Trying again...\n",
            "Failed to capture frame. Trying again...\n",
            "Failed to capture frame. Trying again...\n",
            "Failed to capture frame. Trying again...\n",
            "Failed to capture frame. Trying again...\n",
            "Failed to capture frame. Trying again...\n",
            "Failed to capture frame. Trying again...\n",
            "Failed to capture frame. Trying again...\n",
            "Failed to capture frame. Trying again...\n",
            "Failed to capture frame. Trying again...\n",
            "Failed to capture frame. Trying again...\n",
            "Failed to capture frame. Trying again...\n",
            "Failed to capture frame. Trying again...\n",
            "Failed to capture frame. Trying again...\n",
            "Failed to capture frame. Trying again...\n",
            "Failed to capture frame. Trying again...\n",
            "Failed to capture frame. Trying again...\n",
            "Failed to capture frame. Trying again...\n",
            "Failed to capture frame. Trying again...\n",
            "Failed to capture frame. Trying again...\n",
            "Failed to capture frame. Trying again...\n",
            "Failed to capture frame. Trying again...\n",
            "Failed to capture frame. Trying again...\n",
            "Failed to capture frame. Trying again...\n",
            "Failed to capture frame. Trying again...\n",
            "Failed to capture frame. Trying again...\n",
            "Failed to capture frame. Trying again...\n",
            "Failed to capture frame. Trying again...\n",
            "Failed to capture frame. Trying again...\n",
            "Failed to capture frame. Trying again...\n",
            "Failed to capture frame. Trying again...\n",
            "Failed to capture frame. Trying again...\n",
            "Failed to capture frame. Trying again...\n",
            "Failed to capture frame. Trying again...\n",
            "Failed to capture frame. Trying again...\n",
            "Failed to capture frame. Trying again...\n",
            "Failed to capture frame. Trying again...\n",
            "Failed to capture frame. Trying again...\n",
            "Failed to capture frame. Trying again...\n",
            "Failed to capture frame. Trying again...\n",
            "Failed to capture frame. Trying again...\n",
            "Failed to capture frame. Trying again...\n",
            "Failed to capture frame. Trying again...\n",
            "Failed to capture frame. Trying again...\n",
            "Failed to capture frame. Trying again...\n",
            "Failed to capture frame. Trying again...\n",
            "Failed to capture frame. Trying again...\n",
            "Failed to capture frame. Trying again...\n",
            "Failed to capture frame. Trying again...\n",
            "Failed to capture frame. Trying again...\n",
            "Failed to capture frame. Trying again...\n",
            "Failed to capture frame. Trying again...\n",
            "Failed to capture frame. Trying again...\n",
            "Failed to capture frame. Trying again...\n",
            "Failed to capture frame. Trying again...\n",
            "Failed to capture frame. Trying again...\n",
            "Failed to capture frame. Trying again...\n",
            "Failed to capture frame. Trying again...\n",
            "Failed to capture frame. Trying again...\n",
            "Failed to capture frame. Trying again...\n",
            "Failed to capture frame. Trying again...\n",
            "Failed to capture frame. Trying again...\n",
            "Failed to capture frame. Trying again...\n",
            "Failed to capture frame. Trying again...\n",
            "Failed to capture frame. Trying again...\n",
            "Failed to capture frame. Trying again...\n",
            "Failed to capture frame. Trying again...\n",
            "Failed to capture frame. Trying again...\n",
            "Failed to capture frame. Trying again...\n",
            "Failed to capture frame. Trying again...\n",
            "Failed to capture frame. Trying again...\n",
            "Failed to capture frame. Trying again...\n",
            "Failed to capture frame. Trying again...\n",
            "Failed to capture frame. Trying again...\n",
            "Failed to capture frame. Trying again...\n",
            "Failed to capture frame. Trying again...\n",
            "Failed to capture frame. Trying again...\n",
            "Failed to capture frame. Trying again...\n",
            "Failed to capture frame. Trying again...\n",
            "Failed to capture frame. Trying again...\n",
            "Failed to capture frame. Trying again...\n",
            "Failed to capture frame. Trying again...\n",
            "Failed to capture frame. Trying again...\n",
            "Failed to capture frame. Trying again...\n",
            "Failed to capture frame. Trying again...\n",
            "Failed to capture frame. Trying again...\n",
            "Failed to capture frame. Trying again...\n",
            "Failed to capture frame. Trying again...\n",
            "Failed to capture frame. Trying again...\n",
            "Failed to capture frame. Trying again...\n",
            "Failed to capture frame. Trying again...\n",
            "Failed to capture frame. Trying again...\n",
            "Failed to capture frame. Trying again...\n",
            "Failed to capture frame. Trying again...\n",
            "Failed to capture frame. Trying again...\n",
            "Failed to capture frame. Trying again...\n",
            "Failed to capture frame. Trying again...\n",
            "Failed to capture frame. Trying again...\n",
            "Failed to capture frame. Trying again...\n",
            "Failed to capture frame. Trying again...\n",
            "Failed to capture frame. Trying again...\n",
            "Failed to capture frame. Trying again...\n",
            "Failed to capture frame. Trying again...\n",
            "Failed to capture frame. Trying again...\n",
            "Failed to capture frame. Trying again...\n",
            "Failed to capture frame. Trying again...\n",
            "Failed to capture frame. Trying again...\n",
            "Failed to capture frame. Trying again...\n",
            "Failed to capture frame. Trying again...\n",
            "Failed to capture frame. Trying again...\n",
            "Failed to capture frame. Trying again...\n",
            "Failed to capture frame. Trying again...\n",
            "Failed to capture frame. Trying again...\n",
            "Failed to capture frame. Trying again...\n",
            "Failed to capture frame. Trying again...\n",
            "Failed to capture frame. Trying again...\n",
            "Failed to capture frame. Trying again...\n",
            "Failed to capture frame. Trying again...\n",
            "Failed to capture frame. Trying again...\n",
            "Failed to capture frame. Trying again...\n",
            "Failed to capture frame. Trying again...\n",
            "Failed to capture frame. Trying again...\n",
            "Failed to capture frame. Trying again...\n",
            "Failed to capture frame. Trying again...\n",
            "Failed to capture frame. Trying again...\n",
            "Failed to capture frame. Trying again...\n",
            "Failed to capture frame. Trying again...\n",
            "Failed to capture frame. Trying again...\n",
            "Failed to capture frame. Trying again...\n",
            "Failed to capture frame. Trying again...\n",
            "Failed to capture frame. Trying again...\n",
            "Failed to capture frame. Trying again...\n",
            "Failed to capture frame. Trying again...\n",
            "Failed to capture frame. Trying again...\n",
            "Failed to capture frame. Trying again...\n",
            "Failed to capture frame. Trying again...\n",
            "Failed to capture frame. Trying again...\n",
            "Failed to capture frame. Trying again...\n",
            "Failed to capture frame. Trying again...\n",
            "Failed to capture frame. Trying again...\n",
            "Failed to capture frame. Trying again...\n",
            "Failed to capture frame. Trying again...\n",
            "Failed to capture frame. Trying again...\n",
            "Failed to capture frame. Trying again...\n",
            "Failed to capture frame. Trying again...\n",
            "Failed to capture frame. Trying again...\n",
            "Failed to capture frame. Trying again...\n",
            "Failed to capture frame. Trying again...\n",
            "Failed to capture frame. Trying again...\n",
            "Failed to capture frame. Trying again...\n",
            "Failed to capture frame. Trying again...\n",
            "Failed to capture frame. Trying again...\n",
            "Failed to capture frame. Trying again...\n",
            "Failed to capture frame. Trying again...\n",
            "Failed to capture frame. Trying again...\n",
            "Failed to capture frame. Trying again...\n",
            "Failed to capture frame. Trying again...\n",
            "Failed to capture frame. Trying again...\n",
            "Failed to capture frame. Trying again...\n",
            "Failed to capture frame. Trying again...\n",
            "Failed to capture frame. Trying again...\n",
            "Failed to capture frame. Trying again...\n",
            "Failed to capture frame. Trying again...\n",
            "Failed to capture frame. Trying again...\n",
            "Failed to capture frame. Trying again...\n",
            "Failed to capture frame. Trying again...\n",
            "Failed to capture frame. Trying again...\n",
            "Failed to capture frame. Trying again...\n",
            "Failed to capture frame. Trying again...\n",
            "Failed to capture frame. Trying again...\n",
            "Failed to capture frame. Trying again...\n",
            "Failed to capture frame. Trying again...\n",
            "Failed to capture frame. Trying again...\n",
            "Failed to capture frame. Trying again...\n",
            "Failed to capture frame. Trying again...\n",
            "Failed to capture frame. Trying again...\n",
            "Failed to capture frame. Trying again...\n",
            "Failed to capture frame. Trying again...\n",
            "Failed to capture frame. Trying again...\n",
            "Failed to capture frame. Trying again...\n",
            "Failed to capture frame. Trying again...\n",
            "Failed to capture frame. Trying again...\n",
            "Failed to capture frame. Trying again...\n",
            "Failed to capture frame. Trying again...\n",
            "Failed to capture frame. Trying again...\n",
            "Failed to capture frame. Trying again...\n",
            "Failed to capture frame. Trying again...\n",
            "Failed to capture frame. Trying again...\n",
            "Failed to capture frame. Trying again...\n",
            "Failed to capture frame. Trying again...\n",
            "Failed to capture frame. Trying again...\n",
            "Failed to capture frame. Trying again...\n",
            "Failed to capture frame. Trying again...\n",
            "Failed to capture frame. Trying again...\n",
            "Failed to capture frame. Trying again...\n",
            "Failed to capture frame. Trying again...\n",
            "Failed to capture frame. Trying again...\n",
            "Failed to capture frame. Trying again...\n",
            "Failed to capture frame. Trying again...\n",
            "Failed to capture frame. Trying again...\n",
            "Failed to capture frame. Trying again...\n",
            "Failed to capture frame. Trying again...\n",
            "Failed to capture frame. Trying again...\n",
            "Failed to capture frame. Trying again...\n",
            "Failed to capture frame. Trying again...\n",
            "Failed to capture frame. Trying again...\n",
            "Failed to capture frame. Trying again...\n",
            "Failed to capture frame. Trying again...\n",
            "Failed to capture frame. Trying again...\n",
            "Failed to capture frame. Trying again...\n",
            "Failed to capture frame. Trying again...\n",
            "Failed to capture frame. Trying again...\n",
            "Failed to capture frame. Trying again...\n",
            "Failed to capture frame. Trying again...\n",
            "Failed to capture frame. Trying again...\n",
            "Failed to capture frame. Trying again...\n",
            "Failed to capture frame. Trying again...\n",
            "Failed to capture frame. Trying again...\n",
            "Failed to capture frame. Trying again...\n",
            "Failed to capture frame. Trying again...\n",
            "Failed to capture frame. Trying again...\n",
            "Failed to capture frame. Trying again...\n",
            "Failed to capture frame. Trying again...\n",
            "Failed to capture frame. Trying again...\n",
            "Failed to capture frame. Trying again...\n",
            "Failed to capture frame. Trying again...\n",
            "Failed to capture frame. Trying again...\n",
            "Failed to capture frame. Trying again...\n",
            "Failed to capture frame. Trying again...\n",
            "Failed to capture frame. Trying again...\n",
            "Failed to capture frame. Trying again...\n",
            "Failed to capture frame. Trying again...\n",
            "Failed to capture frame. Trying again...\n",
            "Failed to capture frame. Trying again...\n",
            "Failed to capture frame. Trying again...\n",
            "Failed to capture frame. Trying again...\n",
            "Failed to capture frame. Trying again...\n",
            "Failed to capture frame. Trying again...\n",
            "Failed to capture frame. Trying again...\n",
            "Failed to capture frame. Trying again...\n",
            "Failed to capture frame. Trying again...\n",
            "Failed to capture frame. Trying again...\n",
            "Failed to capture frame. Trying again...\n",
            "Failed to capture frame. Trying again...\n",
            "Failed to capture frame. Trying again...\n",
            "Failed to capture frame. Trying again...\n",
            "Failed to capture frame. Trying again...\n",
            "Failed to capture frame. Trying again...\n",
            "Failed to capture frame. Trying again...\n",
            "Failed to capture frame. Trying again...\n",
            "Failed to capture frame. Trying again...\n",
            "Failed to capture frame. Trying again...\n",
            "Failed to capture frame. Trying again...\n",
            "Failed to capture frame. Trying again...\n",
            "Failed to capture frame. Trying again...\n",
            "Failed to capture frame. Trying again...\n",
            "Failed to capture frame. Trying again...\n",
            "Failed to capture frame. Trying again...\n",
            "Failed to capture frame. Trying again...\n",
            "Failed to capture frame. Trying again...\n",
            "Failed to capture frame. Trying again...\n",
            "Failed to capture frame. Trying again...\n",
            "Failed to capture frame. Trying again...\n",
            "Failed to capture frame. Trying again...\n",
            "Failed to capture frame. Trying again...\n",
            "Failed to capture frame. Trying again...\n",
            "Failed to capture frame. Trying again...\n",
            "Failed to capture frame. Trying again...\n",
            "Failed to capture frame. Trying again...\n",
            "Failed to capture frame. Trying again...\n",
            "Failed to capture frame. Trying again...\n",
            "Failed to capture frame. Trying again...\n",
            "Failed to capture frame. Trying again...\n",
            "Failed to capture frame. Trying again...\n",
            "Failed to capture frame. Trying again...\n",
            "Failed to capture frame. Trying again...\n",
            "Failed to capture frame. Trying again...\n",
            "Failed to capture frame. Trying again...\n",
            "Failed to capture frame. Trying again...\n",
            "Failed to capture frame. Trying again...\n",
            "Failed to capture frame. Trying again...\n",
            "Failed to capture frame. Trying again...\n",
            "Failed to capture frame. Trying again...\n",
            "Failed to capture frame. Trying again...\n",
            "Failed to capture frame. Trying again...\n",
            "Failed to capture frame. Trying again...\n",
            "Failed to capture frame. Trying again...\n",
            "Failed to capture frame. Trying again...\n",
            "Failed to capture frame. Trying again...\n",
            "Failed to capture frame. Trying again...\n",
            "Failed to capture frame. Trying again...\n",
            "Failed to capture frame. Trying again...\n",
            "Failed to capture frame. Trying again...\n",
            "Failed to capture frame. Trying again...\n",
            "Failed to capture frame. Trying again...\n",
            "Failed to capture frame. Trying again...\n",
            "Failed to capture frame. Trying again...\n",
            "Failed to capture frame. Trying again...\n",
            "Failed to capture frame. Trying again...\n",
            "Failed to capture frame. Trying again...\n",
            "Failed to capture frame. Trying again...\n",
            "Failed to capture frame. Trying again...\n",
            "Failed to capture frame. Trying again...\n",
            "Failed to capture frame. Trying again...\n",
            "Failed to capture frame. Trying again...\n",
            "Failed to capture frame. Trying again...\n",
            "Failed to capture frame. Trying again...\n",
            "Failed to capture frame. Trying again...\n",
            "Failed to capture frame. Trying again...\n",
            "Failed to capture frame. Trying again...\n",
            "Failed to capture frame. Trying again...\n",
            "Failed to capture frame. Trying again...\n",
            "Failed to capture frame. Trying again...\n",
            "Failed to capture frame. Trying again...\n",
            "Failed to capture frame. Trying again...\n",
            "Failed to capture frame. Trying again...\n",
            "Failed to capture frame. Trying again...\n",
            "Failed to capture frame. Trying again...\n",
            "Failed to capture frame. Trying again...\n",
            "Failed to capture frame. Trying again...\n",
            "Failed to capture frame. Trying again...\n",
            "Failed to capture frame. Trying again...\n",
            "Failed to capture frame. Trying again...\n",
            "Failed to capture frame. Trying again...\n",
            "Failed to capture frame. Trying again...\n",
            "Failed to capture frame. Trying again...\n",
            "Failed to capture frame. Trying again...\n",
            "Failed to capture frame. Trying again...\n",
            "Failed to capture frame. Trying again...\n",
            "Failed to capture frame. Trying again...\n",
            "Failed to capture frame. Trying again...\n",
            "Failed to capture frame. Trying again...\n",
            "Failed to capture frame. Trying again...\n",
            "Failed to capture frame. Trying again...\n",
            "Failed to capture frame. Trying again...\n",
            "Failed to capture frame. Trying again...\n",
            "Failed to capture frame. Trying again...\n",
            "Failed to capture frame. Trying again...\n",
            "Failed to capture frame. Trying again...\n",
            "Failed to capture frame. Trying again...\n",
            "Failed to capture frame. Trying again...\n",
            "Failed to capture frame. Trying again...\n",
            "Failed to capture frame. Trying again...\n",
            "Failed to capture frame. Trying again...\n",
            "Failed to capture frame. Trying again...\n",
            "Failed to capture frame. Trying again...\n",
            "Failed to capture frame. Trying again...\n",
            "Failed to capture frame. Trying again...\n",
            "Failed to capture frame. Trying again...\n",
            "Failed to capture frame. Trying again...\n",
            "Failed to capture frame. Trying again...\n",
            "Failed to capture frame. Trying again...\n",
            "Failed to capture frame. Trying again...\n",
            "Failed to capture frame. Trying again...\n",
            "Failed to capture frame. Trying again...\n",
            "Failed to capture frame. Trying again...\n",
            "Failed to capture frame. Trying again...\n",
            "Failed to capture frame. Trying again...\n",
            "Failed to capture frame. Trying again...\n",
            "Failed to capture frame. Trying again...\n",
            "Failed to capture frame. Trying again...\n",
            "Failed to capture frame. Trying again...\n",
            "Failed to capture frame. Trying again...\n",
            "Failed to capture frame. Trying again...\n",
            "Failed to capture frame. Trying again...\n",
            "Failed to capture frame. Trying again...\n",
            "Failed to capture frame. Trying again...\n",
            "Failed to capture frame. Trying again...\n",
            "Failed to capture frame. Trying again...\n",
            "Failed to capture frame. Trying again...\n",
            "Failed to capture frame. Trying again...\n",
            "Failed to capture frame. Trying again...\n",
            "Failed to capture frame. Trying again...\n",
            "Failed to capture frame. Trying again...\n",
            "Failed to capture frame. Trying again...\n",
            "Failed to capture frame. Trying again...\n",
            "Failed to capture frame. Trying again...\n",
            "Failed to capture frame. Trying again...\n",
            "Failed to capture frame. Trying again...\n",
            "Failed to capture frame. Trying again...\n",
            "Failed to capture frame. Trying again...\n",
            "Failed to capture frame. Trying again...\n",
            "Failed to capture frame. Trying again...\n",
            "Failed to capture frame. Trying again...\n",
            "Failed to capture frame. Trying again...\n",
            "Failed to capture frame. Trying again...\n",
            "Failed to capture frame. Trying again...\n",
            "Failed to capture frame. Trying again...\n",
            "Failed to capture frame. Trying again...\n",
            "Failed to capture frame. Trying again...\n",
            "Failed to capture frame. Trying again...\n",
            "Failed to capture frame. Trying again...\n",
            "Failed to capture frame. Trying again...\n",
            "Failed to capture frame. Trying again...\n",
            "Failed to capture frame. Trying again...\n",
            "Failed to capture frame. Trying again...\n",
            "Failed to capture frame. Trying again...\n",
            "Failed to capture frame. Trying again...\n",
            "Failed to capture frame. Trying again...\n",
            "Failed to capture frame. Trying again...\n",
            "Failed to capture frame. Trying again...\n",
            "Failed to capture frame. Trying again...\n",
            "Failed to capture frame. Trying again...\n",
            "Failed to capture frame. Trying again...\n",
            "Failed to capture frame. Trying again...\n",
            "Failed to capture frame. Trying again...\n",
            "Failed to capture frame. Trying again...\n",
            "Failed to capture frame. Trying again...\n",
            "Failed to capture frame. Trying again...\n",
            "Failed to capture frame. Trying again...\n",
            "Failed to capture frame. Trying again...\n",
            "Failed to capture frame. Trying again...\n",
            "Failed to capture frame. Trying again...\n",
            "Failed to capture frame. Trying again...\n",
            "Failed to capture frame. Trying again...\n",
            "Failed to capture frame. Trying again...\n",
            "Failed to capture frame. Trying again...\n",
            "Failed to capture frame. Trying again...\n",
            "Failed to capture frame. Trying again...\n",
            "Failed to capture frame. Trying again...\n",
            "Failed to capture frame. Trying again...\n",
            "Failed to capture frame. Trying again...\n",
            "Failed to capture frame. Trying again...\n",
            "Failed to capture frame. Trying again...\n",
            "Failed to capture frame. Trying again...\n",
            "Failed to capture frame. Trying again...\n",
            "Failed to capture frame. Trying again...\n",
            "Failed to capture frame. Trying again...\n",
            "Failed to capture frame. Trying again...\n",
            "Failed to capture frame. Trying again...\n",
            "Failed to capture frame. Trying again...\n",
            "Failed to capture frame. Trying again...\n",
            "Failed to capture frame. Trying again...\n",
            "Failed to capture frame. Trying again...\n",
            "Failed to capture frame. Trying again...\n",
            "Failed to capture frame. Trying again...\n",
            "Failed to capture frame. Trying again...\n",
            "Failed to capture frame. Trying again...\n",
            "Failed to capture frame. Trying again...\n",
            "Failed to capture frame. Trying again...\n",
            "Failed to capture frame. Trying again...\n",
            "Failed to capture frame. Trying again...\n",
            "Failed to capture frame. Trying again...\n",
            "Failed to capture frame. Trying again...\n",
            "Failed to capture frame. Trying again...\n",
            "Failed to capture frame. Trying again...\n",
            "Failed to capture frame. Trying again...\n",
            "Failed to capture frame. Trying again...\n",
            "Failed to capture frame. Trying again...\n",
            "Failed to capture frame. Trying again...\n",
            "Failed to capture frame. Trying again...\n",
            "Failed to capture frame. Trying again...\n",
            "Failed to capture frame. Trying again...\n",
            "Failed to capture frame. Trying again...\n",
            "Failed to capture frame. Trying again...\n",
            "Failed to capture frame. Trying again...\n",
            "Failed to capture frame. Trying again...\n",
            "Failed to capture frame. Trying again...\n",
            "Failed to capture frame. Trying again...\n",
            "Failed to capture frame. Trying again...\n",
            "Failed to capture frame. Trying again...\n",
            "Failed to capture frame. Trying again...\n",
            "Failed to capture frame. Trying again...\n",
            "Failed to capture frame. Trying again...\n",
            "Failed to capture frame. Trying again...\n",
            "Failed to capture frame. Trying again...\n",
            "Failed to capture frame. Trying again...\n",
            "Failed to capture frame. Trying again...\n",
            "Failed to capture frame. Trying again...\n",
            "Failed to capture frame. Trying again...\n",
            "Failed to capture frame. Trying again...\n",
            "Failed to capture frame. Trying again...\n",
            "Failed to capture frame. Trying again...\n",
            "Failed to capture frame. Trying again...\n",
            "Failed to capture frame. Trying again...\n",
            "Failed to capture frame. Trying again...\n",
            "Failed to capture frame. Trying again...\n",
            "Failed to capture frame. Trying again...\n",
            "Failed to capture frame. Trying again...\n",
            "Failed to capture frame. Trying again...\n",
            "Failed to capture frame. Trying again...\n",
            "Failed to capture frame. Trying again...\n",
            "Failed to capture frame. Trying again...\n",
            "Failed to capture frame. Trying again...\n",
            "Failed to capture frame. Trying again...\n",
            "Failed to capture frame. Trying again...\n",
            "Failed to capture frame. Trying again...\n",
            "Failed to capture frame. Trying again...\n",
            "Failed to capture frame. Trying again...\n",
            "Failed to capture frame. Trying again...\n",
            "Failed to capture frame. Trying again...\n",
            "Failed to capture frame. Trying again...\n",
            "Failed to capture frame. Trying again...\n",
            "Failed to capture frame. Trying again...\n",
            "Failed to capture frame. Trying again...\n",
            "Failed to capture frame. Trying again...\n",
            "Failed to capture frame. Trying again...\n",
            "Failed to capture frame. Trying again...\n",
            "Failed to capture frame. Trying again...\n",
            "Failed to capture frame. Trying again...\n",
            "Failed to capture frame. Trying again...\n",
            "Failed to capture frame. Trying again...\n",
            "Failed to capture frame. Trying again...\n",
            "Failed to capture frame. Trying again...\n",
            "Failed to capture frame. Trying again...\n",
            "Failed to capture frame. Trying again...\n",
            "Failed to capture frame. Trying again...\n",
            "Failed to capture frame. Trying again...\n",
            "Failed to capture frame. Trying again...\n",
            "Failed to capture frame. Trying again...\n",
            "Failed to capture frame. Trying again...\n",
            "Failed to capture frame. Trying again...\n",
            "Failed to capture frame. Trying again...\n",
            "Failed to capture frame. Trying again...\n",
            "Failed to capture frame. Trying again...\n",
            "Failed to capture frame. Trying again...\n",
            "Failed to capture frame. Trying again...\n",
            "Failed to capture frame. Trying again...\n",
            "Failed to capture frame. Trying again...\n",
            "Failed to capture frame. Trying again...\n",
            "Failed to capture frame. Trying again...\n",
            "Failed to capture frame. Trying again...\n",
            "Failed to capture frame. Trying again...\n",
            "Failed to capture frame. Trying again...\n",
            "Failed to capture frame. Trying again...\n",
            "Failed to capture frame. Trying again...\n",
            "Failed to capture frame. Trying again...\n",
            "Failed to capture frame. Trying again...\n",
            "Failed to capture frame. Trying again...\n",
            "Failed to capture frame. Trying again...\n",
            "Failed to capture frame. Trying again...\n",
            "Failed to capture frame. Trying again...\n",
            "Failed to capture frame. Trying again...\n",
            "Failed to capture frame. Trying again...\n",
            "Failed to capture frame. Trying again...\n",
            "Failed to capture frame. Trying again...\n",
            "Failed to capture frame. Trying again...\n",
            "Failed to capture frame. Trying again...\n",
            "Failed to capture frame. Trying again...\n",
            "Failed to capture frame. Trying again...\n",
            "Failed to capture frame. Trying again...\n",
            "Failed to capture frame. Trying again...\n",
            "Failed to capture frame. Trying again...\n",
            "Failed to capture frame. Trying again...\n",
            "Failed to capture frame. Trying again...\n",
            "Failed to capture frame. Trying again...\n",
            "Failed to capture frame. Trying again...\n",
            "Failed to capture frame. Trying again...\n",
            "Failed to capture frame. Trying again...\n",
            "Failed to capture frame. Trying again...\n",
            "Failed to capture frame. Trying again...\n",
            "Failed to capture frame. Trying again...\n",
            "Failed to capture frame. Trying again...\n",
            "Failed to capture frame. Trying again...\n",
            "Failed to capture frame. Trying again...\n",
            "Failed to capture frame. Trying again...\n",
            "Failed to capture frame. Trying again...\n",
            "Failed to capture frame. Trying again...\n",
            "Failed to capture frame. Trying again...\n",
            "Failed to capture frame. Trying again...\n",
            "Failed to capture frame. Trying again...\n",
            "Failed to capture frame. Trying again...\n",
            "Failed to capture frame. Trying again...\n",
            "Failed to capture frame. Trying again...\n",
            "Failed to capture frame. Trying again...\n",
            "Failed to capture frame. Trying again...\n",
            "Failed to capture frame. Trying again...\n",
            "Failed to capture frame. Trying again...\n",
            "Failed to capture frame. Trying again...\n",
            "Failed to capture frame. Trying again...\n",
            "Failed to capture frame. Trying again...\n",
            "Failed to capture frame. Trying again...\n",
            "Failed to capture frame. Trying again...\n",
            "Failed to capture frame. Trying again...\n",
            "Failed to capture frame. Trying again...\n",
            "Failed to capture frame. Trying again...\n",
            "Failed to capture frame. Trying again...\n",
            "Failed to capture frame. Trying again...\n",
            "Failed to capture frame. Trying again...\n",
            "Failed to capture frame. Trying again...\n",
            "Failed to capture frame. Trying again...\n",
            "Failed to capture frame. Trying again...\n",
            "Failed to capture frame. Trying again...\n",
            "Failed to capture frame. Trying again...\n",
            "Failed to capture frame. Trying again...\n",
            "Failed to capture frame. Trying again...\n",
            "Failed to capture frame. Trying again...\n",
            "Failed to capture frame. Trying again...\n",
            "Failed to capture frame. Trying again...\n",
            "Failed to capture frame. Trying again...\n",
            "Failed to capture frame. Trying again...\n",
            "Failed to capture frame. Trying again...\n",
            "Failed to capture frame. Trying again...\n",
            "Failed to capture frame. Trying again...\n",
            "Failed to capture frame. Trying again...\n",
            "Failed to capture frame. Trying again...\n",
            "Failed to capture frame. Trying again...\n",
            "Failed to capture frame. Trying again...\n",
            "Failed to capture frame. Trying again...\n",
            "Failed to capture frame. Trying again...\n",
            "Failed to capture frame. Trying again...\n",
            "Failed to capture frame. Trying again...\n",
            "Failed to capture frame. Trying again...\n",
            "Failed to capture frame. Trying again...\n",
            "Failed to capture frame. Trying again...\n",
            "Failed to capture frame. Trying again...\n",
            "Failed to capture frame. Trying again...\n",
            "Failed to capture frame. Trying again...\n",
            "Failed to capture frame. Trying again...\n",
            "Failed to capture frame. Trying again...\n",
            "Failed to capture frame. Trying again...\n",
            "Failed to capture frame. Trying again...\n",
            "Failed to capture frame. Trying again...\n",
            "Failed to capture frame. Trying again...\n",
            "Failed to capture frame. Trying again...\n",
            "Failed to capture frame. Trying again...\n",
            "Failed to capture frame. Trying again...\n",
            "Failed to capture frame. Trying again...\n",
            "Failed to capture frame. Trying again...\n",
            "Failed to capture frame. Trying again...\n",
            "Failed to capture frame. Trying again...\n",
            "Failed to capture frame. Trying again...\n",
            "Failed to capture frame. Trying again...\n",
            "Failed to capture frame. Trying again...\n",
            "Failed to capture frame. Trying again...\n",
            "Failed to capture frame. Trying again...\n",
            "Failed to capture frame. Trying again...\n",
            "Failed to capture frame. Trying again...\n",
            "Failed to capture frame. Trying again...\n",
            "Failed to capture frame. Trying again...\n",
            "Failed to capture frame. Trying again...\n",
            "Failed to capture frame. Trying again...\n",
            "Failed to capture frame. Trying again...\n",
            "Failed to capture frame. Trying again...\n",
            "Failed to capture frame. Trying again...\n",
            "Failed to capture frame. Trying again...\n",
            "Failed to capture frame. Trying again...\n",
            "Failed to capture frame. Trying again...\n",
            "Failed to capture frame. Trying again...\n",
            "Failed to capture frame. Trying again...\n",
            "Failed to capture frame. Trying again...\n",
            "Failed to capture frame. Trying again...\n",
            "Failed to capture frame. Trying again...\n",
            "Failed to capture frame. Trying again...\n",
            "Failed to capture frame. Trying again...\n",
            "Failed to capture frame. Trying again...\n",
            "Failed to capture frame. Trying again...\n",
            "Failed to capture frame. Trying again...\n",
            "Failed to capture frame. Trying again...\n",
            "Failed to capture frame. Trying again...\n",
            "Failed to capture frame. Trying again...\n",
            "Failed to capture frame. Trying again...\n",
            "Failed to capture frame. Trying again...\n",
            "Failed to capture frame. Trying again...\n",
            "Failed to capture frame. Trying again...\n",
            "Failed to capture frame. Trying again...\n",
            "Failed to capture frame. Trying again...\n",
            "Failed to capture frame. Trying again...\n",
            "Failed to capture frame. Trying again...\n",
            "Failed to capture frame. Trying again...\n",
            "Failed to capture frame. Trying again...\n",
            "Failed to capture frame. Trying again...\n",
            "Failed to capture frame. Trying again...\n",
            "Failed to capture frame. Trying again...\n",
            "Failed to capture frame. Trying again...\n",
            "Failed to capture frame. Trying again...\n",
            "Failed to capture frame. Trying again...\n",
            "Failed to capture frame. Trying again...\n",
            "Failed to capture frame. Trying again...\n",
            "Failed to capture frame. Trying again...\n",
            "Failed to capture frame. Trying again...\n",
            "Failed to capture frame. Trying again...\n",
            "Failed to capture frame. Trying again...\n",
            "Failed to capture frame. Trying again...\n",
            "Failed to capture frame. Trying again...\n",
            "Failed to capture frame. Trying again...\n",
            "Failed to capture frame. Trying again...\n",
            "Failed to capture frame. Trying again...\n",
            "Failed to capture frame. Trying again...\n",
            "Failed to capture frame. Trying again...\n",
            "Failed to capture frame. Trying again...\n",
            "Failed to capture frame. Trying again...\n",
            "Failed to capture frame. Trying again...\n",
            "Failed to capture frame. Trying again...\n",
            "Failed to capture frame. Trying again...\n",
            "Failed to capture frame. Trying again...\n",
            "Failed to capture frame. Trying again...\n",
            "Failed to capture frame. Trying again...\n",
            "Failed to capture frame. Trying again...\n",
            "Failed to capture frame. Trying again...\n",
            "Failed to capture frame. Trying again...\n",
            "Failed to capture frame. Trying again...\n",
            "Failed to capture frame. Trying again...\n",
            "Failed to capture frame. Trying again...\n",
            "Failed to capture frame. Trying again...\n",
            "Failed to capture frame. Trying again...\n",
            "Failed to capture frame. Trying again...\n",
            "Failed to capture frame. Trying again...\n",
            "Failed to capture frame. Trying again...\n",
            "Failed to capture frame. Trying again...\n",
            "Failed to capture frame. Trying again...\n",
            "Failed to capture frame. Trying again...\n",
            "Failed to capture frame. Trying again...\n",
            "Failed to capture frame. Trying again...\n",
            "Failed to capture frame. Trying again...\n",
            "Failed to capture frame. Trying again...\n",
            "Failed to capture frame. Trying again...\n",
            "Failed to capture frame. Trying again...\n",
            "Failed to capture frame. Trying again...\n",
            "Failed to capture frame. Trying again...\n",
            "Failed to capture frame. Trying again...\n",
            "Failed to capture frame. Trying again...\n",
            "Failed to capture frame. Trying again...\n",
            "Failed to capture frame. Trying again...\n",
            "Failed to capture frame. Trying again...\n",
            "Failed to capture frame. Trying again...\n",
            "Failed to capture frame. Trying again...\n",
            "Failed to capture frame. Trying again...\n",
            "Failed to capture frame. Trying again...\n",
            "Failed to capture frame. Trying again...\n",
            "Failed to capture frame. Trying again...\n",
            "Failed to capture frame. Trying again...\n",
            "Failed to capture frame. Trying again...\n",
            "Failed to capture frame. Trying again...\n",
            "Failed to capture frame. Trying again...\n",
            "Failed to capture frame. Trying again...\n",
            "Failed to capture frame. Trying again...\n",
            "Failed to capture frame. Trying again...\n",
            "Failed to capture frame. Trying again...\n",
            "Failed to capture frame. Trying again...\n",
            "Failed to capture frame. Trying again...\n",
            "Failed to capture frame. Trying again...\n",
            "Failed to capture frame. Trying again...\n",
            "Failed to capture frame. Trying again...\n",
            "Failed to capture frame. Trying again...\n",
            "Failed to capture frame. Trying again...\n",
            "Failed to capture frame. Trying again...\n",
            "Failed to capture frame. Trying again...\n",
            "Failed to capture frame. Trying again...\n",
            "Failed to capture frame. Trying again...\n",
            "Failed to capture frame. Trying again...\n",
            "Failed to capture frame. Trying again...\n",
            "Failed to capture frame. Trying again...\n",
            "Failed to capture frame. Trying again...\n",
            "Failed to capture frame. Trying again...\n",
            "Failed to capture frame. Trying again...\n",
            "Failed to capture frame. Trying again...\n",
            "Failed to capture frame. Trying again...\n",
            "Failed to capture frame. Trying again...\n",
            "Failed to capture frame. Trying again...\n",
            "Failed to capture frame. Trying again...\n",
            "Failed to capture frame. Trying again...\n",
            "Failed to capture frame. Trying again...\n",
            "Failed to capture frame. Trying again...\n",
            "Failed to capture frame. Trying again...\n",
            "Failed to capture frame. Trying again...\n",
            "Failed to capture frame. Trying again...\n",
            "Failed to capture frame. Trying again...\n",
            "Failed to capture frame. Trying again...\n",
            "Failed to capture frame. Trying again...\n",
            "Failed to capture frame. Trying again...\n",
            "Failed to capture frame. Trying again...\n",
            "Failed to capture frame. Trying again...\n",
            "Failed to capture frame. Trying again...\n",
            "Failed to capture frame. Trying again...\n",
            "Failed to capture frame. Trying again...\n",
            "Failed to capture frame. Trying again...\n",
            "Failed to capture frame. Trying again...\n",
            "Failed to capture frame. Trying again...\n",
            "Failed to capture frame. Trying again...\n",
            "Failed to capture frame. Trying again...\n",
            "Failed to capture frame. Trying again...\n",
            "Failed to capture frame. Trying again...\n",
            "Failed to capture frame. Trying again...\n",
            "Failed to capture frame. Trying again...\n",
            "Failed to capture frame. Trying again...\n",
            "Failed to capture frame. Trying again...\n",
            "Failed to capture frame. Trying again...\n",
            "Failed to capture frame. Trying again...\n",
            "Failed to capture frame. Trying again...\n",
            "Failed to capture frame. Trying again...\n",
            "Failed to capture frame. Trying again...\n",
            "Failed to capture frame. Trying again...\n",
            "Failed to capture frame. Trying again...\n",
            "Failed to capture frame. Trying again...\n",
            "Failed to capture frame. Trying again...\n",
            "Failed to capture frame. Trying again...\n",
            "Failed to capture frame. Trying again...\n",
            "Failed to capture frame. Trying again...\n",
            "Failed to capture frame. Trying again...\n",
            "Failed to capture frame. Trying again...\n",
            "Failed to capture frame. Trying again...\n",
            "Failed to capture frame. Trying again...\n",
            "Failed to capture frame. Trying again...\n",
            "Failed to capture frame. Trying again...\n",
            "Failed to capture frame. Trying again...\n",
            "Failed to capture frame. Trying again...\n",
            "Failed to capture frame. Trying again...\n",
            "Failed to capture frame. Trying again...\n",
            "Failed to capture frame. Trying again...\n",
            "Failed to capture frame. Trying again...\n",
            "Failed to capture frame. Trying again...\n",
            "Failed to capture frame. Trying again...\n",
            "Failed to capture frame. Trying again...\n",
            "Failed to capture frame. Trying again...\n",
            "Failed to capture frame. Trying again...\n",
            "Failed to capture frame. Trying again...\n",
            "Failed to capture frame. Trying again...\n",
            "Failed to capture frame. Trying again...\n",
            "Failed to capture frame. Trying again...\n",
            "Failed to capture frame. Trying again...\n",
            "Failed to capture frame. Trying again...\n",
            "Failed to capture frame. Trying again...\n",
            "Failed to capture frame. Trying again...\n",
            "Failed to capture frame. Trying again...\n",
            "Failed to capture frame. Trying again...\n",
            "Failed to capture frame. Trying again...\n",
            "Failed to capture frame. Trying again...\n",
            "Failed to capture frame. Trying again...\n",
            "Failed to capture frame. Trying again...\n",
            "Failed to capture frame. Trying again...\n",
            "Failed to capture frame. Trying again...\n",
            "Failed to capture frame. Trying again...\n",
            "Failed to capture frame. Trying again...\n",
            "Failed to capture frame. Trying again...\n",
            "Failed to capture frame. Trying again...\n",
            "Failed to capture frame. Trying again...\n",
            "Failed to capture frame. Trying again...\n",
            "Failed to capture frame. Trying again...\n",
            "Failed to capture frame. Trying again...\n",
            "Failed to capture frame. Trying again...\n",
            "Failed to capture frame. Trying again...\n",
            "Failed to capture frame. Trying again...\n",
            "Failed to capture frame. Trying again...\n",
            "Failed to capture frame. Trying again...\n",
            "Failed to capture frame. Trying again...\n",
            "Failed to capture frame. Trying again...\n",
            "Failed to capture frame. Trying again...\n",
            "Failed to capture frame. Trying again...\n",
            "Failed to capture frame. Trying again...\n",
            "Failed to capture frame. Trying again...\n",
            "Failed to capture frame. Trying again...\n",
            "Failed to capture frame. Trying again...\n",
            "Failed to capture frame. Trying again...\n",
            "Failed to capture frame. Trying again...\n",
            "Failed to capture frame. Trying again...\n",
            "Failed to capture frame. Trying again...\n",
            "Failed to capture frame. Trying again...\n",
            "Failed to capture frame. Trying again...\n",
            "Failed to capture frame. Trying again...\n",
            "Failed to capture frame. Trying again...\n",
            "Failed to capture frame. Trying again...\n",
            "Failed to capture frame. Trying again...\n",
            "Failed to capture frame. Trying again...\n",
            "Failed to capture frame. Trying again...\n",
            "Failed to capture frame. Trying again...\n",
            "Failed to capture frame. Trying again...\n",
            "Failed to capture frame. Trying again...\n",
            "Failed to capture frame. Trying again...\n",
            "Failed to capture frame. Trying again...\n",
            "Failed to capture frame. Trying again...\n",
            "Failed to capture frame. Trying again...\n",
            "Failed to capture frame. Trying again...\n",
            "Failed to capture frame. Trying again...\n",
            "Failed to capture frame. Trying again...\n",
            "Failed to capture frame. Trying again...\n",
            "Failed to capture frame. Trying again...\n",
            "Failed to capture frame. Trying again...\n",
            "Failed to capture frame. Trying again...\n",
            "Failed to capture frame. Trying again...\n",
            "Failed to capture frame. Trying again...\n",
            "Failed to capture frame. Trying again...\n",
            "Failed to capture frame. Trying again...\n",
            "Failed to capture frame. Trying again...\n",
            "Failed to capture frame. Trying again...\n",
            "Failed to capture frame. Trying again...\n",
            "Failed to capture frame. Trying again...\n",
            "Failed to capture frame. Trying again...\n",
            "Failed to capture frame. Trying again...\n",
            "Failed to capture frame. Trying again...\n",
            "Failed to capture frame. Trying again...\n",
            "Failed to capture frame. Trying again...\n",
            "Failed to capture frame. Trying again...\n",
            "Failed to capture frame. Trying again...\n",
            "Failed to capture frame. Trying again...\n",
            "Failed to capture frame. Trying again...\n",
            "Failed to capture frame. Trying again...\n",
            "Failed to capture frame. Trying again...\n",
            "Failed to capture frame. Trying again...\n",
            "Failed to capture frame. Trying again...\n",
            "Failed to capture frame. Trying again...\n",
            "Failed to capture frame. Trying again...\n",
            "Failed to capture frame. Trying again...\n",
            "Failed to capture frame. Trying again...\n",
            "Failed to capture frame. Trying again...\n",
            "Failed to capture frame. Trying again...\n",
            "Failed to capture frame. Trying again...\n",
            "Failed to capture frame. Trying again...\n",
            "Failed to capture frame. Trying again...\n",
            "Failed to capture frame. Trying again...\n",
            "Failed to capture frame. Trying again...\n",
            "Failed to capture frame. Trying again...\n",
            "Failed to capture frame. Trying again...\n",
            "Failed to capture frame. Trying again...\n",
            "Failed to capture frame. Trying again...\n",
            "Failed to capture frame. Trying again...\n",
            "Failed to capture frame. Trying again...\n",
            "Failed to capture frame. Trying again...\n",
            "Failed to capture frame. Trying again...\n",
            "Failed to capture frame. Trying again...\n",
            "Failed to capture frame. Trying again...\n",
            "Failed to capture frame. Trying again...\n",
            "Failed to capture frame. Trying again...\n",
            "Failed to capture frame. Trying again...\n",
            "Failed to capture frame. Trying again...\n",
            "Failed to capture frame. Trying again...\n",
            "Failed to capture frame. Trying again...\n",
            "Failed to capture frame. Trying again...\n",
            "Failed to capture frame. Trying again...\n",
            "Failed to capture frame. Trying again...\n",
            "Failed to capture frame. Trying again...\n",
            "Failed to capture frame. Trying again...\n",
            "Failed to capture frame. Trying again...\n",
            "Failed to capture frame. Trying again...\n",
            "Failed to capture frame. Trying again...\n",
            "Failed to capture frame. Trying again...\n",
            "Failed to capture frame. Trying again...\n",
            "Failed to capture frame. Trying again...\n",
            "Failed to capture frame. Trying again...\n",
            "Failed to capture frame. Trying again...\n",
            "Failed to capture frame. Trying again...\n",
            "Failed to capture frame. Trying again...\n",
            "Failed to capture frame. Trying again...\n",
            "Failed to capture frame. Trying again...\n",
            "Failed to capture frame. Trying again...\n",
            "Failed to capture frame. Trying again...\n",
            "Failed to capture frame. Trying again...\n",
            "Failed to capture frame. Trying again...\n",
            "Failed to capture frame. Trying again...\n",
            "Failed to capture frame. Trying again...\n",
            "Failed to capture frame. Trying again...\n",
            "Failed to capture frame. Trying again...\n",
            "Failed to capture frame. Trying again...\n",
            "Failed to capture frame. Trying again...\n",
            "Failed to capture frame. Trying again...\n",
            "Failed to capture frame. Trying again...\n",
            "Failed to capture frame. Trying again...\n",
            "Failed to capture frame. Trying again...\n",
            "Failed to capture frame. Trying again...\n",
            "Failed to capture frame. Trying again...\n",
            "Failed to capture frame. Trying again...\n",
            "Failed to capture frame. Trying again...\n",
            "Failed to capture frame. Trying again...\n",
            "Failed to capture frame. Trying again...\n",
            "Failed to capture frame. Trying again...\n",
            "Failed to capture frame. Trying again...\n",
            "Failed to capture frame. Trying again...\n",
            "Failed to capture frame. Trying again...\n",
            "Failed to capture frame. Trying again...\n",
            "Failed to capture frame. Trying again...\n",
            "Failed to capture frame. Trying again...\n",
            "Failed to capture frame. Trying again...\n",
            "Failed to capture frame. Trying again...\n",
            "Failed to capture frame. Trying again...\n",
            "Failed to capture frame. Trying again...\n",
            "Failed to capture frame. Trying again...\n",
            "Failed to capture frame. Trying again...\n",
            "Failed to capture frame. Trying again...\n",
            "Failed to capture frame. Trying again...\n",
            "Failed to capture frame. Trying again...\n",
            "Failed to capture frame. Trying again...\n",
            "Failed to capture frame. Trying again...\n",
            "Failed to capture frame. Trying again...\n",
            "Failed to capture frame. Trying again...\n",
            "Failed to capture frame. Trying again...\n",
            "Failed to capture frame. Trying again...\n",
            "Failed to capture frame. Trying again...\n",
            "Failed to capture frame. Trying again...\n",
            "Failed to capture frame. Trying again...\n",
            "Failed to capture frame. Trying again...\n",
            "Failed to capture frame. Trying again...\n",
            "Failed to capture frame. Trying again...\n",
            "Failed to capture frame. Trying again...\n",
            "Failed to capture frame. Trying again...\n",
            "Failed to capture frame. Trying again...\n",
            "Failed to capture frame. Trying again...\n",
            "Failed to capture frame. Trying again...\n",
            "Failed to capture frame. Trying again...\n",
            "Failed to capture frame. Trying again...\n",
            "Failed to capture frame. Trying again...\n",
            "Failed to capture frame. Trying again...\n",
            "Failed to capture frame. Trying again...\n",
            "Failed to capture frame. Trying again...\n",
            "Failed to capture frame. Trying again...\n",
            "Failed to capture frame. Trying again...\n",
            "Failed to capture frame. Trying again...\n",
            "Failed to capture frame. Trying again...\n",
            "Failed to capture frame. Trying again...\n",
            "Failed to capture frame. Trying again...\n",
            "Failed to capture frame. Trying again...\n",
            "Failed to capture frame. Trying again...\n",
            "Failed to capture frame. Trying again...\n",
            "Failed to capture frame. Trying again...\n",
            "Failed to capture frame. Trying again...\n",
            "Failed to capture frame. Trying again...\n",
            "Failed to capture frame. Trying again...\n",
            "Failed to capture frame. Trying again...\n",
            "Failed to capture frame. Trying again...\n",
            "Failed to capture frame. Trying again...\n",
            "Failed to capture frame. Trying again...\n",
            "Failed to capture frame. Trying again...\n",
            "Failed to capture frame. Trying again...\n",
            "Failed to capture frame. Trying again...\n",
            "Failed to capture frame. Trying again...\n",
            "Failed to capture frame. Trying again...\n",
            "Failed to capture frame. Trying again...\n",
            "Failed to capture frame. Trying again...\n",
            "Failed to capture frame. Trying again...\n",
            "Failed to capture frame. Trying again...\n",
            "Failed to capture frame. Trying again...\n",
            "Failed to capture frame. Trying again...\n",
            "Failed to capture frame. Trying again...\n",
            "Failed to capture frame. Trying again...\n",
            "Failed to capture frame. Trying again...\n",
            "Failed to capture frame. Trying again...\n",
            "Failed to capture frame. Trying again...\n",
            "Failed to capture frame. Trying again...\n",
            "Failed to capture frame. Trying again...\n",
            "Failed to capture frame. Trying again...\n",
            "Failed to capture frame. Trying again...\n",
            "Failed to capture frame. Trying again...\n",
            "Failed to capture frame. Trying again...\n",
            "Failed to capture frame. Trying again...\n",
            "Failed to capture frame. Trying again...\n",
            "Failed to capture frame. Trying again...\n",
            "Failed to capture frame. Trying again...\n",
            "Failed to capture frame. Trying again...\n",
            "Failed to capture frame. Trying again...\n",
            "Failed to capture frame. Trying again...\n",
            "Failed to capture frame. Trying again...\n",
            "Failed to capture frame. Trying again...\n",
            "Failed to capture frame. Trying again...\n",
            "Failed to capture frame. Trying again...\n",
            "Failed to capture frame. Trying again...\n",
            "Failed to capture frame. Trying again...\n",
            "Failed to capture frame. Trying again...\n",
            "Failed to capture frame. Trying again...\n",
            "Failed to capture frame. Trying again...\n",
            "Failed to capture frame. Trying again...\n",
            "Failed to capture frame. Trying again...\n",
            "Failed to capture frame. Trying again...\n",
            "Failed to capture frame. Trying again...\n",
            "Failed to capture frame. Trying again...\n",
            "Failed to capture frame. Trying again...\n",
            "Failed to capture frame. Trying again...\n",
            "Failed to capture frame. Trying again...\n",
            "Failed to capture frame. Trying again...\n",
            "Failed to capture frame. Trying again...\n",
            "Failed to capture frame. Trying again...\n",
            "Failed to capture frame. Trying again...\n",
            "Failed to capture frame. Trying again...\n",
            "Failed to capture frame. Trying again...\n",
            "Failed to capture frame. Trying again...\n",
            "Failed to capture frame. Trying again...\n",
            "Failed to capture frame. Trying again...\n",
            "Failed to capture frame. Trying again...\n",
            "Failed to capture frame. Trying again...\n",
            "Failed to capture frame. Trying again...\n",
            "Failed to capture frame. Trying again...\n",
            "Failed to capture frame. Trying again...\n",
            "Failed to capture frame. Trying again...\n",
            "Failed to capture frame. Trying again...\n",
            "Failed to capture frame. Trying again...\n",
            "Failed to capture frame. Trying again...\n",
            "Failed to capture frame. Trying again...\n",
            "Failed to capture frame. Trying again...\n",
            "Failed to capture frame. Trying again...\n",
            "Failed to capture frame. Trying again...\n",
            "Failed to capture frame. Trying again...\n",
            "Failed to capture frame. Trying again...\n",
            "Failed to capture frame. Trying again...\n",
            "Failed to capture frame. Trying again...\n",
            "Failed to capture frame. Trying again...\n",
            "Failed to capture frame. Trying again...\n",
            "Failed to capture frame. Trying again...\n",
            "Failed to capture frame. Trying again...\n",
            "Failed to capture frame. Trying again...\n",
            "Failed to capture frame. Trying again...\n",
            "Failed to capture frame. Trying again...\n",
            "Failed to capture frame. Trying again...\n",
            "Failed to capture frame. Trying again...\n",
            "Failed to capture frame. Trying again...\n",
            "Failed to capture frame. Trying again...\n",
            "Failed to capture frame. Trying again...\n",
            "Failed to capture frame. Trying again...\n",
            "Failed to capture frame. Trying again...\n",
            "Failed to capture frame. Trying again...\n",
            "Failed to capture frame. Trying again...\n",
            "Failed to capture frame. Trying again...\n",
            "Failed to capture frame. Trying again...\n",
            "Failed to capture frame. Trying again...\n",
            "Failed to capture frame. Trying again...\n",
            "Failed to capture frame. Trying again...\n",
            "Failed to capture frame. Trying again...\n",
            "Failed to capture frame. Trying again...\n",
            "Failed to capture frame. Trying again...\n",
            "Failed to capture frame. Trying again...\n",
            "Failed to capture frame. Trying again...\n",
            "Failed to capture frame. Trying again...\n",
            "Failed to capture frame. Trying again...\n",
            "Failed to capture frame. Trying again...\n",
            "Failed to capture frame. Trying again...\n",
            "Failed to capture frame. Trying again...\n",
            "Failed to capture frame. Trying again...\n",
            "Failed to capture frame. Trying again...\n",
            "Failed to capture frame. Trying again...\n",
            "Failed to capture frame. Trying again...\n",
            "Failed to capture frame. Trying again...\n",
            "Failed to capture frame. Trying again...\n",
            "Failed to capture frame. Trying again...\n",
            "Failed to capture frame. Trying again...\n",
            "Failed to capture frame. Trying again...\n",
            "Failed to capture frame. Trying again...\n",
            "Failed to capture frame. Trying again...\n",
            "Failed to capture frame. Trying again...\n",
            "Failed to capture frame. Trying again...\n",
            "Failed to capture frame. Trying again...\n",
            "Failed to capture frame. Trying again...\n",
            "Failed to capture frame. Trying again...\n",
            "Failed to capture frame. Trying again...\n",
            "Failed to capture frame. Trying again...\n",
            "Failed to capture frame. Trying again...\n",
            "Failed to capture frame. Trying again...\n",
            "Failed to capture frame. Trying again...\n",
            "Failed to capture frame. Trying again...\n",
            "Failed to capture frame. Trying again...\n",
            "Failed to capture frame. Trying again...\n",
            "Failed to capture frame. Trying again...\n",
            "Failed to capture frame. Trying again...\n",
            "Failed to capture frame. Trying again...\n",
            "Failed to capture frame. Trying again...\n",
            "Failed to capture frame. Trying again...\n",
            "Failed to capture frame. Trying again...\n",
            "Failed to capture frame. Trying again...\n",
            "Failed to capture frame. Trying again...\n",
            "Failed to capture frame. Trying again...\n",
            "Failed to capture frame. Trying again...\n",
            "Failed to capture frame. Trying again...\n",
            "Failed to capture frame. Trying again...\n",
            "Failed to capture frame. Trying again...\n",
            "Failed to capture frame. Trying again...\n",
            "Failed to capture frame. Trying again...\n",
            "Failed to capture frame. Trying again...\n",
            "Failed to capture frame. Trying again...\n",
            "Failed to capture frame. Trying again...\n",
            "Failed to capture frame. Trying again...\n",
            "Failed to capture frame. Trying again...\n",
            "Failed to capture frame. Trying again...\n",
            "Failed to capture frame. Trying again...\n",
            "Failed to capture frame. Trying again...\n",
            "Failed to capture frame. Trying again...\n",
            "Failed to capture frame. Trying again...\n",
            "Failed to capture frame. Trying again...\n",
            "Failed to capture frame. Trying again...\n",
            "Failed to capture frame. Trying again...\n",
            "Failed to capture frame. Trying again...\n",
            "Failed to capture frame. Trying again...\n",
            "Failed to capture frame. Trying again...\n",
            "Failed to capture frame. Trying again...\n",
            "Failed to capture frame. Trying again...\n",
            "Failed to capture frame. Trying again...\n",
            "Failed to capture frame. Trying again...\n",
            "Failed to capture frame. Trying again...\n",
            "Failed to capture frame. Trying again...\n",
            "Failed to capture frame. Trying again...\n",
            "Failed to capture frame. Trying again...\n",
            "Failed to capture frame. Trying again...\n",
            "Failed to capture frame. Trying again...\n",
            "Failed to capture frame. Trying again...\n",
            "Failed to capture frame. Trying again...\n",
            "Failed to capture frame. Trying again...\n",
            "Failed to capture frame. Trying again...\n",
            "Failed to capture frame. Trying again...\n",
            "Failed to capture frame. Trying again...\n",
            "Failed to capture frame. Trying again...\n",
            "Failed to capture frame. Trying again...\n",
            "Failed to capture frame. Trying again...\n",
            "Failed to capture frame. Trying again...\n",
            "Failed to capture frame. Trying again...\n",
            "Failed to capture frame. Trying again...\n",
            "Failed to capture frame. Trying again...\n",
            "Failed to capture frame. Trying again...\n",
            "Failed to capture frame. Trying again...\n",
            "Failed to capture frame. Trying again...\n",
            "Failed to capture frame. Trying again...\n",
            "Failed to capture frame. Trying again...\n",
            "Failed to capture frame. Trying again...\n",
            "Failed to capture frame. Trying again...\n",
            "Failed to capture frame. Trying again...\n",
            "Failed to capture frame. Trying again...\n",
            "Failed to capture frame. Trying again...\n",
            "Failed to capture frame. Trying again...\n",
            "Failed to capture frame. Trying again...\n",
            "Failed to capture frame. Trying again...\n",
            "Failed to capture frame. Trying again...\n",
            "Failed to capture frame. Trying again...\n",
            "Failed to capture frame. Trying again...\n",
            "Failed to capture frame. Trying again...\n",
            "Failed to capture frame. Trying again...\n",
            "Failed to capture frame. Trying again...\n",
            "Failed to capture frame. Trying again...\n",
            "Failed to capture frame. Trying again...\n",
            "Failed to capture frame. Trying again...\n",
            "Failed to capture frame. Trying again...\n",
            "Failed to capture frame. Trying again...\n",
            "Failed to capture frame. Trying again...\n",
            "Failed to capture frame. Trying again...\n",
            "Failed to capture frame. Trying again...\n",
            "Failed to capture frame. Trying again...\n",
            "Failed to capture frame. Trying again...\n",
            "Failed to capture frame. Trying again...\n",
            "Failed to capture frame. Trying again...\n",
            "Failed to capture frame. Trying again...\n",
            "Failed to capture frame. Trying again...\n",
            "Failed to capture frame. Trying again...\n",
            "Failed to capture frame. Trying again...\n",
            "Failed to capture frame. Trying again...\n",
            "Failed to capture frame. Trying again...\n",
            "Failed to capture frame. Trying again...\n",
            "Failed to capture frame. Trying again...\n",
            "Failed to capture frame. Trying again...\n",
            "Failed to capture frame. Trying again...\n",
            "Failed to capture frame. Trying again...\n",
            "Failed to capture frame. Trying again...\n",
            "Failed to capture frame. Trying again...\n",
            "Failed to capture frame. Trying again...\n",
            "Failed to capture frame. Trying again...\n",
            "Failed to capture frame. Trying again...\n",
            "Failed to capture frame. Trying again...\n",
            "Failed to capture frame. Trying again...\n",
            "Failed to capture frame. Trying again...\n",
            "Failed to capture frame. Trying again...\n",
            "Failed to capture frame. Trying again...\n",
            "Failed to capture frame. Trying again...\n",
            "Failed to capture frame. Trying again...\n",
            "Failed to capture frame. Trying again...\n",
            "Failed to capture frame. Trying again...\n",
            "Failed to capture frame. Trying again...\n",
            "Failed to capture frame. Trying again...\n",
            "Failed to capture frame. Trying again...\n",
            "Failed to capture frame. Trying again...\n",
            "Failed to capture frame. Trying again...\n",
            "Failed to capture frame. Trying again...\n",
            "Failed to capture frame. Trying again...\n",
            "Failed to capture frame. Trying again...\n",
            "Failed to capture frame. Trying again...\n",
            "Failed to capture frame. Trying again...\n",
            "Failed to capture frame. Trying again...\n",
            "Failed to capture frame. Trying again...\n",
            "Failed to capture frame. Trying again...\n",
            "Failed to capture frame. Trying again...\n",
            "Failed to capture frame. Trying again...\n",
            "Failed to capture frame. Trying again...\n",
            "Failed to capture frame. Trying again...\n",
            "Failed to capture frame. Trying again...\n",
            "Failed to capture frame. Trying again...\n",
            "Failed to capture frame. Trying again...\n",
            "Failed to capture frame. Trying again...\n",
            "Failed to capture frame. Trying again...\n",
            "Failed to capture frame. Trying again...\n",
            "Failed to capture frame. Trying again...\n",
            "Failed to capture frame. Trying again...\n",
            "Failed to capture frame. Trying again...\n",
            "Failed to capture frame. Trying again...\n",
            "Failed to capture frame. Trying again...\n",
            "Failed to capture frame. Trying again...\n",
            "Failed to capture frame. Trying again...\n",
            "Failed to capture frame. Trying again...\n",
            "Failed to capture frame. Trying again...\n",
            "Failed to capture frame. Trying again...\n",
            "Failed to capture frame. Trying again...\n",
            "Failed to capture frame. Trying again...\n",
            "Failed to capture frame. Trying again...\n",
            "Failed to capture frame. Trying again...\n",
            "Failed to capture frame. Trying again...\n",
            "Failed to capture frame. Trying again...\n",
            "Failed to capture frame. Trying again...\n",
            "Failed to capture frame. Trying again...\n",
            "Failed to capture frame. Trying again...\n",
            "Failed to capture frame. Trying again...\n",
            "Failed to capture frame. Trying again...\n",
            "Failed to capture frame. Trying again...\n",
            "Failed to capture frame. Trying again...\n",
            "Failed to capture frame. Trying again...\n",
            "Failed to capture frame. Trying again...\n",
            "Failed to capture frame. Trying again...\n",
            "Failed to capture frame. Trying again...\n",
            "Failed to capture frame. Trying again...\n",
            "Failed to capture frame. Trying again...\n",
            "Failed to capture frame. Trying again...\n",
            "Failed to capture frame. Trying again...\n",
            "Failed to capture frame. Trying again...\n",
            "Failed to capture frame. Trying again...\n",
            "Failed to capture frame. Trying again...\n",
            "Failed to capture frame. Trying again...\n",
            "Failed to capture frame. Trying again...\n",
            "Failed to capture frame. Trying again...\n",
            "Failed to capture frame. Trying again...\n",
            "Failed to capture frame. Trying again...\n",
            "Failed to capture frame. Trying again...\n",
            "Failed to capture frame. Trying again...\n",
            "Failed to capture frame. Trying again...\n",
            "Failed to capture frame. Trying again...\n",
            "Failed to capture frame. Trying again...\n",
            "Failed to capture frame. Trying again...\n",
            "Failed to capture frame. Trying again...\n",
            "Failed to capture frame. Trying again...\n",
            "Failed to capture frame. Trying again...\n",
            "Failed to capture frame. Trying again...\n",
            "Failed to capture frame. Trying again...\n",
            "Failed to capture frame. Trying again...\n",
            "Failed to capture frame. Trying again...\n",
            "Failed to capture frame. Trying again...\n",
            "Failed to capture frame. Trying again...\n",
            "Failed to capture frame. Trying again...\n",
            "Failed to capture frame. Trying again...\n",
            "Failed to capture frame. Trying again...\n",
            "Failed to capture frame. Trying again...\n",
            "Failed to capture frame. Trying again...\n",
            "Failed to capture frame. Trying again...\n",
            "Failed to capture frame. Trying again...\n",
            "Failed to capture frame. Trying again...\n",
            "Failed to capture frame. Trying again...\n",
            "Failed to capture frame. Trying again...\n",
            "Failed to capture frame. Trying again...\n",
            "Failed to capture frame. Trying again...\n",
            "Failed to capture frame. Trying again...\n",
            "Failed to capture frame. Trying again...\n",
            "Failed to capture frame. Trying again...\n",
            "Failed to capture frame. Trying again...\n",
            "Failed to capture frame. Trying again...\n",
            "Failed to capture frame. Trying again...\n",
            "Failed to capture frame. Trying again...\n",
            "Failed to capture frame. Trying again...\n",
            "Failed to capture frame. Trying again...\n",
            "Failed to capture frame. Trying again...\n",
            "Failed to capture frame. Trying again...\n",
            "Failed to capture frame. Trying again...\n",
            "Failed to capture frame. Trying again...\n",
            "Failed to capture frame. Trying again...\n",
            "Failed to capture frame. Trying again...\n",
            "Failed to capture frame. Trying again...\n",
            "Failed to capture frame. Trying again...\n",
            "Failed to capture frame. Trying again...\n",
            "Failed to capture frame. Trying again...\n",
            "Failed to capture frame. Trying again...\n",
            "Failed to capture frame. Trying again...\n",
            "Failed to capture frame. Trying again...\n",
            "Failed to capture frame. Trying again...\n",
            "Failed to capture frame. Trying again...\n",
            "Failed to capture frame. Trying again...\n",
            "Failed to capture frame. Trying again...\n",
            "Failed to capture frame. Trying again...\n",
            "Failed to capture frame. Trying again...\n",
            "Failed to capture frame. Trying again...\n",
            "Failed to capture frame. Trying again...\n",
            "Failed to capture frame. Trying again...\n",
            "Failed to capture frame. Trying again...\n",
            "Failed to capture frame. Trying again...\n",
            "Failed to capture frame. Trying again...\n",
            "Failed to capture frame. Trying again...\n",
            "Failed to capture frame. Trying again...\n",
            "Failed to capture frame. Trying again...\n",
            "Failed to capture frame. Trying again...\n",
            "Failed to capture frame. Trying again...\n",
            "Failed to capture frame. Trying again...\n",
            "Failed to capture frame. Trying again...\n",
            "Failed to capture frame. Trying again...\n",
            "Failed to capture frame. Trying again...\n",
            "Failed to capture frame. Trying again...\n",
            "Failed to capture frame. Trying again...\n",
            "Failed to capture frame. Trying again...\n",
            "Failed to capture frame. Trying again...\n",
            "Failed to capture frame. Trying again...\n",
            "Failed to capture frame. Trying again...\n",
            "Failed to capture frame. Trying again...\n",
            "Failed to capture frame. Trying again...\n",
            "Failed to capture frame. Trying again...\n",
            "Failed to capture frame. Trying again...\n",
            "Failed to capture frame. Trying again...\n",
            "Failed to capture frame. Trying again...\n",
            "Failed to capture frame. Trying again...\n",
            "Failed to capture frame. Trying again...\n",
            "Failed to capture frame. Trying again...\n",
            "Failed to capture frame. Trying again...\n",
            "Failed to capture frame. Trying again...\n",
            "Failed to capture frame. Trying again...\n",
            "Failed to capture frame. Trying again...\n",
            "Failed to capture frame. Trying again...\n",
            "Failed to capture frame. Trying again...\n",
            "Failed to capture frame. Trying again...\n",
            "Failed to capture frame. Trying again...\n",
            "Failed to capture frame. Trying again...\n",
            "Failed to capture frame. Trying again...\n",
            "Failed to capture frame. Trying again...\n",
            "Failed to capture frame. Trying again...\n",
            "Failed to capture frame. Trying again...\n",
            "Failed to capture frame. Trying again...\n",
            "Failed to capture frame. Trying again...\n",
            "Failed to capture frame. Trying again...\n",
            "Failed to capture frame. Trying again...\n",
            "Failed to capture frame. Trying again...\n",
            "Failed to capture frame. Trying again...\n",
            "Failed to capture frame. Trying again...\n",
            "Failed to capture frame. Trying again...\n",
            "Failed to capture frame. Trying again...\n",
            "Failed to capture frame. Trying again...\n",
            "Failed to capture frame. Trying again...\n",
            "Failed to capture frame. Trying again...\n",
            "Failed to capture frame. Trying again...\n",
            "Failed to capture frame. Trying again...\n",
            "Failed to capture frame. Trying again...\n",
            "Failed to capture frame. Trying again...\n",
            "Failed to capture frame. Trying again...\n",
            "Failed to capture frame. Trying again...\n",
            "Failed to capture frame. Trying again...\n",
            "Failed to capture frame. Trying again...\n",
            "Failed to capture frame. Trying again...\n",
            "Failed to capture frame. Trying again...\n",
            "Failed to capture frame. Trying again...\n",
            "Failed to capture frame. Trying again...\n",
            "Failed to capture frame. Trying again...\n",
            "Failed to capture frame. Trying again...\n",
            "Failed to capture frame. Trying again...\n",
            "Failed to capture frame. Trying again...\n",
            "Failed to capture frame. Trying again...\n",
            "Failed to capture frame. Trying again...\n",
            "Failed to capture frame. Trying again...\n",
            "Failed to capture frame. Trying again...\n",
            "Failed to capture frame. Trying again...\n",
            "Failed to capture frame. Trying again...\n",
            "Failed to capture frame. Trying again...\n",
            "Failed to capture frame. Trying again...\n",
            "Failed to capture frame. Trying again...\n",
            "Failed to capture frame. Trying again...\n",
            "Failed to capture frame. Trying again...\n",
            "Failed to capture frame. Trying again...\n",
            "Failed to capture frame. Trying again...\n",
            "Failed to capture frame. Trying again...\n",
            "Failed to capture frame. Trying again...\n",
            "Failed to capture frame. Trying again...\n",
            "Failed to capture frame. Trying again...\n",
            "Failed to capture frame. Trying again...\n",
            "Failed to capture frame. Trying again...\n",
            "Failed to capture frame. Trying again...\n",
            "Failed to capture frame. Trying again...\n",
            "Failed to capture frame. Trying again...\n",
            "Failed to capture frame. Trying again...\n",
            "Failed to capture frame. Trying again...\n",
            "Failed to capture frame. Trying again...\n",
            "Failed to capture frame. Trying again...\n",
            "Failed to capture frame. Trying again...\n",
            "Failed to capture frame. Trying again...\n",
            "Failed to capture frame. Trying again...\n",
            "Failed to capture frame. Trying again...\n",
            "Failed to capture frame. Trying again...\n",
            "Failed to capture frame. Trying again...\n",
            "Failed to capture frame. Trying again...\n",
            "Failed to capture frame. Trying again...\n",
            "Failed to capture frame. Trying again...\n",
            "Failed to capture frame. Trying again...\n",
            "Failed to capture frame. Trying again...\n",
            "Failed to capture frame. Trying again...\n",
            "Failed to capture frame. Trying again...\n",
            "Failed to capture frame. Trying again...\n",
            "Failed to capture frame. Trying again...\n",
            "Failed to capture frame. Trying again...\n",
            "Failed to capture frame. Trying again...\n",
            "Failed to capture frame. Trying again...\n",
            "Failed to capture frame. Trying again...\n",
            "Failed to capture frame. Trying again...\n",
            "Failed to capture frame. Trying again...\n",
            "Failed to capture frame. Trying again...\n",
            "Failed to capture frame. Trying again...\n",
            "Failed to capture frame. Trying again...\n",
            "Failed to capture frame. Trying again...\n",
            "Failed to capture frame. Trying again...\n",
            "Failed to capture frame. Trying again...\n",
            "Failed to capture frame. Trying again...\n",
            "Failed to capture frame. Trying again...\n",
            "Failed to capture frame. Trying again...\n",
            "Failed to capture frame. Trying again...\n",
            "Failed to capture frame. Trying again...\n",
            "Failed to capture frame. Trying again...\n",
            "Failed to capture frame. Trying again...\n",
            "Failed to capture frame. Trying again...\n",
            "Failed to capture frame. Trying again...\n",
            "Failed to capture frame. Trying again...\n",
            "Failed to capture frame. Trying again...\n",
            "Failed to capture frame. Trying again...\n",
            "Failed to capture frame. Trying again...\n",
            "Failed to capture frame. Trying again...\n",
            "Failed to capture frame. Trying again...\n",
            "Failed to capture frame. Trying again...\n",
            "Failed to capture frame. Trying again...\n",
            "Failed to capture frame. Trying again...\n",
            "Failed to capture frame. Trying again...\n",
            "Failed to capture frame. Trying again...\n",
            "Failed to capture frame. Trying again...\n",
            "Failed to capture frame. Trying again...\n",
            "Failed to capture frame. Trying again...\n",
            "Failed to capture frame. Trying again...\n",
            "Failed to capture frame. Trying again...\n",
            "Failed to capture frame. Trying again...\n",
            "Failed to capture frame. Trying again...\n",
            "Failed to capture frame. Trying again...\n",
            "Failed to capture frame. Trying again...\n",
            "Failed to capture frame. Trying again...\n",
            "Failed to capture frame. Trying again...\n",
            "Failed to capture frame. Trying again...\n",
            "Failed to capture frame. Trying again...\n",
            "Failed to capture frame. Trying again...\n",
            "Failed to capture frame. Trying again...\n",
            "Failed to capture frame. Trying again...\n",
            "Failed to capture frame. Trying again...\n",
            "Failed to capture frame. Trying again...\n",
            "Failed to capture frame. Trying again...\n",
            "Failed to capture frame. Trying again...\n",
            "Failed to capture frame. Trying again...\n",
            "Failed to capture frame. Trying again...\n",
            "Failed to capture frame. Trying again...\n",
            "Failed to capture frame. Trying again...\n",
            "Failed to capture frame. Trying again...\n",
            "Failed to capture frame. Trying again...\n",
            "Failed to capture frame. Trying again...\n",
            "Failed to capture frame. Trying again...\n",
            "Failed to capture frame. Trying again...\n",
            "Failed to capture frame. Trying again...\n",
            "Failed to capture frame. Trying again...\n",
            "Failed to capture frame. Trying again...\n",
            "Failed to capture frame. Trying again...\n",
            "Failed to capture frame. Trying again...\n",
            "Failed to capture frame. Trying again...\n",
            "Failed to capture frame. Trying again...\n",
            "Failed to capture frame. Trying again...\n",
            "Failed to capture frame. Trying again...\n",
            "Failed to capture frame. Trying again...\n",
            "Failed to capture frame. Trying again...\n",
            "Failed to capture frame. Trying again...\n",
            "Failed to capture frame. Trying again...\n",
            "Failed to capture frame. Trying again...\n",
            "Failed to capture frame. Trying again...\n",
            "Failed to capture frame. Trying again...\n",
            "Failed to capture frame. Trying again...\n",
            "Failed to capture frame. Trying again...\n",
            "Failed to capture frame. Trying again...\n",
            "Failed to capture frame. Trying again...\n",
            "Failed to capture frame. Trying again...\n",
            "Failed to capture frame. Trying again...\n",
            "Failed to capture frame. Trying again...\n",
            "Failed to capture frame. Trying again...\n",
            "Failed to capture frame. Trying again...\n",
            "Failed to capture frame. Trying again...\n",
            "Failed to capture frame. Trying again...\n",
            "Failed to capture frame. Trying again...\n",
            "Failed to capture frame. Trying again...\n",
            "Failed to capture frame. Trying again...\n",
            "Failed to capture frame. Trying again...\n",
            "Failed to capture frame. Trying again...\n",
            "Failed to capture frame. Trying again...\n",
            "Failed to capture frame. Trying again...\n",
            "Failed to capture frame. Trying again...\n",
            "Failed to capture frame. Trying again...\n",
            "Failed to capture frame. Trying again...\n",
            "Failed to capture frame. Trying again...\n",
            "Failed to capture frame. Trying again...\n",
            "Failed to capture frame. Trying again...\n",
            "Failed to capture frame. Trying again...\n",
            "Failed to capture frame. Trying again...\n",
            "Failed to capture frame. Trying again...\n",
            "Failed to capture frame. Trying again...\n",
            "Failed to capture frame. Trying again...\n",
            "Failed to capture frame. Trying again...\n",
            "Failed to capture frame. Trying again...\n",
            "Failed to capture frame. Trying again...\n",
            "Failed to capture frame. Trying again...\n",
            "Failed to capture frame. Trying again...\n",
            "Failed to capture frame. Trying again...\n",
            "Failed to capture frame. Trying again...\n",
            "Failed to capture frame. Trying again...\n",
            "Failed to capture frame. Trying again...\n",
            "Failed to capture frame. Trying again...\n",
            "Failed to capture frame. Trying again...\n",
            "Failed to capture frame. Trying again...\n",
            "Failed to capture frame. Trying again...\n",
            "Failed to capture frame. Trying again...\n",
            "Failed to capture frame. Trying again...\n",
            "Failed to capture frame. Trying again...\n",
            "Failed to capture frame. Trying again...\n",
            "Failed to capture frame. Trying again...\n",
            "Failed to capture frame. Trying again...\n",
            "Failed to capture frame. Trying again...\n",
            "Failed to capture frame. Trying again...\n",
            "Failed to capture frame. Trying again...\n",
            "Failed to capture frame. Trying again...\n",
            "Failed to capture frame. Trying again...\n",
            "Failed to capture frame. Trying again...\n",
            "Failed to capture frame. Trying again...\n",
            "Failed to capture frame. Trying again...\n",
            "Failed to capture frame. Trying again...\n",
            "Failed to capture frame. Trying again...\n",
            "Failed to capture frame. Trying again...\n",
            "Failed to capture frame. Trying again...\n",
            "Failed to capture frame. Trying again...\n",
            "Failed to capture frame. Trying again...\n",
            "Failed to capture frame. Trying again...\n",
            "Failed to capture frame. Trying again...\n",
            "Failed to capture frame. Trying again...\n",
            "Failed to capture frame. Trying again...\n",
            "Failed to capture frame. Trying again...\n",
            "Failed to capture frame. Trying again...\n",
            "Failed to capture frame. Trying again...\n",
            "Failed to capture frame. Trying again...\n",
            "Failed to capture frame. Trying again...\n",
            "Failed to capture frame. Trying again...\n",
            "Failed to capture frame. Trying again...\n",
            "Failed to capture frame. Trying again...\n",
            "Failed to capture frame. Trying again...\n",
            "Failed to capture frame. Trying again...\n",
            "Failed to capture frame. Trying again...\n",
            "Failed to capture frame. Trying again...\n",
            "Failed to capture frame. Trying again...\n",
            "Failed to capture frame. Trying again...\n",
            "Failed to capture frame. Trying again...\n",
            "Failed to capture frame. Trying again...\n",
            "Failed to capture frame. Trying again...\n",
            "Failed to capture frame. Trying again...\n",
            "Failed to capture frame. Trying again...\n",
            "Failed to capture frame. Trying again...\n",
            "Failed to capture frame. Trying again...\n",
            "Failed to capture frame. Trying again...\n",
            "Failed to capture frame. Trying again...\n",
            "Failed to capture frame. Trying again...\n",
            "Failed to capture frame. Trying again...\n",
            "Failed to capture frame. Trying again...\n",
            "Failed to capture frame. Trying again...\n",
            "Failed to capture frame. Trying again...\n",
            "Failed to capture frame. Trying again...\n",
            "Failed to capture frame. Trying again...\n",
            "Failed to capture frame. Trying again...\n",
            "Failed to capture frame. Trying again...\n",
            "Failed to capture frame. Trying again...\n",
            "Failed to capture frame. Trying again...\n",
            "Failed to capture frame. Trying again...\n",
            "Failed to capture frame. Trying again...\n",
            "Failed to capture frame. Trying again...\n",
            "Failed to capture frame. Trying again...\n",
            "Failed to capture frame. Trying again...\n",
            "Failed to capture frame. Trying again...\n",
            "Failed to capture frame. Trying again...\n",
            "Failed to capture frame. Trying again...\n",
            "Failed to capture frame. Trying again...\n",
            "Failed to capture frame. Trying again...\n",
            "Failed to capture frame. Trying again...\n",
            "Failed to capture frame. Trying again...\n",
            "Failed to capture frame. Trying again...\n",
            "Failed to capture frame. Trying again...\n",
            "Failed to capture frame. Trying again...\n",
            "Failed to capture frame. Trying again...\n",
            "Failed to capture frame. Trying again...\n",
            "Failed to capture frame. Trying again...\n",
            "Failed to capture frame. Trying again...\n",
            "Failed to capture frame. Trying again...\n",
            "Failed to capture frame. Trying again...\n",
            "Failed to capture frame. Trying again...\n",
            "Failed to capture frame. Trying again...\n",
            "Failed to capture frame. Trying again...\n",
            "Failed to capture frame. Trying again...\n",
            "Failed to capture frame. Trying again...\n",
            "Failed to capture frame. Trying again...\n",
            "Failed to capture frame. Trying again...\n",
            "Failed to capture frame. Trying again...\n",
            "Failed to capture frame. Trying again...\n",
            "Failed to capture frame. Trying again...\n",
            "Failed to capture frame. Trying again...\n",
            "Failed to capture frame. Trying again...\n",
            "Failed to capture frame. Trying again...\n",
            "Failed to capture frame. Trying again...\n",
            "Failed to capture frame. Trying again...\n",
            "Failed to capture frame. Trying again...\n",
            "Failed to capture frame. Trying again...\n",
            "Failed to capture frame. Trying again...\n",
            "Failed to capture frame. Trying again...\n",
            "Failed to capture frame. Trying again...\n",
            "Failed to capture frame. Trying again...\n",
            "Failed to capture frame. Trying again...\n",
            "Failed to capture frame. Trying again...\n",
            "Failed to capture frame. Trying again...\n",
            "Failed to capture frame. Trying again...\n",
            "Failed to capture frame. Trying again...\n",
            "Failed to capture frame. Trying again...\n",
            "Failed to capture frame. Trying again...\n",
            "Failed to capture frame. Trying again...\n",
            "Failed to capture frame. Trying again...\n",
            "Failed to capture frame. Trying again...\n",
            "Failed to capture frame. Trying again...\n",
            "Failed to capture frame. Trying again...\n",
            "Failed to capture frame. Trying again...\n",
            "Failed to capture frame. Trying again...\n",
            "Failed to capture frame. Trying again...\n",
            "Failed to capture frame. Trying again...\n",
            "Failed to capture frame. Trying again...\n",
            "Failed to capture frame. Trying again...\n",
            "Failed to capture frame. Trying again...\n",
            "Failed to capture frame. Trying again...\n",
            "Failed to capture frame. Trying again...\n",
            "Failed to capture frame. Trying again...\n",
            "Failed to capture frame. Trying again...\n",
            "Failed to capture frame. Trying again...\n",
            "Failed to capture frame. Trying again...\n",
            "Failed to capture frame. Trying again...\n",
            "Failed to capture frame. Trying again...\n",
            "Failed to capture frame. Trying again...\n",
            "Failed to capture frame. Trying again...\n",
            "Failed to capture frame. Trying again...\n",
            "Failed to capture frame. Trying again...\n",
            "Failed to capture frame. Trying again...\n",
            "Failed to capture frame. Trying again...\n",
            "Failed to capture frame. Trying again...\n",
            "Failed to capture frame. Trying again...\n",
            "Failed to capture frame. Trying again...\n",
            "Failed to capture frame. Trying again...\n",
            "Failed to capture frame. Trying again...\n",
            "Failed to capture frame. Trying again...\n",
            "Failed to capture frame. Trying again...\n",
            "Failed to capture frame. Trying again...\n",
            "Failed to capture frame. Trying again...\n",
            "Failed to capture frame. Trying again...\n",
            "Failed to capture frame. Trying again...\n",
            "Failed to capture frame. Trying again...\n",
            "Failed to capture frame. Trying again...\n",
            "Failed to capture frame. Trying again...\n",
            "Failed to capture frame. Trying again...\n",
            "Failed to capture frame. Trying again...\n",
            "Failed to capture frame. Trying again...\n",
            "Failed to capture frame. Trying again...\n",
            "Failed to capture frame. Trying again...\n",
            "Failed to capture frame. Trying again...\n",
            "Failed to capture frame. Trying again...\n",
            "Failed to capture frame. Trying again...\n",
            "Failed to capture frame. Trying again...\n",
            "Failed to capture frame. Trying again...\n",
            "Failed to capture frame. Trying again...\n",
            "Failed to capture frame. Trying again...\n",
            "Failed to capture frame. Trying again...\n",
            "Failed to capture frame. Trying again...\n",
            "Failed to capture frame. Trying again...\n",
            "Failed to capture frame. Trying again...\n",
            "Failed to capture frame. Trying again...\n",
            "Failed to capture frame. Trying again...\n",
            "Failed to capture frame. Trying again...\n",
            "Failed to capture frame. Trying again...\n",
            "Failed to capture frame. Trying again...\n",
            "Failed to capture frame. Trying again...\n",
            "Failed to capture frame. Trying again...\n",
            "Failed to capture frame. Trying again...\n",
            "Failed to capture frame. Trying again...\n",
            "Failed to capture frame. Trying again...\n",
            "Failed to capture frame. Trying again...\n",
            "Failed to capture frame. Trying again...\n",
            "Failed to capture frame. Trying again...\n",
            "Failed to capture frame. Trying again...\n",
            "Failed to capture frame. Trying again...\n",
            "Failed to capture frame. Trying again...\n",
            "Failed to capture frame. Trying again...\n",
            "Failed to capture frame. Trying again...\n",
            "Failed to capture frame. Trying again...\n",
            "Failed to capture frame. Trying again...\n",
            "Failed to capture frame. Trying again...\n",
            "Failed to capture frame. Trying again...\n",
            "Failed to capture frame. Trying again...\n",
            "Failed to capture frame. Trying again...\n",
            "Failed to capture frame. Trying again...\n",
            "Failed to capture frame. Trying again...\n",
            "Failed to capture frame. Trying again...\n",
            "Failed to capture frame. Trying again...\n",
            "Failed to capture frame. Trying again...\n",
            "Failed to capture frame. Trying again...\n",
            "Failed to capture frame. Trying again...\n",
            "Failed to capture frame. Trying again...\n",
            "Failed to capture frame. Trying again...\n",
            "Failed to capture frame. Trying again...\n",
            "Failed to capture frame. Trying again...\n",
            "Failed to capture frame. Trying again...\n",
            "Failed to capture frame. Trying again...\n",
            "Failed to capture frame. Trying again...\n",
            "Failed to capture frame. Trying again...\n",
            "Failed to capture frame. Trying again...\n",
            "Failed to capture frame. Trying again...\n",
            "Failed to capture frame. Trying again...\n",
            "Failed to capture frame. Trying again...\n",
            "Failed to capture frame. Trying again...\n",
            "Failed to capture frame. Trying again...\n",
            "Failed to capture frame. Trying again...\n",
            "Failed to capture frame. Trying again...\n",
            "Failed to capture frame. Trying again...\n",
            "Failed to capture frame. Trying again...\n",
            "Failed to capture frame. Trying again...\n",
            "Failed to capture frame. Trying again...\n",
            "Failed to capture frame. Trying again...\n",
            "Failed to capture frame. Trying again...\n",
            "Failed to capture frame. Trying again...\n",
            "Failed to capture frame. Trying again...\n",
            "Failed to capture frame. Trying again...\n",
            "Failed to capture frame. Trying again...\n",
            "Failed to capture frame. Trying again...\n",
            "Failed to capture frame. Trying again...\n",
            "Failed to capture frame. Trying again...\n",
            "Failed to capture frame. Trying again...\n",
            "Failed to capture frame. Trying again...\n",
            "Failed to capture frame. Trying again...\n",
            "Failed to capture frame. Trying again...\n",
            "Failed to capture frame. Trying again...\n",
            "Failed to capture frame. Trying again...\n",
            "Failed to capture frame. Trying again...\n",
            "Failed to capture frame. Trying again...\n",
            "Failed to capture frame. Trying again...\n",
            "Failed to capture frame. Trying again...\n",
            "Failed to capture frame. Trying again...\n",
            "Failed to capture frame. Trying again...\n",
            "Failed to capture frame. Trying again...\n",
            "Failed to capture frame. Trying again...\n",
            "Failed to capture frame. Trying again...\n",
            "Failed to capture frame. Trying again...\n",
            "Failed to capture frame. Trying again...\n",
            "Failed to capture frame. Trying again...\n",
            "Failed to capture frame. Trying again...\n",
            "Failed to capture frame. Trying again...\n",
            "Failed to capture frame. Trying again...\n",
            "Failed to capture frame. Trying again...\n",
            "Failed to capture frame. Trying again...\n",
            "Failed to capture frame. Trying again...\n",
            "Failed to capture frame. Trying again...\n",
            "Failed to capture frame. Trying again...\n",
            "Failed to capture frame. Trying again...\n",
            "Failed to capture frame. Trying again...\n",
            "Failed to capture frame. Trying again...\n",
            "Failed to capture frame. Trying again...\n",
            "Failed to capture frame. Trying again...\n",
            "Failed to capture frame. Trying again...\n",
            "Failed to capture frame. Trying again...\n",
            "Failed to capture frame. Trying again...\n",
            "Failed to capture frame. Trying again...\n",
            "Failed to capture frame. Trying again...\n",
            "Failed to capture frame. Trying again...\n",
            "Failed to capture frame. Trying again...\n",
            "Failed to capture frame. Trying again...\n",
            "Failed to capture frame. Trying again...\n",
            "Failed to capture frame. Trying again...\n",
            "Failed to capture frame. Trying again...\n",
            "Failed to capture frame. Trying again...\n",
            "Failed to capture frame. Trying again...\n",
            "Failed to capture frame. Trying again...\n",
            "Failed to capture frame. Trying again...\n",
            "Failed to capture frame. Trying again...\n",
            "Failed to capture frame. Trying again...\n",
            "Failed to capture frame. Trying again...\n",
            "Failed to capture frame. Trying again...\n",
            "Failed to capture frame. Trying again...\n",
            "Failed to capture frame. Trying again...\n",
            "Failed to capture frame. Trying again...\n",
            "Failed to capture frame. Trying again...\n",
            "Failed to capture frame. Trying again...\n",
            "Failed to capture frame. Trying again...\n",
            "Failed to capture frame. Trying again...\n",
            "Failed to capture frame. Trying again...\n",
            "Failed to capture frame. Trying again...\n",
            "Failed to capture frame. Trying again...\n",
            "Failed to capture frame. Trying again...\n",
            "Failed to capture frame. Trying again...\n",
            "Failed to capture frame. Trying again...\n",
            "Failed to capture frame. Trying again...\n",
            "Failed to capture frame. Trying again...\n",
            "Failed to capture frame. Trying again...\n",
            "Failed to capture frame. Trying again...\n",
            "Failed to capture frame. Trying again...\n",
            "Failed to capture frame. Trying again...\n",
            "Failed to capture frame. Trying again...\n",
            "Failed to capture frame. Trying again...\n",
            "Failed to capture frame. Trying again...\n",
            "Failed to capture frame. Trying again...\n",
            "Failed to capture frame. Trying again...\n",
            "Failed to capture frame. Trying again...\n",
            "Failed to capture frame. Trying again...\n",
            "Failed to capture frame. Trying again...\n",
            "Failed to capture frame. Trying again...\n",
            "Failed to capture frame. Trying again...\n",
            "Failed to capture frame. Trying again...\n",
            "Failed to capture frame. Trying again...\n",
            "Failed to capture frame. Trying again...\n",
            "Failed to capture frame. Trying again...\n",
            "Failed to capture frame. Trying again...\n",
            "Failed to capture frame. Trying again...\n",
            "Failed to capture frame. Trying again...\n",
            "Failed to capture frame. Trying again...\n",
            "Failed to capture frame. Trying again...\n",
            "Failed to capture frame. Trying again...\n",
            "Failed to capture frame. Trying again...\n",
            "Failed to capture frame. Trying again...\n",
            "Failed to capture frame. Trying again...\n",
            "Failed to capture frame. Trying again...\n",
            "Failed to capture frame. Trying again...\n",
            "Failed to capture frame. Trying again...\n",
            "Failed to capture frame. Trying again...\n",
            "Failed to capture frame. Trying again...\n",
            "Failed to capture frame. Trying again...\n",
            "Failed to capture frame. Trying again...\n",
            "Failed to capture frame. Trying again...\n",
            "Failed to capture frame. Trying again...\n",
            "Failed to capture frame. Trying again...\n",
            "Failed to capture frame. Trying again...\n",
            "Failed to capture frame. Trying again...\n",
            "Failed to capture frame. Trying again...\n",
            "Failed to capture frame. Trying again...\n",
            "Failed to capture frame. Trying again...\n",
            "Failed to capture frame. Trying again...\n",
            "Failed to capture frame. Trying again...\n",
            "Failed to capture frame. Trying again...\n",
            "Failed to capture frame. Trying again...\n",
            "Failed to capture frame. Trying again...\n",
            "Failed to capture frame. Trying again...\n",
            "Failed to capture frame. Trying again...\n",
            "Failed to capture frame. Trying again...\n",
            "Failed to capture frame. Trying again...\n",
            "Failed to capture frame. Trying again...\n",
            "Failed to capture frame. Trying again...\n",
            "Failed to capture frame. Trying again...\n",
            "Failed to capture frame. Trying again...\n",
            "Failed to capture frame. Trying again...\n",
            "Failed to capture frame. Trying again...\n",
            "Failed to capture frame. Trying again...\n",
            "Failed to capture frame. Trying again...\n",
            "Failed to capture frame. Trying again...\n",
            "Failed to capture frame. Trying again...\n",
            "Failed to capture frame. Trying again...\n",
            "Failed to capture frame. Trying again...\n",
            "Failed to capture frame. Trying again...\n",
            "Failed to capture frame. Trying again...\n",
            "Failed to capture frame. Trying again...\n",
            "Failed to capture frame. Trying again...\n",
            "Failed to capture frame. Trying again...\n",
            "Failed to capture frame. Trying again...\n",
            "Failed to capture frame. Trying again...\n",
            "Failed to capture frame. Trying again...\n",
            "Failed to capture frame. Trying again...\n",
            "Failed to capture frame. Trying again...\n",
            "Failed to capture frame. Trying again...\n",
            "Failed to capture frame. Trying again...\n",
            "Failed to capture frame. Trying again...\n",
            "Failed to capture frame. Trying again...\n",
            "Failed to capture frame. Trying again...\n",
            "Failed to capture frame. Trying again...\n",
            "Failed to capture frame. Trying again...\n",
            "Failed to capture frame. Trying again...\n",
            "Failed to capture frame. Trying again...\n",
            "Failed to capture frame. Trying again...\n",
            "Failed to capture frame. Trying again...\n",
            "Failed to capture frame. Trying again...\n",
            "Failed to capture frame. Trying again...\n",
            "Failed to capture frame. Trying again...\n",
            "Failed to capture frame. Trying again...\n",
            "Failed to capture frame. Trying again...\n",
            "Failed to capture frame. Trying again...\n",
            "Failed to capture frame. Trying again...\n",
            "Failed to capture frame. Trying again...\n",
            "Failed to capture frame. Trying again...\n",
            "Failed to capture frame. Trying again...\n",
            "Failed to capture frame. Trying again...\n",
            "Failed to capture frame. Trying again...\n",
            "Failed to capture frame. Trying again...\n",
            "Failed to capture frame. Trying again...\n",
            "Failed to capture frame. Trying again...\n",
            "Failed to capture frame. Trying again...\n",
            "Failed to capture frame. Trying again...\n",
            "Failed to capture frame. Trying again...\n",
            "Failed to capture frame. Trying again...\n",
            "Failed to capture frame. Trying again...\n",
            "Failed to capture frame. Trying again...\n",
            "Failed to capture frame. Trying again...\n",
            "Failed to capture frame. Trying again...\n",
            "Failed to capture frame. Trying again...\n",
            "Failed to capture frame. Trying again...\n",
            "Failed to capture frame. Trying again...\n",
            "Failed to capture frame. Trying again...\n",
            "Failed to capture frame. Trying again...\n",
            "Failed to capture frame. Trying again...\n",
            "Failed to capture frame. Trying again...\n",
            "Failed to capture frame. Trying again...\n",
            "Failed to capture frame. Trying again...\n",
            "Failed to capture frame. Trying again...\n",
            "Failed to capture frame. Trying again...\n",
            "Failed to capture frame. Trying again...\n",
            "Failed to capture frame. Trying again...\n",
            "Failed to capture frame. Trying again...\n",
            "Failed to capture frame. Trying again...\n",
            "Failed to capture frame. Trying again...\n",
            "Failed to capture frame. Trying again...\n",
            "Failed to capture frame. Trying again...\n",
            "Failed to capture frame. Trying again...\n",
            "Failed to capture frame. Trying again...\n",
            "Failed to capture frame. Trying again...\n",
            "Failed to capture frame. Trying again...\n",
            "Failed to capture frame. Trying again...\n",
            "Failed to capture frame. Trying again...\n",
            "Failed to capture frame. Trying again...\n",
            "Failed to capture frame. Trying again...\n",
            "Failed to capture frame. Trying again...\n",
            "Failed to capture frame. Trying again...\n",
            "Failed to capture frame. Trying again...\n",
            "Failed to capture frame. Trying again...\n",
            "Failed to capture frame. Trying again...\n",
            "Failed to capture frame. Trying again...\n",
            "Failed to capture frame. Trying again...\n",
            "Failed to capture frame. Trying again...\n",
            "Failed to capture frame. Trying again...\n",
            "Failed to capture frame. Trying again...\n",
            "Failed to capture frame. Trying again...\n",
            "Failed to capture frame. Trying again...\n",
            "Failed to capture frame. Trying again...\n",
            "Failed to capture frame. Trying again...\n",
            "Failed to capture frame. Trying again...\n",
            "Failed to capture frame. Trying again...\n",
            "Failed to capture frame. Trying again...\n",
            "Failed to capture frame. Trying again...\n",
            "Failed to capture frame. Trying again...\n",
            "Failed to capture frame. Trying again...\n",
            "Failed to capture frame. Trying again...\n",
            "Failed to capture frame. Trying again...\n",
            "Failed to capture frame. Trying again...\n",
            "Failed to capture frame. Trying again...\n",
            "Failed to capture frame. Trying again...\n",
            "Failed to capture frame. Trying again...\n",
            "Failed to capture frame. Trying again...\n",
            "Failed to capture frame. Trying again...\n",
            "Failed to capture frame. Trying again...\n",
            "Failed to capture frame. Trying again...\n",
            "Failed to capture frame. Trying again...\n",
            "Failed to capture frame. Trying again...\n",
            "Failed to capture frame. Trying again...\n",
            "Failed to capture frame. Trying again...\n",
            "Failed to capture frame. Trying again...\n",
            "Failed to capture frame. Trying again...\n",
            "Failed to capture frame. Trying again...\n",
            "Failed to capture frame. Trying again...\n",
            "Failed to capture frame. Trying again...\n",
            "Failed to capture frame. Trying again...\n",
            "Failed to capture frame. Trying again...\n",
            "Failed to capture frame. Trying again...\n",
            "Failed to capture frame. Trying again...\n",
            "Failed to capture frame. Trying again...\n",
            "Failed to capture frame. Trying again...\n",
            "Failed to capture frame. Trying again...\n",
            "Failed to capture frame. Trying again...\n",
            "Failed to capture frame. Trying again...\n",
            "Failed to capture frame. Trying again...\n",
            "Failed to capture frame. Trying again...\n",
            "Failed to capture frame. Trying again...\n",
            "Failed to capture frame. Trying again...\n",
            "Failed to capture frame. Trying again...\n",
            "Failed to capture frame. Trying again...\n",
            "Failed to capture frame. Trying again...\n",
            "Failed to capture frame. Trying again...\n",
            "Failed to capture frame. Trying again...\n",
            "Failed to capture frame. Trying again...\n",
            "Failed to capture frame. Trying again...\n",
            "Failed to capture frame. Trying again...\n",
            "Failed to capture frame. Trying again...\n",
            "Failed to capture frame. Trying again...\n",
            "Failed to capture frame. Trying again...\n",
            "Failed to capture frame. Trying again...\n",
            "Failed to capture frame. Trying again...\n",
            "Failed to capture frame. Trying again...\n",
            "Failed to capture frame. Trying again...\n",
            "Failed to capture frame. Trying again...\n",
            "Failed to capture frame. Trying again...\n",
            "Failed to capture frame. Trying again...\n",
            "Failed to capture frame. Trying again...\n",
            "Failed to capture frame. Trying again...\n",
            "Failed to capture frame. Trying again...\n",
            "Failed to capture frame. Trying again...\n",
            "Failed to capture frame. Trying again...\n",
            "Failed to capture frame. Trying again...\n",
            "Failed to capture frame. Trying again...\n",
            "Failed to capture frame. Trying again...\n",
            "Failed to capture frame. Trying again...\n",
            "Failed to capture frame. Trying again...\n",
            "Failed to capture frame. Trying again...\n",
            "Failed to capture frame. Trying again...\n",
            "Failed to capture frame. Trying again...\n",
            "Failed to capture frame. Trying again...\n",
            "Failed to capture frame. Trying again...\n",
            "Failed to capture frame. Trying again...\n",
            "Failed to capture frame. Trying again...\n",
            "Failed to capture frame. Trying again...\n",
            "Failed to capture frame. Trying again...\n",
            "Failed to capture frame. Trying again...\n",
            "Failed to capture frame. Trying again...\n",
            "Failed to capture frame. Trying again...\n",
            "Failed to capture frame. Trying again...\n",
            "Failed to capture frame. Trying again...\n",
            "Failed to capture frame. Trying again...\n",
            "Failed to capture frame. Trying again...\n",
            "Failed to capture frame. Trying again...\n",
            "Failed to capture frame. Trying again...\n",
            "Failed to capture frame. Trying again...\n",
            "Failed to capture frame. Trying again...\n",
            "Failed to capture frame. Trying again...\n",
            "Failed to capture frame. Trying again...\n",
            "Failed to capture frame. Trying again...\n",
            "Failed to capture frame. Trying again...\n",
            "Failed to capture frame. Trying again...\n",
            "Failed to capture frame. Trying again...\n",
            "Failed to capture frame. Trying again...\n",
            "Failed to capture frame. Trying again...\n",
            "Failed to capture frame. Trying again...\n",
            "Failed to capture frame. Trying again...\n",
            "Failed to capture frame. Trying again...\n",
            "Failed to capture frame. Trying again...\n",
            "Failed to capture frame. Trying again...\n",
            "Failed to capture frame. Trying again...\n",
            "Failed to capture frame. Trying again...\n",
            "Failed to capture frame. Trying again...\n",
            "Failed to capture frame. Trying again...\n",
            "Failed to capture frame. Trying again...\n",
            "Failed to capture frame. Trying again...\n",
            "Failed to capture frame. Trying again...\n",
            "Failed to capture frame. Trying again...\n",
            "Failed to capture frame. Trying again...\n",
            "Failed to capture frame. Trying again...\n",
            "Failed to capture frame. Trying again...\n",
            "Failed to capture frame. Trying again...\n",
            "Failed to capture frame. Trying again...\n",
            "Failed to capture frame. Trying again...\n",
            "Failed to capture frame. Trying again...\n",
            "Failed to capture frame. Trying again...\n",
            "Failed to capture frame. Trying again...\n",
            "Failed to capture frame. Trying again...\n",
            "Failed to capture frame. Trying again...\n",
            "Failed to capture frame. Trying again...\n",
            "Failed to capture frame. Trying again...\n",
            "Failed to capture frame. Trying again...\n",
            "Failed to capture frame. Trying again...\n",
            "Failed to capture frame. Trying again...\n",
            "Failed to capture frame. Trying again...\n",
            "Failed to capture frame. Trying again...\n",
            "Failed to capture frame. Trying again...\n",
            "Failed to capture frame. Trying again...\n",
            "Failed to capture frame. Trying again...\n",
            "Failed to capture frame. Trying again...\n",
            "Failed to capture frame. Trying again...\n",
            "Failed to capture frame. Trying again...\n",
            "Failed to capture frame. Trying again...\n",
            "Failed to capture frame. Trying again...\n",
            "Failed to capture frame. Trying again...\n",
            "Failed to capture frame. Trying again...\n",
            "Failed to capture frame. Trying again...\n",
            "Failed to capture frame. Trying again...\n",
            "Failed to capture frame. Trying again...\n",
            "Failed to capture frame. Trying again...\n",
            "Failed to capture frame. Trying again...\n",
            "Failed to capture frame. Trying again...\n",
            "Failed to capture frame. Trying again...\n",
            "Failed to capture frame. Trying again...\n",
            "Failed to capture frame. Trying again...\n",
            "Failed to capture frame. Trying again...\n",
            "Failed to capture frame. Trying again...\n",
            "Failed to capture frame. Trying again...\n",
            "Failed to capture frame. Trying again...\n",
            "Failed to capture frame. Trying again...\n",
            "Failed to capture frame. Trying again...\n",
            "Failed to capture frame. Trying again...\n",
            "Failed to capture frame. Trying again...\n",
            "Failed to capture frame. Trying again...\n",
            "Failed to capture frame. Trying again...\n",
            "Failed to capture frame. Trying again...\n",
            "Failed to capture frame. Trying again...\n",
            "Failed to capture frame. Trying again...\n",
            "Failed to capture frame. Trying again...\n",
            "Failed to capture frame. Trying again...\n",
            "Failed to capture frame. Trying again...\n",
            "Failed to capture frame. Trying again...\n",
            "Failed to capture frame. Trying again...\n",
            "Failed to capture frame. Trying again...\n",
            "Failed to capture frame. Trying again...\n",
            "Failed to capture frame. Trying again...\n",
            "Failed to capture frame. Trying again...\n",
            "Failed to capture frame. Trying again...\n",
            "Failed to capture frame. Trying again...\n",
            "Failed to capture frame. Trying again...\n",
            "Failed to capture frame. Trying again...\n",
            "Failed to capture frame. Trying again...\n",
            "Failed to capture frame. Trying again...\n",
            "Failed to capture frame. Trying again...\n",
            "Failed to capture frame. Trying again...\n",
            "Failed to capture frame. Trying again...\n",
            "Failed to capture frame. Trying again...\n",
            "Failed to capture frame. Trying again...\n",
            "Failed to capture frame. Trying again...\n",
            "Failed to capture frame. Trying again...\n",
            "Failed to capture frame. Trying again...\n",
            "Failed to capture frame. Trying again...\n",
            "Failed to capture frame. Trying again...\n",
            "Failed to capture frame. Trying again...\n",
            "Failed to capture frame. Trying again...\n",
            "Failed to capture frame. Trying again...\n",
            "Failed to capture frame. Trying again...\n",
            "Failed to capture frame. Trying again...\n",
            "Failed to capture frame. Trying again...\n",
            "Failed to capture frame. Trying again...\n",
            "Failed to capture frame. Trying again...\n",
            "Failed to capture frame. Trying again...\n",
            "Failed to capture frame. Trying again...\n",
            "Failed to capture frame. Trying again...\n",
            "Failed to capture frame. Trying again...\n",
            "Failed to capture frame. Trying again...\n",
            "Failed to capture frame. Trying again...\n",
            "Failed to capture frame. Trying again...\n",
            "Failed to capture frame. Trying again...\n",
            "Failed to capture frame. Trying again...\n",
            "Failed to capture frame. Trying again...\n",
            "Failed to capture frame. Trying again...\n",
            "Failed to capture frame. Trying again...\n",
            "Failed to capture frame. Trying again...\n",
            "Failed to capture frame. Trying again...\n",
            "Failed to capture frame. Trying again...\n",
            "Failed to capture frame. Trying again...\n",
            "Failed to capture frame. Trying again...\n",
            "Failed to capture frame. Trying again...\n",
            "Failed to capture frame. Trying again...\n",
            "Failed to capture frame. Trying again...\n",
            "Failed to capture frame. Trying again...\n",
            "Failed to capture frame. Trying again...\n",
            "Failed to capture frame. Trying again...\n",
            "Failed to capture frame. Trying again...\n",
            "Failed to capture frame. Trying again...\n",
            "Failed to capture frame. Trying again...\n",
            "Failed to capture frame. Trying again...\n",
            "Failed to capture frame. Trying again...\n",
            "Failed to capture frame. Trying again...\n",
            "Failed to capture frame. Trying again...\n",
            "Failed to capture frame. Trying again...\n",
            "Failed to capture frame. Trying again...\n",
            "Failed to capture frame. Trying again...\n",
            "Failed to capture frame. Trying again...\n",
            "Failed to capture frame. Trying again...\n",
            "Failed to capture frame. Trying again...\n",
            "Failed to capture frame. Trying again...\n",
            "Failed to capture frame. Trying again...\n",
            "Failed to capture frame. Trying again...\n",
            "Failed to capture frame. Trying again...\n",
            "Failed to capture frame. Trying again...\n",
            "Failed to capture frame. Trying again...\n",
            "Failed to capture frame. Trying again...\n",
            "Failed to capture frame. Trying again...\n",
            "Failed to capture frame. Trying again...\n",
            "Failed to capture frame. Trying again...\n",
            "Failed to capture frame. Trying again...\n",
            "Failed to capture frame. Trying again...\n",
            "Failed to capture frame. Trying again...\n",
            "Failed to capture frame. Trying again...\n",
            "Failed to capture frame. Trying again...\n",
            "Failed to capture frame. Trying again...\n",
            "Failed to capture frame. Trying again...\n",
            "Failed to capture frame. Trying again...\n",
            "Failed to capture frame. Trying again...\n",
            "Failed to capture frame. Trying again...\n",
            "Failed to capture frame. Trying again...\n",
            "Failed to capture frame. Trying again...\n",
            "Failed to capture frame. Trying again...\n",
            "Failed to capture frame. Trying again...\n",
            "Failed to capture frame. Trying again...\n",
            "Failed to capture frame. Trying again...\n",
            "Failed to capture frame. Trying again...\n",
            "Failed to capture frame. Trying again...\n",
            "Failed to capture frame. Trying again...\n",
            "Failed to capture frame. Trying again...\n",
            "Failed to capture frame. Trying again...\n",
            "Failed to capture frame. Trying again...\n",
            "Failed to capture frame. Trying again...\n",
            "Failed to capture frame. Trying again...\n",
            "Failed to capture frame. Trying again...\n",
            "Failed to capture frame. Trying again...\n",
            "Failed to capture frame. Trying again...\n",
            "Failed to capture frame. Trying again...\n",
            "Failed to capture frame. Trying again...\n",
            "Failed to capture frame. Trying again...\n",
            "Failed to capture frame. Trying again...\n",
            "Failed to capture frame. Trying again...\n",
            "Failed to capture frame. Trying again...\n",
            "Failed to capture frame. Trying again...\n",
            "Failed to capture frame. Trying again...\n",
            "Failed to capture frame. Trying again...\n",
            "Failed to capture frame. Trying again...\n",
            "Failed to capture frame. Trying again...\n",
            "Failed to capture frame. Trying again...\n",
            "Failed to capture frame. Trying again...\n",
            "Failed to capture frame. Trying again...\n",
            "Failed to capture frame. Trying again...\n",
            "Failed to capture frame. Trying again...\n",
            "Failed to capture frame. Trying again...\n",
            "Failed to capture frame. Trying again...\n",
            "Failed to capture frame. Trying again...\n",
            "Failed to capture frame. Trying again...\n",
            "Failed to capture frame. Trying again...\n",
            "Failed to capture frame. Trying again...\n",
            "Failed to capture frame. Trying again...\n",
            "Failed to capture frame. Trying again...\n",
            "Failed to capture frame. Trying again...\n",
            "Failed to capture frame. Trying again...\n",
            "Failed to capture frame. Trying again...\n",
            "Failed to capture frame. Trying again...\n",
            "Failed to capture frame. Trying again...\n",
            "Failed to capture frame. Trying again...\n",
            "Failed to capture frame. Trying again...\n",
            "Failed to capture frame. Trying again...\n",
            "Failed to capture frame. Trying again...\n",
            "Failed to capture frame. Trying again...\n",
            "Failed to capture frame. Trying again...\n",
            "Failed to capture frame. Trying again...\n",
            "Failed to capture frame. Trying again...\n",
            "Failed to capture frame. Trying again...\n",
            "Failed to capture frame. Trying again...\n",
            "Failed to capture frame. Trying again...\n",
            "Failed to capture frame. Trying again...\n",
            "Failed to capture frame. Trying again...\n",
            "Failed to capture frame. Trying again...\n",
            "Failed to capture frame. Trying again...\n",
            "Failed to capture frame. Trying again...\n",
            "Failed to capture frame. Trying again...\n",
            "Failed to capture frame. Trying again...\n",
            "Failed to capture frame. Trying again...\n",
            "Failed to capture frame. Trying again...\n",
            "Failed to capture frame. Trying again...\n",
            "Failed to capture frame. Trying again...\n",
            "Failed to capture frame. Trying again...\n",
            "Failed to capture frame. Trying again...\n",
            "Failed to capture frame. Trying again...\n",
            "Failed to capture frame. Trying again...\n",
            "Failed to capture frame. Trying again...\n",
            "Failed to capture frame. Trying again...\n",
            "Failed to capture frame. Trying again...\n",
            "Failed to capture frame. Trying again...\n",
            "Failed to capture frame. Trying again...\n",
            "Failed to capture frame. Trying again...\n",
            "Failed to capture frame. Trying again...\n",
            "Failed to capture frame. Trying again...\n",
            "Failed to capture frame. Trying again...\n",
            "Failed to capture frame. Trying again...\n",
            "Failed to capture frame. Trying again...\n",
            "Failed to capture frame. Trying again...\n",
            "Failed to capture frame. Trying again...\n",
            "Failed to capture frame. Trying again...\n",
            "Failed to capture frame. Trying again...\n",
            "Failed to capture frame. Trying again...\n",
            "Failed to capture frame. Trying again...\n",
            "Failed to capture frame. Trying again...\n",
            "Failed to capture frame. Trying again...\n",
            "Failed to capture frame. Trying again...\n",
            "Failed to capture frame. Trying again...\n",
            "Failed to capture frame. Trying again...\n",
            "Failed to capture frame. Trying again...\n",
            "Failed to capture frame. Trying again...\n",
            "Failed to capture frame. Trying again...\n",
            "Failed to capture frame. Trying again...\n",
            "Failed to capture frame. Trying again...\n",
            "Failed to capture frame. Trying again...\n",
            "Failed to capture frame. Trying again...\n",
            "Failed to capture frame. Trying again...\n",
            "Failed to capture frame. Trying again...\n",
            "Failed to capture frame. Trying again...\n",
            "Failed to capture frame. Trying again...\n",
            "Failed to capture frame. Trying again...\n",
            "Failed to capture frame. Trying again...\n",
            "Failed to capture frame. Trying again...\n",
            "Failed to capture frame. Trying again...\n",
            "Failed to capture frame. Trying again...\n",
            "Failed to capture frame. Trying again...\n",
            "Failed to capture frame. Trying again...\n",
            "Failed to capture frame. Trying again...\n",
            "Failed to capture frame. Trying again...\n",
            "Failed to capture frame. Trying again...\n",
            "Failed to capture frame. Trying again...\n",
            "Failed to capture frame. Trying again...\n",
            "Failed to capture frame. Trying again...\n",
            "Failed to capture frame. Trying again...\n",
            "Failed to capture frame. Trying again...\n",
            "Failed to capture frame. Trying again...\n",
            "Failed to capture frame. Trying again...\n",
            "Failed to capture frame. Trying again...\n",
            "Failed to capture frame. Trying again...\n",
            "Failed to capture frame. Trying again...\n"
          ]
        },
        {
          "output_type": "error",
          "ename": "KeyboardInterrupt",
          "evalue": "",
          "traceback": [
            "\u001b[0;31m---------------------------------------------------------------------------\u001b[0m",
            "\u001b[0;31mKeyboardInterrupt\u001b[0m                         Traceback (most recent call last)",
            "\u001b[0;32m<ipython-input-44-15d2989003a9>\u001b[0m in \u001b[0;36m<cell line: 33>\u001b[0;34m()\u001b[0m\n\u001b[1;32m     37\u001b[0m   \u001b[0;31m# Check if frame capture succeeded, otherwise skip to next iteration\u001b[0m\u001b[0;34m\u001b[0m\u001b[0;34m\u001b[0m\u001b[0m\n\u001b[1;32m     38\u001b[0m   \u001b[0;32mif\u001b[0m \u001b[0;32mnot\u001b[0m \u001b[0msuccess\u001b[0m\u001b[0;34m:\u001b[0m\u001b[0;34m\u001b[0m\u001b[0;34m\u001b[0m\u001b[0m\n\u001b[0;32m---> 39\u001b[0;31m     \u001b[0mprint\u001b[0m\u001b[0;34m(\u001b[0m\u001b[0;34m\"Failed to capture frame. Trying again...\"\u001b[0m\u001b[0;34m)\u001b[0m\u001b[0;34m\u001b[0m\u001b[0;34m\u001b[0m\u001b[0m\n\u001b[0m\u001b[1;32m     40\u001b[0m     \u001b[0;32mcontinue\u001b[0m\u001b[0;34m\u001b[0m\u001b[0;34m\u001b[0m\u001b[0m\n\u001b[1;32m     41\u001b[0m \u001b[0;34m\u001b[0m\u001b[0m\n",
            "\u001b[0;32m/usr/local/lib/python3.10/dist-packages/ipykernel/iostream.py\u001b[0m in \u001b[0;36mwrite\u001b[0;34m(self, string)\u001b[0m\n\u001b[1;32m    400\u001b[0m             \u001b[0mis_child\u001b[0m \u001b[0;34m=\u001b[0m \u001b[0;34m(\u001b[0m\u001b[0;32mnot\u001b[0m \u001b[0mself\u001b[0m\u001b[0;34m.\u001b[0m\u001b[0m_is_master_process\u001b[0m\u001b[0;34m(\u001b[0m\u001b[0;34m)\u001b[0m\u001b[0;34m)\u001b[0m\u001b[0;34m\u001b[0m\u001b[0;34m\u001b[0m\u001b[0m\n\u001b[1;32m    401\u001b[0m             \u001b[0;31m# only touch the buffer in the IO thread to avoid races\u001b[0m\u001b[0;34m\u001b[0m\u001b[0;34m\u001b[0m\u001b[0m\n\u001b[0;32m--> 402\u001b[0;31m             \u001b[0mself\u001b[0m\u001b[0;34m.\u001b[0m\u001b[0mpub_thread\u001b[0m\u001b[0;34m.\u001b[0m\u001b[0mschedule\u001b[0m\u001b[0;34m(\u001b[0m\u001b[0;32mlambda\u001b[0m \u001b[0;34m:\u001b[0m \u001b[0mself\u001b[0m\u001b[0;34m.\u001b[0m\u001b[0m_buffer\u001b[0m\u001b[0;34m.\u001b[0m\u001b[0mwrite\u001b[0m\u001b[0;34m(\u001b[0m\u001b[0mstring\u001b[0m\u001b[0;34m)\u001b[0m\u001b[0;34m)\u001b[0m\u001b[0;34m\u001b[0m\u001b[0;34m\u001b[0m\u001b[0m\n\u001b[0m\u001b[1;32m    403\u001b[0m             \u001b[0;32mif\u001b[0m \u001b[0mis_child\u001b[0m\u001b[0;34m:\u001b[0m\u001b[0;34m\u001b[0m\u001b[0;34m\u001b[0m\u001b[0m\n\u001b[1;32m    404\u001b[0m                 \u001b[0;31m# mp.Pool cannot be trusted to flush promptly (or ever),\u001b[0m\u001b[0;34m\u001b[0m\u001b[0;34m\u001b[0m\u001b[0m\n",
            "\u001b[0;32m/usr/local/lib/python3.10/dist-packages/ipykernel/iostream.py\u001b[0m in \u001b[0;36mschedule\u001b[0;34m(self, f)\u001b[0m\n\u001b[1;32m    201\u001b[0m             \u001b[0mself\u001b[0m\u001b[0;34m.\u001b[0m\u001b[0m_events\u001b[0m\u001b[0;34m.\u001b[0m\u001b[0mappend\u001b[0m\u001b[0;34m(\u001b[0m\u001b[0mf\u001b[0m\u001b[0;34m)\u001b[0m\u001b[0;34m\u001b[0m\u001b[0;34m\u001b[0m\u001b[0m\n\u001b[1;32m    202\u001b[0m             \u001b[0;31m# wake event thread (message content is ignored)\u001b[0m\u001b[0;34m\u001b[0m\u001b[0;34m\u001b[0m\u001b[0m\n\u001b[0;32m--> 203\u001b[0;31m             \u001b[0mself\u001b[0m\u001b[0;34m.\u001b[0m\u001b[0m_event_pipe\u001b[0m\u001b[0;34m.\u001b[0m\u001b[0msend\u001b[0m\u001b[0;34m(\u001b[0m\u001b[0;34mb''\u001b[0m\u001b[0;34m)\u001b[0m\u001b[0;34m\u001b[0m\u001b[0;34m\u001b[0m\u001b[0m\n\u001b[0m\u001b[1;32m    204\u001b[0m         \u001b[0;32melse\u001b[0m\u001b[0;34m:\u001b[0m\u001b[0;34m\u001b[0m\u001b[0;34m\u001b[0m\u001b[0m\n\u001b[1;32m    205\u001b[0m             \u001b[0mf\u001b[0m\u001b[0;34m(\u001b[0m\u001b[0;34m)\u001b[0m\u001b[0;34m\u001b[0m\u001b[0;34m\u001b[0m\u001b[0m\n",
            "\u001b[0;32m/usr/local/lib/python3.10/dist-packages/zmq/sugar/socket.py\u001b[0m in \u001b[0;36msend\u001b[0;34m(self, data, flags, copy, track, routing_id, group)\u001b[0m\n\u001b[1;32m    618\u001b[0m                 )\n\u001b[1;32m    619\u001b[0m             \u001b[0mdata\u001b[0m\u001b[0;34m.\u001b[0m\u001b[0mgroup\u001b[0m \u001b[0;34m=\u001b[0m \u001b[0mgroup\u001b[0m\u001b[0;34m\u001b[0m\u001b[0;34m\u001b[0m\u001b[0m\n\u001b[0;32m--> 620\u001b[0;31m         \u001b[0;32mreturn\u001b[0m \u001b[0msuper\u001b[0m\u001b[0;34m(\u001b[0m\u001b[0;34m)\u001b[0m\u001b[0;34m.\u001b[0m\u001b[0msend\u001b[0m\u001b[0;34m(\u001b[0m\u001b[0mdata\u001b[0m\u001b[0;34m,\u001b[0m \u001b[0mflags\u001b[0m\u001b[0;34m=\u001b[0m\u001b[0mflags\u001b[0m\u001b[0;34m,\u001b[0m \u001b[0mcopy\u001b[0m\u001b[0;34m=\u001b[0m\u001b[0mcopy\u001b[0m\u001b[0;34m,\u001b[0m \u001b[0mtrack\u001b[0m\u001b[0;34m=\u001b[0m\u001b[0mtrack\u001b[0m\u001b[0;34m)\u001b[0m\u001b[0;34m\u001b[0m\u001b[0;34m\u001b[0m\u001b[0m\n\u001b[0m\u001b[1;32m    621\u001b[0m \u001b[0;34m\u001b[0m\u001b[0m\n\u001b[1;32m    622\u001b[0m     def send_multipart(\n",
            "\u001b[0;32mzmq/backend/cython/socket.pyx\u001b[0m in \u001b[0;36mzmq.backend.cython.socket.Socket.send\u001b[0;34m()\u001b[0m\n",
            "\u001b[0;32mzmq/backend/cython/socket.pyx\u001b[0m in \u001b[0;36mzmq.backend.cython.socket.Socket.send\u001b[0;34m()\u001b[0m\n",
            "\u001b[0;32mzmq/backend/cython/socket.pyx\u001b[0m in \u001b[0;36mzmq.backend.cython.socket._send_copy\u001b[0;34m()\u001b[0m\n",
            "\u001b[0;32m/usr/local/lib/python3.10/dist-packages/zmq/backend/cython/checkrc.pxd\u001b[0m in \u001b[0;36mzmq.backend.cython.checkrc._check_rc\u001b[0;34m()\u001b[0m\n",
            "\u001b[0;31mKeyboardInterrupt\u001b[0m: "
          ]
        }
      ]
    },
    {
      "cell_type": "code",
      "source": [
        "import cv2\n",
        "from ultralytics import RTDETR\n",
        "\n",
        "video_path = 0\n",
        "cap = cv2.VideoCapture(video_path)\n",
        "\n",
        "model = RTDETR('/content/runs/detect/train2/weights/best.pt')\n",
        "\n",
        "while cap.isOpened():\n",
        "    # Read a frame from the video\n",
        "    success, frame = cap.read()\n",
        "\n",
        "    if success:\n",
        "        results = model.predict(frame, conf=0.5)\n",
        "        annotated_frame = results[0].plot()\n",
        "\n",
        "        # Display the annotated frame\n",
        "        cv2.imshow(\"model Test\", annotated_frame)\n",
        "\n",
        "        # Break the loop if 'q' is pressed\n",
        "        if cv2.waitKey(1) & 0xFF == ord(\"q\"):\n",
        "            break\n",
        "    else:\n",
        "        # Break the loop if the end of the video is reached\n",
        "        break\n",
        "\n",
        "# Release the video capture object and close the display window\n",
        "cap.release()\n",
        "\n"
      ],
      "metadata": {
        "id": "hdbm0PRiGcS0"
      },
      "execution_count": null,
      "outputs": []
    },
    {
      "cell_type": "code",
      "execution_count": null,
      "metadata": {
        "id": "uWU-tealhFns"
      },
      "outputs": [],
      "source": [
        "# Load your custom trained RTDETR model\n",
        "model_path = \"path/to/your/model_directory\"  # Replace with your model directory path\n",
        "self.model = RTDETR(model_path)\n",
        "\n",
        "# Load your class names\n",
        "self.CLASS_NAMES_DICT = class_names  # Make sure 'class_names' contains your dataset's class names\n",
        "\n",
        "# Now you can use self.model for inference\n",
        "print(\"Model loaded successfully with classes:\", self.CLASS_NAMES_DICT)"
      ]
    }
  ],
  "metadata": {
    "accelerator": "GPU",
    "colab": {
      "gpuType": "L4",
      "machine_shape": "hm",
      "provenance": []
    },
    "kernelspec": {
      "display_name": "Python 3",
      "name": "python3"
    },
    "language_info": {
      "name": "python"
    }
  },
  "nbformat": 4,
  "nbformat_minor": 0
}